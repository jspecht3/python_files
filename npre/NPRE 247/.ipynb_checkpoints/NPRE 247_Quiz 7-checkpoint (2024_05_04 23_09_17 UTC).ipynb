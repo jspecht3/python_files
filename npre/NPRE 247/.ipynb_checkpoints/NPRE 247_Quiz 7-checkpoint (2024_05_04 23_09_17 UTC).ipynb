{
 "cells": [
  {
   "cell_type": "code",
   "execution_count": 1,
   "id": "d21e5bf9",
   "metadata": {},
   "outputs": [],
   "source": [
    "#Constants\n",
    "\n",
    "#Mass [Amu]\n",
    "m_H1 = 1.0078259321\n",
    "m_O18 = 17.999161\n",
    "m_n = 1.00866491597\n",
    "\n",
    "#Conversion\n",
    "amu_to_MeV = 931.494028\n",
    "\n",
    "#Energies\n",
    "e_H1 = m_H1 * amu_to_MeV\n",
    "e_O18 = m_O18 * amu_to_MeV\n",
    "e_n = m_n * amu_to_MeV\n",
    "\n",
    "e_F18 = e_O18 + 1.655"
   ]
  },
  {
   "cell_type": "code",
   "execution_count": 6,
   "id": "0127be45",
   "metadata": {
    "scrolled": true
   },
   "outputs": [
    {
     "data": {
      "text/plain": [
       "-2.4365084644923627"
      ]
     },
     "execution_count": 6,
     "metadata": {},
     "output_type": "execute_result"
    }
   ],
   "source": [
    "#A\n",
    "Q = (e_O18 + e_H1) - (e_F18 + e_n)\n",
    "Q"
   ]
  },
  {
   "cell_type": "code",
   "execution_count": 7,
   "id": "aaa270cd",
   "metadata": {},
   "outputs": [
    {
     "data": {
      "text/plain": [
       "45.9510745551666"
      ]
     },
     "execution_count": 7,
     "metadata": {},
     "output_type": "execute_result"
    }
   ],
   "source": [
    "#B\n",
    "T_thresh = -(1 + e_O18/e_H1) * Q\n",
    "T_thresh"
   ]
  },
  {
   "cell_type": "code",
   "execution_count": 8,
   "id": "eabb3b24",
   "metadata": {},
   "outputs": [
    {
     "data": {
      "text/plain": [
       "16.483885092767977"
      ]
     },
     "execution_count": 8,
     "metadata": {},
     "output_type": "execute_result"
    }
   ],
   "source": [
    "#C\n",
    "A1 = A2 = 18\n",
    "\n",
    "Z1 = 8\n",
    "Z2 = 9\n",
    "\n",
    "C_thresh = 1.20 * (Z1 * Z2) / (A1**(1/3) + A2**(1/3))\n",
    "C_thresh"
   ]
  },
  {
   "cell_type": "code",
   "execution_count": 10,
   "id": "b7ab4de4",
   "metadata": {
    "scrolled": true
   },
   "outputs": [
    {
     "data": {
      "text/plain": [
       "45.9510745551666"
      ]
     },
     "execution_count": 10,
     "metadata": {},
     "output_type": "execute_result"
    }
   ],
   "source": [
    "#D, max between B and C\n",
    "T_thresh"
   ]
  },
  {
   "cell_type": "code",
   "execution_count": 12,
   "id": "927478f0",
   "metadata": {},
   "outputs": [
    {
     "data": {
      "text/plain": [
       "43.514566090674236"
      ]
     },
     "execution_count": 12,
     "metadata": {},
     "output_type": "execute_result"
    }
   ],
   "source": [
    "#E\n",
    "T_thresh + Q"
   ]
  }
 ],
 "metadata": {
  "kernelspec": {
   "display_name": "Python 3 (ipykernel)",
   "language": "python",
   "name": "python3"
  },
  "language_info": {
   "codemirror_mode": {
    "name": "ipython",
    "version": 3
   },
   "file_extension": ".py",
   "mimetype": "text/x-python",
   "name": "python",
   "nbconvert_exporter": "python",
   "pygments_lexer": "ipython3",
   "version": "3.9.12"
  }
 },
 "nbformat": 4,
 "nbformat_minor": 5
}
