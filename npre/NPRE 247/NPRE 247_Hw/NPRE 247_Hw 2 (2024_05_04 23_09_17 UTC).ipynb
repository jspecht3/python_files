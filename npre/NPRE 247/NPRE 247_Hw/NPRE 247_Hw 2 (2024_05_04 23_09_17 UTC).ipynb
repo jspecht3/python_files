{
 "cells": [
  {
   "cell_type": "code",
   "execution_count": 1,
   "id": "c8699cb2",
   "metadata": {},
   "outputs": [],
   "source": [
    "from sympy import *\n",
    "import numpy as np\n",
    "import scipy.constants as c"
   ]
  },
  {
   "cell_type": "code",
   "execution_count": 72,
   "id": "f08a16e6",
   "metadata": {},
   "outputs": [],
   "source": [
    "#Constants\n",
    "N_A = c.Avogadro\n",
    "\n",
    "#Atomic Masses (grams/mol)\n",
    "H_atomic_mass = 1.00794\n",
    "\n",
    "Li6_atomic_mass = 6.01512279\n",
    "\n",
    "O_atomic_mass = 15.9994\n",
    "\n",
    "B_atomic_mass = 10.811\n",
    "B10_atomic_mass = 10.0129370\n",
    "B11_atomic_mass = 11.0093054\n",
    "\n",
    "Al_atomic_mass = 26.9815386\n",
    "\n",
    "U_atomic_mass = 238.02891\n",
    "U234_atomic_mass = 234.039635\n",
    "U235_atomic_mass = 235.043930\n",
    "U238_atomic_mass = 238.050788\n",
    "\n",
    "Pu239_atomic_mass = 239.052163\n",
    "Pu240_atomic_mass = 240.053814\n",
    "Pu241_atomic_mass = 241.05685\n",
    "Pu242_atomic_mass = 242.058743\n",
    "\n",
    "#Natural Abundances\n",
    "U234_natural_abundance = .0054 / 100\n",
    "U235_natural_abundance = .7204 / 100\n",
    "U238_natural_abundance = 99.2742 / 100\n",
    "\n",
    "B10_natural_abundance = 19.9 / 100\n",
    "B11_natural_abundance = 80.1 / 100"
   ]
  },
  {
   "cell_type": "code",
   "execution_count": 56,
   "id": "870bd359",
   "metadata": {},
   "outputs": [
    {
     "name": "stdout",
     "output_type": "stream",
     "text": [
      "a 238.028909992706\n",
      "b 238.02912542518897\n"
     ]
    }
   ],
   "source": [
    "#Question 1\n",
    "\n",
    "U_average_weight = U234_atomic_mass*U234_natural_abundance + U235_atomic_mass*U235_natural_abundance + U238_atomic_mass*U238_natural_abundance\n",
    "\n",
    "U_new_total = U235_natural_abundance + U238_natural_abundance\n",
    "U235_new_abundance = U235_natural_abundance / U_new_total\n",
    "U238_new_abundance = U238_natural_abundance / U_new_total\n",
    "\n",
    "U_new_average_weight = U235_atomic_mass*U235_new_abundance + U238_atomic_mass*U238_new_abundance\n",
    "\n",
    "print('a', U_average_weight)\n",
    "print('b', U_new_average_weight)"
   ]
  },
  {
   "cell_type": "code",
   "execution_count": 57,
   "id": "7e9f75ce",
   "metadata": {},
   "outputs": [
    {
     "name": "stdout",
     "output_type": "stream",
     "text": [
      "4.480389893775914e-23\n"
     ]
    }
   ],
   "source": [
    "#Question 2\n",
    "\n",
    "Al_atom_mass = Al_atomic_mass / N_A\n",
    "#grams/mol / atoms/mol\n",
    "\n",
    "print(Al_atom_mass)"
   ]
  },
  {
   "cell_type": "code",
   "execution_count": 58,
   "id": "cb6d14b9",
   "metadata": {},
   "outputs": [
    {
     "name": "stdout",
     "output_type": "stream",
     "text": [
      "6.026261249608649e+21\n"
     ]
    }
   ],
   "source": [
    "#Question 3\n",
    "\n",
    "Al_density = 2.70 #g/cc. I found this from the textbook table A.3\n",
    "\n",
    "sheet_volume = 1 * .1 #1cm^2 * .1cm thick\n",
    "grams_per_region = Al_density * sheet_volume\n",
    "atoms_per_region = grams_per_region / Al_atomic_mass * N_A\n",
    "#grams / grams/mol * atoms/mol\n",
    "\n",
    "print(atoms_per_region)"
   ]
  },
  {
   "cell_type": "code",
   "execution_count": 59,
   "id": "a97a1806",
   "metadata": {},
   "outputs": [
    {
     "name": "stdout",
     "output_type": "stream",
     "text": [
      "1.0011667209872535e+23\n"
     ]
    }
   ],
   "source": [
    "#Question 4\n",
    "\n",
    "mass_Li6 = 1 #g\n",
    "atoms_Li6 = mass_Li6 / Li6_atomic_mass * N_A\n",
    "#grams / grams/mol * atoms/mol\n",
    "\n",
    "print(atoms_Li6)"
   ]
  },
  {
   "cell_type": "code",
   "execution_count": 60,
   "id": "6b2381ae",
   "metadata": {},
   "outputs": [
    {
     "name": "stdout",
     "output_type": "stream",
     "text": [
      "2.7269251573863653e+22\n"
     ]
    }
   ],
   "source": [
    "#Question 5a\n",
    "\n",
    "B_mass_density = 2.46 #g/cc\n",
    "\n",
    "B_number_density = B_mass_density / B_atomic_mass * N_A\n",
    "#g/cc / g/mol * atoms/mol\n",
    "\n",
    "B10_number_density = B_number_density * B10_natural_abundance\n",
    "\n",
    "print(B10_number_density)"
   ]
  },
  {
   "cell_type": "code",
   "execution_count": 61,
   "id": "7ddb17e3",
   "metadata": {},
   "outputs": [
    {
     "name": "stdout",
     "output_type": "stream",
     "text": [
      "61.08477542\n"
     ]
    }
   ],
   "source": [
    "#Question 5b\n",
    "\n",
    "B_new_mass = B10_atomic_mass*.95 + B11_atomic_mass*.05\n",
    "H3BO3_mass = 3*H_atomic_mass + B_new_mass + 3*O_atomic_mass\n",
    "\n",
    "print(H3BO3_mass)"
   ]
  },
  {
   "cell_type": "code",
   "execution_count": 92,
   "id": "c2251624",
   "metadata": {},
   "outputs": [
    {
     "data": {
      "text/plain": [
       "1.1743174481999998e+21"
      ]
     },
     "execution_count": 92,
     "metadata": {},
     "output_type": "execute_result"
    }
   ],
   "source": [
    "#Question 5c\n",
    "\n",
    "H3BO3_ratio = 1950 / 1e6\n",
    "H3BO3_dissolved_mass = H3BO3_mass * H3BO3_ratio\n",
    "H3BO3_number_density = H3BO3_dissolved_mass / 1 #cc\n",
    "\n",
    "H3BO3_number_density = H3BO3_number_density / H3BO3_mass * N_A\n",
    "#g/cc / g/mol * atoms/mol\n",
    "\n",
    "H3BO3_number_density"
   ]
  },
  {
   "cell_type": "code",
   "execution_count": 93,
   "id": "4065ec57",
   "metadata": {},
   "outputs": [
    {
     "data": {
      "text/plain": [
       "5.59321567815123e+21"
      ]
     },
     "execution_count": 93,
     "metadata": {},
     "output_type": "execute_result"
    }
   ],
   "source": [
    "#6a\n",
    "\n",
    "UO2_mass_density = 10.97 #g/cc\n",
    "U235_mass_enrichment = 19.9 / 100 #gU235/gTotal\n",
    "\n",
    "U235_mass_density = U235_mass_enrichment * UO2_mass_density\n",
    "#gTotal/cc * gU235/gTotal\n",
    "\n",
    "U235_atom_density = U235_mass_density / U235_atomic_mass * N_A\n",
    "#gU235/cc / gU235/mol * atoms/mol\n",
    "\n",
    "U235_atom_density"
   ]
  },
  {
   "cell_type": "code",
   "execution_count": 64,
   "id": "056b8da1",
   "metadata": {},
   "outputs": [
    {
     "data": {
      "text/plain": [
       "597.0"
      ]
     },
     "execution_count": 64,
     "metadata": {},
     "output_type": "execute_result"
    }
   ],
   "source": [
    "#6b\n",
    "\n",
    "pellet_number = 300 #pellet\n",
    "pellet_weight = 10 #g/pellet\n",
    "\n",
    "total_fuel_weight = pellet_number * pellet_weight\n",
    "U235_fuel_ratio = U235_mass_density / UO2_mass_density\n",
    "\n",
    "U235_fuel_weight = total_fuel_weight * U235_fuel_ratio\n",
    "\n",
    "U235_fuel_weight"
   ]
  },
  {
   "cell_type": "code",
   "execution_count": 65,
   "id": "2e89193e",
   "metadata": {},
   "outputs": [
    {
     "data": {
      "text/latex": [
       "$\\displaystyle 9607.46770819643$"
      ],
      "text/plain": [
       "9607.46770819643"
      ]
     },
     "execution_count": 65,
     "metadata": {},
     "output_type": "execute_result"
    }
   ],
   "source": [
    "#6c\n",
    "\n",
    "pellet_height = 1 #cm\n",
    "pellet_radius = .8 / 2 # \n",
    "pellet_volume = pi**2 * pellet_radius * pellet_height\n",
    "\n",
    "O_mass_density = 1.429 #g/cc\n",
    "U_mass_density = UO2_mass_density - 2*O_mass_density\n",
    "\n",
    "total_fuel_rod_volume = pellet_number * pellet_volume\n",
    "U_total_mass = U_mass_density * total_fuel_rod_volume\n",
    "\n",
    "U_total_mass.evalf()"
   ]
  },
  {
   "cell_type": "code",
   "execution_count": 91,
   "id": "eb2159e2",
   "metadata": {},
   "outputs": [
    {
     "name": "stdout",
     "output_type": "stream",
     "text": [
      "Pu239_atom_density 9.181948827890627e+18\n",
      "Pu240_atom_density 2.8014313260605075e+19\n",
      "Pu241_atom_density 1.6394542122155544e+20\n",
      "Pu242_atom_density 9.399381567609576e+20\n",
      "U235_atom_density 1.6161395287944102e+20\n",
      "U238_atom_density 2.2271093671493894e+22\n",
      "O_atom_density 4.802247649428423e+22\n"
     ]
    }
   ],
   "source": [
    "#7\n",
    "\n",
    "MOX_mass_density = 10.77 #g/cc\n",
    "PuO2_mass_ratio = 6.6 / 100\n",
    "\n",
    "PuO2_mass_density = PuO2_mass_ratio * MOX_mass_density\n",
    "UO2_mass_density = MOX_mass_density - PuO2_mass_density\n",
    "\n",
    "#Finding Atomic Mass of Pu\n",
    "Pu239_concentration = 71.76 / 100\n",
    "Pu240_concentration = 23.52 / 100\n",
    "Pu241_concentration = 4.019 / 100\n",
    "Pu242_concentration = .701 / 100\n",
    "\n",
    "Pu_atomic_mass = (Pu239_concentration*Pu239_atomic_mass +\n",
    "            Pu240_concentration*Pu240_atomic_mass +\n",
    "            Pu241_concentration*Pu241_atomic_mass +\n",
    "            Pu242_concentration*Pu242_atomic_mass)\n",
    "\n",
    "#Calculating Atom Percents\n",
    "Pu239_atom_ratio = Pu239_concentration / Pu239_atomic_mass\n",
    "Pu240_atom_ratio = Pu240_concentration / Pu240_atomic_mass\n",
    "Pu241_atom_ratio = Pu241_concentration / Pu241_atomic_mass\n",
    "Pu242_atom_ratio = Pu242_concentration / Pu242_atomic_mass\n",
    "\n",
    "Sum_atom_ratios = (Pu239_atom_ratio + \n",
    "            Pu240_atom_ratio + \n",
    "            Pu241_atom_ratio + \n",
    "            Pu242_atom_ratio)\n",
    "\n",
    "Pu239_atom_percent = Pu239_concentration / Sum_atom_ratios\n",
    "Pu240_atom_percent = Pu240_concentration / Sum_atom_ratios\n",
    "Pu241_atom_percent = Pu241_concentration / Sum_atom_ratios\n",
    "Pu242_atom_percent = Pu242_concentration / Sum_atom_ratios\n",
    "\n",
    "#Solving PuO2\n",
    "PuO2_atomic_mass = Pu_atomic_mass + 2*O_atomic_mass\n",
    "PuO2_atom_density = PuO2_mass_density / PuO2_atomic_mass * N_A\n",
    "\n",
    "Pu239_atom_density = PuO2_atom_density / Pu239_atom_percent\n",
    "Pu240_atom_density = PuO2_atom_density / Pu240_atom_percent\n",
    "Pu241_atom_density = PuO2_atom_density / Pu241_atom_percent\n",
    "Pu242_atom_density = PuO2_atom_density / Pu242_atom_percent\n",
    "\n",
    "O_PuO2_atom_density = 2 * PuO2_atom_density\n",
    "\n",
    "#Solving UO2\n",
    "UO2_atomic_mass = U_atomic_mass + 2*O_atomic_mass\n",
    "UO2_atom_density = UO2_mass_density / UO2_atomic_mass * N_A\n",
    "\n",
    "U235_atom_density = UO2_atom_density * U235_natural_abundance\n",
    "U238_atom_density = UO2_atom_density * U238_natural_abundance\n",
    "\n",
    "O_UO2_atom_density = 2 * UO2_atom_density\n",
    "\n",
    "#Printing\n",
    "print('Pu239_atom_density', Pu239_atom_density)\n",
    "print('Pu240_atom_density', Pu240_atom_density)\n",
    "print('Pu241_atom_density', Pu241_atom_density)\n",
    "print('Pu242_atom_density', Pu242_atom_density)\n",
    "\n",
    "print('U235_atom_density', U235_atom_density)\n",
    "print('U238_atom_density', U238_atom_density)\n",
    "\n",
    "print('O_atom_density', O_UO2_atom_density + O_PuO2_atom_density)"
   ]
  }
 ],
 "metadata": {
  "kernelspec": {
   "display_name": "Python 3 (ipykernel)",
   "language": "python",
   "name": "python3"
  },
  "language_info": {
   "codemirror_mode": {
    "name": "ipython",
    "version": 3
   },
   "file_extension": ".py",
   "mimetype": "text/x-python",
   "name": "python",
   "nbconvert_exporter": "python",
   "pygments_lexer": "ipython3",
   "version": "3.9.12"
  }
 },
 "nbformat": 4,
 "nbformat_minor": 5
}
