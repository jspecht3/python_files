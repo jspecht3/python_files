{
 "cells": [
  {
   "cell_type": "code",
   "execution_count": 60,
   "id": "dbbab9bd",
   "metadata": {},
   "outputs": [],
   "source": [
    "from sympy import *\n",
    "import numpy as np\n",
    "import scipy.constants as c\n",
    "\n",
    "from tabulate import tabulate\n",
    "\n",
    "import pandas as pd\n",
    "import urllib.request\n",
    "\n",
    "def lc_read_csv(url):\n",
    "    req = urllib.request.Request(url)\n",
    "    req.add_header('User-Agent', 'Mozilla/5.0 (X11; Ubuntu; Linux x86_64; rv:77.0) Gecko/20100101 Firefox/77.0')\n",
    "    return pd.read_csv(urllib.request.urlopen(req))\n",
    "\n",
    "# the service URL\n",
    "livechart = \"https://nds.iaea.org/relnsd/v0/data?\"\n",
    "lc_iso = livechart + \"fields=ground_states\"\n",
    "\n",
    "def iso_molar(iso): #accepts string of Z number followed by atomic symbol\n",
    "    iso_info = lc_read_csv(lc_iso + f\"&nuclides={iso}\")\n",
    "    mu_iso_molar = iso_info[\"atomic_mass\"][0]\n",
    "    iso_molar = mu_iso_molar/10**6\n",
    "    return iso_molar #returns molar mass in amu\n",
    "\n",
    "def u_mev(u):\n",
    "    MeV = u * (9.31494028*100)\n",
    "    return MeV"
   ]
  },
  {
   "cell_type": "code",
   "execution_count": 2,
   "id": "3c122969",
   "metadata": {},
   "outputs": [],
   "source": [
    "#Constants & Useful Numbers\n",
    "N_A = c.Avogadro\n",
    "amu_e = 931.494311371427 #MeV\n",
    "\n",
    "MeV_to_J = 1.602176e-13\n",
    "Ci_to_bq = 37000000000"
   ]
  },
  {
   "cell_type": "code",
   "execution_count": 4,
   "id": "8aac7fd3",
   "metadata": {},
   "outputs": [],
   "source": [
    "#Masses [amu]\n",
    "m_O = 15.999\n",
    "\n",
    "m_U234 = 234.040952\n",
    "m_U235 = 235.043930\n",
    "m_U238 = 238.050788\n",
    "\n",
    "m_Pu239 = 239.052161596\n",
    "\n",
    "m_Cf252 = 252.081626507"
   ]
  },
  {
   "cell_type": "code",
   "execution_count": 5,
   "id": "6e77f796",
   "metadata": {
    "scrolled": true
   },
   "outputs": [
    {
     "name": "stdout",
     "output_type": "stream",
     "text": [
      "Yes\n"
     ]
    }
   ],
   "source": [
    "#1\n",
    "print('Yes')"
   ]
  },
  {
   "cell_type": "code",
   "execution_count": 6,
   "id": "de2f52b9",
   "metadata": {
    "scrolled": true
   },
   "outputs": [
    {
     "name": "stdout",
     "output_type": "stream",
     "text": [
      "U235_atom_density 1.3365712102496989e+22\n",
      "U238_atom_density 1.3365712102496989e+22\n"
     ]
    }
   ],
   "source": [
    "#2a\n",
    "fuel_mass_density = 10.5 #g/cc\n",
    "\n",
    "U235_atom_ratio = .5\n",
    "U238_atom_ratio = .5\n",
    "\n",
    "M_fuel = U235_atom_ratio*m_U235 + U238_atom_ratio*m_U238\n",
    "\n",
    "fuel_atom_density = fuel_mass_density / M_fuel * N_A\n",
    "#g/cc / g/mol = mol/cc * atoms/mol\n",
    "\n",
    "U235_atom_density = U235_atom_ratio * fuel_atom_density\n",
    "U238_atom_density = U238_atom_ratio * fuel_atom_density\n",
    "\n",
    "print(\"U235_atom_density\", U235_atom_density)\n",
    "print(\"U238_atom_density\", U238_atom_density)"
   ]
  },
  {
   "cell_type": "code",
   "execution_count": 7,
   "id": "9607800a",
   "metadata": {
    "scrolled": true
   },
   "outputs": [
    {
     "name": "stdout",
     "output_type": "stream",
     "text": [
      "U235_atom_density 1.3451204202550562e+22\n",
      "U238_atom_density 1.3281299866984687e+22\n"
     ]
    }
   ],
   "source": [
    "#2b\n",
    "\n",
    "U235_mass_ratio = .5\n",
    "U238_mass_ratio = .5\n",
    "\n",
    "U235_mass_density = U235_mass_ratio * fuel_mass_density\n",
    "U238_mass_density = U238_mass_ratio * fuel_mass_density\n",
    "\n",
    "U235_atom_density = U235_mass_density / m_U235 * N_A\n",
    "U238_atom_density = U238_mass_density / m_U238 * N_A\n",
    "\n",
    "print(\"U235_atom_density\", U235_atom_density)\n",
    "print(\"U238_atom_density\", U238_atom_density)"
   ]
  },
  {
   "cell_type": "code",
   "execution_count": 8,
   "id": "88a0534f",
   "metadata": {
    "scrolled": true
   },
   "outputs": [
    {
     "name": "stdout",
     "output_type": "stream",
     "text": [
      "E_total_kwh 22805.498988810214\n",
      "E_total_mwd 0.950229124533759\n"
     ]
    }
   ],
   "source": [
    "#3\n",
    "E_out = 200 #MeV\n",
    "mass_sample = 1 #g\n",
    "\n",
    "U235_atoms = mass_sample / m_U235 * N_A\n",
    "\n",
    "E_total_MeV = U235_atoms * E_out\n",
    "E_total_J = E_total_MeV * MeV_to_J\n",
    "\n",
    "E_total_kwh = E_total_J / 1000 / 3600\n",
    "#1/1000 is for w -> kw; 1/3600 is for 1/s -> 1/hr\n",
    "E_total_mwd = E_total_kwh / 1000 / 24\n",
    "#1/1000 if for kw -> Mw; 1/24 if for 1/hr -> 1/day\n",
    "\n",
    "print('E_total_kwh', E_total_kwh)\n",
    "print('E_total_mwd', E_total_mwd)"
   ]
  },
  {
   "cell_type": "code",
   "execution_count": 9,
   "id": "74796e8a",
   "metadata": {},
   "outputs": [
    {
     "name": "stdout",
     "output_type": "stream",
     "text": [
      "Cf252_mass 1.39784848375145e-5\n"
     ]
    }
   ],
   "source": [
    "#4, Cf-252\n",
    "activity_mCi = 7.5 #mCi\n",
    "activity_bq = activity_mCi / 1000 * Ci_to_bq\n",
    "\n",
    "Cf252_hl_years = 2.645 #years\n",
    "Cf252_hl_sec = Cf252_hl_years * 365 * 24 * 60 * 60\n",
    "\n",
    "Cf252_dc_sec = log(2) / Cf252_hl_sec\n",
    "\n",
    "Cf252_atoms = activity_bq / Cf252_dc_sec\n",
    "\n",
    "Cf252_mass = Cf252_atoms / N_A * m_Cf252\n",
    "#atoms / atoms/mol = mol * M\n",
    "\n",
    "print('Cf252_mass', Cf252_mass.evalf())"
   ]
  },
  {
   "cell_type": "code",
   "execution_count": 10,
   "id": "c8ce3986",
   "metadata": {},
   "outputs": [
    {
     "name": "stdout",
     "output_type": "stream",
     "text": [
      "activity_bq * e9 2.03473963215005\n",
      "activity_Ci 0.0549929630310823\n"
     ]
    }
   ],
   "source": [
    "#5; A = dc * m * NA / M\n",
    "PuO2_hl_years = 24000 #years\n",
    "PuO2_hl_sec = PuO2_hl_years * 365 * 24 * 60 * 60\n",
    "\n",
    "PuO2_dc_sec = log(2) / PuO2_hl_sec\n",
    "\n",
    "M_PuO2 = m_Pu239 + 2*m_O\n",
    "mass_PuO2 = 1\n",
    "\n",
    "activity_bq = PuO2_dc_sec * mass_PuO2 * N_A / M_PuO2\n",
    "activity_Ci = activity_bq / Ci_to_bq\n",
    "\n",
    "print('activity_bq * e9', activity_bq.evalf() / 1e9)\n",
    "print('activity_Ci', activity_Ci.evalf())"
   ]
  },
  {
   "cell_type": "code",
   "execution_count": 11,
   "id": "83adce53",
   "metadata": {},
   "outputs": [
    {
     "name": "stdout",
     "output_type": "stream",
     "text": [
      "frequency 0.0005\n",
      "energy 1.3457999999999999\n"
     ]
    }
   ],
   "source": [
    "#6a\n",
    "frequency = .05 / 100 #1/s\n",
    "energy = 1345.8 / 1000 #Mev\n",
    "\n",
    "print('frequency', frequency)\n",
    "print('energy', energy)"
   ]
  },
  {
   "cell_type": "code",
   "execution_count": 12,
   "id": "740e655c",
   "metadata": {},
   "outputs": [
    {
     "name": "stdout",
     "output_type": "stream",
     "text": [
      "max_E_positron 0.174\n",
      "max_f_positron 0.6531\n",
      "max_E_electron 0.39\n",
      "max_f_electron 0.5787\n"
     ]
    }
   ],
   "source": [
    "#6b\n",
    "max_E_positron = 17.4 / 100\n",
    "max_f_positron = 653.1 / 1000\n",
    "\n",
    "max_E_electron = 39 / 100\n",
    "max_f_electron = 578.7 / 1000\n",
    "\n",
    "print('max_E_positron', max_E_positron)\n",
    "print('max_f_positron', max_f_positron)\n",
    "\n",
    "print('max_E_electron', max_E_electron)\n",
    "print('max_f_electron', max_f_electron)"
   ]
  },
  {
   "cell_type": "code",
   "execution_count": 118,
   "id": "c34fa3fd",
   "metadata": {},
   "outputs": [
    {
     "name": "stdout",
     "output_type": "stream",
     "text": [
      "A_Sr90_7a 0.999343338017424\n",
      "A_Y90_7a 0.971276268846776\n"
     ]
    }
   ],
   "source": [
    "#7a, 10 days\n",
    "\n",
    "A_Sr90_0 = 1e9 #bq\n",
    "A_Y90_0 = .62e9 #bq\n",
    "\n",
    "hl_Sr90 = 28.91 * 365 * 24 * 60 * 60 #years * days/year * hours/day * min/hour * sec/min\n",
    "hl_Y90 = 64.05 * 60 * 60 #hours * min/hour * sec/min\n",
    "\n",
    "dc_Sr90 = log(2) / hl_Sr90\n",
    "dc_Y90 = log(2) / hl_Y90\n",
    "\n",
    "time_elapsed_7a = 10 * 24 * 60 * 60\n",
    "\n",
    "A_Sr90_7a = A_Sr90_0 * exp(-dc_Sr90 * time_elapsed_7a)\n",
    "A_Y90_7a = A_Y90_0 * exp(-dc_Y90 * time_elapsed_7a) + A_Sr90_0 * (dc_Y90 / (dc_Y90 - dc_Sr90) * (exp(-dc_Sr90 * time_elapsed_7a) - exp(-dc_Y90 * time_elapsed_7a)))\n",
    "\n",
    "print('A_Sr90_7a', A_Sr90_7a / 1e9)\n",
    "print('A_Y90_7a', A_Y90_7a / 1e9)"
   ]
  },
  {
   "cell_type": "code",
   "execution_count": 119,
   "id": "82f34962",
   "metadata": {},
   "outputs": [
    {
     "name": "stdout",
     "output_type": "stream",
     "text": [
      "A_Sr90_7b 0.497488843394209\n",
      "A_Y90_7b 0.971276268846776\n"
     ]
    }
   ],
   "source": [
    "#7b, 29.12 years\n",
    "\n",
    "time_elapsed_7b = 29.12 * 365 * 24 * 60 * 60 #years * days/year * hours/day * min/hour \n",
    "\n",
    "A_Sr90_7b = A_Sr90_0 * exp(-dc_Sr90 * time_elapsed_7b)\n",
    "A_Y90_7b = A_Y90_0 * exp(-dc_Y90 * time_elapsed_7b) + A_Sr90_0 * (dc_Y90 / (dc_Y90 - dc_Sr90) * (exp(-dc_Sr90 * time_elapsed_7b) - exp(-dc_Y90 * time_elapsed_7b)))\n",
    "\n",
    "print('A_Sr90_7b', A_Sr90_7b / 1e9)\n",
    "print('A_Y90_7b', A_Y90_7a / 1e9)"
   ]
  },
  {
   "cell_type": "code",
   "execution_count": 29,
   "id": "293eecb5",
   "metadata": {},
   "outputs": [
    {
     "data": {
      "text/latex": [
       "$\\displaystyle 28198.5445176232$"
      ],
      "text/plain": [
       "28198.5445176232"
      ]
     },
     "execution_count": 29,
     "metadata": {},
     "output_type": "execute_result"
    }
   ],
   "source": [
    "#8a\n",
    "m_Ra226 = iso_molar('226Ra')\n",
    "m_Rn222 = iso_molar('222Rn')\n",
    "\n",
    "atoms_Ra226 = 40e-3 * m_Ra226 * N_A #g / g/mol * atoms/mol\n",
    "\n",
    "hl_Ra226 = 1.600e3 * 365.24 * 24 * 60 * 60 #years * day/year * hours/day * min/hour * second/min\n",
    "hl_Rn222 = 3.8215 * 24 * 60 * 60 #days * hours/day * min/hour * sec/min\n",
    "\n",
    "dc_Ra226 = log(2) / hl_Ra226\n",
    "dc_Rn222 = log(2) / hl_Rn222\n",
    "\n",
    "desired_activity = 10e-3 * Ci_to_bq #Ci * bq/Ci\n",
    "\n",
    "#Solving\n",
    "t = log(desired_activity / (dc_Ra226 * atoms_Ra)) / -dc_Ra226\n",
    "t.evalf() / 60 / 60 / 24 / 365.24 #seconds / sec/min / min/hour / hour/day / days/year"
   ]
  },
  {
   "cell_type": "code",
   "execution_count": 121,
   "id": "196d74bb",
   "metadata": {},
   "outputs": [
    {
     "name": "stdout",
     "output_type": "stream",
     "text": [
      "1.14201698491547e+19\n"
     ]
    }
   ],
   "source": [
    "#8b\n",
    "\n",
    "time_elapsed = 2 * 365.24 * 24 * 60 * 60\n",
    "\n",
    "atoms_Rn222 = dc_Rn222 / (dc_Rn222 - dc_Ra226) * atoms_Ra226 * (exp(-dc_Ra226 * time_elapsed) - exp(-dc_Rn222 * time_elapsed))\n",
    "activity_Rn222 = dc_Rn222 * atoms_Rn222\n",
    "print(activity_Rn222.evalf())"
   ]
  },
  {
   "cell_type": "code",
   "execution_count": 122,
   "id": "36d68f8a",
   "metadata": {},
   "outputs": [
    {
     "name": "stdout",
     "output_type": "stream",
     "text": [
      "7.41148276996474e+18\n"
     ]
    }
   ],
   "source": [
    "#8c\n",
    "time_elapsed = 1000 * 365.24 * 24 * 60 * 60\n",
    "\n",
    "atoms_Rn222 = dc_Rn222 / (dc_Rn222 - dc_Ra226) * atoms_Ra226 * (exp(-dc_Ra226 * time_elapsed) - exp(-dc_Rn222 * time_elapsed))\n",
    "activity_Rn222 = dc_Rn222 * atoms_Rn222\n",
    "print(activity_Rn222.evalf())"
   ]
  },
  {
   "cell_type": "code",
   "execution_count": 123,
   "id": "c3c23fa1",
   "metadata": {
    "scrolled": false
   },
   "outputs": [
    {
     "name": "stdout",
     "output_type": "stream",
     "text": [
      "--------  -------------------  ------------------  -------------------\n",
      "Reaction  Q [MeV]              T Threshhold [MeV]  Min T [MeV]\n",
      "1         7.251093291137473    0                   7.251093291137473\n",
      "2         0.0                  0                   0.0\n",
      "3         -2.722866567050283   3.179459063706441   0.4565924966561581\n",
      "4         -2.2087572643092686  2.5791397156649065  0.37038245135563796\n",
      "5         4.783471353085346    0                   4.783471353085346\n",
      "--------  -------------------  ------------------  -------------------\n"
     ]
    }
   ],
   "source": [
    "#9\n",
    "\n",
    "#Mass\n",
    "m_n = 1.0086649159 #amu\n",
    "\n",
    "m_H1 = iso_molar('1H')\n",
    "m_H2 = iso_molar('2H')\n",
    "m_H3 = iso_molar('3H')\n",
    "\n",
    "m_He4 = iso_molar('4He')\n",
    "m_He5 = iso_molar('5He')\n",
    "m_He6 = iso_molar('6He')\n",
    "\n",
    "m_Li6 = iso_molar('6Li')\n",
    "m_Li7 = iso_molar('7Li')\n",
    "\n",
    "#Defining functions\n",
    "def Q_fun(m3, m4):\n",
    "    return(u_mev((m_Li6 + m_n) - (m3 + m4)))\n",
    "\n",
    "def Threshhold_T(Q):\n",
    "    return(-(1 + (m_n/m_Li6))*Q)\n",
    "\n",
    "#Making Array\n",
    "results = [['Reaction', 'Q [MeV]', 'T Threshhold [MeV]', 'Min T [MeV]'],\n",
    "          [1, Q_fun(0, m_Li7), 0, Q_fun(0, m_Li7)],\n",
    "          [2, Q_fun(m_n, m_Li6), 0, Threshhold_T(Q_fun(m_n, m_Li6)) + Q_fun(m_n, m_Li6)],\n",
    "          [3, Q_fun(m_H1, m_He6), Threshhold_T(Q_fun(m_H1, m_He6)), Threshhold_T(Q_fun(m_H1, m_He6)) + Q_fun(m_H1, m_He6)],\n",
    "          [4, Q_fun(m_H2, m_He5), Threshhold_T(Q_fun(m_H2, m_He5)), Threshhold_T(Q_fun(m_H2, m_He5)) + Q_fun(m_H2, m_He5)],\n",
    "          [5, Q_fun(m_He4, m_H3), 0, Q_fun(m_He4, m_H3)]]\n",
    "\n",
    "print(tabulate(results))"
   ]
  },
  {
   "cell_type": "code",
   "execution_count": 124,
   "id": "1f950d81",
   "metadata": {
    "scrolled": true
   },
   "outputs": [
    {
     "name": "stdout",
     "output_type": "stream",
     "text": [
      "--------  ------------------  -----------------  ------------------  ------------------\n",
      "Reaction  Q [MeV]             T Thresh [MeV]     C Thresh [MeV]      Min T [MeV]\n",
      "1         1.2683787915797184  0                  0                   0\n",
      "2         -2.114149784593493  10.21190078237055  2.4229626165526343  8.097750997777057\n",
      "3         2.0507257236534646  0                  0                   0\n",
      "4         -10.4023164708921   54.16626164729698  2.4229626165526343  43.763945176404874\n",
      "--------  ------------------  -----------------  ------------------  ------------------\n"
     ]
    }
   ],
   "source": [
    "#10\n",
    "m_l = iso_molar('3H') + iso_molar('16O')\n",
    "header = ['Reaction', 'Q [MeV]', 'T Thresh [MeV]', 'C Thresh [MeV]', 'Min T [MeV]']\n",
    "\n",
    "def Q_fun_10(m3, m4):\n",
    "    return(u_mev((iso_molar('3H') + iso_molar('16O')) - (m3 + m4)))\n",
    "\n",
    "def Thresh_T_10(Q):\n",
    "    return(-(1 + (iso_molar('16O')/iso_molar('3H'))*Q))\n",
    "\n",
    "Thresh_Q_10 = 1.20 * (1*8)/(16**(1/3) + 3**(1/3))\n",
    "\n",
    "def testing(n, m3, m4):\n",
    "    return [n, Q_fun_10(m3, m4), Thresh_T_10(Q_fun_10(m3, m4)), Thresh_Q_10, 0]\n",
    "\n",
    "print(tabulate([header, [1,Q_fun_10(iso_molar('18F'), m_n),0,0,0], \n",
    "                [2,Q_fun_10(iso_molar('2H'), iso_molar('17O')),Thresh_T_10(Q_fun_10(iso_molar('2H'), iso_molar('17O'))), Thresh_Q_10,Q_fun_10(iso_molar('2H'), iso_molar('17O')) + Thresh_T_10(Q_fun_10(iso_molar('2H'), iso_molar('17O')))],\n",
    "                [3,Q_fun_10(iso_molar('1H'), iso_molar('18F')),0,0,0], \n",
    "                [4,Q_fun_10(iso_molar('3He'), iso_molar('16N')),Thresh_T_10(Q_fun_10(iso_molar('3He'), iso_molar('16N'))),Thresh_Q_10, Q_fun_10(iso_molar('3He'), iso_molar('16N')) + Thresh_T_10(Q_fun_10(iso_molar('3He'), iso_molar('16N')))]]))"
   ]
  },
  {
   "cell_type": "raw",
   "id": "fb0f5c39",
   "metadata": {},
   "source": [
    "A 2-MeV neutron is scattered elastically by 12C through an angle of 45 degrees. What is the scattered neutron’s energy?"
   ]
  },
  {
   "cell_type": "code",
   "execution_count": 116,
   "id": "6923ef83",
   "metadata": {},
   "outputs": [
    {
     "data": {
      "text/plain": [
       "1.90722369048791"
      ]
     },
     "execution_count": 116,
     "metadata": {},
     "output_type": "execute_result"
    }
   ],
   "source": [
    "#11\n",
    "\n",
    "1 / (12 + 1)**2 * ((2)**(1/2) * np.cos(np.deg2rad(45)) + (2 * (12**2 - 1 + np.cos(np.deg2rad(45))))**(1/2))**(2)"
   ]
  }
 ],
 "metadata": {
  "kernelspec": {
   "display_name": "Python 3 (ipykernel)",
   "language": "python",
   "name": "python3"
  },
  "language_info": {
   "codemirror_mode": {
    "name": "ipython",
    "version": 3
   },
   "file_extension": ".py",
   "mimetype": "text/x-python",
   "name": "python",
   "nbconvert_exporter": "python",
   "pygments_lexer": "ipython3",
   "version": "3.9.12"
  }
 },
 "nbformat": 4,
 "nbformat_minor": 5
}
