{
 "cells": [
  {
   "cell_type": "code",
   "execution_count": 1,
   "id": "02d68f13",
   "metadata": {},
   "outputs": [],
   "source": [
    "import pandas as pd\n",
    "from sympy import *\n",
    "import numpy as np\n",
    "import matplotlib.pyplot as plt\n",
    "import scipy.stats as sy"
   ]
  },
  {
   "cell_type": "markdown",
   "id": "5970e710",
   "metadata": {},
   "source": [
    "You can import an CSV from excel using pandas\n",
    "pd.read_csv(r'C:\\... enter in the pathway...\\filename.csv')"
   ]
  },
  {
   "cell_type": "code",
   "execution_count": null,
   "id": "fb9609ad",
   "metadata": {},
   "outputs": [],
   "source": [
    "Tnum = 25 # number of values in the file\n",
    "\n",
    "ray_T = np.arange(start=0, stop=Tnum, dtype='f')\n",
    "#do something else about the thing"
   ]
  },
  {
   "cell_type": "code",
   "execution_count": null,
   "id": "2000821b",
   "metadata": {},
   "outputs": [],
   "source": [
    "#This is how to do it in np for exp\n",
    "lam = 1/np.mean()"
   ]
  },
  {
   "cell_type": "code",
   "execution_count": 4,
   "id": "9bd8e9cb",
   "metadata": {},
   "outputs": [],
   "source": [
    "#Scipy.stats\n",
    "y = sy.expon.fit(X, floc=0) #this takes the data and returns the graph and data\n",
    "lam = (1/y[1]) #this is lambda, check the thing to see that it does"
   ]
  },
  {
   "cell_type": "code",
   "execution_count": null,
   "id": "f6271c9e",
   "metadata": {},
   "outputs": [],
   "source": [
    "#Survival probablity\n",
    "time_test = 24\n",
    "surv_prob1 = np.exp(-lam*time_test)"
   ]
  },
  {
   "cell_type": "markdown",
   "id": "673f8677",
   "metadata": {},
   "source": [
    "##### NORMAL DISTRIBUTION using numpy\n"
   ]
  },
  {
   "cell_type": "markdown",
   "id": "4cd449c8",
   "metadata": {},
   "source": [
    "mu = np.mean(data)\n",
    "var = np.var(data)\n",
    "sigma = sqrt(var)"
   ]
  }
 ],
 "metadata": {
  "kernelspec": {
   "display_name": "Python 3 (ipykernel)",
   "language": "python",
   "name": "python3"
  },
  "language_info": {
   "codemirror_mode": {
    "name": "ipython",
    "version": 3
   },
   "file_extension": ".py",
   "mimetype": "text/x-python",
   "name": "python",
   "nbconvert_exporter": "python",
   "pygments_lexer": "ipython3",
   "version": "3.9.12"
  }
 },
 "nbformat": 4,
 "nbformat_minor": 5
}
