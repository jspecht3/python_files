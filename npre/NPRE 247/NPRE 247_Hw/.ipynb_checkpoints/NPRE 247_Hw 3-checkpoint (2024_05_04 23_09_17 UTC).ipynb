{
 "cells": [
  {
   "cell_type": "code",
   "execution_count": 112,
   "id": "cf9128d4",
   "metadata": {},
   "outputs": [],
   "source": [
    "from sympy import *\n",
    "import numpy as np"
   ]
  },
  {
   "cell_type": "code",
   "execution_count": 181,
   "id": "a16b50ec",
   "metadata": {},
   "outputs": [],
   "source": [
    "#Constants\n",
    "\n",
    "#Mass\n",
    "neutron_mass_MeV = 9.39565346e2 # MeV\n",
    "neutron_mass_kg = 1.67492749804e-27 #kg\n",
    "\n",
    "e_mass_kg = 9.10938215e-31 #kg\n",
    "\n",
    "H_molar_mass = 1.00794\n",
    "O_molar_mass = 15.9994\n",
    "\n",
    "H2O_molar_mass = O_molar_mass + 2*H_molar_mass\n",
    "\n",
    "#Physical Constants\n",
    "c = 299792458 #speed of light m/s\n",
    "h = 6.62606896e-34 #Joule seconds\n",
    "N_A = 6.02214179e23\n",
    "\n",
    "#Conversion factors\n",
    "MeV_to_J = 1.602176e-13\n",
    "eV_to_J = 1.602176e-19"
   ]
  },
  {
   "cell_type": "markdown",
   "id": "f17c72b5",
   "metadata": {},
   "source": [
    "Explain 1\n",
    "Explain 5"
   ]
  },
  {
   "cell_type": "code",
   "execution_count": 191,
   "id": "390e9271",
   "metadata": {},
   "outputs": [
    {
     "name": "stdout",
     "output_type": "stream",
     "text": [
      "classical speed 43.73932760633699\n",
      "relativistic speed 43.3937064275866\n"
     ]
    }
   ],
   "source": [
    "#2\n",
    "T_2_MeV = 10 #MeV\n",
    "T_2_J = T_2_MeV * MeV_to_J\n",
    "\n",
    "classical_speed_2 = (2*T_2_J/neutron_mass_kg)**(1/2)\n",
    "\n",
    "gamma_2 = T_2_J/(neutron_mass_kg * c**2) + 1\n",
    "beta_squared_2 = 1 - 1/(gamma_2**2)\n",
    "relativistic_speed_2 = c * (beta_squared_2)**(1/2)\n",
    "\n",
    "print(\"classical speed\", classical_speed_2/1e6)\n",
    "print(\"relativistic speed\", relativistic_speed_2/1e6)"
   ]
  },
  {
   "cell_type": "code",
   "execution_count": 198,
   "id": "15a11628",
   "metadata": {},
   "outputs": [
    {
     "name": "stdout",
     "output_type": "stream",
     "text": [
      "Kinetic Energy 93.9563446599103\n",
      "relativistic speed MILLION 124.89287559653363\n"
     ]
    }
   ],
   "source": [
    "#3\n",
    "T_3_J = .1 * neutron_mass_kg * c**2 #J\n",
    "T_3_MeV = T_3_J * MeV_to_J**(-1)\n",
    "\n",
    "gamma_3 = T_3_J/(neutron_mass_kg * c**2) + 1\n",
    "beta_squared_3 = 1 - 1/(gamma_3**2)\n",
    "relativistic_speed_3 = c * (beta_squared_3)**(1/2)\n",
    "\n",
    "print(\"Kinetic Energy\", T_energy_MeV)\n",
    "print('relativistic speed MILLION', relativistic_speed_3/1e6)"
   ]
  },
  {
   "cell_type": "code",
   "execution_count": 199,
   "id": "85ad399a",
   "metadata": {},
   "outputs": [
    {
     "name": "stdout",
     "output_type": "stream",
     "text": [
      "scattering angle 29.278806481996348\n"
     ]
    }
   ],
   "source": [
    "#4\n",
    "Eo_4_MeV = 1\n",
    "Ef_4_MeV = .8\n",
    "\n",
    "Eo_4_J = Eo_4_MeV * MeV_to_J\n",
    "Ef_4_J = Ef_4_MeV * MeV_to_J\n",
    "\n",
    "cos_theta_4 = 1 - e_mass_kg*c**2 * (1/Ef_4_J - 1/Eo_4_J)\n",
    "theta_4 = np.arccos(cos_theta_4)\n",
    "\n",
    "print('scattering angle', np.rad2deg(theta_4))"
   ]
  },
  {
   "cell_type": "code",
   "execution_count": 220,
   "id": "b3771444",
   "metadata": {},
   "outputs": [
    {
     "name": "stdout",
     "output_type": "stream",
     "text": [
      "E max in MeV 0.2554995325858465\n"
     ]
    }
   ],
   "source": [
    "#5\n",
    "E_max_5_J = (e_mass_kg*c**2)/2\n",
    "E_max_5_MeV = E_max_5_J*(MeV_to_J)**(-1)\n",
    "\n",
    "print('E max in MeV', E_max_5_MeV)"
   ]
  },
  {
   "cell_type": "code",
   "execution_count": 224,
   "id": "433d1d15",
   "metadata": {},
   "outputs": [
    {
     "name": "stdout",
     "output_type": "stream",
     "text": [
      "10 eV wavelength in m 3.878299835732581e-10\n",
      "1000 eV wavelength in m 3.878299835732581e-11\n",
      "10e7 eV wavelength in m 1.2264260929971837e-13\n"
     ]
    }
   ],
   "source": [
    "#6\n",
    "T1_eV = 10 #eV\n",
    "T2_eV = 1000 #eV\n",
    "T3_eV = 10e7 #eV\n",
    "\n",
    "T1_J = T1_eV * eV_to_J\n",
    "T2_J = T2_eV * eV_to_J\n",
    "T3_J = T3_eV * eV_to_J\n",
    "\n",
    "v1_6 = (2*T1_J/e_mass_kg)**(1/2)\n",
    "v2_6 = (2*T2_J/e_mass_kg)**(1/2)\n",
    "v3_6 = (2*T3_J/e_mass_kg)**(1/2)\n",
    "\n",
    "wavelength1 = h/(e_mass_kg*v1_6)\n",
    "wavelength2 = h/(e_mass_kg*v2_6)\n",
    "wavelength3 = h/(e_mass_kg*v3_6)\n",
    "\n",
    "print('10 eV wavelength in m', wavelength1)\n",
    "print('1000 eV wavelength in m', wavelength2)\n",
    "print('10e7 eV wavelength in m', wavelength3)"
   ]
  },
  {
   "cell_type": "code",
   "execution_count": 229,
   "id": "02efaa11",
   "metadata": {},
   "outputs": [
    {
     "name": "stdout",
     "output_type": "stream",
     "text": [
      "Water wavelength in m 9.229000508512273e-12\n",
      "Cheese wavelength in m 5.521724133333333e-34\n"
     ]
    }
   ],
   "source": [
    "#7 both speeds are very low, so use the classical model\n",
    "\n",
    "H2O_mass = H2O_molar_mass / N_A / 1000 #kg\n",
    "cheese_mass = 3/1000 #kg\n",
    "\n",
    "H2O_v = 2400 #m/s\n",
    "cheese_v = 400 #m/s\n",
    "\n",
    "H2O_T = 1/2 * H2O_mass * H2O_v**2\n",
    "cheese_T = 1/2 * cheese_mass * cheese_v**2\n",
    "\n",
    "H2O_wavelength = h / (2 * H2O_mass * H2O_T)**(1/2)\n",
    "cheese_wavelength = h / (2 * cheese_mass * cheese_T)**(1/2)\n",
    "\n",
    "print('Water wavelength in m', H2O_wavelength)\n",
    "print('Cheese wavelength in m', cheese_wavelength)"
   ]
  }
 ],
 "metadata": {
  "kernelspec": {
   "display_name": "Python 3 (ipykernel)",
   "language": "python",
   "name": "python3"
  },
  "language_info": {
   "codemirror_mode": {
    "name": "ipython",
    "version": 3
   },
   "file_extension": ".py",
   "mimetype": "text/x-python",
   "name": "python",
   "nbconvert_exporter": "python",
   "pygments_lexer": "ipython3",
   "version": "3.9.12"
  }
 },
 "nbformat": 4,
 "nbformat_minor": 5
}
