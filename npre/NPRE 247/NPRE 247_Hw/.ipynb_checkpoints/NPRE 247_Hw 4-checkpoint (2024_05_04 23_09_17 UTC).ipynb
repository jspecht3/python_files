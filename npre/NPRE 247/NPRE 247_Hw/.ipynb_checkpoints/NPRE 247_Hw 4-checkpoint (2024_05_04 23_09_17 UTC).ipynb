{
 "cells": [
  {
   "cell_type": "code",
   "execution_count": 11,
   "id": "0a658c25",
   "metadata": {},
   "outputs": [],
   "source": [
    "from sympy import *\n",
    "import numpy as np\n",
    "import scipy.constants as c"
   ]
  },
  {
   "cell_type": "code",
   "execution_count": 57,
   "id": "ec4de5b6",
   "metadata": {},
   "outputs": [],
   "source": [
    "#Constants\n",
    "\n",
    "#Subatomics\n",
    "e_n = 9.39565346e2 #MeV\n",
    "n_mass_kg = 1.67492749804e-27 #kg\n",
    "\n",
    "e_p = 9.38272013 #MeV\n",
    "\n",
    "e_mass_kg = 9.10938215e-31 #kg\n",
    "\n",
    "amu = 1.660538782e-27 #kg\n",
    "\n",
    "#Atoms\n",
    "m_H1 = 1.0078250321 #amu\n",
    "m_H2 = 2.0141017779 #amu\n",
    "\n",
    "m_He3 = 3.016029319 #amu\n",
    "m_He4 = 4.0026032542 #amu\n",
    "m_He5 = 5.0122 #amu\n",
    "\n",
    "m_Li6 = 6.01512279 #amu\n",
    "m_Li7 = 7.0160045 #amu\n",
    "\n",
    "m_Be8 = 8.00530510 #amu\n",
    "m_Be9 = 9.0121822 #amu\n",
    "\n",
    "m_B9 = 9.013329 #amu\n",
    "m_B10 = 10.0129370 #amu\n",
    "\n",
    "m_N15 = 15.000108898 #amu\n",
    "\n",
    "m_O16 = 15.9949146196 #amu\n",
    "m_O17 = 16.9991317 #amu\n",
    "\n",
    "m_Ne22 = 21.99138511 #amu\n",
    "\n",
    "m_Ar38 = 37.9627324 #amu\n",
    "\n",
    "#Physical Constants\n",
    "c = 299792458 #speed of light m/s\n",
    "h = 6.62606896e-34 #Joule seconds\n",
    "N_A = 6.02214179e23\n",
    "\n",
    "#Conversion factors\n",
    "MeV_to_J = 1.602176e-13\n",
    "eV_to_J = 1.602176e-19"
   ]
  },
  {
   "cell_type": "code",
   "execution_count": 21,
   "id": "99d83894",
   "metadata": {},
   "outputs": [
    {
     "data": {
      "text/plain": [
       "931.494311371427"
      ]
     },
     "execution_count": 21,
     "metadata": {},
     "output_type": "execute_result"
    }
   ],
   "source": [
    "#2\n",
    "amu_energy = amu * c**2 * (MeV_to_J)**(-1)\n",
    "amu_energy #MeV"
   ]
  },
  {
   "cell_type": "code",
   "execution_count": 14,
   "id": "29bded39",
   "metadata": {},
   "outputs": [
    {
     "data": {
      "text/plain": [
       "7.976066440120917"
      ]
     },
     "execution_count": 14,
     "metadata": {},
     "output_type": "execute_result"
    }
   ],
   "source": [
    "#3a\n",
    "e_O16 = m_O16 * amu_energy\n",
    "e_H1 = m_H1 * amu_energy\n",
    "\n",
    "be_O16 = 8*e_H1 + 8*e_n - e_O16\n",
    "be_O16/16"
   ]
  },
  {
   "cell_type": "code",
   "execution_count": 15,
   "id": "5227fd13",
   "metadata": {
    "scrolled": true
   },
   "outputs": [
    {
     "data": {
      "text/plain": [
       "15.663675409852658"
      ]
     },
     "execution_count": 15,
     "metadata": {},
     "output_type": "execute_result"
    }
   ],
   "source": [
    "#3b\n",
    "e_N15 = m_N15 * amu_energy\n",
    "e_O15 = e_N15 + 2.7542\n",
    "\n",
    "nse_O16 = e_O15 + e_n - e_O16\n",
    "nse_O16"
   ]
  },
  {
   "cell_type": "code",
   "execution_count": 16,
   "id": "5b162253",
   "metadata": {},
   "outputs": [
    {
     "data": {
      "text/plain": [
       "7.750583015724153"
      ]
     },
     "execution_count": 16,
     "metadata": {},
     "output_type": "execute_result"
    }
   ],
   "source": [
    "#3c\n",
    "e_O17 = m_O17 * amu_energy\n",
    "\n",
    "be_O17 = 8*e_H1 + 9*e_n - e_O17\n",
    "be_O17/17"
   ]
  },
  {
   "cell_type": "code",
   "execution_count": 17,
   "id": "f734e361",
   "metadata": {},
   "outputs": [
    {
     "data": {
      "text/plain": [
       "4.1428482253759285"
      ]
     },
     "execution_count": 17,
     "metadata": {},
     "output_type": "execute_result"
    }
   ],
   "source": [
    "#3d\n",
    "nse_O17 = e_O16 + e_n - e_O17\n",
    "nse_O17"
   ]
  },
  {
   "cell_type": "code",
   "execution_count": 18,
   "id": "5398e0a1",
   "metadata": {},
   "outputs": [
    {
     "data": {
      "text/plain": [
       "3.269197695916205"
      ]
     },
     "execution_count": 18,
     "metadata": {},
     "output_type": "execute_result"
    }
   ],
   "source": [
    "#4a\n",
    "e_H2 = m_H2 * amu_energy\n",
    "e_He3 = m_He3 * amu_energy\n",
    "\n",
    "net_out_4a = e_H2 + e_H2 - e_He3 - e_n\n",
    "net_out_4a"
   ]
  },
  {
   "cell_type": "code",
   "execution_count": 81,
   "id": "0516d5bd",
   "metadata": {
    "scrolled": true
   },
   "outputs": [
    {
     "data": {
      "text/plain": [
       "17.58958525080368"
      ]
     },
     "execution_count": 81,
     "metadata": {},
     "output_type": "execute_result"
    }
   ],
   "source": [
    "#4b\n",
    "e_H3 = e_He3 + .018591\n",
    "e_He4 = m_He4 * amu_energy\n",
    "\n",
    "net_out_4b = e_H3 + e_H2 - e_He4 - e_n\n",
    "net_out_4b"
   ]
  },
  {
   "cell_type": "code",
   "execution_count": 82,
   "id": "461a1c60",
   "metadata": {
    "scrolled": false
   },
   "outputs": [
    {
     "data": {
      "text/plain": [
       "(6.585880981223454,\n",
       " -1.85029941740504,\n",
       " 0.0,\n",
       " 0.559226522107565,\n",
       " -12.083188282564151,\n",
       " 2.1249135520174605)"
      ]
     },
     "execution_count": 82,
     "metadata": {},
     "output_type": "execute_result"
    }
   ],
   "source": [
    "#5\n",
    "e_Li6 = m_Li6 * amu_energy\n",
    "e_Be7 = (m_Li7 * amu_energy) + .8619\n",
    "e_Be8 = m_Be8 * amu_energy\n",
    "e_Be9 = m_Be9 * amu_energy\n",
    "e_B9 = m_B9 * amu_energy\n",
    "e_B10 = m_B10 * amu_energy\n",
    "\n",
    "q5_1 = (e_Be9 + e_H1) - (e_B10)\n",
    "q5_2 = (e_Be9 + e_H1) - (e_B9 + e_n)\n",
    "q5_3 = (e_Be9 + e_H1) - (e_Be9 + e_H1)\n",
    "q5_4 = (e_Be9 + e_H1) - (e_Be8 + e_H2)\n",
    "q5_5 = (e_Be9 + e_H1) - (e_Be7 + e_H3)\n",
    "q5_6 = (e_Be9 + e_H1) - (e_Li6 + e_He4)\n",
    "\n",
    "q5_1, q5_2, q5_3, q5_4, q5_5, q5_6"
   ]
  },
  {
   "cell_type": "code",
   "execution_count": 83,
   "id": "31325004",
   "metadata": {},
   "outputs": [
    {
     "data": {
      "text/plain": [
       "(7.249726779294178,\n",
       " 0.0,\n",
       " -2.7259382588754306,\n",
       " -2.342129007166477,\n",
       " 4.78310054362646)"
      ]
     },
     "execution_count": 83,
     "metadata": {},
     "output_type": "execute_result"
    }
   ],
   "source": [
    "#6\n",
    "e_Li7 = m_Li7 * amu_energy\n",
    "e_He6 = e_Li6 + 3.508\n",
    "e_He5 = m_He5 * amu_energy\n",
    "\n",
    "q6_1 = (e_n + e_Li6) - (e_Li7)\n",
    "q6_2 = (e_n + e_Li6) - (e_Li6 + e_n)\n",
    "q6_3 = (e_n + e_Li6) - (e_He6 + e_H1)\n",
    "q6_4 = (e_n + e_Li6) - (e_He5 + e_H2)\n",
    "q6_5 = (e_n + e_Li6) - (e_H3 + e_He4)\n",
    "\n",
    "q6_1, q6_2, q6_3, q6_4, q6_5"
   ]
  },
  {
   "cell_type": "code",
   "execution_count": 86,
   "id": "390d3bbe",
   "metadata": {},
   "outputs": [
    {
     "data": {
      "text/plain": [
       "1.8203021799999988"
      ]
     },
     "execution_count": 86,
     "metadata": {},
     "output_type": "execute_result"
    }
   ],
   "source": [
    "#7a\n",
    "e_Ne22 = m_Ne22 * amu_energy\n",
    "e_Na22 = e_Ne22 + 2.8423\n",
    "e_e = 5.10998910e-1\n",
    "\n",
    "q7_a = (e_Na22) - (e_Ne22 + 2*e_e)\n",
    "q7_a"
   ]
  },
  {
   "cell_type": "code",
   "execution_count": 85,
   "id": "ca242247",
   "metadata": {},
   "outputs": [
    {
     "data": {
      "text/plain": [
       "4.91649999999936"
      ]
     },
     "execution_count": 85,
     "metadata": {},
     "output_type": "execute_result"
    }
   ],
   "source": [
    "#7b\n",
    "e_Ar38 = m_Ar38 * amu_energy\n",
    "e_Cl38 = e_Ar38 + 4.9165\n",
    "\n",
    "q7_b = (e_Cl38) - (e_Ar38)\n",
    "q7_b"
   ]
  }
 ],
 "metadata": {
  "kernelspec": {
   "display_name": "Python 3 (ipykernel)",
   "language": "python",
   "name": "python3"
  },
  "language_info": {
   "codemirror_mode": {
    "name": "ipython",
    "version": 3
   },
   "file_extension": ".py",
   "mimetype": "text/x-python",
   "name": "python",
   "nbconvert_exporter": "python",
   "pygments_lexer": "ipython3",
   "version": "3.9.12"
  }
 },
 "nbformat": 4,
 "nbformat_minor": 5
}
