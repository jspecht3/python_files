{
 "cells": [
  {
   "cell_type": "code",
   "execution_count": 2,
   "id": "33a76e28",
   "metadata": {},
   "outputs": [],
   "source": [
    "import numpy as np"
   ]
  },
  {
   "cell_type": "code",
   "execution_count": 7,
   "id": "cc09146f",
   "metadata": {},
   "outputs": [
    {
     "name": "stdout",
     "output_type": "stream",
     "text": [
      "0.0008386331508151939\n"
     ]
    }
   ],
   "source": [
    "#AC Circuit II\n",
    "\n",
    "Vl = 60.6\n",
    "Vc = -10.1\n",
    "Emax = 120\n",
    "L = 340e-3 \n",
    "C = 25e-6\n",
    "R = 280\n",
    "\n",
    "w = (Vl / np.abs(Vc) / L / C)**(1/2)\n",
    "\n",
    "Xl = w * L\n",
    "Xc = 1 / (w * C)\n",
    "tanphi = (Xl - Xc) / R\n",
    "phi = np.arctan(tanphi)\n",
    "print(phi/w)"
   ]
  },
  {
   "cell_type": "code",
   "execution_count": 58,
   "id": "76c7382b",
   "metadata": {},
   "outputs": [
    {
     "name": "stdout",
     "output_type": "stream",
     "text": [
      "215.79456884492322\n"
     ]
    }
   ],
   "source": [
    "#Power in an AC Circuit\n",
    "\n",
    "Em = 120\n",
    "w = 219\n",
    "L = 251e-3\n",
    "phi = np.radians(38)\n",
    "P = 134\n",
    "\n",
    "Imax = 2 * P / np.cos(phi) / Em\n",
    "R = 2 * P / Imax**2\n",
    "\n",
    "Xl = w * L\n",
    "\n",
    "H = (((Em**2 / Imax**2) - R**2))**(1/2)\n",
    "Xc1 = Xl - H\n",
    "Xc2 = Xl + H\n",
    "C = 1 / (w * Xc2) * 1000000\n",
    "\n",
    "ImaxRes = Em / R\n",
    "Pres = Em * ImaxRes / 2\n",
    "print(Pres)"
   ]
  },
  {
   "cell_type": "code",
   "execution_count": 70,
   "id": "7683d28a",
   "metadata": {},
   "outputs": [
    {
     "name": "stdout",
     "output_type": "stream",
     "text": [
      "37.5\n"
     ]
    }
   ],
   "source": [
    "#AC Circuit in Resonance\n",
    "\n",
    "Em = 24\n",
    "w = 150\n",
    "Imax = .64\n",
    "C = 184 / 1000000\n",
    "\n",
    "L = 1 / (w**2 * C)\n",
    "U = L * Imax**2 / 2 #U max for the capacitor and the inductor\n",
    "\n",
    "Pavg = Em * Imax / 2\n",
    "Pdis = Pavg * 2 * np.pi / w\n",
    "\n",
    "R = 2 * Pavg / Imax**2\n",
    "Q = w * L / R\n",
    "print(R)"
   ]
  },
  {
   "cell_type": "code",
   "execution_count": 57,
   "id": "d34c3648",
   "metadata": {},
   "outputs": [
    {
     "name": "stdout",
     "output_type": "stream",
     "text": [
      "167.372234672606\n"
     ]
    }
   ],
   "source": [
    "#AC Circuit 1\n",
    "\n",
    "Em = 120\n",
    "w = 685\n",
    "R = 80\n",
    "L = 146.2 / 1000\n",
    "C = 10.3 / 1000000\n",
    "\n",
    "Xl = w * L\n",
    "Xc = 1 / (w * C)\n",
    "\n",
    "Z = (R**2 + (Xl - Xc)**2)**(1/2)\n",
    "Im = Em / Z\n",
    "\n",
    "phi = np.arctan((Xc - Xl) / R)\n",
    "phid = np.degrees(phi)\n",
    "ti0 = ((np.pi / 2) - phi) / w\n",
    "\n",
    "Vmc = Xc * Im\n",
    "Vc = Vmc * np.sin(phi + (np.pi / 2))\n",
    "print(Vc)"
   ]
  },
  {
   "cell_type": "code",
   "execution_count": 7,
   "id": "71492117",
   "metadata": {},
   "outputs": [
    {
     "name": "stdout",
     "output_type": "stream",
     "text": [
      "57.65272196334766\n"
     ]
    }
   ],
   "source": [
    "#AC Circuit 2\n",
    "\n",
    "Em = 120\n",
    "w = 602\n",
    "R = 134\n",
    "C = 385e-6\n",
    "phi = np.radians(55)\n",
    "\n",
    "tim = phi / w\n",
    "\n",
    "Xc = 1 / (w * C)\n",
    "Xln = Xc - (R * np.tan(phi))\n",
    "Z = (R**2 + (Xln - Xc)**2)**(1/2)\n",
    "\n",
    "Xl = Xc + (Z**2 - R**2)**(1/2)\n",
    "L = Xl / w\n",
    "\n",
    "Im = Em / Z\n",
    "Vlm = Im * Xl\n",
    "print(Vlm * np.cos(phi))"
   ]
  }
 ],
 "metadata": {
  "kernelspec": {
   "display_name": "Python 3",
   "language": "python",
   "name": "python3"
  },
  "language_info": {
   "codemirror_mode": {
    "name": "ipython",
    "version": 3
   },
   "file_extension": ".py",
   "mimetype": "text/x-python",
   "name": "python",
   "nbconvert_exporter": "python",
   "pygments_lexer": "ipython3",
   "version": "3.8.8"
  }
 },
 "nbformat": 4,
 "nbformat_minor": 5
}
