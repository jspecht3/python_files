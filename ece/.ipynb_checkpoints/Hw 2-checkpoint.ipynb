{
 "cells": [
  {
   "cell_type": "code",
   "execution_count": 1,
   "id": "867d421d-815d-4841-9565-d47e2863580c",
   "metadata": {},
   "outputs": [],
   "source": [
    "import numpy as np\n",
    "import numpy.linalg as la"
   ]
  },
  {
   "cell_type": "code",
   "execution_count": null,
   "id": "c77d2baa-2fb6-45ba-b2c1-3022d152700a",
   "metadata": {},
   "outputs": [],
   "source": [
    "# 2\n",
    "v_in = 2\n",
    "\n",
    "A = np.array([\n",
    "    [1,-1,0,0],\n",
    "    [0,1,1,1],\n",
    "    [1,2,-1,-1],\n",
    "    [0,-1,0,-2]\n",
    "])\n",
    "\n",
    "C = np.array([2,2,2,12])\n",
    "\n",
    "i1,i2,i3,i4 = la.inv(A) @ C"
   ]
  },
  {
   "cell_type": "code",
   "execution_count": null,
   "id": "e619e2e2-8076-4a2a-800c-59a869d69c69",
   "metadata": {},
   "outputs": [],
   "source": [
    "v2 = 2\n",
    "v3 = v2 - (i1-i3)\n",
    "v1 = v3 - 12\n",
    "v4 = v3 - (i2 - i4)\n",
    "\n",
    "v1,v2,v3,v4"
   ]
  },
  {
   "cell_type": "code",
   "execution_count": 54,
   "id": "d65272c1-85a8-4058-b173-126d90743fa1",
   "metadata": {},
   "outputs": [
    {
     "data": {
      "text/plain": [
       "(30, 9)"
      ]
     },
     "execution_count": 54,
     "metadata": {},
     "output_type": "execute_result"
    }
   ],
   "source": [
    "# 4\n",
    "i1,i2 = 7,3\n",
    "r2 = 3\n",
    "\n",
    "vth = -(i1+i2)*r2\n",
    "rth = r2 + 6\n",
    "\n",
    "-vth,rth"
   ]
  },
  {
   "cell_type": "code",
   "execution_count": 56,
   "id": "f3a19518-eed0-4dcb-9069-cf8708e4149f",
   "metadata": {},
   "outputs": [
    {
     "name": "stdout",
     "output_type": "stream",
     "text": [
      "vth: 8.5\n",
      "rth: 2.0\n",
      "max power: 0.00903125\n"
     ]
    }
   ],
   "source": [
    "# 5\n",
    "vin = 5\n",
    "r1,r2,r3 = 4,8,8\n",
    "\n",
    "A = np.array([\n",
    "    [1,1,1],\n",
    "    [-r1,r2,0],\n",
    "    [-r1,0,r3]\n",
    "])\n",
    "\n",
    "C = np.array([0,vin,vin+8])\n",
    "\n",
    "i1,i2,i3 = la.inv(A) @ C\n",
    "\n",
    "vth = i3*r3\n",
    "rth = (1/r1 + 1/r2 + 1/r3)**(-1)\n",
    "\n",
    "print('vth:', round(vth,3))\n",
    "print('rth:',rth)\n",
    "print('max power:',round(((.5*vth)**2)/(rth*1000),8))"
   ]
  },
  {
   "cell_type": "code",
   "execution_count": 125,
   "id": "fd7b2a18-42b8-4fad-ad94-8410d278ec26",
   "metadata": {},
   "outputs": [
    {
     "data": {
      "text/plain": [
       "(2.0, 11.0)"
      ]
     },
     "execution_count": 125,
     "metadata": {},
     "output_type": "execute_result"
    }
   ],
   "source": [
    "# 6\n",
    "v1,v2 = 20,2\n",
    "r1,r2,r3 = 15,5,20\n",
    "\n",
    "rth = (1/(r1+r2) + 1/r3)**(-1) + 1\n",
    "\n",
    "i3 = (v1 - r1 - r2) / (r1 + r2 +r3)\n",
    "vth = v2 + i3*r3\n",
    "\n",
    "vth, rth"
   ]
  },
  {
   "cell_type": "code",
   "execution_count": 91,
   "id": "8e29f4e7-4817-4439-a41d-77d03e6b21d9",
   "metadata": {},
   "outputs": [
    {
     "data": {
      "text/plain": [
       "(10.0, 2.0)"
      ]
     },
     "execution_count": 91,
     "metadata": {},
     "output_type": "execute_result"
    }
   ],
   "source": [
    "# 7\n",
    "vin = 35\n",
    "\n",
    "i2 = -0.5\n",
    "ix = 0.5\n",
    "\n",
    "i1 = ((vin - 8) - 3*ix)/6\n",
    "i3 = i1 + 2\n",
    "\n",
    "vx = vin - 4*i3\n",
    "vy = ix * 4\n",
    "\n",
    "vx,vy"
   ]
  },
  {
   "cell_type": "code",
   "execution_count": 120,
   "id": "442c2559-281d-45f6-9278-1c67ce311a0b",
   "metadata": {},
   "outputs": [
    {
     "data": {
      "text/plain": [
       "20.0"
      ]
     },
     "execution_count": 120,
     "metadata": {},
     "output_type": "execute_result"
    }
   ],
   "source": [
    "# 9\n",
    "vin = 70\n",
    "vx = (2*vin - 30)/7\n",
    "\n",
    "vx = vin/3.5\n",
    "vx"
   ]
  },
  {
   "cell_type": "code",
   "execution_count": 116,
   "id": "bcbcbe0e-1bdd-44ac-8815-881a0fa2a1c5",
   "metadata": {},
   "outputs": [
    {
     "data": {
      "text/plain": [
       "(-1200, -2.9925187032418954)"
      ]
     },
     "execution_count": 116,
     "metadata": {},
     "output_type": "execute_result"
    }
   ],
   "source": [
    "# 10\n",
    "vin = 3\n",
    "k = 80\n",
    "\n",
    "# a\n",
    "vxa = vin\n",
    "va = -5*k*vxa\n",
    "\n",
    "# b\n",
    "vxb = vin / (1+5*k)\n",
    "vb = -5*k*vxb\n",
    "\n",
    "va,vb"
   ]
  }
 ],
 "metadata": {
  "kernelspec": {
   "display_name": "Python 3 (ipykernel)",
   "language": "python",
   "name": "python3"
  },
  "language_info": {
   "codemirror_mode": {
    "name": "ipython",
    "version": 3
   },
   "file_extension": ".py",
   "mimetype": "text/x-python",
   "name": "python",
   "nbconvert_exporter": "python",
   "pygments_lexer": "ipython3",
   "version": "3.12.2"
  }
 },
 "nbformat": 4,
 "nbformat_minor": 5
}
