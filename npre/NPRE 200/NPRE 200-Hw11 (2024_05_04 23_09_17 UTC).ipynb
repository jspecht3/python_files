{
 "cells": [
  {
   "cell_type": "code",
   "execution_count": 45,
   "id": "17d10603",
   "metadata": {},
   "outputs": [],
   "source": [
    "from sympy import *\n",
    "import numpy as np\n",
    "import matplotlib.pyplot as plt"
   ]
  },
  {
   "cell_type": "code",
   "execution_count": 46,
   "id": "b0f2831c",
   "metadata": {},
   "outputs": [],
   "source": [
    "#1D\n",
    "\n",
    "x = symbols('x')\n",
    "theta = 100\n",
    "\n",
    "f = x/theta**2 * exp(-x**2/(2*theta**2))"
   ]
  },
  {
   "cell_type": "code",
   "execution_count": 47,
   "id": "291cc6df",
   "metadata": {},
   "outputs": [
    {
     "data": {
      "text/latex": [
       "$\\displaystyle 125.33141373155$"
      ],
      "text/plain": [
       "125.331413731550"
      ]
     },
     "execution_count": 47,
     "metadata": {},
     "output_type": "execute_result"
    }
   ],
   "source": [
    "#1D Mean\n",
    "\n",
    "mu = integrate(x*f, (x, 0, oo))\n",
    "mu.evalf()"
   ]
  },
  {
   "cell_type": "code",
   "execution_count": 48,
   "id": "d5333b49",
   "metadata": {},
   "outputs": [
    {
     "data": {
      "text/latex": [
       "$\\displaystyle 4292.03673205103$"
      ],
      "text/plain": [
       "4292.03673205103"
      ]
     },
     "execution_count": 48,
     "metadata": {},
     "output_type": "execute_result"
    }
   ],
   "source": [
    "#1D Variance\n",
    "\n",
    "ExSq = integrate(x**2*f, (x, 0, oo))\n",
    "\n",
    "Var = ExSq - mu**2\n",
    "Var.evalf()"
   ]
  },
  {
   "cell_type": "code",
   "execution_count": 49,
   "id": "a4eaff31",
   "metadata": {},
   "outputs": [
    {
     "data": {
      "text/plain": [
       "Text(0.5, 1.0, 'Graphing Problem 1D')"
      ]
     },
     "execution_count": 49,
     "metadata": {},
     "output_type": "execute_result"
    },
    {
     "data": {
      "image/png": "[encoded data removed]",
      "text/plain": [
       "<Figure size 432x288 with 1 Axes>"
      ]
     },
     "metadata": {
      "needs_background": "light"
     },
     "output_type": "display_data"
    }
   ],
   "source": [
    "#1D Graphing\n",
    "def psi_function(x):\n",
    "    y = x/theta**2 * exp(-x**2/(2*theta**2))\n",
    "    return y\n",
    "\n",
    "arr = []\n",
    "for x in np.arange(0,100):\n",
    "    arr.append(psi_function(x))\n",
    "\n",
    "x = np.linspace(0,100,100)\n",
    "\n",
    "plt.plot(x,arr)\n",
    "plt.xlabel('X values')\n",
    "plt.ylabel('Pr(X) at X')\n",
    "plt.title('Graphing Problem 1D')"
   ]
  },
  {
   "cell_type": "code",
   "execution_count": 50,
   "id": "5c333fa4",
   "metadata": {},
   "outputs": [],
   "source": [
    "#3C Defining\n",
    "\n",
    "#Number of cylinders (X=xi)\n",
    "x1 = 4\n",
    "x2 = 6\n",
    "x3 = 8\n",
    "\n",
    "#Probability of Each Cylinder (Pr(X=xi))\n",
    "Prx1 = .45\n",
    "Prx2 = .4\n",
    "Prx3 = .15"
   ]
  },
  {
   "cell_type": "code",
   "execution_count": 52,
   "id": "2fbf3520",
   "metadata": {},
   "outputs": [
    {
     "data": {
      "text/plain": [
       "5.4"
      ]
     },
     "execution_count": 52,
     "metadata": {},
     "output_type": "execute_result"
    }
   ],
   "source": [
    "#3C Mean\n",
    "\n",
    "mu3C = x1*Prx1 + x2*Prx2 + x3*Prx3\n",
    "mu3C"
   ]
  },
  {
   "cell_type": "code",
   "execution_count": 54,
   "id": "1b43c575",
   "metadata": {},
   "outputs": [
    {
     "data": {
      "text/plain": [
       "2.039999999999999"
      ]
     },
     "execution_count": 54,
     "metadata": {},
     "output_type": "execute_result"
    }
   ],
   "source": [
    "#3C Variance\n",
    "\n",
    "ExSq3C = x1**2*Prx1 + x2**2*Prx2 + x3**2*Prx3\n",
    "Var3C = ExSq3C - mu3C**2\n",
    "\n",
    "Var3C"
   ]
  },
  {
   "cell_type": "code",
   "execution_count": 113,
   "id": "1fea3233",
   "metadata": {
    "scrolled": true
   },
   "outputs": [
    {
     "data": {
      "image/png": "[encoded data removed]",
      "text/plain": [
       "<Figure size 432x288 with 1 Axes>"
      ]
     },
     "metadata": {
      "needs_background": "light"
     },
     "output_type": "display_data"
    }
   ],
   "source": [
    "#3C Graphing\n",
    "x3C = np.array([1,2,3])\n",
    "Prx3C = np.array([.45,.4,.15])\n",
    "\n",
    "plt.hist(x3C, weights=Prx3C, cumulative=False, align='left')\n",
    "\n",
    "plt.title('Problem 3C Graph')\n",
    "plt.xlabel('i in X=xi')\n",
    "plt.ylabel('Pr(X=xi)')\n",
    "\n",
    "plt.xticks(x3C)\n",
    "plt.ylim(top=.5)\n",
    "plt.xlim(left=.75, right=3.25)\n",
    "plt.grid(which='both')"
   ]
  }
 ],
 "metadata": {
  "kernelspec": {
   "display_name": "Python 3 (ipykernel)",
   "language": "python",
   "name": "python3"
  },
  "language_info": {
   "codemirror_mode": {
    "name": "ipython",
    "version": 3
   },
   "file_extension": ".py",
   "mimetype": "text/x-python",
   "name": "python",
   "nbconvert_exporter": "python",
   "pygments_lexer": "ipython3",
   "version": "3.9.12"
  }
 },
 "nbformat": 4,
 "nbformat_minor": 5
}
