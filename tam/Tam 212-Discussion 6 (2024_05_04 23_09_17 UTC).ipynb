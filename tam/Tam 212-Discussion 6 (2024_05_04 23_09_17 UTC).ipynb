{
 "cells": [
  {
   "cell_type": "code",
   "execution_count": 1,
   "id": "1262a82d",
   "metadata": {},
   "outputs": [],
   "source": [
    "import sympy as sy\n",
    "import numpy as np\n",
    "import numpy.linalg as la"
   ]
  },
  {
   "cell_type": "code",
   "execution_count": 25,
   "id": "9e67f89e",
   "metadata": {
    "scrolled": true
   },
   "outputs": [
    {
     "name": "stdout",
     "output_type": "stream",
     "text": [
      "v0 = 14.0312256971855\n",
      "tj = 2.68808139617264\n",
      "5.061454830783556\n"
     ]
    }
   ],
   "source": [
    "v = sy.symbols('v', Real=True)\n",
    "theta = np.deg2rad(70)\n",
    "\n",
    "f = (12.9 * (np.tan(theta))) - ((9.81 / 2) * ((12.9/ (v * np.cos(theta)))**2))\n",
    "v0 = sy.solve(f)[1]\n",
    "\n",
    "tj = 12.9 / (v0 * np.cos(theta))\n",
    "\n",
    "print('v0 =', v0)\n",
    "print('tj =', tj)"
   ]
  },
  {
   "cell_type": "code",
   "execution_count": 30,
   "id": "2462807d",
   "metadata": {},
   "outputs": [
    {
     "name": "stdout",
     "output_type": "stream",
     "text": [
      "1.88292469044657\n",
      "0.10905125408942203\n"
     ]
    }
   ],
   "source": [
    "phi = np.deg2rad(290)\n",
    "\n",
    "w = phi / tj\n",
    "print(w)\n",
    "print(1/9.17)"
   ]
  }
 ],
 "metadata": {
  "kernelspec": {
   "display_name": "Python 3 (ipykernel)",
   "language": "python",
   "name": "python3"
  },
  "language_info": {
   "codemirror_mode": {
    "name": "ipython",
    "version": 3
   },
   "file_extension": ".py",
   "mimetype": "text/x-python",
   "name": "python",
   "nbconvert_exporter": "python",
   "pygments_lexer": "ipython3",
   "version": "3.9.12"
  }
 },
 "nbformat": 4,
 "nbformat_minor": 5
}
