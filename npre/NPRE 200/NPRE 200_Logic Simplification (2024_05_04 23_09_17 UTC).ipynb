{
 "cells": [
  {
   "cell_type": "code",
   "execution_count": 3,
   "id": "04defb01",
   "metadata": {},
   "outputs": [
    {
     "data": {
      "text/latex": [
       "$\\displaystyle B \\wedge \\neg C$"
      ],
      "text/plain": [
       "B & ~C"
      ]
     },
     "execution_count": 3,
     "metadata": {},
     "output_type": "execute_result"
    }
   ],
   "source": [
    "from sympy import *\n",
    "from sympy.logic import simplify_logic\n",
    "\n",
    "A, B, C = symbols('A,B,C')\n",
    "x = And( Or(A,B,C), Not( And(A,Not(B),Not(C))), Not(C))\n",
    "y = simplify_logic(x)\n",
    "y"
   ]
  },
  {
   "cell_type": "code",
   "execution_count": 5,
   "id": "cc1b029d",
   "metadata": {},
   "outputs": [
    {
     "data": {
      "text/latex": [
       "$\\displaystyle \\neg A \\wedge \\neg B$"
      ],
      "text/plain": [
       "~A & ~B"
      ]
     },
     "execution_count": 5,
     "metadata": {},
     "output_type": "execute_result"
    }
   ],
   "source": [
    "A, B, C, D = symbols('A,B,C,D')\n",
    "x = ~(A|(B&C)) & ~(B|(D&A))\n",
    "y = simplify_logic(x)\n",
    "y"
   ]
  }
 ],
 "metadata": {
  "kernelspec": {
   "display_name": "Python 3 (ipykernel)",
   "language": "python",
   "name": "python3"
  },
  "language_info": {
   "codemirror_mode": {
    "name": "ipython",
    "version": 3
   },
   "file_extension": ".py",
   "mimetype": "text/x-python",
   "name": "python",
   "nbconvert_exporter": "python",
   "pygments_lexer": "ipython3",
   "version": "3.9.12"
  }
 },
 "nbformat": 4,
 "nbformat_minor": 5
}
