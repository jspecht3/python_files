{
 "cells": [
  {
   "cell_type": "code",
   "execution_count": 19,
   "id": "04e4299f",
   "metadata": {},
   "outputs": [],
   "source": [
    "import numpy as np\n",
    "\n",
    "c = 3e8\n",
    "z0 = 377\n",
    "u0 = 4e-7 * np.pi\n",
    "e0 = 8.85e-12"
   ]
  },
  {
   "cell_type": "code",
   "execution_count": null,
   "id": "69307a13",
   "metadata": {},
   "outputs": [],
   "source": [
    "# Electromagnetic Wave 1\n",
    "\n",
    "wl = .3\n",
    "i = 45\n",
    "t = 1.5e-9\n",
    "\n",
    "Emax = np.sqrt(2*i*z0)\n",
    "Bmax = Emax / c\n",
    "w = 2 * np.pi / .3\n",
    "k = w / c\n",
    "\n",
    "B15 = Bmax * np.cos(k * 0 - w * t)\n",
    "print(B15)"
   ]
  },
  {
   "cell_type": "code",
   "execution_count": 24,
   "id": "171194bd",
   "metadata": {},
   "outputs": [
    {
     "name": "stdout",
     "output_type": "stream",
     "text": [
      "-3067.7115280962826 -3067.7115280962826\n"
     ]
    }
   ],
   "source": [
    "# Electromagnetic Wave 2\n",
    "\n",
    "wl = 4 / 100\n",
    "Bx = 1.8e-6\n",
    "By = 3.1e-6\n",
    "\n",
    "f = c / wl\n",
    "\n",
    "Bt = np.sqrt(Bx**2 + By**2)\n",
    "Et = Bt * c\n",
    "i = Et**2 / z0 / 2\n",
    "\n",
    "E = np.array([-By * c, Bx * c,0])\n",
    "B = np.array([Bx, By, 0])\n",
    "S = np.cross(E, B) / u0\n",
    "\n",
    "E2 = np.array([-Bx * c, -By * c, 0])\n",
    "B2 = np.array([By, -Bx, 0])\n",
    "S2 = np.cross(E, B) / u0\n",
    "print(S[2], S2[2])"
   ]
  },
  {
   "cell_type": "code",
   "execution_count": 31,
   "id": "d374c155",
   "metadata": {},
   "outputs": [
    {
     "name": "stdout",
     "output_type": "stream",
     "text": [
      "75.78609907905988\n"
     ]
    }
   ],
   "source": [
    "# Polarization\n",
    "\n",
    "I2 = np.cos(np.radians(70))**2 / 2\n",
    "T3 = 130 - np.degrees(np.arccos(np.sqrt(.02/I2)))\n",
    "print(T3)"
   ]
  },
  {
   "cell_type": "code",
   "execution_count": 40,
   "id": "ffc82dab",
   "metadata": {},
   "outputs": [
    {
     "name": "stdout",
     "output_type": "stream",
     "text": [
      "56.75000000000003\n"
     ]
    }
   ],
   "source": [
    "# Polarizers\n",
    "\n",
    "I0 = 454\n",
    "t2 = np.radians(30)\n",
    "t3 = np.radians(60 - 21)\n",
    "\n",
    "t2n = np.radians(90 - 21)\n",
    "t3n = np.radians(60 - 21)\n",
    "\n",
    "I2 = I0 * np.cos(t2)**2 / 2\n",
    "I3 = I2 * np.cos(t3)**2\n",
    "\n",
    "Irl = I0 * np.cos(np.radians(30))**2 / 2\n",
    "Ifnrl = I0 * np.cos(np.radians(60))**2 / 2\n",
    "print(Ifnrl)"
   ]
  },
  {
   "cell_type": "code",
   "execution_count": 48,
   "id": "45438c90",
   "metadata": {},
   "outputs": [
    {
     "name": "stdout",
     "output_type": "stream",
     "text": [
      "78.7811339258927\n"
     ]
    }
   ],
   "source": [
    "# Polarizers and a Quarter-Wave Plate\n",
    "\n",
    "I0 = 537\n",
    "t1 = np.radians(65)\n",
    "\n",
    "I2 = I0 * np.cos(np.radians(65))**2 / 2\n",
    "I2d = I2 * np.array([np.cos(65), np.sin(65)])\n",
    "\n",
    "I1n = I0 * np.sin(np.radians(65))**2\n",
    "I2n = I1n * np.cos(np.radians(65))**2\n",
    "print(I2n)"
   ]
  },
  {
   "cell_type": "code",
   "execution_count": 62,
   "id": "c7779e50",
   "metadata": {},
   "outputs": [
    {
     "name": "stdout",
     "output_type": "stream",
     "text": [
      "137.75\n"
     ]
    }
   ],
   "source": [
    "# Electromagnetic Waves\n",
    "\n",
    "wl = 551e-9\n",
    "B1 = 6.2e-6\n",
    "\n",
    "B = B1 * np.array([1, 1, 0])\n",
    "Emax = np.linalg.norm(B) * c\n",
    "\n",
    "w = 2 * np.pi * c / wl\n",
    "t = np.pi / 2 / w\n",
    "k = w / c\n",
    "\n",
    "zmax = np.pi / 2 / k * 1e9\n",
    "print(zmax)"
   ]
  }
 ],
 "metadata": {
  "kernelspec": {
   "display_name": "Python 3",
   "language": "python",
   "name": "python3"
  },
  "language_info": {
   "codemirror_mode": {
    "name": "ipython",
    "version": 3
   },
   "file_extension": ".py",
   "mimetype": "text/x-python",
   "name": "python",
   "nbconvert_exporter": "python",
   "pygments_lexer": "ipython3",
   "version": "3.8.8"
  }
 },
 "nbformat": 4,
 "nbformat_minor": 5
}
