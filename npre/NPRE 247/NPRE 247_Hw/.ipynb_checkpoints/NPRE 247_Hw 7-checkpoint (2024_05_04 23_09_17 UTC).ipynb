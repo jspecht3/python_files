{
 "cells": [
  {
   "cell_type": "code",
   "execution_count": 2,
   "id": "4d617818",
   "metadata": {},
   "outputs": [],
   "source": [
    "from sympy import *\n",
    "import numpy as np\n",
    "import scipy.constants as c\n",
    "\n",
    "from tabulate import tabulate\n",
    "\n",
    "import pandas as pd\n",
    "import urllib.request\n",
    "\n",
    "def lc_read_csv(url):\n",
    "    req = urllib.request.Request(url)\n",
    "    req.add_header('User-Agent', 'Mozilla/5.0 (X11; Ubuntu; Linux x86_64; rv:77.0) Gecko/20100101 Firefox/77.0')\n",
    "    return pd.read_csv(urllib.request.urlopen(req))\n",
    "\n",
    "# the service URL\n",
    "livechart = \"https://nds.iaea.org/relnsd/v0/data?\"\n",
    "lc_iso = livechart + \"fields=ground_states\"\n",
    "\n",
    "def iso_molar(iso): #accepts string of Z number followed by atomic symbol\n",
    "    iso_info = lc_read_csv(lc_iso + f\"&nuclides={iso}\")\n",
    "    mu_iso_molar = iso_info[\"atomic_mass\"][0]\n",
    "    iso_molar = mu_iso_molar/10**6\n",
    "    return iso_molar #returns molar mass in amu\n",
    "\n",
    "def u_mev(u):\n",
    "    MeV = u * (9.31494028*100)\n",
    "    return MeV"
   ]
  },
  {
   "cell_type": "raw",
   "id": "20b181dc",
   "metadata": {},
   "source": [
    "#1, Jupyter"
   ]
  },
  {
   "cell_type": "raw",
   "id": "586228e0",
   "metadata": {},
   "source": [
    "2. (Shultis & Faw 6.9) The first nuclear excited state of 12C is 4.439MeV above the ground state.\n",
    "\n",
    "(a) (5 points) What is the Q-value for neutron inelastic scattering that leaves 12C in this excited state?\n",
    "(b) (5 points) What is the threshold energy for this scattering reaction?\n",
    "(c) (5 points) What is the kinetic energy of an 8-MeV neutron scattered inelastically from this level at 45 degrees?"
   ]
  },
  {
   "cell_type": "code",
   "execution_count": 19,
   "id": "34e5ce39",
   "metadata": {},
   "outputs": [
    {
     "name": "stdout",
     "output_type": "stream",
     "text": [
      "Q [MeV]: -4.439\n"
     ]
    }
   ],
   "source": [
    "#2a\n",
    "q2a = -4.439 #Q is just negative of excitation energy\n",
    "print('Q [MeV]:', q2a)"
   ]
  },
  {
   "cell_type": "code",
   "execution_count": 14,
   "id": "24c21b52",
   "metadata": {},
   "outputs": [
    {
     "name": "stdout",
     "output_type": "stream",
     "text": [
      "Threshhold T [MeV]: 4.812121963473341\n"
     ]
    }
   ],
   "source": [
    "#2b\n",
    "m_n = m_n = 1.0086649159 #amu\n",
    "m_C12 = iso_molar('12C')\n",
    "\n",
    "thresh_th = -1 * (1 + m_n/m_C12) * q2a\n",
    "print('Threshhold T [MeV]:', thresh_th)"
   ]
  },
  {
   "cell_type": "code",
   "execution_count": 27,
   "id": "80ba5adf",
   "metadata": {},
   "outputs": [
    {
     "name": "stdout",
     "output_type": "stream",
     "text": [
      "Neutron T [MeV]: 3.2241851078581467\n"
     ]
    }
   ],
   "source": [
    "#2c\n",
    "A = 12\n",
    "E_2c_n = 8\n",
    "theta = np.pi/4\n",
    "\n",
    "E_2c = (A+1)**(-2) * ((E_2c_n)**(1/2)*np.cos(theta) + (E_2c_n*(A**2 -1 + np.cos(theta)**2) + A*(A+1)*q2a)**(1/2))**2\n",
    "print('Neutron T [MeV]:', E_2c)"
   ]
  },
  {
   "cell_type": "raw",
   "id": "29f58b37",
   "metadata": {},
   "source": [
    "4. (Shultis & Faw 6.17) In a particular neutron-induced fission of 235U, 4 prompt neutrons are produced and one fission fragment is 121Ag. \n",
    "\n",
    "(a) (2 points) What is the other fission fragment?\n",
    "(b) (2 points) How much energy is liberated promptly (i.e., before the fission fragments begin to decay)?\n",
    "(c) (3 points) If the total initial kinetic energy of the fission fragments is 150 MeV, what is the initial kinetic energy of each?\n",
    "(d) (3 points) What is the total kinetic energy shared by the four prompt neutrons."
   ]
  },
  {
   "cell_type": "code",
   "execution_count": 31,
   "id": "ec45e1d9",
   "metadata": {},
   "outputs": [
    {
     "name": "stdout",
     "output_type": "stream",
     "text": [
      "A: 45 Z: 111\n",
      "Fragment is 111-Rhodium\n"
     ]
    }
   ],
   "source": [
    "#4a\n",
    "a_total = 92\n",
    "z_total = 235 + 1\n",
    "\n",
    "a_after = a_total - 47\n",
    "z_after = z_total - 121 - 4\n",
    "\n",
    "print('A:', a_after, 'Z:', z_after)\n",
    "print('Fragment is 111-Rhodium')"
   ]
  },
  {
   "cell_type": "code",
   "execution_count": 41,
   "id": "efd37030",
   "metadata": {},
   "outputs": [
    {
     "name": "stdout",
     "output_type": "stream",
     "text": [
      "Q [MeV]: 173.41151707153168\n"
     ]
    }
   ],
   "source": [
    "#4b\n",
    "\n",
    "m_Rh111 = 110.911643164 #amu\n",
    "m_Ag121 = 120.920125279 #amu\n",
    "m_U235 =  235.043928117 #amu\n",
    "\n",
    "q_4b = u_mev((m_U235 + m_n) - (m_Rh111 + m_Ag121 + 4*m_n))\n",
    "print('Q [MeV]:', q_4b)"
   ]
  },
  {
   "cell_type": "code",
   "execution_count": 42,
   "id": "9502b4f9",
   "metadata": {},
   "outputs": [
    {
     "name": "stdout",
     "output_type": "stream",
     "text": [
      "T Ag121 [MeV] 71.76215143564521\n",
      "T Rh111 [MeV] 78.23784856435479\n"
     ]
    }
   ],
   "source": [
    "#4c\n",
    "\n",
    "E_Ag121_4c = 150 * (m_Rh111 / (m_Rh111 + m_Ag121))\n",
    "E_Rh111_4c = 150 - E_Ag121_4c\n",
    "\n",
    "print('T Ag121 [MeV]', E_Ag121_4c)\n",
    "print('T Rh111 [MeV]', E_Rh111_4c)"
   ]
  },
  {
   "cell_type": "code",
   "execution_count": 48,
   "id": "bbd7da28",
   "metadata": {
    "scrolled": true
   },
   "outputs": [
    {
     "name": "stdout",
     "output_type": "stream",
     "text": [
      "T [MeV]: 23.411517071531676\n"
     ]
    }
   ],
   "source": [
    "#4d\n",
    "\n",
    "t_n_total = q_4b - 150\n",
    "\n",
    "print('T [MeV]:', t_n_total)"
   ]
  },
  {
   "cell_type": "raw",
   "id": "47d3fe2f",
   "metadata": {},
   "source": [
    "5. (Shultis & Faw 6.18) Consider the following fission reaction where 90Kr and 142Ba are the initial fission fragments. \n",
    "\n",
    "(1,0)n + 235-U −→ 90-Kr + 142-Ba + 4(1,0)n + 6γ\n",
    "\n",
    "(a) (5 points) What is the fission product chain created by each of these fission fragments?\n",
    "(b) (5 points) What is the equivalent fission reaction taken to the stable end fission products?\n",
    "(c) (5 points) How much energy is liberated promptly?\n",
    "(d) (5 points) What is the total energy eventually emitted?"
   ]
  },
  {
   "cell_type": "code",
   "execution_count": null,
   "id": "7da15b03",
   "metadata": {},
   "outputs": [],
   "source": [
    "#5a)\n",
    "(90,36)Kr -> (90,37)Rb -> (90,38)Sr -> (90,39)Zr #all through beta- decay\n",
    "(142,56)Ba -> (142,57)La -> (142, 58)Ce #all through beta- decay"
   ]
  },
  {
   "cell_type": "code",
   "execution_count": 55,
   "id": "a314222a",
   "metadata": {
    "scrolled": true
   },
   "outputs": [],
   "source": [
    "#5b)\n",
    "(1,0)n + (235,92)U -> (90,39)Zr + (142,58)Ce + 5(0,-1)e + 5ν + 4(1,0)n + 6γ"
   ]
  },
  {
   "cell_type": "code",
   "execution_count": 62,
   "id": "182cd272",
   "metadata": {},
   "outputs": [
    {
     "data": {
      "text/plain": [
       "169.50633082347147"
      ]
     },
     "execution_count": 62,
     "metadata": {},
     "output_type": "execute_result"
    }
   ],
   "source": [
    "#5c)\n",
    "Q_5c = u_mev((m_n + m_U235) - (iso_molar('90Kr') + iso_molar('142Ba') + 4*m_n))\n",
    "Q_5c"
   ]
  },
  {
   "cell_type": "code",
   "execution_count": 69,
   "id": "3f894773",
   "metadata": {},
   "outputs": [
    {
     "data": {
      "text/plain": [
       "190.01025627358388"
      ]
     },
     "execution_count": 69,
     "metadata": {},
     "output_type": "execute_result"
    }
   ],
   "source": [
    "#5d)\n",
    "m_e = 0.00054858 #amu\n",
    "\n",
    "Q_5d = u_mev((m_n + m_U235) - (iso_molar('90Zr') + iso_molar('142Ce') + 4*m_n))\n",
    "Q_5d"
   ]
  },
  {
   "cell_type": "raw",
   "id": "eff23135",
   "metadata": {},
   "source": [
    "6. (Shultis & Faw 6.21) An accident in a fuel reprocessing plant, caused by improper mixing of 235U, produced a burst of fission energy liberating energy equivalent to the detonation of 7 kg of TNT (4.2 GJ/ton = 4.6 kJ/g). About 80% of the fission products were retained in the building.\n",
    "\n",
    "(a) (5 points) How many fissions occurred?\n",
    "(b) (5 points) Three months after the accident, what is the rate (W) at which energy is released by all the fission products left in the building?"
   ]
  },
  {
   "cell_type": "code",
   "execution_count": 73,
   "id": "6e38b136",
   "metadata": {},
   "outputs": [
    {
     "name": "stdout",
     "output_type": "stream",
     "text": [
      "N of fusions 1.0049619999999999e+18\n"
     ]
    }
   ],
   "source": [
    "#6a\n",
    "avg_E = 200 #Mev, avg energy/fusion\n",
    "\n",
    "E_total = 7000 * 4.6 * 6.242e15 #[g] * [kJ/g] * [MeV/kJ]\n",
    "n_fusions = E_total / avg_E\n",
    "\n",
    "print('N of fusions', n_fusions)"
   ]
  },
  {
   "cell_type": "code",
   "execution_count": 84,
   "id": "2228a501",
   "metadata": {},
   "outputs": [
    {
     "name": "stdout",
     "output_type": "stream",
     "text": [
      "W 0.002305685191954504\n"
     ]
    }
   ],
   "source": [
    "#6b\n",
    "t = 3 * 30 * 24 * 60 * 60 #mon * days/mon * hr/day * min/hr * sec/min\n",
    "\n",
    "E = (1.4 + 1.26) * t**(-1.2) * n_fusions / 6.242e12\n",
    "\n",
    "print('W', E)"
   ]
  },
  {
   "cell_type": "raw",
   "id": "f3e0c844",
   "metadata": {},
   "source": [
    "7. (Shultis & Faw 7.1) A broad beam of neutrons is normally incident on a homogeneous slab 6-cm thick. The intensity of neutrons transmitted through the slab without interactions is found to be 40% of the incident intensity.\n",
    "\n",
    "(a) (5 points) What is the total interaction coefficient µt for the slab material?\n",
    "(b) (5 points) What is the average distance a neutron travels in this material before undergoing an interaction?"
   ]
  },
  {
   "cell_type": "code",
   "execution_count": 91,
   "id": "c049171e",
   "metadata": {},
   "outputs": [
    {
     "name": "stdout",
     "output_type": "stream",
     "text": [
      "[/m] 15.2715121979026\n"
     ]
    }
   ],
   "source": [
    "#7a\n",
    "x = 6 / 100\n",
    "\n",
    "u_7 = -log(.4) / x\n",
    "print('[/m]', u_7.evalf())"
   ]
  },
  {
   "cell_type": "code",
   "execution_count": 95,
   "id": "308bb2ba",
   "metadata": {},
   "outputs": [
    {
     "name": "stdout",
     "output_type": "stream",
     "text": [
      "[cm] 6.54814000762375\n"
     ]
    }
   ],
   "source": [
    "#7b\n",
    "x_bar = 1 / u_7\n",
    "print('[cm]', x_bar * 100)"
   ]
  },
  {
   "cell_type": "raw",
   "id": "9d7e5d97",
   "metadata": {},
   "source": [
    "8. (10 points) (Shultis & Faw 7.3) Based on the interaction coefficients tabulated in Appendix C, plot the tenth-thickness (in centimeters) versus photon energy from 0.1 to 10 MeV for water, concrete, iron, and lead."
   ]
  },
  {
   "cell_type": "code",
   "execution_count": 107,
   "id": "3ec7580e",
   "metadata": {},
   "outputs": [
    {
     "name": "stdout",
     "output_type": "stream",
     "text": [
      "--------  -----------  -------------------  -------------------\n",
      "Material  u @ .1[MeV]  u @ 1[MeV]           u @ 10[MeV]\n",
      "Water     0.381692     0.20345368           0.07630013860000001\n",
      "Concrete  0.8271237    0.28989733599999995  0.18422353009999998\n",
      "Iron      8.6976204    1.350166591          0.82497441304\n",
      "Lead      166.1632055  2.4010925000000003   1.96627627\n",
      "--------  -----------  -------------------  -------------------\n"
     ]
    }
   ],
   "source": [
    "#8\n",
    "table = [['Material', 'u @ .1[MeV]', 'u @ 1[MeV]' ,'u @ 10[MeV]'],\n",
    "        ['Water', 1*(1.626e-1 + 2.762e-3 + 1.654e-1 + 2.547e-2 + 2.546e-2), 1*(7.066e-2 + 3.680e-6 + 7.066e-2 + 3.11e-2 + 3.103e-2), 1*(1.710e-2 + 1.386e-7 + 5.090e-3 + 2.219e-2 + 1.626e-2 + 1.566e-2)],\n",
    "        ['Concrete', 2.3*(1.447e-1 + 2.181e-3 + 1.665e-1 + 4.208e-3 + 4.203e-2), 2.3*(6.366e-2 + 3.332e-5 + 6.369e-3 + 2.806e-2 + 2.792e-2), 2.3*(1.541e-2 + 1.187e-6 + 7.696e-3 + 2.311e-2 + 1.745e-2 + 1.643e-2)],\n",
    "        ['Iron', 7.874*(1.296e-1 + 2.044e-1 + 3.340e-1 + 2.189e-1 + 2.177e-1), 7.874*(5.916e-2 + 3.515e-4 + 5.951e-2 + 2.642e-2 + 2.603e-2), 7.874*(1.434e-2 + 1.196e-5 + 1.559e-2 + 2.994e-2 + 2.381e-2 + 2.108e-2)],\n",
    "        ['Lead', 11.35*(9.893e-2 + 5.238 + 5.337 + 1.990 + 1.976), 11.35*(4.993e-2 + 1.809e-2 + 6.803e-2 + 3.896e-2 + 3.654e-2), 11.35*(1.219e-2 + 5.202e-4 + 3.698e-2 + 4.969e-2 + 4.205e-2 + 3.181e-2)]]\n",
    "\n",
    "print(tabulate(table))"
   ]
  },
  {
   "cell_type": "raw",
   "id": "bbc96484",
   "metadata": {},
   "source": [
    "9. (Shultis & Faw 7.5) Consider two adjacent infinite homogeneous slabs numbered, from left to right, 1 and 2. The slab thickness and total interaction coefficients are ti and µi (i = 1, 2). Normally incident on the left slab is a beam of gamma rays.\n",
    "\n",
    "(a) (5 points) What is the probability a gamma ray has its first interaction slab 1?\n",
    "(b) (5 points) What is the probability a gamma ray has its first interaction in slab 2?\n",
    "(c) (5 points) What is the probability a gamma ray penetrates both slabs without interacting?"
   ]
  },
  {
   "cell_type": "code",
   "execution_count": 112,
   "id": "d9de8d2a",
   "metadata": {},
   "outputs": [
    {
     "data": {
      "text/latex": [
       "$\\displaystyle 1 - e^{- t_{1} u_{1}}$"
      ],
      "text/plain": [
       "1 - exp(-t1*u1)"
      ]
     },
     "execution_count": 112,
     "metadata": {},
     "output_type": "execute_result"
    }
   ],
   "source": [
    "#9a)\n",
    "u1, u2, t1, t2 = S('u1, u2, t1, t2')\n",
    "\n",
    "prob_9a = (1 - exp(-u1 * t1))\n",
    "prob_9a"
   ]
  },
  {
   "cell_type": "code",
   "execution_count": 114,
   "id": "ea1ed23e",
   "metadata": {},
   "outputs": [
    {
     "data": {
      "text/latex": [
       "$\\displaystyle \\left(1 - e^{- t_{2} u_{2}}\\right) e^{- t_{1} u_{1}}$"
      ],
      "text/plain": [
       "(1 - exp(-t2*u2))*exp(-t1*u1)"
      ]
     },
     "execution_count": 114,
     "metadata": {},
     "output_type": "execute_result"
    }
   ],
   "source": [
    "#9b)\n",
    "\n",
    "prob_9b = (1 - prob_9a) * (1 - exp(-u2 * t2))\n",
    "prob_9b"
   ]
  },
  {
   "cell_type": "code",
   "execution_count": 116,
   "id": "dfee7b3a",
   "metadata": {},
   "outputs": [
    {
     "data": {
      "text/latex": [
       "$\\displaystyle e^{- t_{1} u_{1}} e^{- t_{2} u_{2}}$"
      ],
      "text/plain": [
       "exp(-t1*u1)*exp(-t2*u2)"
      ]
     },
     "execution_count": 116,
     "metadata": {},
     "output_type": "execute_result"
    }
   ],
   "source": [
    "#9c)\n",
    "\n",
    "prob_9c =(1 - prob_9a) * exp(-u2 * t2)\n",
    "prob_9c"
   ]
  },
  {
   "cell_type": "raw",
   "id": "b59dceb6",
   "metadata": {},
   "source": [
    "10. (10 points) (Shultis & Faw 7.14) A 2-mCi source of 60Co is placed in the center of a water filled tank with an inside diameter of 20cm and a depth of 100cm. The tank is made of iron with a wall thickness of 1cm. What is the uncollided flux density at the outer surface of the tank at the centerline (that is, in the same plane as the source)?"
   ]
  },
  {
   "cell_type": "code",
   "execution_count": 126,
   "id": "a0dac262",
   "metadata": {},
   "outputs": [
    {
     "name": "stdout",
     "output_type": "stream",
     "text": [
      "Flux [1/(cm^2*s)] 34023.5441572893\n"
     ]
    }
   ],
   "source": [
    "#10\n",
    "activity = 2e-3 * 3.7e10 #Ci * bq/ci\n",
    "radius = 20 / 2\n",
    "\n",
    "sa_outer = 4 * pi * (radius + 1)**2\n",
    "\n",
    "#Assuming Co-60 decays and releases 2 photons, so source looks like\n",
    "sp = 2 * activity\n",
    "\n",
    "#Flux\n",
    "u_H2O = .0632\n",
    "u_iron = .4191\n",
    "\n",
    "flux = sp / sa_outer * exp(-u_H2O*radius - u_iron*1)\n",
    "\n",
    "print('Flux [1/(cm^2*s)]', flux.evalf())"
   ]
  }
 ],
 "metadata": {
  "kernelspec": {
   "display_name": "Python 3 (ipykernel)",
   "language": "python",
   "name": "python3"
  },
  "language_info": {
   "codemirror_mode": {
    "name": "ipython",
    "version": 3
   },
   "file_extension": ".py",
   "mimetype": "text/x-python",
   "name": "python",
   "nbconvert_exporter": "python",
   "pygments_lexer": "ipython3",
   "version": "3.9.12"
  }
 },
 "nbformat": 4,
 "nbformat_minor": 5
}
