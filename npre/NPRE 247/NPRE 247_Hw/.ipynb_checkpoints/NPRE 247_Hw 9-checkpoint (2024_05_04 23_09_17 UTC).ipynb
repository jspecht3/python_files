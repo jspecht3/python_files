{
 "cells": [
  {
   "cell_type": "code",
   "execution_count": 39,
   "id": "ba363de8",
   "metadata": {},
   "outputs": [],
   "source": [
    "from sympy import *\n",
    "import numpy as np\n",
    "import scipy.constants as c\n",
    "import matplotlib.pyplot as plt\n",
    "from tabulate import tabulate\n",
    "\n",
    "import pandas as pd\n",
    "import urllib.request\n",
    "\n",
    "def lc_read_csv(url):\n",
    "    req = urllib.request.Request(url)\n",
    "    req.add_header('User-Agent', 'Mozilla/5.0 (X11; Ubuntu; Linux x86_64; rv:77.0) Gecko/20100101 Firefox/77.0')\n",
    "    return pd.read_csv(urllib.request.urlopen(req))\n",
    "\n",
    "# the service URL\n",
    "livechart = \"https://nds.iaea.org/relnsd/v0/data?\"\n",
    "lc_iso = livechart + \"fields=ground_states\"\n",
    "\n",
    "def iso_molar(iso): #accepts string of Z number followed by atomic symbol\n",
    "    iso_info = lc_read_csv(lc_iso + f\"&nuclides={iso}\")\n",
    "    mu_iso_molar = iso_info[\"atomic_mass\"][0]\n",
    "    iso_molar = mu_iso_molar/10**6\n",
    "    return iso_molar #returns molar mass in amu\n",
    "\n",
    "def u_mev(u):\n",
    "    MeV = u * (9.31494028*100)\n",
    "    return MeV"
   ]
  },
  {
   "cell_type": "raw",
   "id": "21a1f30c",
   "metadata": {},
   "source": [
    "1) Jupyter"
   ]
  },
  {
   "cell_type": "raw",
   "id": "5e855368",
   "metadata": {},
   "source": [
    "2) Low A value - removes more energy per scatter\n",
    "   Low absorption cross section - want to keep nuetrons in the mixture just make their energy lower\n",
    "   Stable at High Temperatures - don't want moderator failing at high temps when it's needed the most.\n",
    "   Good heat conductivity - remove heat readily enough for it to have low energy for scatters\n",
    "   Abundant and cheap - good for economics of the reactor"
   ]
  },
  {
   "cell_type": "code",
   "execution_count": 25,
   "id": "df3d8f3b",
   "metadata": {},
   "outputs": [
    {
     "data": {
      "text/plain": [
       "1.337873855748991"
      ]
     },
     "execution_count": 25,
     "metadata": {},
     "output_type": "execute_result"
    }
   ],
   "source": [
    "#3\n",
    "\n",
    "sigma_a_U234 = 89.49\n",
    "sigma_a_U235 = 592.6\n",
    "sigma_a_U238 = 2.382\n",
    "\n",
    "sigma_f_U235 = 505.9\n",
    "nu_U235 = 2.437\n",
    "\n",
    "nat_abun_U234 = .0054 / 100\n",
    "nat_abun_U235 = .7204 / 100\n",
    "nat_abun_U238 = 99.2742 / 100\n",
    "\n",
    "eta = nu_U235*sigma_f_U235*nat_abun_U235 / (nat_abun_U234*sigma_a_U234 + nat_abun_U235*sigma_a_U235 + nat_abun_U238*sigma_a_U238)\n",
    "eta"
   ]
  },
  {
   "cell_type": "code",
   "execution_count": 227,
   "id": "edf8d00f",
   "metadata": {},
   "outputs": [
    {
     "data": {
      "text/latex": [
       "$\\displaystyle 3.12587338180528$"
      ],
      "text/plain": [
       "3.12587338180528"
      ]
     },
     "execution_count": 227,
     "metadata": {},
     "output_type": "execute_result"
    }
   ],
   "source": [
    "#4\n",
    "\n",
    "x,y = S('x,y')\n",
    "eta = 1.85\n",
    "\n",
    "eq4a = Eq(eta, nu_U235*sigma_f_U235*x / (x*sigma_a_U235 + (1-x)*sigma_a_U238))\n",
    "soln4a = solve((eq4a))\n",
    "soln4a[0]*100"
   ]
  },
  {
   "cell_type": "code",
   "execution_count": 229,
   "id": "ca2a94d8",
   "metadata": {
    "scrolled": true
   },
   "outputs": [
    {
     "data": {
      "text/plain": [
       "Text(0, 0.5, 'Cross Section')"
      ]
     },
     "execution_count": 229,
     "metadata": {},
     "output_type": "execute_result"
    },
    {
     "data": {
      "image/png": "[encoded data removed]",
      "text/plain": [
       "<Figure size 432x288 with 1 Axes>"
      ]
     },
     "metadata": {
      "needs_background": "light"
     },
     "output_type": "display_data"
    }
   ],
   "source": [
    "#5\n",
    "\n",
    "f = nu_U235*sigma_f_U235 / (sigma_a_235 + ((1-y)/y)*sigma_a_238)\n",
    "\n",
    "percents = np.zeros(1000)\n",
    "etas = np.zeros(1000)\n",
    "\n",
    "for i in range(1001):\n",
    "    percents[i-1] = i/1000\n",
    "    etas[i-1] = f.subs(y,i/1000)\n",
    "    \n",
    "plt.plot(percents,etas)\n",
    "plt.xlabel('Percent Enrichment')\n",
    "plt.ylabel('Cross Section')"
   ]
  },
  {
   "cell_type": "raw",
   "id": "479ec3a8",
   "metadata": {},
   "source": [
    "6a) We can assume epsilon is roughly 1 as the only fission is thermal fission. P is also 1 because we are assuming all neutrons reach the thermal region."
   ]
  },
  {
   "cell_type": "code",
   "execution_count": 218,
   "id": "928d4114",
   "metadata": {},
   "outputs": [
    {
     "data": {
      "text/plain": [
       "1.043565880533122"
      ]
     },
     "execution_count": 218,
     "metadata": {},
     "output_type": "execute_result"
    }
   ],
   "source": [
    "#6b\n",
    "\n",
    "sigma_a_H2O = 664.4/1000 * (np.pi)**(1/2)/2\n",
    "\n",
    "N6_H2O = 1\n",
    "N6_U235 = 1e-3\n",
    "\n",
    "eta6b = nu_U235*sigma_f_U235*N6_U235 / (sigma_a_U235*N6_U235)\n",
    "f6b = sigma_a_U235*N6_U235 / (sigma_a_U235*N6_U235 + sigma_a_H2O)\n",
    "\n",
    "k = eta6b*f6b\n",
    "k"
   ]
  },
  {
   "cell_type": "code",
   "execution_count": 225,
   "id": "d7d79daf",
   "metadata": {},
   "outputs": [
    {
     "data": {
      "text/latex": [
       "$\\displaystyle 1.19447433189549$"
      ],
      "text/plain": [
       "1.19447433189549"
      ]
     },
     "execution_count": 225,
     "metadata": {},
     "output_type": "execute_result"
    }
   ],
   "source": [
    "#6c\n",
    "\n",
    "r = S('r')\n",
    "\n",
    "sigma_s_H2O = 44.8\n",
    "\n",
    "D = 1 / (3*sigma_s_H2O)\n",
    "Bsq = (np.pi/r)**2\n",
    "\n",
    "k = nu_U235*sigma_f_U235*N6_U235 / (D*Bsq + sigma_a_U235*N6_U235 + sigma_a_H2O)\n",
    "\n",
    "eq6c = Eq(k, 1)\n",
    "soln6c = solve(eq6c)\n",
    "soln6c[1]"
   ]
  },
  {
   "cell_type": "raw",
   "id": "93be22f0",
   "metadata": {},
   "source": [
    "7) The shape that has the smallest mass with a k>1 would have to the shape that maximizes surface area to volume to decrease leakage as much as possible. This shape is the sphere."
   ]
  },
  {
   "cell_type": "code",
   "execution_count": 182,
   "id": "31df064c",
   "metadata": {},
   "outputs": [
    {
     "data": {
      "text/latex": [
       "$\\displaystyle 0.0263306773624863$"
      ],
      "text/plain": [
       "0.0263306773624863"
      ]
     },
     "execution_count": 182,
     "metadata": {},
     "output_type": "execute_result"
    }
   ],
   "source": [
    "#8, 4 factor epsilon = 1 & p = 1 as U235 has no fast/res absorption\n",
    "\n",
    "ratio = S('ratio')\n",
    "\n",
    "sigma_a_C = 3.861/1000 * (np.pi)**(1/2)/2\n",
    "\n",
    "k = nu_U235*sigma_f_U235 / (sigma_a_U235 + sigma_a_C/ratio)\n",
    "eq8 = Eq(k, 2.08)\n",
    "\n",
    "#Found 2.08 from graph where it was the max\n",
    "\n",
    "soln8 = solve(eq8)\n",
    "soln8[0]"
   ]
  },
  {
   "cell_type": "code",
   "execution_count": 213,
   "id": "b213651b",
   "metadata": {},
   "outputs": [
    {
     "data": {
      "text/latex": [
       "$\\displaystyle 1.23348997786292$"
      ],
      "text/plain": [
       "1.23348997786292"
      ]
     },
     "execution_count": 213,
     "metadata": {},
     "output_type": "execute_result"
    }
   ],
   "source": [
    "#9\n",
    "\n",
    "N_C = 500\n",
    "N_U235 = .01\n",
    "N_U238 = .99\n",
    "\n",
    "a9 = 2.73\n",
    "c9 = .486\n",
    "zeta9 = .158\n",
    "\n",
    "eta9 = N_U235*nu_U235*sigma_f_U235 / (N_U235*sigma_a_U235 + N_U238*sigma_a_U238)\n",
    "k9 = (N_U235*sigma_a_U235 + N_U238*sigma_a_U238) / (N_U235*sigma_a_U235 + N_U238*sigma_a_U238 + N_C*sigma_a_C)\n",
    "p9 = exp(-a9/zeta9 * ((N_U238/N_C)/(4.8*10**24))**(1-c9))\n",
    "\n",
    "k = eta9*k9*p9\n",
    "k"
   ]
  }
 ],
 "metadata": {
  "kernelspec": {
   "display_name": "Python 3 (ipykernel)",
   "language": "python",
   "name": "python3"
  },
  "language_info": {
   "codemirror_mode": {
    "name": "ipython",
    "version": 3
   },
   "file_extension": ".py",
   "mimetype": "text/x-python",
   "name": "python",
   "nbconvert_exporter": "python",
   "pygments_lexer": "ipython3",
   "version": "3.9.12"
  }
 },
 "nbformat": 4,
 "nbformat_minor": 5
}
