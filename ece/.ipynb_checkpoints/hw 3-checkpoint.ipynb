{
 "cells": [
  {
   "cell_type": "code",
   "execution_count": 18,
   "id": "92d9f3de-f86c-4c44-b355-969f0896dd1a",
   "metadata": {},
   "outputs": [],
   "source": [
    "import numpy as np\n",
    "import numpy.linalg as la"
   ]
  },
  {
   "cell_type": "code",
   "execution_count": 16,
   "id": "78f8d5f3-e8e8-4cf0-aef6-f306ba8abb66",
   "metadata": {},
   "outputs": [
    {
     "name": "stdout",
     "output_type": "stream",
     "text": [
      "vc (t=0); 10.600000000000001\n",
      "ia (t=0-); 3.2\n",
      "ia (t=0+); 12.8\n",
      "tau [s]; 10\n"
     ]
    }
   ],
   "source": [
    "# 3\n",
    "\n",
    "v1, mu = 16, 5\n",
    "\n",
    "r1, r2, r3 = 2, 2, 3\n",
    "v2 = 1\n",
    "\n",
    "# t = 0-\n",
    "ia = v1 / (r1 + r3)\n",
    "vc = ia * r3 + v2\n",
    "\n",
    "print(\"vc (t=0);\", vc)\n",
    "print(\"ia (t=0-);\", ia)\n",
    "\n",
    "# t = 0+\n",
    "i1 = v1 / r1\n",
    "i2 = (vc - v2) / r2\n",
    "ia = i1 + i2\n",
    "print(\"ia (t=0+);\", ia)\n",
    "\n",
    "tau = r2 * mu\n",
    "print('tau [s];', tau)"
   ]
  },
  {
   "cell_type": "code",
   "execution_count": 44,
   "id": "a8b050ff-b157-45d7-8dd3-f1b08c9e2f2b",
   "metadata": {},
   "outputs": [
    {
     "name": "stdout",
     "output_type": "stream",
     "text": [
      "v0 [V]; 2\n",
      "v_infty [V]; 4.5\n",
      "tau [s]; 0.001 \n",
      "----------------\n",
      "k1; -2.5\n",
      "k2; 4.5\n"
     ]
    }
   ],
   "source": [
    "# 7\n",
    "\n",
    "vc = 2\n",
    "print(\"v0 [V];\", vc)\n",
    "\n",
    "v1, v2 = 2,8\n",
    "r1, r2, r3 = 4e3,4e3,2e3\n",
    "mu = 1e-6\n",
    "\n",
    "A = np.array([\n",
    "    [-r1-r2,r2],\n",
    "    [r2,-r3-r2]\n",
    "])\n",
    "B = np.array([-v1,-v2])\n",
    "\n",
    "i1,i2 = la.inv(A) @ B\n",
    "\n",
    "vinf = i2*r3\n",
    "print(\"v_infty [V];\", round(vinf,5))\n",
    "\n",
    "# tau\n",
    "req = (1/r1 + 1/r2 + 1/r3)**(-1)\n",
    "tau = req * mu\n",
    "print(\"tau [s];\", tau, '\\n----------------')\n",
    "\n",
    "# solving\n",
    "k2 = vinf\n",
    "k1 = vc - vinf\n",
    "print(\"k1;\", round(k1,5))\n",
    "print(\"k2;\", round(k2,5))"
   ]
  }
 ],
 "metadata": {
  "kernelspec": {
   "display_name": "Python 3 (ipykernel)",
   "language": "python",
   "name": "python3"
  },
  "language_info": {
   "codemirror_mode": {
    "name": "ipython",
    "version": 3
   },
   "file_extension": ".py",
   "mimetype": "text/x-python",
   "name": "python",
   "nbconvert_exporter": "python",
   "pygments_lexer": "ipython3",
   "version": "3.12.2"
  }
 },
 "nbformat": 4,
 "nbformat_minor": 5
}
