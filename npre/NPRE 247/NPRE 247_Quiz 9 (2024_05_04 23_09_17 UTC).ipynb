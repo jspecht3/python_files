{
 "cells": [
  {
   "cell_type": "code",
   "execution_count": 1,
   "id": "3c2e3477",
   "metadata": {},
   "outputs": [],
   "source": [
    "from sympy import *\n",
    "import numpy as np"
   ]
  },
  {
   "cell_type": "raw",
   "id": "20273605",
   "metadata": {},
   "source": [
    "1. Last week, the IAEA notified member states that 2.5 tonnes of uranium ore were missing from a site in Libya. Assuming this ore has natural abundances of U isotopes and is comprised of pure UO2, how much uranium oxide enriched to a mass to 95% 235U could this stockpile produce?"
   ]
  },
  {
   "cell_type": "code",
   "execution_count": 21,
   "id": "745dd253",
   "metadata": {},
   "outputs": [],
   "source": [
    "#Constants\n",
    "N_A = 6.02214179e23\n",
    "\n",
    "#Mass\n",
    "m_O = 15.9994\n",
    "\n",
    "m_U235 = 235.043930\n",
    "m_U238 = 238.050788\n",
    "m_U = 238.90765\n",
    "\n",
    "#Natural Atom Percents\n",
    "ap_U235 = .7204 / 100\n",
    "ap_U238 = 99.2724 / 100"
   ]
  },
  {
   "cell_type": "code",
   "execution_count": 24,
   "id": "6f2d311f",
   "metadata": {},
   "outputs": [
    {
     "name": "stdout",
     "output_type": "stream",
     "text": [
      "M fuel [kg] 18.69803450767444\n"
     ]
    }
   ],
   "source": [
    "#1\n",
    "mass = 2.5 * 1000 * 1000 #tonnes * kg/tonne * g/kg\n",
    "\n",
    "m_UO2 = m_U + (2 * m_O)\n",
    "\n",
    "mass_U = mass * (m_U / m_UO2)\n",
    "atoms_U = mass_U / m_U * N_A #g / g/mol * atoms/mol\n",
    "\n",
    "atoms_U235 = ap_U235 * atoms_U\n",
    "mol_U235 = atoms_U235 / N_A #atoms / atoms/mol\n",
    "\n",
    "mol_total = mol_U235 / .95\n",
    "mol_O = 2 * mol_total\n",
    "mol_U238 = .05 * mol_total\n",
    "\n",
    "mass_fuel = ((mol_U238 * m_U238) + (mol_U235 * m_U235)) + (mol_O * m_O) \n",
    "print('M fuel [kg]', mass_fuel / 1000)"
   ]
  }
 ],
 "metadata": {
  "kernelspec": {
   "display_name": "Python 3 (ipykernel)",
   "language": "python",
   "name": "python3"
  },
  "language_info": {
   "codemirror_mode": {
    "name": "ipython",
    "version": 3
   },
   "file_extension": ".py",
   "mimetype": "text/x-python",
   "name": "python",
   "nbconvert_exporter": "python",
   "pygments_lexer": "ipython3",
   "version": "3.9.12"
  }
 },
 "nbformat": 4,
 "nbformat_minor": 5
}
