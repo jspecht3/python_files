{
 "cells": [
  {
   "cell_type": "code",
   "execution_count": 3,
   "id": "595e3f24-7afe-4557-a7cd-4b28bab027cd",
   "metadata": {},
   "outputs": [],
   "source": [
    "import openmc"
   ]
  },
  {
   "cell_type": "markdown",
   "id": "9e70262b-9c0f-4387-97f2-141d6cd2f3de",
   "metadata": {},
   "source": [
    "## Modeling a Pincell"
   ]
  },
  {
   "cell_type": "code",
   "execution_count": null,
   "id": "26a61f6e-a486-47c8-bc0e-ec740118a441",
   "metadata": {},
   "outputs": [],
   "source": [
    "my_cell = openmc.Cell(name=\"box\")"
   ]
  },
  {
   "cell_type": "code",
   "execution_count": null,
   "id": "86b659de-96a2-4c1b-8be3-a493bcf305ec",
   "metadata": {},
   "outputs": [],
   "source": [
    "my_other_cell = openmc.Cell()\n",
    "my_other_cell.name = \"box2\""
   ]
  },
  {
   "cell_type": "code",
   "execution_count": null,
   "id": "39d8c15d-f7d7-469c-a606-d93e889397d3",
   "metadata": {},
   "outputs": [],
   "source": [
    "new_cell = openmc.Cell(name=\"box3\")\n",
    "new_cell.temperature = 500"
   ]
  },
  {
   "cell_type": "code",
   "execution_count": null,
   "id": "35ec9e27-f844-4ba1-aa41-719bff21b58c",
   "metadata": {},
   "outputs": [],
   "source": [
    "help(openmc.Cell)"
   ]
  },
  {
   "cell_type": "code",
   "execution_count": null,
   "id": "254c6cc6-3add-4d08-9140-7dd6044af470",
   "metadata": {},
   "outputs": [],
   "source": [
    "type(my_cell)"
   ]
  },
  {
   "cell_type": "code",
   "execution_count": null,
   "id": "c232664d-e8b1-4bf2-a7f5-943b6a6acc5d",
   "metadata": {},
   "outputs": [],
   "source": [
    "print(my_cell)"
   ]
  },
  {
   "cell_type": "markdown",
   "id": "e5d51813-7a46-4227-bf29-f975ead311c6",
   "metadata": {},
   "source": [
    "### OpenMC Model"
   ]
  },
  {
   "cell_type": "code",
   "execution_count": null,
   "id": "056bc346-234e-4911-9849-1aca06d1b870",
   "metadata": {},
   "outputs": [],
   "source": [
    "model = openmc.Model()"
   ]
  },
  {
   "cell_type": "code",
   "execution_count": null,
   "id": "6db61f63-80b2-470c-b5b5-c2dd10109920",
   "metadata": {},
   "outputs": [],
   "source": [
    "zirconium = openmc.Material(1, \"zirconium\")\n",
    "print(zirconium)"
   ]
  },
  {
   "cell_type": "code",
   "execution_count": null,
   "id": "4492bb80-0338-497b-a95d-260d1ab5f6ce",
   "metadata": {},
   "outputs": [],
   "source": [
    "mat = openmc.Material()\n",
    "print(mat)"
   ]
  },
  {
   "cell_type": "code",
   "execution_count": null,
   "id": "a2784381-ee24-4c1e-a5cb-b1352a8940a3",
   "metadata": {},
   "outputs": [],
   "source": [
    "zirconium.add_element('Zr', 1.0)\n",
    "zirconium.set_density('g/cm3', 6.5)"
   ]
  },
  {
   "cell_type": "code",
   "execution_count": null,
   "id": "177a21a1-2dd2-4e3f-81d3-2d5b37885a64",
   "metadata": {},
   "outputs": [],
   "source": [
    "print(zirconium)"
   ]
  },
  {
   "cell_type": "code",
   "execution_count": null,
   "id": "866fd133-4444-4897-9236-e1785b8b64dd",
   "metadata": {},
   "outputs": [],
   "source": [
    "# Add nuclides to uo2\n",
    "uo2 = openmc.Material(name=\"uo2\")\n",
    "uo2.add_element('U', 1.0, enrichment=3.5)\n",
    "uo2.add_nuclide('O16', 2.0)\n",
    "uo2.set_density('g/cm3', 10.0)"
   ]
  },
  {
   "cell_type": "code",
   "execution_count": null,
   "id": "4f18f154-8144-481f-b741-ee8f6c98955f",
   "metadata": {},
   "outputs": [],
   "source": [
    "water = openmc.Material(name=\"water\")\n",
    "water.add_element('H', 2.0)\n",
    "water.add_nuclide('O16', 1.0)\n",
    "water.set_density('g/cm3', 1.0)"
   ]
  },
  {
   "cell_type": "code",
   "execution_count": null,
   "id": "39b97438-4d16-4db0-9cba-5bc60581803b",
   "metadata": {},
   "outputs": [],
   "source": [
    "water.add_s_alpha_beta('c_H_in_H2O')"
   ]
  },
  {
   "cell_type": "code",
   "execution_count": null,
   "id": "bb27710b-79ae-46c2-9219-69cbe732f8f8",
   "metadata": {},
   "outputs": [],
   "source": [
    "!ls $OPENMC_CROSS_SECTIONS\n",
    "!ls /Users/anovak/projects/cross_sections/endfb-vii.1-hdf5/neutron"
   ]
  },
  {
   "cell_type": "code",
   "execution_count": null,
   "id": "662889b6-e78e-4ba7-a596-96564ef2889d",
   "metadata": {},
   "outputs": [],
   "source": [
    "model.materials = openmc.Materials([uo2, zirconium, water])\n",
    "print(model.materials)"
   ]
  },
  {
   "cell_type": "code",
   "execution_count": null,
   "id": "703e2644-0f6b-4bfb-85eb-2c74e930b787",
   "metadata": {},
   "outputs": [],
   "source": [
    "print(water)\n",
    "\n",
    "water.remove_nuclide('O16')\n",
    "\n",
    "print(water)\n",
    "\n",
    "water.add_element('O', 1.0)\n",
    "\n",
    "print(water)"
   ]
  },
  {
   "cell_type": "markdown",
   "id": "9b6b3312-29c9-4f72-a7d5-9694f844d818",
   "metadata": {
    "jp-MarkdownHeadingCollapsed": true
   },
   "source": [
    "### Python Lists"
   ]
  },
  {
   "cell_type": "code",
   "execution_count": null,
   "id": "4afaf3f5-09c8-47bb-8d5b-9212c4afcb1b",
   "metadata": {},
   "outputs": [],
   "source": [
    "print(isinstance(model.materials, list))"
   ]
  },
  {
   "cell_type": "code",
   "execution_count": null,
   "id": "43329d56-8646-4dbd-a0a2-07605b64f0c5",
   "metadata": {},
   "outputs": [],
   "source": [
    "new_fuel = openmc.Material(name=\"new_fuel\")\n",
    "new_fuel.add_nuclide('Pu239', 1.0)\n",
    "new_fuel.add_nuclide('Si28', 2.0)\n",
    "new_fuel.set_density('g/cm3', 9.0)"
   ]
  },
  {
   "cell_type": "code",
   "execution_count": null,
   "id": "e0f25d20-6b93-4b3c-b68f-3df63c0dec2a",
   "metadata": {},
   "outputs": [],
   "source": [
    "model.materials.append(new_fuel)\n",
    "print(model.materials)"
   ]
  },
  {
   "cell_type": "markdown",
   "id": "f1364757-674d-4e81-9353-75c56b9d4396",
   "metadata": {
    "jp-MarkdownHeadingCollapsed": true
   },
   "source": [
    "### Defining Geometry"
   ]
  },
  {
   "cell_type": "code",
   "execution_count": null,
   "id": "ceec6379-c68a-42ed-82cc-e432cd0a1108",
   "metadata": {},
   "outputs": [],
   "source": [
    "sphere = openmc.Sphere(r=1.0)"
   ]
  },
  {
   "cell_type": "code",
   "execution_count": null,
   "id": "4ef09c6c-2a4b-4675-bb6b-7392c7d50be1",
   "metadata": {},
   "outputs": [],
   "source": [
    "inside_sphere = -sphere\n",
    "outside_sphere = +sphere\n",
    "type(inside_sphere)"
   ]
  },
  {
   "cell_type": "code",
   "execution_count": null,
   "id": "822fd2e6-718f-462a-8006-159c86c58478",
   "metadata": {},
   "outputs": [],
   "source": [
    "print((0,0,0) in inside_sphere, (0,0,2) in inside_sphere)\n",
    "print((0,0,0) in outside_sphere, (0,0,2) in outside_sphere)"
   ]
  },
  {
   "cell_type": "code",
   "execution_count": null,
   "id": "16f25a9b-7f4a-498a-be80-fe55ba1593d9",
   "metadata": {},
   "outputs": [],
   "source": [
    "z_plane = openmc.ZPlane(0)\n",
    "northern_hemisphere = -sphere & +z_plane"
   ]
  },
  {
   "cell_type": "code",
   "execution_count": null,
   "id": "d2b6a3c4-53f6-4c6a-972b-61cc2815efe9",
   "metadata": {},
   "outputs": [],
   "source": [
    "cell = openmc.Cell()\n",
    "cell.region = northern_hemisphere\n",
    "\n",
    "# or...\n",
    "cell = openmc.Cell(region=northern_hemisphere)\n",
    "\n",
    "cell.fill = water"
   ]
  },
  {
   "cell_type": "markdown",
   "id": "a8de6c11-ce49-444a-9729-dab9eb31f88f",
   "metadata": {
    "jp-MarkdownHeadingCollapsed": true
   },
   "source": [
    "### Universes and in-line plotting"
   ]
  },
  {
   "cell_type": "code",
   "execution_count": null,
   "id": "8ce1e155-05ba-4fe0-b988-01e1d92d42b6",
   "metadata": {},
   "outputs": [],
   "source": [
    "universe = openmc.Universe()\n",
    "universe.add_cell(cell)\n",
    "\n",
    "# this also works\n",
    "universe = openmc.Universe(cells=[cell])"
   ]
  },
  {
   "cell_type": "code",
   "execution_count": null,
   "id": "9372c650-07e8-4e74-b813-d33dcbd5c6a8",
   "metadata": {},
   "outputs": [],
   "source": [
    "universe.plot(width=(2.0, 2.0))"
   ]
  },
  {
   "cell_type": "code",
   "execution_count": null,
   "id": "82bedf80-3ddd-4e5b-b756-2131d744ac0e",
   "metadata": {},
   "outputs": [],
   "source": [
    "universe.plot(width=(2.0, 2.0), basis='xz')"
   ]
  },
  {
   "cell_type": "code",
   "execution_count": null,
   "id": "b76fe681-e83d-4735-b33a-6c8969169218",
   "metadata": {},
   "outputs": [],
   "source": [
    "universe.plot(width=(2.0, 2.0), basis='xz',\n",
    "              colors={cell: 'fuchsia'})"
   ]
  },
  {
   "cell_type": "markdown",
   "id": "0b6012fc-f2b7-47e4-ac61-1bbcf91a5d8f",
   "metadata": {},
   "source": [
    "### Boundary Conditions"
   ]
  },
  {
   "cell_type": "code",
   "execution_count": null,
   "id": "6616573a-70fd-4a84-b77d-5425529a257a",
   "metadata": {},
   "outputs": [],
   "source": [
    "sphere.boundary_type = 'vacuum'"
   ]
  },
  {
   "cell_type": "code",
   "execution_count": null,
   "id": "af7e2bb7-92ec-43bd-92a4-d5678c34c657",
   "metadata": {},
   "outputs": [],
   "source": [
    "fuel_outer_radius = openmc.ZCylinder(r=0.46955)\n",
    "clad_inner_radius = openmc.ZCylinder(r=0.47910)\n",
    "clad_outer_radius = openmc.ZCylinder(r=0.54640)"
   ]
  },
  {
   "cell_type": "code",
   "execution_count": null,
   "id": "55d9a2f8-8137-465a-bd0d-09cd5b743790",
   "metadata": {},
   "outputs": [],
   "source": [
    "fuel_region = -fuel_outer_radius\n",
    "gap_region = +fuel_outer_radius & -clad_inner_radius\n",
    "clad_region = +clad_inner_radius & -clad_outer_radius"
   ]
  },
  {
   "cell_type": "code",
   "execution_count": null,
   "id": "41a33f36-2061-4e6d-b4e3-9f20d0f00add",
   "metadata": {},
   "outputs": [],
   "source": [
    "top = openmc.ZPlane(z0=150.0, boundary_type='vacuum')\n",
    "bot = openmc.ZPlane(z0=-150.0, boundary_type='vacuum')\n",
    "layer = +bot & -top"
   ]
  },
  {
   "cell_type": "code",
   "execution_count": null,
   "id": "ebdaf6df-80b4-44f7-87a9-dada2483662c",
   "metadata": {},
   "outputs": [],
   "source": [
    "fuel = openmc.Cell()\n",
    "fuel.fill = uo2\n",
    "fuel.region = fuel_region & layer\n",
    "\n",
    "gap = openmc.Cell()\n",
    "gap.region = gap_region & layer\n",
    "\n",
    "clad = openmc.Cell()\n",
    "clad.fill = zirconium\n",
    "clad.region = clad_region & layer"
   ]
  },
  {
   "cell_type": "code",
   "execution_count": null,
   "id": "b29ddb16-9d51-44b3-8f77-05a5d018e06a",
   "metadata": {},
   "outputs": [],
   "source": [
    "pitch = 1.44270\n",
    "left = openmc.XPlane(-pitch/2, boundary_type='reflective')\n",
    "right = openmc.XPlane(pitch/2, boundary_type='reflective')\n",
    "front = openmc.YPlane(-pitch/2, boundary_type='reflective')\n",
    "back = openmc.YPlane(pitch/2, boundary_type='reflective')"
   ]
  },
  {
   "cell_type": "code",
   "execution_count": null,
   "id": "adc382bc-167b-4f98-b8bf-2efba08a63ac",
   "metadata": {},
   "outputs": [],
   "source": [
    "water_region = +left & -right & +front & -back & +clad_outer_radius & layer\n",
    "\n",
    "moderator = openmc.Cell()\n",
    "moderator.fill = water\n",
    "moderator.region = water_region"
   ]
  },
  {
   "cell_type": "code",
   "execution_count": null,
   "id": "a6695ca9-37cf-4216-bc3c-a0a396c55b98",
   "metadata": {},
   "outputs": [],
   "source": [
    "root_universe = openmc.Universe(cells=(fuel, gap, clad, moderator))\n",
    "model.geometry = openmc.Geometry(root_universe)"
   ]
  },
  {
   "cell_type": "code",
   "execution_count": null,
   "id": "d530833a-6d6a-49f3-ab2f-c74b51c2d764",
   "metadata": {},
   "outputs": [],
   "source": [
    "root_universe.plot((0, 0, 0), width=(pitch, pitch), pixels=100000)"
   ]
  },
  {
   "cell_type": "markdown",
   "id": "a25c36e3-ec96-47fe-9020-4b75f20082fa",
   "metadata": {},
   "source": [
    "### Starting source and settings"
   ]
  },
  {
   "cell_type": "code",
   "execution_count": null,
   "id": "eae2cd6a-a6fe-4ebe-90e0-ab7dc7f1949c",
   "metadata": {},
   "outputs": [],
   "source": [
    "# Create a point source\n",
    "point = openmc.stats.Point((0, 0, 0))\n",
    "source = openmc.IndependentSource(space=point)"
   ]
  },
  {
   "cell_type": "code",
   "execution_count": null,
   "id": "d931c5ac-ac7a-42bc-b207-19d5ba38699b",
   "metadata": {},
   "outputs": [],
   "source": [
    "model.settings.source = source\n",
    "model.settings.batches = 100\n",
    "model.settings.inactive = 10\n",
    "model.settings.particles = 1000"
   ]
  },
  {
   "cell_type": "code",
   "execution_count": null,
   "id": "a46015c3-cf8e-4ba6-82e5-a0e75023a620",
   "metadata": {},
   "outputs": [],
   "source": [
    "statepoint = model.run()"
   ]
  },
  {
   "cell_type": "code",
   "execution_count": null,
   "id": "b8a348da-115b-4b2b-a063-0335cc1d6a06",
   "metadata": {},
   "outputs": [],
   "source": [
    "plot = openmc.Plot()\n",
    "plot.filename = 'pinplot'\n",
    "plot.width = (pitch, pitch)\n",
    "plot.pixels = (200, 200)\n",
    "plot.color_by = 'material'\n",
    "plot.colors = {uo2: 'yellow', water: 'blue'}"
   ]
  },
  {
   "cell_type": "code",
   "execution_count": null,
   "id": "31736546-fd7a-4839-9174-967358b5cf73",
   "metadata": {},
   "outputs": [],
   "source": [
    "model.plots = openmc.Plots([plot])"
   ]
  },
  {
   "cell_type": "code",
   "execution_count": null,
   "id": "1a757b2e-9be1-4f0a-9d87-83da1ad289e1",
   "metadata": {},
   "outputs": [],
   "source": [
    "model.plot_geometry()"
   ]
  },
  {
   "cell_type": "code",
   "execution_count": null,
   "id": "1e2f5948-2615-409f-bf8c-920d7aa3d6d0",
   "metadata": {},
   "outputs": [],
   "source": [
    "!ls\n",
    "\n",
    "from IPython.display import Image\n",
    "Image(\"pinplot.png\")"
   ]
  },
  {
   "cell_type": "markdown",
   "id": "d6350693-6be5-4b75-9592-7dbc4dc773c9",
   "metadata": {},
   "source": [
    "## Universes"
   ]
  },
  {
   "cell_type": "code",
   "execution_count": 5,
   "id": "0b2a8976-7f2c-46a5-ad09-a772d5ad9337",
   "metadata": {},
   "outputs": [],
   "source": [
    "model = openmc.Model()"
   ]
  },
  {
   "cell_type": "code",
   "execution_count": 7,
   "id": "9ede37b0-4217-4b42-991d-63436f21dd08",
   "metadata": {},
   "outputs": [],
   "source": [
    "uf6 = openmc.Material()\n",
    "uf6.add_element('U', 1.0)\n",
    "uf6.add_element('F', 6.0)\n",
    "uf6.set_density('g/cm3', 10)\n",
    "\n",
    "h2o = openmc.Material()\n",
    "h2o.add_nuclide('H1', 2.0)\n",
    "h2o.add_nuclide('O16', 1.0)\n",
    "h2o.set_density('g/cm3', 1)\n",
    "\n",
    "l = openmc.XPlane(x0=-1)\n",
    "r = openmc.XPlane(x0=1)\n",
    "b = openmc.YPlane(y0=-1)\n",
    "t = openmc.YPlane(y0=1)\n",
    "\n",
    "inside_pin = +l & -r & +b & -t\n",
    "pin_cell = openmc.Cell(region=inside_pin, fill=uf6)\n",
    "\n",
    "#~ is not in boolean\n",
    "outside_cell = openmc.Cell(region=~inside_pin, fill=h2o)\n",
    "\n",
    "universe = openmc.Universe()\n",
    "universe.add_cells([pin_cell, outside_cell])"
   ]
  },
  {
   "cell_type": "code",
   "execution_count": 13,
   "id": "038d451e-33dd-4b0a-867f-8a4950afeb44",
   "metadata": {},
   "outputs": [
    {
     "data": {
      "text/plain": [
       "<Axes: xlabel='x [cm]', ylabel='y [cm]'>"
      ]
     },
     "execution_count": 13,
     "metadata": {},
     "output_type": "execute_result"
    },
    {
     "data": {
      "image/png": "[encoded data removed]",
      "text/plain": [
       "<Figure size 258.065x259.74 with 1 Axes>"
      ]
     },
     "metadata": {},
     "output_type": "display_data"
    }
   ],
   "source": [
    "universe.plot(width=(3,3))"
   ]
  },
  {
   "cell_type": "code",
   "execution_count": 15,
   "id": "6b2b5d28-d139-4e89-bdf5-a265c920a60f",
   "metadata": {},
   "outputs": [],
   "source": [
    "big_cylinder = openmc.Cylinder(x0=0, y0=0, r=5)\n",
    "big_cell = openmc.Cell()\n",
    "big_cell.region = -big_cylinder\n",
    "big_cell.fill = universe"
   ]
  },
  {
   "cell_type": "code",
   "execution_count": 16,
   "id": "7cc43d27-028a-423e-b7b0-58bc09e66a8f",
   "metadata": {},
   "outputs": [
    {
     "data": {
      "text/plain": [
       "<Axes: xlabel='x [cm]', ylabel='y [cm]'>"
      ]
     },
     "execution_count": 16,
     "metadata": {},
     "output_type": "execute_result"
    },
    {
     "data": {
      "image/png": "[encoded data removed]",
      "text/plain": [
       "<Figure size 258.065x259.74 with 1 Axes>"
      ]
     },
     "metadata": {},
     "output_type": "display_data"
    }
   ],
   "source": [
    "big_universe = openmc.Universe(cells=[big_cell])\n",
    "big_universe.plot()"
   ]
  },
  {
   "cell_type": "code",
   "execution_count": 17,
   "id": "3c2b070c-4bd4-4912-9204-9cce394034d4",
   "metadata": {},
   "outputs": [],
   "source": [
    "l.x0 -= 1\n",
    "r.x0 -= 1\n",
    "b.y0 -= 1\n",
    "t.y0 -= 1"
   ]
  },
  {
   "cell_type": "code",
   "execution_count": 18,
   "id": "82c496e6-e774-41c8-8694-700884e6d082",
   "metadata": {},
   "outputs": [
    {
     "data": {
      "text/plain": [
       "<Axes: xlabel='x [cm]', ylabel='y [cm]'>"
      ]
     },
     "execution_count": 18,
     "metadata": {},
     "output_type": "execute_result"
    },
    {
     "data": {
      "image/png": "[encoded data removed]",
      "text/plain": [
       "<Figure size 258.065x259.74 with 1 Axes>"
      ]
     },
     "metadata": {},
     "output_type": "display_data"
    }
   ],
   "source": [
    "big_universe.plot()"
   ]
  },
  {
   "cell_type": "code",
   "execution_count": 24,
   "id": "42264e12-dd94-45b0-835a-a5bc868718a8",
   "metadata": {},
   "outputs": [
    {
     "data": {
      "text/plain": [
       "<Axes: xlabel='x [cm]', ylabel='y [cm]'>"
      ]
     },
     "execution_count": 24,
     "metadata": {},
     "output_type": "execute_result"
    },
    {
     "data": {
      "image/png": "[encoded data removed]",
      "text/plain": [
       "<Figure size 258.065x259.74 with 1 Axes>"
      ]
     },
     "metadata": {},
     "output_type": "display_data"
    }
   ],
   "source": [
    "big_cell.translation = [-1, 0, 0]\n",
    "big_universe.plot()"
   ]
  },
  {
   "cell_type": "code",
   "execution_count": 25,
   "id": "92392825-6af3-45c2-95ee-35095aa30b8d",
   "metadata": {},
   "outputs": [
    {
     "data": {
      "text/plain": [
       "<Axes: xlabel='x [cm]', ylabel='y [cm]'>"
      ]
     },
     "execution_count": 25,
     "metadata": {},
     "output_type": "execute_result"
    },
    {
     "data": {
      "image/png": "[encoded data removed]",
      "text/plain": [
       "<Figure size 258.065x259.74 with 1 Axes>"
      ]
     },
     "metadata": {},
     "output_type": "display_data"
    }
   ],
   "source": [
    "big_cell.rotation = [0, 0, -45]\n",
    "big_universe.plot()"
   ]
  },
  {
   "cell_type": "markdown",
   "id": "71db4541-8eef-4595-a861-14a2ffe60a45",
   "metadata": {},
   "source": [
    "## Lattices"
   ]
  },
  {
   "cell_type": "code",
   "execution_count": 27,
   "id": "3ae90290-5d7b-4ded-83a3-6e05378e3630",
   "metadata": {},
   "outputs": [],
   "source": [
    "zirconium = openmc.Material(1, \"zirconium\")\n",
    "zirconium.add_element('Zr', 1.0)\n",
    "zirconium.set_density('g/cm3', 6.5)\n",
    "\n",
    "uo2 = openmc.Material(name=\"uo2\")\n",
    "uo2.add_element('U', 1.0, enrichment=3.5)\n",
    "uo2.add_nuclide('O16', 2.0)\n",
    "uo2.set_density('g/cm3', 10.0)\n",
    "\n",
    "water = openmc.Material(name=\"water\")\n",
    "water.add_element('H', 2.0)\n",
    "water.add_nuclide('O16', 1.0)\n",
    "water.set_density('g/cm3', 1.0)\n",
    "water.add_s_alpha_beta('c_H_in_H2O')"
   ]
  },
  {
   "cell_type": "code",
   "execution_count": 30,
   "id": "d5de6bb2-dd5f-4b59-b2bc-e11444754c89",
   "metadata": {},
   "outputs": [],
   "source": [
    "pitch = 1.26\n",
    "fuel_or = openmc.ZCylinder(r=0.39)\n",
    "clad_ir = openmc.ZCylinder(r=0.40)\n",
    "clad_or = openmc.ZCylinder(r=0.46)\n",
    "\n",
    "fuel = openmc.Cell(region=-fuel_or, fill=uo2)\n",
    "gap = openmc.Cell(region=+fuel_or & -clad_ir)\n",
    "clad = openmc.Cell(region=+clad_ir & -clad_or, fill=zirconium)\n",
    "moderator = openmc.Cell(region=+clad_or, fill=water)\n",
    "\n",
    "fuel_pin = openmc.Universe(cells=[fuel,gap,clad,moderator])"
   ]
  },
  {
   "cell_type": "code",
   "execution_count": 32,
   "id": "1588cff3-ede7-417f-aa5e-f1dfe127c7aa",
   "metadata": {},
   "outputs": [
    {
     "data": {
      "text/plain": [
       "<Axes: xlabel='x [cm]', ylabel='y [cm]'>"
      ]
     },
     "execution_count": 32,
     "metadata": {},
     "output_type": "execute_result"
    },
    {
     "data": {
      "image/png": "[encoded data removed]",
      "text/plain": [
       "<Figure size 258.065x259.74 with 1 Axes>"
      ]
     },
     "metadata": {},
     "output_type": "display_data"
    }
   ],
   "source": [
    "fuel_pin.plot(width=(5*pitch, 5*pitch))"
   ]
  },
  {
   "cell_type": "code",
   "execution_count": 33,
   "id": "a55a4e8e-58bb-4564-9a27-35983e0bfc54",
   "metadata": {},
   "outputs": [],
   "source": [
    "guide_tube = openmc.Universe(cells=[openmc.Cell(fill=water)])"
   ]
  },
  {
   "cell_type": "code",
   "execution_count": 34,
   "id": "89b02e6a-6ea9-42f0-8904-71e6ef284f3f",
   "metadata": {},
   "outputs": [],
   "source": [
    "pyrex = openmc.Material(name='pyrex')\n",
    "pyrex.add_element('B', 0.49)\n",
    "pyrex.add_element('O', 4.7)\n",
    "pyrex.add_element('Al', 0.17)\n",
    "pyrex.add_element('Si', 1.8)\n",
    "pyrex.set_density('g/cm3', 2.26)"
   ]
  },
  {
   "cell_type": "code",
   "execution_count": 36,
   "id": "ad31674e-ec1c-4cec-819d-09b0ae2e5d4d",
   "metadata": {},
   "outputs": [],
   "source": [
    "radii = [0.21,0.23,0.24,0.43,0.44,0.48,0.56,0.60]\n",
    "cyls = [openmc.ZCylinder(r=r0) for r0 in radii]"
   ]
  },
  {
   "cell_type": "code",
   "execution_count": 38,
   "id": "6c79e167-7ee2-4bcd-a66a-83013e08e68b",
   "metadata": {},
   "outputs": [],
   "source": [
    "mats = [None, zirconium, None, pyrex, None, zirconium, water, zirconium, water]\n",
    "burn = openmc.model.pin(cyls,mats)"
   ]
  },
  {
   "cell_type": "code",
   "execution_count": 39,
   "id": "f6929e01-756c-4ac5-a07d-c4df104196ff",
   "metadata": {},
   "outputs": [
    {
     "data": {
      "text/plain": [
       "<Axes: xlabel='x [cm]', ylabel='y [cm]'>"
      ]
     },
     "execution_count": 39,
     "metadata": {},
     "output_type": "execute_result"
    },
    {
     "data": {
      "image/png": "[encoded data removed]",
      "text/plain": [
       "<Figure size 258.065x259.74 with 1 Axes>"
      ]
     },
     "metadata": {},
     "output_type": "display_data"
    }
   ],
   "source": [
    "burn.plot(width=(pitch,pitch))"
   ]
  },
  {
   "cell_type": "markdown",
   "id": "9fb8ccaf-e545-4c47-893e-74fbedb581a7",
   "metadata": {},
   "source": [
    "### Real Lattice "
   ]
  },
  {
   "cell_type": "code",
   "execution_count": 40,
   "id": "ee124da2-08a8-476d-9adf-04a7449ce4ee",
   "metadata": {},
   "outputs": [],
   "source": [
    "lattice = openmc.RectLattice()\n",
    "\n",
    "lattice.lower_left = (0,0)\n",
    "lattice.pitch = (pitch,pitch)\n",
    "\n",
    "lattice.universes = [\n",
    "    [burn,guide_tube],\n",
    "    [guide_tube,fuel_pin]\n",
    "]"
   ]
  },
  {
   "cell_type": "code",
   "execution_count": 42,
   "id": "d44722da-f7be-4b0c-8e1b-f6a7095634a8",
   "metadata": {},
   "outputs": [
    {
     "data": {
      "text/plain": [
       "<Axes: xlabel='x [cm]', ylabel='y [cm]'>"
      ]
     },
     "execution_count": 42,
     "metadata": {},
     "output_type": "execute_result"
    },
    {
     "data": {
      "image/png": "[encoded data removed]",
      "text/plain": [
       "<Figure size 258.065x259.74 with 1 Axes>"
      ]
     },
     "metadata": {},
     "output_type": "display_data"
    }
   ],
   "source": [
    "example = openmc.Universe(cells=[openmc.Cell(fill=lattice)])\n",
    "example.plot(width=(2*pitch,2*pitch), origin=(pitch,pitch,0), color_by='material')"
   ]
  },
  {
   "cell_type": "code",
   "execution_count": 44,
   "id": "83fda6ef-2871-4a61-a792-d29a572c13bf",
   "metadata": {},
   "outputs": [
    {
     "data": {
      "text/plain": [
       "<Axes: xlabel='x [cm]', ylabel='y [cm]'>"
      ]
     },
     "execution_count": 44,
     "metadata": {},
     "output_type": "execute_result"
    },
    {
     "data": {
      "image/png": "[encoded data removed]",
      "text/plain": [
       "<Figure size 258.065x259.74 with 1 Axes>"
      ]
     },
     "metadata": {},
     "output_type": "display_data"
    }
   ],
   "source": [
    "lattice.universes = [[burn] * 2] * 2\n",
    "example = openmc.Universe(cells=[openmc.Cell(fill=lattice)])\n",
    "example.plot(width=(2*pitch,2*pitch), origin=(pitch,pitch,0), color_by='material')"
   ]
  },
  {
   "cell_type": "code",
   "execution_count": 48,
   "id": "42cdfad4-cf76-4e3f-b228-b8feab877b04",
   "metadata": {},
   "outputs": [
    {
     "data": {
      "text/plain": [
       "<Axes: xlabel='x [cm]', ylabel='y [cm]'>"
      ]
     },
     "execution_count": 48,
     "metadata": {},
     "output_type": "execute_result"
    },
    {
     "data": {
      "image/png": "[encoded data removed]",
      "text/plain": [
       "<Figure size 258.065x259.74 with 1 Axes>"
      ]
     },
     "metadata": {},
     "output_type": "display_data"
    }
   ],
   "source": [
    "lattice.universes[0,1] = fuel_pin\n",
    "example = openmc.Universe(cells=[openmc.Cell(fill=lattice)])\n",
    "example.plot(width=(2*pitch,2*pitch), origin=(pitch,pitch,0), color_by='material')"
   ]
  },
  {
   "cell_type": "code",
   "execution_count": 51,
   "id": "f7d7ecdb-1073-4621-9546-ca79d6a324a0",
   "metadata": {},
   "outputs": [
    {
     "data": {
      "text/plain": [
       "<Axes: xlabel='x [cm]', ylabel='y [cm]'>"
      ]
     },
     "execution_count": 51,
     "metadata": {},
     "output_type": "execute_result"
    },
    {
     "data": {
      "image/png": "[encoded data removed]",
      "text/plain": [
       "<Figure size 258.065x259.74 with 1 Axes>"
      ]
     },
     "metadata": {},
     "output_type": "display_data"
    }
   ],
   "source": [
    "lattice.outer = fuel_pin\n",
    "example = openmc.Universe(cells=[openmc.Cell(fill=lattice)])\n",
    "example.plot(width=(5*pitch,5*pitch), origin=(pitch,pitch,0), color_by='material')"
   ]
  },
  {
   "cell_type": "code",
   "execution_count": 59,
   "id": "4a0fff8b-d593-499d-8619-552ddcbbcd31",
   "metadata": {},
   "outputs": [
    {
     "name": "stdout",
     "output_type": "stream",
     "text": [
      "                        (0, 0)\n",
      "                  (0,23)      (0, 1)\n",
      "            (0,22)      (1, 0)      (0, 2)\n",
      "      (0,21)      (1,17)      (1, 1)      (0, 3)\n",
      "(0,20)      (1,16)      (2, 0)      (1, 2)      (0, 4)\n",
      "      (1,15)      (2,11)      (2, 1)      (1, 3)\n",
      "(0,19)      (2,10)      (3, 0)      (2, 2)      (0, 5)\n",
      "      (1,14)      (3, 5)      (3, 1)      (1, 4)\n",
      "(0,18)      (2, 9)      (4, 0)      (2, 3)      (0, 6)\n",
      "      (1,13)      (3, 4)      (3, 2)      (1, 5)\n",
      "(0,17)      (2, 8)      (3, 3)      (2, 4)      (0, 7)\n",
      "      (1,12)      (2, 7)      (2, 5)      (1, 6)\n",
      "(0,16)      (1,11)      (2, 6)      (1, 7)      (0, 8)\n",
      "      (0,15)      (1,10)      (1, 8)      (0, 9)\n",
      "            (0,14)      (1, 9)      (0,10)\n",
      "                  (0,13)      (0,11)\n",
      "                        (0,12)\n"
     ]
    }
   ],
   "source": [
    "hex_lat = openmc.HexLattice()\n",
    "\n",
    "print(hex_lat.show_indices(num_rings=5))"
   ]
  },
  {
   "cell_type": "code",
   "execution_count": 67,
   "id": "33067264-8e7b-4d14-9096-6b802deb52e7",
   "metadata": {},
   "outputs": [
    {
     "data": {
      "text/plain": [
       "<Axes: xlabel='x [cm]', ylabel='y [cm]'>"
      ]
     },
     "execution_count": 67,
     "metadata": {},
     "output_type": "execute_result"
    },
    {
     "data": {
      "image/png": "[encoded data removed]",
      "text/plain": [
       "<Figure size 1290.32x1298.7 with 1 Axes>"
      ]
     },
     "metadata": {},
     "output_type": "display_data"
    }
   ],
   "source": [
    "hex_lat.center = (0,0)\n",
    "hex_lat.pitch = [pitch]\n",
    "hex_lat.outer = fuel_pin #guide_tube\n",
    "\n",
    "hex_lat.universes = [\n",
    "    [burn]*24, [burn]*18, [burn]*12, [burn]*6, [burn]*1\n",
    "]\n",
    "\n",
    "hex_lat.universes[2][2] = guide_tube\n",
    "\n",
    "hex_lat.orientation = 'x'\n",
    "\n",
    "outer_surf = openmc.ZCylinder(r=50)\n",
    "cell = openmc.Cell(region=-outer_surf, fill=hex_lat)\n",
    "uni = openmc.Universe(cells=[cell])\n",
    "uni.plot(width=(12,12), pixels= [1000,1000])"
   ]
  }
 ],
 "metadata": {
  "kernelspec": {
   "display_name": "Python 3 (ipykernel)",
   "language": "python",
   "name": "python3"
  },
  "language_info": {
   "codemirror_mode": {
    "name": "ipython",
    "version": 3
   },
   "file_extension": ".py",
   "mimetype": "text/x-python",
   "name": "python",
   "nbconvert_exporter": "python",
   "pygments_lexer": "ipython3",
   "version": "3.12.2"
  }
 },
 "nbformat": 4,
 "nbformat_minor": 5
}
