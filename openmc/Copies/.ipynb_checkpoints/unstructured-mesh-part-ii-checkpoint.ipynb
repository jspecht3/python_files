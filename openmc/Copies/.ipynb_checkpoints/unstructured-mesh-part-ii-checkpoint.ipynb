{
 "cells": [
  {
   "cell_type": "markdown",
   "metadata": {},
   "source": [
    "# Unstructured Mesh: Tallies with CAD and Point Cloud Visualization\n",
    "\n",
    "In the first notebook on this topic, we looked at how to set up a tally using an unstructured mesh in OpenMC.\n",
    "In this notebook, we will explore using unstructured mesh in conjunction with CAD-based geometry to perform detailed geometry analysis on complex geomerty.\n",
    "\n",
    "_**NOTE: This notebook will not run successfully if OpenMC has not been built with DAGMC support enabled.**_"
   ]
  },
  {
   "cell_type": "code",
   "execution_count": 1,
   "metadata": {},
   "outputs": [],
   "source": [
    "import os\n",
    "from IPython.display import Image\n",
    "import openmc\n",
    "import openmc.lib\n",
    "\n",
    "assert(openmc.lib._dagmc_enabled())"
   ]
  },
  {
   "cell_type": "markdown",
   "metadata": {},
   "source": [
    "We'll need to download our DAGMC geometry and unstructured mesh files. We'll be retrieving those using the function and URLs below."
   ]
  },
  {
   "cell_type": "code",
   "execution_count": 2,
   "metadata": {},
   "outputs": [],
   "source": [
    "from IPython.display import display, clear_output\n",
    "import urllib.request\n",
    "\n",
    "manifold_geom_url = 'https://tinyurl.com/rp7grox' # 99 MB\n",
    "manifold_mesh_url = 'https://tinyurl.com/wojemuh' # 5.4 MB\n",
    "\n",
    "\n",
    "def download(url, filename):\n",
    "    \"\"\"\n",
    "    Helper function for retrieving dagmc models\n",
    "    \"\"\"\n",
    "    \n",
    "    class ProgHook:\n",
    "        last_msg = ''\n",
    "        \n",
    "        @classmethod\n",
    "        def hook(cls, count, block_size, total_size):\n",
    "            prog_percent = 100 * count * block_size / total_size\n",
    "            prog_percent = min(100., prog_percent)\n",
    "            msg = 'Downloading {}: {:.1f}%'.format(filename, prog_percent)\n",
    "            if cls.last_msg != msg:\n",
    "                clear_output(wait=True)\n",
    "                display(msg)\n",
    "            cls.last_msg = msg   \n",
    "   \n",
    "    urllib.request.urlretrieve(url, filename, ProgHook.hook)\n",
    "\n"
   ]
  },
  {
   "cell_type": "markdown",
   "metadata": {},
   "source": [
    "The model we'll be looking at in this example is a steel piping manifold:"
   ]
  },
  {
   "cell_type": "code",
   "execution_count": null,
   "metadata": {},
   "outputs": [],
   "source": [
    "#Image(\"./images/manifold-cad.png\", width=800)"
   ]
  },
  {
   "cell_type": "markdown",
   "metadata": {},
   "source": [
    "This is a nice example of a model which would be extremely difficult to model using CSG. To get started, we'll need two files: \n",
    "  1. the DAGMC gometry file on which we'll track particles and \n",
    "  2. a tetrahedral mesh of the piping structure on which we'll score tallies\n",
    "  \n",
    "To start, let's create the materials we'll need for this problem. The pipes are steel and we'll model the surrounding area as air."
   ]
  },
  {
   "cell_type": "code",
   "execution_count": 4,
   "metadata": {},
   "outputs": [],
   "source": [
    "air = openmc.Material(name='air')\n",
    "air.set_density('g/cc', 0.001205)\n",
    "air.add_element('N', 0.784431)\n",
    "air.add_element('O', 0.210748)\n",
    "air.add_element('Ar',0.0046)\n",
    "\n",
    "steel = openmc.Material(name='steel')\n",
    "steel.set_density('g/cc', 8.0)\n",
    "steel.add_element('Si', 0.010048)\n",
    "steel.add_element('S', 0.00023)\n",
    "steel.add_element('Fe', 0.669)\n",
    "steel.add_element('Ni', 0.12)\n",
    "steel.add_element('Mo', 0.025)\n",
    "steel.add_nuclide('P31',0.00023)\n",
    "steel.add_nuclide('Mn55',0.011014)\n",
    "\n",
    "materials = openmc.Materials([air, steel])\n",
    "materials.export_to_xml()"
   ]
  },
  {
   "cell_type": "markdown",
   "metadata": {},
   "source": [
    "Now let's download the geometry and mesh files.\n",
    "(This may take some time.)"
   ]
  },
  {
   "cell_type": "code",
   "execution_count": 5,
   "metadata": {},
   "outputs": [
    {
     "data": {
      "text/plain": [
       "'Downloading manifold.h5m: 100.0%'"
      ]
     },
     "metadata": {},
     "output_type": "display_data"
    }
   ],
   "source": [
    "# get the manifold DAGMC geometry file\n",
    "download(manifold_geom_url, 'dagmc.h5m') \n",
    "# get the manifold tet mesh\n",
    "download(manifold_mesh_url, 'manifold.h5m')"
   ]
  },
  {
   "cell_type": "markdown",
   "metadata": {},
   "source": [
    "Next we'll create a 5 MeV neutron point source at the entrance the single pipe on the low side of the model with "
   ]
  },
  {
   "cell_type": "code",
   "execution_count": null,
   "metadata": {},
   "outputs": [],
   "source": [
    "src_pnt = openmc.stats.Point(xyz=(0.0, 0.0, 0.0))\n",
    "src_energy = openmc.stats.Discrete(x=[5.e+06], p=[1.0])\n",
    "\n",
    "source = openmc.IndependentSource(space=src_pnt, energy=src_energy)\n",
    "\n",
    "settings = openmc.Settings()\n",
    "settings.source = source\n",
    "\n",
    "settings.run_mode = \"fixed source\"\n",
    "settings.batches = 10\n",
    "settings.particles = 100\n",
    "settings.export_to_xml()"
   ]
  },
  {
   "cell_type": "markdown",
   "metadata": {},
   "source": [
    "Next we'll apply the DAGMC model as the root universe of the geometry."
   ]
  },
  {
   "cell_type": "code",
   "execution_count": 7,
   "metadata": {},
   "outputs": [],
   "source": [
    "dagmc_univ = openmc.DAGMCUniverse(filename='dagmc.h5m')\n",
    "geometry = openmc.Geometry(root=dagmc_univ)\n",
    "geometry.export_to_xml()"
   ]
  },
  {
   "cell_type": "markdown",
   "metadata": {},
   "source": [
    "We'll run a few particles through this geometry to make sure everything is working properly."
   ]
  },
  {
   "cell_type": "code",
   "execution_count": 8,
   "metadata": {},
   "outputs": [
    {
     "name": "stdout",
     "output_type": "stream",
     "text": [
      "[v5:123580] mca_base_component_repository_open: unable to open mca_btl_openib: librdmacm.so.1: cannot open shared object file: No such file or directory (ignored)\n",
      "                                %%%%%%%%%%%%%%%\n",
      "                           %%%%%%%%%%%%%%%%%%%%%%%%\n",
      "                        %%%%%%%%%%%%%%%%%%%%%%%%%%%%%%\n",
      "                      %%%%%%%%%%%%%%%%%%%%%%%%%%%%%%%%%%\n",
      "                    %%%%%%%%%%%%%%%%%%%%%%%%%%%%%%%%%%%%%%\n",
      "                   %%%%%%%%%%%%%%%%%%%%%%%%%%%%%%%%%%%%%%%%\n",
      "                                    %%%%%%%%%%%%%%%%%%%%%%%%\n",
      "                                     %%%%%%%%%%%%%%%%%%%%%%%%\n",
      "                 ###############      %%%%%%%%%%%%%%%%%%%%%%%%\n",
      "                ##################     %%%%%%%%%%%%%%%%%%%%%%%\n",
      "                ###################     %%%%%%%%%%%%%%%%%%%%%%%\n",
      "                ####################     %%%%%%%%%%%%%%%%%%%%%%\n",
      "                #####################     %%%%%%%%%%%%%%%%%%%%%\n",
      "                ######################     %%%%%%%%%%%%%%%%%%%%\n",
      "                #######################     %%%%%%%%%%%%%%%%%%\n",
      "                 #######################     %%%%%%%%%%%%%%%%%\n",
      "                 ######################     %%%%%%%%%%%%%%%%%\n",
      "                  ####################     %%%%%%%%%%%%%%%%%\n",
      "                    #################     %%%%%%%%%%%%%%%%%\n",
      "                     ###############     %%%%%%%%%%%%%%%%\n",
      "                       ############     %%%%%%%%%%%%%%%\n",
      "                          ########     %%%%%%%%%%%%%%\n",
      "                                      %%%%%%%%%%%\n",
      "\n",
      "                 | The OpenMC Monte Carlo Code\n",
      "       Copyright | 2011-2023 MIT, UChicago Argonne LLC, and contributors\n",
      "         License | https://docs.openmc.org/en/latest/license.html\n",
      "         Version | 0.14.0\n",
      "        Git SHA1 | e1a8ee7794b441c992426f17fafe216391cbba83\n",
      "       Date/Time | 2024-05-17 22:27:28\n",
      "   MPI Processes | 1\n",
      "  OpenMP Threads | 8\n",
      "\n",
      " Reading model XML file './model.xml' ...\n",
      " WARNING: Other XML file input(s) are present. These files may be ignored in\n",
      "          favor of the ./model.xml file.\n",
      " Reading cross sections XML file...\n",
      " Reading U234 from /home/joe/projects/endfb71_hdf5/neutron/U234.h5\n",
      " Reading U235 from /home/joe/projects/endfb71_hdf5/neutron/U235.h5\n",
      " Reading U238 from /home/joe/projects/endfb71_hdf5/neutron/U238.h5\n",
      " Reading O16 from /home/joe/projects/endfb71_hdf5/neutron/O16.h5\n",
      " Reading Zr90 from /home/joe/projects/endfb71_hdf5/neutron/Zr90.h5\n",
      " Reading Zr91 from /home/joe/projects/endfb71_hdf5/neutron/Zr91.h5\n",
      " Reading Zr92 from /home/joe/projects/endfb71_hdf5/neutron/Zr92.h5\n",
      " Reading Zr94 from /home/joe/projects/endfb71_hdf5/neutron/Zr94.h5\n",
      " Reading Zr96 from /home/joe/projects/endfb71_hdf5/neutron/Zr96.h5\n",
      " Reading H1 from /home/joe/projects/endfb71_hdf5/neutron/H1.h5\n",
      " Reading B10 from /home/joe/projects/endfb71_hdf5/neutron/B10.h5\n",
      " Reading B11 from /home/joe/projects/endfb71_hdf5/neutron/B11.h5\n",
      " Reading c_H_in_H2O from /home/joe/projects/endfb71_hdf5/neutron/c_H_in_H2O.h5\n",
      " Minimum neutron data temperature: 294 K\n",
      " Maximum neutron data temperature: 294 K\n",
      " Preparing distributed cell instances...\n",
      " Writing summary.h5 file...\n",
      " Maximum neutron transport energy: 20000000 eV for U235\n",
      " Initializing source particles...\n",
      "\n",
      " ====================>     K EIGENVALUE SIMULATION     <====================\n",
      "\n",
      "  Bat./Gen.      k            Average k\n",
      "  =========   ========   ====================\n",
      "        1/1    0.22817\n",
      "        2/1    0.23146\n",
      "        3/1    0.22442\n",
      "        4/1    0.22827\n",
      "        5/1    0.22304\n",
      "        6/1    0.22817\n",
      "        7/1    0.23838\n",
      "        8/1    0.23301\n",
      "        9/1    0.22562\n",
      "       10/1    0.24100\n",
      "       11/1    0.23246\n",
      "       12/1    0.23139\n",
      "       13/1    0.23488\n",
      "       14/1    0.23175\n",
      "       15/1    0.24542\n",
      "       16/1    0.23648\n",
      "       17/1    0.23695\n",
      "       18/1    0.23796\n",
      "       19/1    0.23848\n",
      "       20/1    0.23418\n",
      "       21/1    0.23832\n",
      "       22/1    0.22288    0.23060 +/- 0.00772\n",
      "       23/1    0.24349    0.23489 +/- 0.00619\n",
      "       24/1    0.23251    0.23430 +/- 0.00442\n",
      "       25/1    0.23193    0.23382 +/- 0.00346\n",
      "       26/1    0.23230    0.23357 +/- 0.00283\n",
      "       27/1    0.24121    0.23466 +/- 0.00263\n",
      "       28/1    0.22869    0.23392 +/- 0.00240\n",
      "       29/1    0.23725    0.23429 +/- 0.00215\n",
      "       30/1    0.23426    0.23428 +/- 0.00192\n",
      "       31/1    0.24373    0.23514 +/- 0.00194\n",
      "       32/1    0.22745    0.23450 +/- 0.00188\n",
      "       33/1    0.24141    0.23503 +/- 0.00181\n",
      "       34/1    0.23520    0.23505 +/- 0.00168\n",
      "       35/1    0.24734    0.23586 +/- 0.00176\n",
      "       36/1    0.23572    0.23586 +/- 0.00165\n",
      "       37/1    0.23541    0.23583 +/- 0.00155\n",
      "       38/1    0.23487    0.23578 +/- 0.00146\n",
      "       39/1    0.23240    0.23560 +/- 0.00139\n",
      "       40/1    0.23988    0.23581 +/- 0.00134\n",
      "       41/1    0.22676    0.23538 +/- 0.00134\n",
      "       42/1    0.22008    0.23469 +/- 0.00146\n",
      "       43/1    0.23926    0.23489 +/- 0.00141\n",
      "       44/1    0.21938    0.23424 +/- 0.00149\n",
      "       45/1    0.23030    0.23408 +/- 0.00144\n",
      "       46/1    0.23703    0.23420 +/- 0.00139\n",
      "       47/1    0.22257    0.23376 +/- 0.00141\n",
      "       48/1    0.22784    0.23355 +/- 0.00137\n",
      "       49/1    0.23163    0.23349 +/- 0.00132\n",
      "       50/1    0.22546    0.23322 +/- 0.00131\n",
      "       51/1    0.21916    0.23277 +/- 0.00134\n",
      "       52/1    0.22505    0.23252 +/- 0.00132\n",
      "       53/1    0.23735    0.23267 +/- 0.00129\n",
      "       54/1    0.22870    0.23255 +/- 0.00126\n",
      "       55/1    0.24583    0.23293 +/- 0.00128\n",
      "       56/1    0.22540    0.23272 +/- 0.00126\n",
      "       57/1    0.22422    0.23249 +/- 0.00125\n",
      "       58/1    0.23396    0.23253 +/- 0.00121\n",
      "       59/1    0.23478    0.23259 +/- 0.00118\n",
      "       60/1    0.22797    0.23247 +/- 0.00116\n",
      "       61/1    0.22435    0.23228 +/- 0.00115\n",
      "       62/1    0.22331    0.23206 +/- 0.00114\n",
      "       63/1    0.23184    0.23206 +/- 0.00111\n",
      "       64/1    0.23534    0.23213 +/- 0.00109\n",
      "       65/1    0.23149    0.23212 +/- 0.00107\n",
      "       66/1    0.23141    0.23210 +/- 0.00104\n",
      "       67/1    0.21818    0.23181 +/- 0.00106\n",
      "       68/1    0.22522    0.23167 +/- 0.00105\n",
      "       69/1    0.23269    0.23169 +/- 0.00103\n",
      "       70/1    0.22534    0.23156 +/- 0.00102\n",
      "       71/1    0.22936    0.23152 +/- 0.00100\n",
      "       72/1    0.23537    0.23159 +/- 0.00098\n",
      "       73/1    0.23264    0.23161 +/- 0.00096\n",
      "       74/1    0.22154    0.23143 +/- 0.00096\n",
      "       75/1    0.23301    0.23146 +/- 0.00094\n",
      "       76/1    0.23048    0.23144 +/- 0.00093\n",
      "       77/1    0.22746    0.23137 +/- 0.00091\n",
      "       78/1    0.23206    0.23138 +/- 0.00090\n",
      "       79/1    0.23689    0.23147 +/- 0.00089\n",
      "       80/1    0.22762    0.23141 +/- 0.00087\n",
      "       81/1    0.23022    0.23139 +/- 0.00086\n",
      "       82/1    0.23481    0.23145 +/- 0.00085\n",
      "       83/1    0.23497    0.23150 +/- 0.00084\n",
      "       84/1    0.22511    0.23140 +/- 0.00083\n",
      "       85/1    0.23000    0.23138 +/- 0.00082\n",
      "       86/1    0.23481    0.23143 +/- 0.00081\n",
      "       87/1    0.23127    0.23143 +/- 0.00079\n",
      "       88/1    0.22552    0.23134 +/- 0.00079\n",
      "       89/1    0.23571    0.23141 +/- 0.00078\n",
      "       90/1    0.22146    0.23126 +/- 0.00078\n",
      "       91/1    0.23848    0.23137 +/- 0.00078\n",
      "       92/1    0.23370    0.23140 +/- 0.00077\n",
      "       93/1    0.22693    0.23134 +/- 0.00076\n",
      "       94/1    0.22572    0.23126 +/- 0.00075\n",
      "       95/1    0.23608    0.23133 +/- 0.00074\n",
      "       96/1    0.23876    0.23142 +/- 0.00074\n",
      "       97/1    0.22773    0.23138 +/- 0.00073\n",
      "       98/1    0.24132    0.23150 +/- 0.00073\n",
      "       99/1    0.23078    0.23149 +/- 0.00072\n",
      "      100/1    0.23166    0.23150 +/- 0.00072\n",
      " Creating state point statepoint.100.h5...\n",
      " WARNING: Output for a MOAB mesh (mesh 1) was requested but will not be written.\n",
      "          Please use the Python API to generated the desired VTK tetrahedral\n",
      "          mesh.\n",
      "\n",
      " =======================>     TIMING STATISTICS     <=======================\n",
      "\n",
      " Total time for initialization     = 2.0054e+02 seconds\n",
      "   Reading cross sections          = 8.6433e-01 seconds\n",
      " Total time in simulation          = 4.4819e+01 seconds\n",
      "   Time in transport only          = 4.3966e+01 seconds\n",
      "   Time in inactive batches        = 2.2409e+00 seconds\n",
      "   Time in active batches          = 4.2578e+01 seconds\n",
      "   Time synchronizing fission bank = 8.8321e-02 seconds\n",
      "     Sampling source sites         = 8.0581e-02 seconds\n",
      "     SEND/RECV source sites        = 7.3595e-03 seconds\n",
      "   Time accumulating tallies       = 5.2213e-01 seconds\n",
      "   Time writing statepoints        = 1.7956e-01 seconds\n",
      " Total time for finalization       = 5.3611e-01 seconds\n",
      " Total time elapsed                = 2.4593e+02 seconds\n",
      " Calculation Rate (inactive)       = 89250.5 particles/second\n",
      " Calculation Rate (active)         = 18789 particles/second\n",
      "\n",
      " ============================>     RESULTS     <============================\n",
      "\n",
      " k-effective (Collision)     = 0.23202 +/- 0.00068\n",
      " k-effective (Track-length)  = 0.23150 +/- 0.00072\n",
      " k-effective (Absorption)    = 0.23139 +/- 0.00081\n",
      " Combined k-effective        = 0.23162 +/- 0.00064\n",
      " Leakage Fraction            = 0.79435 +/- 0.00047\n",
      "\n"
     ]
    }
   ],
   "source": [
    "openmc.run()"
   ]
  },
  {
   "cell_type": "markdown",
   "metadata": {},
   "source": [
    "Now let's setup the unstructured mesh tally. We'll do this the same way we did in the [previous notebook](./unstructured-mesh-part-i.ipynb)."
   ]
  },
  {
   "cell_type": "code",
   "execution_count": 9,
   "metadata": {},
   "outputs": [],
   "source": [
    "unstructured_mesh = openmc.UnstructuredMesh(\"manifold.h5m\", library='moab')\n",
    "unstructured_mesh.output = False\n",
    "\n",
    "mesh_filter = openmc.MeshFilter(unstructured_mesh)\n",
    "\n",
    "tally = openmc.Tally()\n",
    "tally.filters = [mesh_filter]\n",
    "tally.scores = ['flux']\n",
    "tally.estimator = 'tracklength'\n",
    "\n",
    "tallies = openmc.Tallies([tally])\n",
    "tallies.export_to_xml()"
   ]
  },
  {
   "cell_type": "code",
   "execution_count": 10,
   "metadata": {},
   "outputs": [],
   "source": [
    "settings.batches = 200\n",
    "settings.particles = 5000\n",
    "settings.export_to_xml()"
   ]
  },
  {
   "cell_type": "code",
   "execution_count": 11,
   "metadata": {},
   "outputs": [],
   "source": [
    "openmc.run(output=False)"
   ]
  },
  {
   "cell_type": "markdown",
   "metadata": {},
   "source": [
    "For the purpose of this example, we haven't run enough particles to score in all of the tet elements, but we indeed see larger flux values near the source location at the bottom of the model."
   ]
  },
  {
   "cell_type": "markdown",
   "metadata": {},
   "source": [
    "## Visualization with statepoint data\n",
    "\n",
    "It was mentioned in the previous unstructured mesh example that the centroids and volumes of elements are written to the state point file. Here, we'll explore how to use that information to produce point cloud information for visualization of this data.\n",
    "\n",
    "This is particularly important when combining an unstructured mesh tally with other filters as a `.vtk` file will not automatically be written with the statepoint file in that scenario. To demonstrate this, let's setup a tally similar to the one above, but add an energy filter and re-run the model."
   ]
  },
  {
   "cell_type": "code",
   "execution_count": 12,
   "metadata": {},
   "outputs": [
    {
     "name": "stdout",
     "output_type": "stream",
     "text": [
      "Tally\n",
      "\tID             =\t1\n",
      "\tName           =\t\n",
      "\tFilters        =\tMeshFilter, EnergyFilter\n",
      "\tNuclides       =\t\n",
      "\tScores         =\t['flux']\n",
      "\tEstimator      =\ttracklength\n",
      "\tMultiply dens. =\tTrue\n",
      "EnergyFilter\n",
      "\tValues         =\t[      0. 1000000. 5000000.]\n",
      "\tID             =\t2\n",
      "\n"
     ]
    }
   ],
   "source": [
    "# energy filter with bins from 0 to 1 MeV and 1 MeV to 5 MeV\n",
    "energy_filter = openmc.EnergyFilter((0.0, 1.e+06, 5.e+06))\n",
    "\n",
    "tally.filters = [mesh_filter, energy_filter]\n",
    "print(tally)\n",
    "print(energy_filter)\n",
    "tallies.export_to_xml()"
   ]
  },
  {
   "cell_type": "code",
   "execution_count": 13,
   "metadata": {},
   "outputs": [
    {
     "name": "stdout",
     "output_type": "stream",
     "text": [
      "<?xml version='1.0' encoding='UTF-8'?>\n",
      "<tallies>\n",
      "  <mesh id=\"1\" library=\"moab\" type=\"unstructured\">\n",
      "    <filename>manifold.h5m</filename>\n",
      "  </mesh>\n",
      "  <filter id=\"1\" type=\"mesh\">\n",
      "    <bins>1</bins>\n",
      "  </filter>\n",
      "  <filter id=\"2\" type=\"energy\">\n",
      "    <bins>0.0 1000000.0 5000000.0</bins>\n",
      "  </filter>\n",
      "  <tally id=\"1\">\n",
      "    <filters>1 2</filters>\n",
      "    <scores>flux</scores>\n",
      "    <estimator>tracklength</estimator>\n",
      "  </tally>\n",
      "</tallies>\n"
     ]
    }
   ],
   "source": [
    "!cat tallies.xml"
   ]
  },
  {
   "cell_type": "code",
   "execution_count": 14,
   "metadata": {},
   "outputs": [],
   "source": [
    "openmc.run(output=False)"
   ]
  },
  {
   "cell_type": "markdown",
   "metadata": {},
   "source": [
    "Noice the warning at the end of the output above indicating that the .vtk file we used before isn't written in this case.\n",
    "\n",
    "Let's open up this statepoint file and get the information we need to create the point cloud data instead.\n",
    "\n",
    "_**NOTE: You will need the Python vtk module installed to run this part of the notebook.**_"
   ]
  },
  {
   "cell_type": "code",
   "execution_count": 15,
   "metadata": {},
   "outputs": [
    {
     "ename": "FileNotFoundError",
     "evalue": "[Errno 2] Unable to synchronously open file (unable to open file: name = 'statepoint.200.h5', errno = 2, error message = 'No such file or directory', flags = 0, o_flags = 0)",
     "output_type": "error",
     "traceback": [
      "\u001b[0;31m---------------------------------------------------------------------------\u001b[0m",
      "\u001b[0;31mFileNotFoundError\u001b[0m                         Traceback (most recent call last)",
      "Cell \u001b[0;32mIn[15], line 1\u001b[0m\n\u001b[0;32m----> 1\u001b[0m \u001b[38;5;28;01mwith\u001b[39;00m \u001b[43mopenmc\u001b[49m\u001b[38;5;241;43m.\u001b[39;49m\u001b[43mStatePoint\u001b[49m\u001b[43m(\u001b[49m\u001b[38;5;124;43m\"\u001b[39;49m\u001b[38;5;124;43mstatepoint.200.h5\u001b[39;49m\u001b[38;5;124;43m\"\u001b[39;49m\u001b[43m)\u001b[49m \u001b[38;5;28;01mas\u001b[39;00m sp:\n\u001b[1;32m      2\u001b[0m     tally \u001b[38;5;241m=\u001b[39m sp\u001b[38;5;241m.\u001b[39mtallies[\u001b[38;5;241m1\u001b[39m]\n\u001b[1;32m      4\u001b[0m     umesh \u001b[38;5;241m=\u001b[39m sp\u001b[38;5;241m.\u001b[39mmeshes[\u001b[38;5;241m1\u001b[39m]\n",
      "File \u001b[0;32m~/miniconda3/envs/openmc-env/lib/python3.12/site-packages/openmc/statepoint.py:127\u001b[0m, in \u001b[0;36mStatePoint.__init__\u001b[0;34m(self, filepath, autolink)\u001b[0m\n\u001b[1;32m    125\u001b[0m \u001b[38;5;28;01mdef\u001b[39;00m \u001b[38;5;21m__init__\u001b[39m(\u001b[38;5;28mself\u001b[39m, filepath, autolink\u001b[38;5;241m=\u001b[39m\u001b[38;5;28;01mTrue\u001b[39;00m):\n\u001b[1;32m    126\u001b[0m     filename \u001b[38;5;241m=\u001b[39m \u001b[38;5;28mstr\u001b[39m(filepath)  \u001b[38;5;66;03m# in case it's a Path\u001b[39;00m\n\u001b[0;32m--> 127\u001b[0m     \u001b[38;5;28mself\u001b[39m\u001b[38;5;241m.\u001b[39m_f \u001b[38;5;241m=\u001b[39m \u001b[43mh5py\u001b[49m\u001b[38;5;241;43m.\u001b[39;49m\u001b[43mFile\u001b[49m\u001b[43m(\u001b[49m\u001b[43mfilename\u001b[49m\u001b[43m,\u001b[49m\u001b[43m \u001b[49m\u001b[38;5;124;43m'\u001b[39;49m\u001b[38;5;124;43mr\u001b[39;49m\u001b[38;5;124;43m'\u001b[39;49m\u001b[43m)\u001b[49m\n\u001b[1;32m    128\u001b[0m     \u001b[38;5;28mself\u001b[39m\u001b[38;5;241m.\u001b[39m_meshes \u001b[38;5;241m=\u001b[39m {}\n\u001b[1;32m    129\u001b[0m     \u001b[38;5;28mself\u001b[39m\u001b[38;5;241m.\u001b[39m_filters \u001b[38;5;241m=\u001b[39m {}\n",
      "File \u001b[0;32m~/miniconda3/envs/openmc-env/lib/python3.12/site-packages/h5py/_hl/files.py:562\u001b[0m, in \u001b[0;36mFile.__init__\u001b[0;34m(self, name, mode, driver, libver, userblock_size, swmr, rdcc_nslots, rdcc_nbytes, rdcc_w0, track_order, fs_strategy, fs_persist, fs_threshold, fs_page_size, page_buf_size, min_meta_keep, min_raw_keep, locking, alignment_threshold, alignment_interval, meta_block_size, **kwds)\u001b[0m\n\u001b[1;32m    553\u001b[0m     fapl \u001b[38;5;241m=\u001b[39m make_fapl(driver, libver, rdcc_nslots, rdcc_nbytes, rdcc_w0,\n\u001b[1;32m    554\u001b[0m                      locking, page_buf_size, min_meta_keep, min_raw_keep,\n\u001b[1;32m    555\u001b[0m                      alignment_threshold\u001b[38;5;241m=\u001b[39malignment_threshold,\n\u001b[1;32m    556\u001b[0m                      alignment_interval\u001b[38;5;241m=\u001b[39malignment_interval,\n\u001b[1;32m    557\u001b[0m                      meta_block_size\u001b[38;5;241m=\u001b[39mmeta_block_size,\n\u001b[1;32m    558\u001b[0m                      \u001b[38;5;241m*\u001b[39m\u001b[38;5;241m*\u001b[39mkwds)\n\u001b[1;32m    559\u001b[0m     fcpl \u001b[38;5;241m=\u001b[39m make_fcpl(track_order\u001b[38;5;241m=\u001b[39mtrack_order, fs_strategy\u001b[38;5;241m=\u001b[39mfs_strategy,\n\u001b[1;32m    560\u001b[0m                      fs_persist\u001b[38;5;241m=\u001b[39mfs_persist, fs_threshold\u001b[38;5;241m=\u001b[39mfs_threshold,\n\u001b[1;32m    561\u001b[0m                      fs_page_size\u001b[38;5;241m=\u001b[39mfs_page_size)\n\u001b[0;32m--> 562\u001b[0m     fid \u001b[38;5;241m=\u001b[39m \u001b[43mmake_fid\u001b[49m\u001b[43m(\u001b[49m\u001b[43mname\u001b[49m\u001b[43m,\u001b[49m\u001b[43m \u001b[49m\u001b[43mmode\u001b[49m\u001b[43m,\u001b[49m\u001b[43m \u001b[49m\u001b[43muserblock_size\u001b[49m\u001b[43m,\u001b[49m\u001b[43m \u001b[49m\u001b[43mfapl\u001b[49m\u001b[43m,\u001b[49m\u001b[43m \u001b[49m\u001b[43mfcpl\u001b[49m\u001b[43m,\u001b[49m\u001b[43m \u001b[49m\u001b[43mswmr\u001b[49m\u001b[38;5;241;43m=\u001b[39;49m\u001b[43mswmr\u001b[49m\u001b[43m)\u001b[49m\n\u001b[1;32m    564\u001b[0m \u001b[38;5;28;01mif\u001b[39;00m \u001b[38;5;28misinstance\u001b[39m(libver, \u001b[38;5;28mtuple\u001b[39m):\n\u001b[1;32m    565\u001b[0m     \u001b[38;5;28mself\u001b[39m\u001b[38;5;241m.\u001b[39m_libver \u001b[38;5;241m=\u001b[39m libver\n",
      "File \u001b[0;32m~/miniconda3/envs/openmc-env/lib/python3.12/site-packages/h5py/_hl/files.py:235\u001b[0m, in \u001b[0;36mmake_fid\u001b[0;34m(name, mode, userblock_size, fapl, fcpl, swmr)\u001b[0m\n\u001b[1;32m    233\u001b[0m     \u001b[38;5;28;01mif\u001b[39;00m swmr \u001b[38;5;129;01mand\u001b[39;00m swmr_support:\n\u001b[1;32m    234\u001b[0m         flags \u001b[38;5;241m|\u001b[39m\u001b[38;5;241m=\u001b[39m h5f\u001b[38;5;241m.\u001b[39mACC_SWMR_READ\n\u001b[0;32m--> 235\u001b[0m     fid \u001b[38;5;241m=\u001b[39m \u001b[43mh5f\u001b[49m\u001b[38;5;241;43m.\u001b[39;49m\u001b[43mopen\u001b[49m\u001b[43m(\u001b[49m\u001b[43mname\u001b[49m\u001b[43m,\u001b[49m\u001b[43m \u001b[49m\u001b[43mflags\u001b[49m\u001b[43m,\u001b[49m\u001b[43m \u001b[49m\u001b[43mfapl\u001b[49m\u001b[38;5;241;43m=\u001b[39;49m\u001b[43mfapl\u001b[49m\u001b[43m)\u001b[49m\n\u001b[1;32m    236\u001b[0m \u001b[38;5;28;01melif\u001b[39;00m mode \u001b[38;5;241m==\u001b[39m \u001b[38;5;124m'\u001b[39m\u001b[38;5;124mr+\u001b[39m\u001b[38;5;124m'\u001b[39m:\n\u001b[1;32m    237\u001b[0m     fid \u001b[38;5;241m=\u001b[39m h5f\u001b[38;5;241m.\u001b[39mopen(name, h5f\u001b[38;5;241m.\u001b[39mACC_RDWR, fapl\u001b[38;5;241m=\u001b[39mfapl)\n",
      "File \u001b[0;32mh5py/_objects.pyx:54\u001b[0m, in \u001b[0;36mh5py._objects.with_phil.wrapper\u001b[0;34m()\u001b[0m\n",
      "File \u001b[0;32mh5py/_objects.pyx:55\u001b[0m, in \u001b[0;36mh5py._objects.with_phil.wrapper\u001b[0;34m()\u001b[0m\n",
      "File \u001b[0;32mh5py/h5f.pyx:102\u001b[0m, in \u001b[0;36mh5py.h5f.open\u001b[0;34m()\u001b[0m\n",
      "\u001b[0;31mFileNotFoundError\u001b[0m: [Errno 2] Unable to synchronously open file (unable to open file: name = 'statepoint.200.h5', errno = 2, error message = 'No such file or directory', flags = 0, o_flags = 0)"
     ]
    }
   ],
   "source": [
    "with openmc.StatePoint(\"statepoint.200.h5\") as sp:\n",
    "    tally = sp.tallies[1]\n",
    "    \n",
    "    umesh = sp.meshes[1]\n",
    "    centroids = umesh.centroids\n",
    "    mesh_vols = umesh.volumes\n",
    "    \n",
    "    thermal_flux = tally.get_values(scores=['flux'], \n",
    "                                    filters=[openmc.EnergyFilter],\n",
    "                                    filter_bins=[((0.0, 1.e+06),)])\n",
    "    fast_flux = tally.get_values(scores=['flux'],\n",
    "                                 filters=[openmc.EnergyFilter],\n",
    "                                 filter_bins=[((1.e+06, 5.e+06),)])"
   ]
  },
  {
   "cell_type": "code",
   "execution_count": null,
   "metadata": {},
   "outputs": [],
   "source": [
    "# reshape the flux data to match that of the mesh dimensions\n",
    "# unstructured mesh dimensions are always (n_elements,)\n",
    "mesh_shape = (umesh.n_elements,)\n",
    "thermal_flux = thermal_flux.reshape(mesh_shape)\n",
    "fast_flux = fast_flux.reshape(mesh_shape)"
   ]
  },
  {
   "cell_type": "code",
   "execution_count": null,
   "metadata": {},
   "outputs": [],
   "source": [
    "data_dict = {'Flux 0 - 1 MeV' : thermal_flux,\n",
    "             'Flux 1 - 5 MeV' : fast_flux,\n",
    "             'Total Flux' : thermal_flux + fast_flux}\n",
    "\n",
    "umesh.write_data_to_vtk(\"manifold.vtk\", data_dict)"
   ]
  },
  {
   "cell_type": "markdown",
   "metadata": {},
   "source": [
    "We should now see our new flux file in the directory. It can be used to visualize the results in the same way as our other `.vtk` files."
   ]
  },
  {
   "cell_type": "code",
   "execution_count": null,
   "metadata": {},
   "outputs": [],
   "source": [
    "!ls *.vtk"
   ]
  },
  {
   "cell_type": "code",
   "execution_count": null,
   "metadata": {},
   "outputs": [],
   "source": [
    "Image(\"./images/manifold_flux.png\", width=\"800\")"
   ]
  }
 ],
 "metadata": {
  "kernelspec": {
   "display_name": "Python 3 (ipykernel)",
   "language": "python",
   "name": "python3"
  },
  "language_info": {
   "codemirror_mode": {
    "name": "ipython",
    "version": 3
   },
   "file_extension": ".py",
   "mimetype": "text/x-python",
   "name": "python",
   "nbconvert_exporter": "python",
   "pygments_lexer": "ipython3",
   "version": "3.12.3"
  }
 },
 "nbformat": 4,
 "nbformat_minor": 4
}
