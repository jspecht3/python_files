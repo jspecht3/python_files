{
 "cells": [
  {
   "cell_type": "code",
   "execution_count": 20,
   "id": "6afdac0d",
   "metadata": {},
   "outputs": [
    {
     "data": {
      "text/plain": [
       "2.1329046866944932e-18"
      ]
     },
     "execution_count": 20,
     "metadata": {},
     "output_type": "execute_result"
    }
   ],
   "source": [
    "#Question 2\n",
    "e = 5.4857990906516e-4\n",
    "p = 1.00727646662153\n",
    "H1 = 1.007825032239\n",
    "\n",
    "pe = e + p\n",
    "dif = pe - H1\n",
    "\n",
    "int = dif * 1.660540e-27 #convert to kg from amu\n",
    "fin = int * (299792458**2) #convert to joules"
   ]
  },
  {
   "cell_type": "code",
   "execution_count": 31,
   "id": "b2eb5642",
   "metadata": {},
   "outputs": [
    {
     "name": "stdout",
     "output_type": "stream",
     "text": [
      "902.2409950073477\n"
     ]
    }
   ],
   "source": [
    "#Question 4\n",
    "d = 2.014101778\n",
    "a = 4.002603254\n",
    "be = 8.005305102\n",
    "\n",
    "mult = 1.608390666050e-27 * (299792458**2) * 6.241509074e18 * 10**-6\n",
    "\n",
    "da = a - (2 * d)\n",
    "#print(da * mult)\n",
    "\n",
    "db = be - (2 * a)\n",
    "print(mult)"
   ]
  },
  {
   "cell_type": "code",
   "execution_count": 38,
   "id": "7c11812d",
   "metadata": {},
   "outputs": [
    {
     "name": "stdout",
     "output_type": "stream",
     "text": [
      "-179.84094935293993\n",
      "1465.0153979528259\n"
     ]
    }
   ],
   "source": [
    "#Question 5\n",
    "u = 235.04390131\n",
    "n = 1.008664913951\n",
    "pd = 116.917954721\n",
    "he = 5.035311489\n",
    "\n",
    "mult = 1.608390666050e-27 * (299792458**2) * 6.241509074e18 * 10**-6\n",
    "\n",
    "d1 = 2 * pd + n - u\n",
    "print(d1 * mult)\n",
    "\n",
    "d2 = (46 * he) + 5 * n - u\n",
    "print(d2 * mult)"
   ]
  }
 ],
 "metadata": {
  "kernelspec": {
   "display_name": "Python 3 (ipykernel)",
   "language": "python",
   "name": "python3"
  },
  "language_info": {
   "codemirror_mode": {
    "name": "ipython",
    "version": 3
   },
   "file_extension": ".py",
   "mimetype": "text/x-python",
   "name": "python",
   "nbconvert_exporter": "python",
   "pygments_lexer": "ipython3",
   "version": "3.9.12"
  }
 },
 "nbformat": 4,
 "nbformat_minor": 5
}
