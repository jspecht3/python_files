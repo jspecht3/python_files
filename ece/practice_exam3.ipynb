{
 "cells": [
  {
   "cell_type": "code",
   "execution_count": 75,
   "id": "8aa0f4b8-ea12-46e7-add1-1629fb9e8961",
   "metadata": {},
   "outputs": [],
   "source": [
    "import numpy as np\n",
    "import numpy.linalg as la\n",
    "from numpy import cos,sin"
   ]
  },
  {
   "cell_type": "code",
   "execution_count": 8,
   "id": "754863d7-e3eb-4a43-a350-44d3262e7db8",
   "metadata": {},
   "outputs": [
    {
     "name": "stdout",
     "output_type": "stream",
     "text": [
      "r1: 3.9999999999999996 \n",
      "r2; 5.0 \n",
      "r3: 6.000000000000001 \n",
      "c: 2.4\n"
     ]
    }
   ],
   "source": [
    "# RC/RL Circuits\n",
    "'''\n",
    "3 measurements,\n",
    "find r1,r2,r3,c\n",
    "'''\n",
    "\n",
    "v1,v2,v3 = 100, 90, 110\n",
    "i1,i2,i3 = 10, 10, 10\n",
    "\n",
    "tau = 12\n",
    "\n",
    "A = np.array([\n",
    "    [i1,0,i1],\n",
    "    [i2,i2,0],\n",
    "    [0,i3,i3]\n",
    "])\n",
    "B = np.array([v1,v2,v3])\n",
    "\n",
    "r1,r2,r3 = la.inv(A) @ B\n",
    "c = tau / r2\n",
    "\n",
    "print(\"r1:\",r1,\"\\nr2;\",r2,\"\\nr3:\",r3,\"\\nc:\",c)"
   ]
  },
  {
   "cell_type": "code",
   "execution_count": 14,
   "id": "97a57929-9673-4f6f-aba0-4908528cfad3",
   "metadata": {},
   "outputs": [
    {
     "name": "stdout",
     "output_type": "stream",
     "text": [
      "k1: -3.0 \n",
      "k2: 4.0 \n",
      "tau: 2.0\n"
     ]
    }
   ],
   "source": [
    "# RC/RL Circuits\n",
    "'''\n",
    "voltage a voltage source passing through\n",
    "an inductor and then the switch is flipped,\n",
    "find k1,k2,tau\n",
    "'''\n",
    "\n",
    "vin, r1,r2,r3, iin, l = 10,10,5,10,3,10\n",
    "\n",
    "i0 = vin/r1\n",
    "\n",
    "rth = (1/r1 + 1/r3)**(-1)\n",
    "iinf = i0 + iin\n",
    "\n",
    "tau = l / rth\n",
    "\n",
    "k2 = iinf\n",
    "k1 = i0 - iinf\n",
    "\n",
    "print(\"k1:\",k1,\"\\nk2:\",k2,\"\\ntau:\",tau)"
   ]
  },
  {
   "cell_type": "code",
   "execution_count": 46,
   "id": "bb1ec385-e0d1-495d-a4a0-721860252563",
   "metadata": {},
   "outputs": [
    {
     "name": "stdout",
     "output_type": "stream",
     "text": [
      "--- Part1 --- \n",
      "R: 4j \n",
      "theta * pi: 0.5\n",
      "--- Part2 --- \n",
      "r: 1/sqrt(1+w**2) \n",
      "theta: -atan(w)\n"
     ]
    }
   ],
   "source": [
    "# Quiz Problem 1\n",
    "'''\n",
    "2 multiple choice questions,\n",
    "convert complex rectangular to polar\n",
    "'''\n",
    "\n",
    "# part 1\n",
    "r = (1j * (-1 + 1j)**6) / (1 + 1j)**2 \n",
    "theta = np.arctan2(a.imag,a.real)\n",
    "\n",
    "print('--- Part1 ---','\\nR:',r,'\\ntheta * pi:',theta/np.pi)\n",
    "\n",
    "# part 2\n",
    "print('--- Part2 ---','\\nr: 1/sqrt(1+w**2)','\\ntheta: -atan(w)',)"
   ]
  },
  {
   "cell_type": "code",
   "execution_count": 66,
   "id": "9c049722-22cf-4517-8843-7179acc9c244",
   "metadata": {},
   "outputs": [
    {
     "data": {
      "text/plain": [
       "(0, 5.0)"
      ]
     },
     "execution_count": 66,
     "metadata": {},
     "output_type": "execute_result"
    }
   ],
   "source": [
    "# Quiz Problem 3\n",
    "'''\n",
    "find currents in rc circuit before and after flip\n",
    "'''\n",
    "v1 = 5\n",
    "\n",
    "il = 0\n",
    "ir = 5/1\n",
    "\n",
    "il, ir"
   ]
  },
  {
   "cell_type": "code",
   "execution_count": 69,
   "id": "a3ea210d-b94a-4a05-b221-fd9d2689837c",
   "metadata": {},
   "outputs": [
    {
     "data": {
      "text/plain": [
       "(2.0, 0, 3.0, 6.0)"
      ]
     },
     "execution_count": 69,
     "metadata": {},
     "output_type": "execute_result"
    }
   ],
   "source": [
    "# Quiz Problem 3\n",
    "'''\n",
    "find k1,k2,tau,v0+ for an rl circuit\n",
    "'''\n",
    "i,l = 4,9\n",
    "\n",
    "i0 = i/2\n",
    "iinf = 0\n",
    "\n",
    "rl = 1 + (1/6 + 1/3)**(-1)\n",
    "tau = l / rl\n",
    "v0 = i0 * rl\n",
    "\n",
    "k1 = i0\n",
    "k2 = 0\n",
    "\n",
    "k1,k2,tau,v0"
   ]
  },
  {
   "cell_type": "code",
   "execution_count": 71,
   "id": "488c4141-abe8-4c8f-baea-3dcba2eb28ef",
   "metadata": {},
   "outputs": [
    {
     "data": {
      "text/plain": [
       "(13.998500387375973, 4.000000000014997)"
      ]
     },
     "execution_count": 71,
     "metadata": {},
     "output_type": "execute_result"
    }
   ],
   "source": [
    "# Impedance\n",
    "'''\n",
    "find zab, zac by bebugging a circuit with a mutli-meter\n",
    "'''\n",
    "\n",
    "r1,r2,r3,r4 = 4,20,20,5\n",
    "r1,r2,r3,r4 = 1e3 * np.array([r1,r2,r3,r4])\n",
    "l, c = 10e-3, 1e-6\n",
    "\n",
    "zl = l * 1j\n",
    "zc = 1/(c * 1j)\n",
    "\n",
    "# zab\n",
    "z1 = zl + r4 + zc\n",
    "z2 = (1/(r3 + zl) + 1/z1)**(-1)\n",
    "z3 = (1/r2 + 1/z2)**(-1)\n",
    "zab = r1 + z3\n",
    "\n",
    "# zac\n",
    "z1 = (1/r2 + 1/(r3 + zl))**-1\n",
    "z2 = z1 + zc + r4\n",
    "zac = r1 + (1/z2 + 1/zl)\n",
    "\n",
    "zab.real / 1000, zac.real / 1000"
   ]
  },
  {
   "cell_type": "code",
   "execution_count": 93,
   "id": "7f03f8bc-0c19-462d-8c70-08a118bc7cd6",
   "metadata": {},
   "outputs": [
    {
     "data": {
      "text/plain": [
       "0.8"
      ]
     },
     "execution_count": 93,
     "metadata": {},
     "output_type": "execute_result"
    }
   ],
   "source": [
    "# Impedance\n",
    "'''\n",
    "find c such that i = ...\n",
    "'''\n",
    "def phasor(phi):\n",
    "    return cos(phi) + sin(phi) * 1j\n",
    "\n",
    "i = 4 * phasor(0) *1e-3\n",
    "vs = 4 * phasor(0)\n",
    "r1 = 2e3\n",
    "r2 = 2e3\n",
    "l = 0.00125\n",
    "w = 1000\n",
    "\n",
    "# problem\n",
    "#zl = w * l * 1j\n",
    "\n",
    "1/(l*1000)"
   ]
  },
  {
   "cell_type": "code",
   "execution_count": 82,
   "id": "782fc764-b0cb-472e-b6e7-e40bae66b8af",
   "metadata": {},
   "outputs": [
    {
     "data": {
      "text/plain": [
       "'\\ni1 = (v1 - 0) / r1\\ni2 = (vl - v2) / r2\\nic = (vl - v2) / zc\\nil = (0 - vl) / zl\\n'"
      ]
     },
     "execution_count": 82,
     "metadata": {},
     "output_type": "execute_result"
    }
   ],
   "source": [
    "# Circuit Analysis Using Phasors\n",
    "'''\n",
    "find the voltage across an inductor as a phasor\n",
    "'''\n",
    "r1,r2 = 1,2\n",
    "zl,zc = 1j, -1j\n",
    "\n",
    "iin = 2 * cos(0) + sin(0) *1j\n",
    "vin = 1 * cos(0) + sin(0) * 1j\n",
    "\n",
    "# problem\n",
    "'''\n",
    "i1 = (v1 - 0) / r1\n",
    "i2 = (vl - v2) / r2\n",
    "ic = (vl - v2) / zc\n",
    "il = (0 - vl) / zl\n",
    "'''\n",
    "\n"
   ]
  },
  {
   "cell_type": "code",
   "execution_count": null,
   "id": "d3dc39e6-4f76-4014-9c62-fbcdd04f1a83",
   "metadata": {},
   "outputs": [],
   "source": [
    "# Circuit Analysis Using Phasors\n",
    "'''\n",
    "find v1,v2,v3 in phasor form\n",
    "'''\n",
    "\n"
   ]
  }
 ],
 "metadata": {
  "kernelspec": {
   "display_name": "Python 3 (ipykernel)",
   "language": "python",
   "name": "python3"
  },
  "language_info": {
   "codemirror_mode": {
    "name": "ipython",
    "version": 3
   },
   "file_extension": ".py",
   "mimetype": "text/x-python",
   "name": "python",
   "nbconvert_exporter": "python",
   "pygments_lexer": "ipython3",
   "version": "3.12.2"
  }
 },
 "nbformat": 4,
 "nbformat_minor": 5
}
