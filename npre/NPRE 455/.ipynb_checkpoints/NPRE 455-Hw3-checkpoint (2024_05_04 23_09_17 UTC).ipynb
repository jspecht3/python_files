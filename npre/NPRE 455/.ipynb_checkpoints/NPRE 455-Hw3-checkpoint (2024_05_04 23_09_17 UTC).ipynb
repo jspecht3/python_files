{
 "cells": [
  {
   "cell_type": "code",
   "execution_count": 3,
   "id": "b4d4902e",
   "metadata": {},
   "outputs": [],
   "source": [
    "import numpy.linalg as la\n",
    "import numpy as np\n",
    "from sympy import *\n",
    "import matplotlib.pyplot as plt\n",
    "import pandas as pd"
   ]
  },
  {
   "cell_type": "code",
   "execution_count": 37,
   "id": "6e40db51",
   "metadata": {
    "scrolled": false
   },
   "outputs": [
    {
     "data": {
      "text/plain": [
       "Text(0, 0.5, 'Current [cm^-2*s^-1]')"
      ]
     },
     "execution_count": 37,
     "metadata": {},
     "output_type": "execute_result"
    },
    {
     "data": {
      "image/png": "[encoded data removed]",
      "text/plain": [
       "<Figure size 432x288 with 1 Axes>"
      ]
     },
     "metadata": {},
     "output_type": "display_data"
    }
   ],
   "source": [
    "#4b\n",
    "\n",
    "r = S('r')\n",
    "\n",
    "Phi_0 = 13.1e13\n",
    "R4 = 50\n",
    "Sigma_a4 = 0.108\n",
    "Sigma_f4 = 0.0727\n",
    "D4 = 1.1\n",
    "nu = 2.4\n",
    "\n",
    "flux4 = Phi_0 * R4 * sin(pi*r/R4) / r\n",
    "J4 = D4 * Phi_0 * R4 * (sin(pi*r/R4)/r**2 - pi*cos(pi*r/R4)/(R4*r))\n",
    "\n",
    "radius4 = np.zeros(51)\n",
    "current4 = np.zeros(51)\n",
    "\n",
    "for i in range(51):\n",
    "    radius4[i] = i\n",
    "    current4[i] = J4.subs(r, i).evalf()\n",
    "    \n",
    "plt.figure(facecolor='White')\n",
    "plt.plot(radius4, current4)\n",
    "plt.title('#4b', fontsize=14)\n",
    "plt.xlabel('Radius [cm]', fontsize=12)\n",
    "plt.ylabel('Current [cm^-2*s^-1]', fontsize=12)"
   ]
  },
  {
   "cell_type": "code",
   "execution_count": 54,
   "id": "d6c6a72b",
   "metadata": {},
   "outputs": [
    {
     "data": {
      "text/latex": [
       "$\\displaystyle 2.22236264314942 \\cdot 10^{17}$"
      ],
      "text/plain": [
       "2.22236264314942e+17"
      ]
     },
     "execution_count": 54,
     "metadata": {},
     "output_type": "execute_result"
    }
   ],
   "source": [
    "#Sigma_a4 * (flux4.subs(r, (R4/2))) * 1e-13\n",
    "\n",
    "((Sigma_a4 * 2 * Phi_0 ) * pi*R4**2).evalf()"
   ]
  },
  {
   "cell_type": "code",
   "execution_count": 56,
   "id": "93c4e48f",
   "metadata": {
    "scrolled": false
   },
   "outputs": [
    {
     "data": {
      "text/latex": [
       "$\\displaystyle 3.59035031459917 \\cdot 10^{17}$"
      ],
      "text/plain": [
       "3.59035031459917e+17"
      ]
     },
     "execution_count": 56,
     "metadata": {},
     "output_type": "execute_result"
    }
   ],
   "source": [
    "(Sigma_f4 * nu * flux4.subs(r, 25) * pi*R4**2).evalf()"
   ]
  },
  {
   "cell_type": "code",
   "execution_count": 64,
   "id": "585b31bb",
   "metadata": {},
   "outputs": [
    {
     "data": {
      "text/latex": [
       "$\\displaystyle 9.50526388460222 \\cdot 10^{16}$"
      ],
      "text/plain": [
       "9.50526388460222e+16"
      ]
     },
     "execution_count": 64,
     "metadata": {},
     "output_type": "execute_result"
    }
   ],
   "source": [
    "(J4.subs(r,R4/2 + .5)).evalf() * (4*pi*(R4/2+.5)**2).evalf()"
   ]
  },
  {
   "cell_type": "code",
   "execution_count": null,
   "id": "3e587fa8",
   "metadata": {},
   "outputs": [],
   "source": []
  }
 ],
 "metadata": {
  "kernelspec": {
   "display_name": "Python 3 (ipykernel)",
   "language": "python",
   "name": "python3"
  },
  "language_info": {
   "codemirror_mode": {
    "name": "ipython",
    "version": 3
   },
   "file_extension": ".py",
   "mimetype": "text/x-python",
   "name": "python",
   "nbconvert_exporter": "python",
   "pygments_lexer": "ipython3",
   "version": "3.9.12"
  }
 },
 "nbformat": 4,
 "nbformat_minor": 5
}
