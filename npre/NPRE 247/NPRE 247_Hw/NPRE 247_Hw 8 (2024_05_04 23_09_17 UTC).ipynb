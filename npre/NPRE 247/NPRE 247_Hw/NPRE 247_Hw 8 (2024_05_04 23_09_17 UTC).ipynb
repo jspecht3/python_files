{
 "cells": [
  {
   "cell_type": "code",
   "execution_count": 1,
   "id": "92d22c73",
   "metadata": {},
   "outputs": [],
   "source": [
    "from sympy import *\n",
    "import numpy as np\n",
    "import scipy.constants as c\n",
    "\n",
    "from tabulate import tabulate\n",
    "\n",
    "import pandas as pd\n",
    "import urllib.request\n",
    "\n",
    "def lc_read_csv(url):\n",
    "    req = urllib.request.Request(url)\n",
    "    req.add_header('User-Agent', 'Mozilla/5.0 (X11; Ubuntu; Linux x86_64; rv:77.0) Gecko/20100101 Firefox/77.0')\n",
    "    return pd.read_csv(urllib.request.urlopen(req))\n",
    "\n",
    "# the service URL\n",
    "livechart = \"https://nds.iaea.org/relnsd/v0/data?\"\n",
    "lc_iso = livechart + \"fields=ground_states\"\n",
    "\n",
    "def iso_molar(iso): #accepts string of Z number followed by atomic symbol\n",
    "    iso_info = lc_read_csv(lc_iso + f\"&nuclides={iso}\")\n",
    "    mu_iso_molar = iso_info[\"atomic_mass\"][0]\n",
    "    iso_molar = mu_iso_molar/10**6\n",
    "    return iso_molar #returns molar mass in amu\n",
    "\n",
    "def u_mev(u):\n",
    "    MeV = u * (9.31494028*100)\n",
    "    return MeV"
   ]
  },
  {
   "cell_type": "code",
   "execution_count": 20,
   "id": "bb09cd02",
   "metadata": {},
   "outputs": [],
   "source": [
    "#Conversions\n",
    "\n",
    "N_A = c.Avogadro\n",
    "y_to_s = 364.25 * 24 * 60 * 60\n",
    "Ci_to_bq = 37000000000"
   ]
  },
  {
   "cell_type": "code",
   "execution_count": null,
   "id": "3c1e1da6",
   "metadata": {},
   "outputs": [],
   "source": [
    "#1, Yes Jupyter"
   ]
  },
  {
   "cell_type": "raw",
   "id": "dd6cedef",
   "metadata": {},
   "source": [
    "2. (15 points) The fuel for a certain breeder reactor consists of pellets composed of mixed oxides, UO2 and PuO2, with the PuO2 comprising approximately 30 weight percent of the mixture. The uranium is essentially all 238U, whereas the Plutonium contains the following isotopes: 239Pu at 70.5 weight percent, 240Pu at 21.3 weight percent, 241Pu at 5.5 weight percent, and 242Pu at 2.7 weight percent. What is the activity of 1kg of this fuel? Report the answer in Bq and Ci."
   ]
  },
  {
   "cell_type": "code",
   "execution_count": 64,
   "id": "87e5f6b5",
   "metadata": {},
   "outputs": [
    {
     "name": "stdout",
     "output_type": "stream",
     "text": [
      "Activity [Tbq] 56.8415436859535\n",
      "Activity [kCi] 1.53625793745820\n"
     ]
    }
   ],
   "source": [
    "#2\n",
    "\n",
    "mass_UO2 = 1 * 1000 * .7 #kg * g/kg * UO2%\n",
    "mass_PuO2 = 1 * 1000 * .3 #kg * g/kg * PuO2%\n",
    "\n",
    "dc_U238 = log(2) / (4.463 * 1e9 * y_to_s) # ga * a/ga * s/a\n",
    "dc_Pu239 = log(2) / (24.11 * 1e3 * y_to_s) # ka * a/ka * s/a\n",
    "dc_Pu240 = log(2) / (6.561 * 1e3 * y_to_s) # ka * a/ka * s/a\n",
    "dc_Pu241 = log(2) / (14.329 * y_to_s) # a * s/a\n",
    "dc_Pu242 = log(2) / (375 * 1e3 * y_to_s) # ka * a/ka * s/a\n",
    "\n",
    "m_U238O2 = mass_UO2 * 1\n",
    "m_Pu239O2 = mass_PuO2 * .705\n",
    "m_Pu240O2 = mass_PuO2 * .213\n",
    "m_Pu241O2 = mass_PuO2 * .055\n",
    "m_Pu242O2 = mass_PuO2 * .027\n",
    "\n",
    "M_U238O2 = iso_molar('U238') + 2*iso_molar('O16')\n",
    "M_Pu239O2 = iso_molar('Pu239') + 2*iso_molar('O16')\n",
    "M_Pu240O2 = iso_molar('Pu240') + 2*iso_molar('O16')\n",
    "M_Pu241O2 = iso_molar('Pu241') + 2*iso_molar('O16')\n",
    "M_Pu242O2 = iso_molar('Pu242') + 2*iso_molar('O16')\n",
    "\n",
    "n_U238 = m_U238O2 / M_U238O2 * N_A # g / g/mol * atoms/mol\n",
    "n_Pu239 = m_Pu239O2 / M_Pu239O2 * N_A # g / g/mol * atoms/mol\n",
    "n_Pu240 = m_Pu240O2 / M_Pu240O2 * N_A # g / g/mol * atoms/mol\n",
    "n_Pu241 = m_Pu241O2 / M_Pu241O2 * N_A # g / g/mol * atoms/mol\n",
    "n_Pu242 = m_Pu242O2 / M_Pu242O2 * N_A # g / g/mol * atoms/mol\n",
    "\n",
    "a_U238 = n_U238 * dc_U238\n",
    "a_Pu239 = n_Pu239 * dc_Pu239\n",
    "a_Pu240 = n_Pu240 * dc_Pu240\n",
    "a_Pu241 = n_Pu241 * dc_Pu241\n",
    "a_Pu242 = n_Pu242 * dc_Pu242\n",
    "\n",
    "a_total = (a_U238 + a_Pu239 + a_Pu240 + a_Pu241 + a_Pu242).evalf()\n",
    "\n",
    "print('Activity [Tbq]', a_total/1e12)\n",
    "print('Activity [kCi]', a_total / Ci_to_bq /1e3)"
   ]
  },
  {
   "cell_type": "raw",
   "id": "248738f0",
   "metadata": {},
   "source": [
    "3. (15 points) (Shultis & Faw 5.32) The text discusses 14C dating of biogenic materials, useful for ages up to 50,000 years. Another dating method, useful for dating rock of volcanic origin of ages 100,000 up to 4 billion years, is the 40K-40Ar method. The former nuclide decays to the latter nuclide in 10.7% of its decays. Argon is expelled from the molten rock but, after solidification, remains in the rock as a stable nuclide along with the slowly decaying 40K. In a rock specimen under analysis, the rock is slowly heated and the 40Ar is collected and measured using mass spectrometry. The 40K in the rock is measured using flame photometry or atomic absorption spectrometry. What is the atomic ratio of 40Ar:40K at rock ages of 10e5, 10e7, and 10e9 years?"
   ]
  },
  {
   "cell_type": "code",
   "execution_count": 47,
   "id": "fd57e91b",
   "metadata": {},
   "outputs": [
    {
     "name": "stdout",
     "output_type": "stream",
     "text": [
      "Ratio after 10e5 years; 5.94301346092796e-6\n",
      "Ratio after 10e7 years; 0.000595938249942017\n",
      "Ratio after 10e9 years; 0.0794634477281412\n"
     ]
    }
   ],
   "source": [
    "#3\n",
    "\n",
    "dc_K40 = (log(2) / 1.248e9).evalf()\n",
    "\n",
    "N_K40_10e5 = exp(-dc_K40 * 1e5)\n",
    "N_K40_10e7 = exp(-dc_K40 * 1e7)\n",
    "N_K40_10e9 = exp(-dc_K40 * 1e9)\n",
    "\n",
    "N_Ar40_10e5 = .107 * (1 - N_K40_10e5)\n",
    "N_Ar40_10e7 = .107 * (1 - N_K40_10e7)\n",
    "N_Ar40_10e9 = .107 * (1 - N_K40_10e9)\n",
    "\n",
    "print('Ratio after 10e5 years;', N_Ar40_10e5 / N_K40_10e5)\n",
    "print('Ratio after 10e7 years;', N_Ar40_10e7 / N_K40_10e7)\n",
    "print('Ratio after 10e9 years;', N_Ar40_10e9 / N_K40_10e9)"
   ]
  },
  {
   "cell_type": "raw",
   "id": "ad3a7dd4",
   "metadata": {},
   "source": [
    "4. (Shultis & Faw 6.11) The isotope 18F is a radionuclide used in medical diagnoses of tumors and, although usually produced by the 18O(p,n)18F reaction, it can also be produced by irradiating lithium carbonate, (Li2CO3) with neutrons. The neutrons interact with 6Li to produce tritons (nuclei of 3H) which in turn interact with the oxygen to produce 18F. \n",
    "\n",
    "(a) (5 points) Write out the two nuclear reactions\n",
    "(b) (5 points) Calculate the Q-value for reach reaction\n",
    "(c) (5 points) Calculate the threshold energy for each raction\n",
    "(d) (5 points) Can thermal neutrons (average energy 0.00253 eV) be used to create 18F?"
   ]
  },
  {
   "cell_type": "markdown",
   "id": "17e6b721",
   "metadata": {},
   "source": [
    "#4a\n",
    "\n",
    "6Li(n,t)4He\n",
    "16O(t,n)18F"
   ]
  },
  {
   "cell_type": "code",
   "execution_count": 78,
   "id": "3051eabd",
   "metadata": {},
   "outputs": [
    {
     "name": "stdout",
     "output_type": "stream",
     "text": [
      "Q 6Li(n,t)4He: [MeV] 4.783471353085346\n",
      "Q 16O(t,n)18F: [MeV] 1.2683787915797184\n"
     ]
    }
   ],
   "source": [
    "#4b\n",
    "q_1 = u_mev((iso_molar('6Li') + 1.0086649159) - (iso_molar('3H') + iso_molar('4He')))\n",
    "print('Q 6Li(n,t)4He: [MeV]', q_1)\n",
    "\n",
    "q_2 = u_mev((iso_molar('16O') + iso_molar('3H')) - (iso_molar('18F') + 1.0086649159))\n",
    "print('Q 16O(t,n)18F: [MeV]', q_2)"
   ]
  },
  {
   "cell_type": "markdown",
   "id": "aff30983",
   "metadata": {},
   "source": [
    "#4c\n",
    "\n",
    "both Q>0, so there is no threshold."
   ]
  },
  {
   "cell_type": "markdown",
   "id": "117a303e",
   "metadata": {},
   "source": [
    "#4d\n",
    "\n",
    "Yes"
   ]
  },
  {
   "cell_type": "raw",
   "id": "8cef19f3",
   "metadata": {},
   "source": [
    "5. (Shultis & Faw 6.15) How many elastic scatters, on average, are required to slow a 2-MeV neutron to below 1ev in\n",
    "\n",
    "(a) (5 points) 16O\n",
    "(b) (5 points) 56Fe"
   ]
  },
  {
   "cell_type": "code",
   "execution_count": 53,
   "id": "1bac6744",
   "metadata": {},
   "outputs": [
    {
     "name": "stdout",
     "output_type": "stream",
     "text": [
      "Scatters 16O; 5.77879560768414\n"
     ]
    }
   ],
   "source": [
    "#5a\n",
    "\n",
    "alpha_5a = (16 - 1)**2 / (16 + 1)**2\n",
    "xi_5a = 1 + alpha_5a / (1-alpha_5a) * log(alpha_5a)\n",
    "\n",
    "n_5a = 1/xi_5a * log(2/1)\n",
    "print('Scatters 16O;', n_5a)"
   ]
  },
  {
   "cell_type": "code",
   "execution_count": 54,
   "id": "73e75c48",
   "metadata": {},
   "outputs": [
    {
     "name": "stdout",
     "output_type": "stream",
     "text": [
      "Scatters 56Fe; 19.6398709003390\n"
     ]
    }
   ],
   "source": [
    "#5b\n",
    "\n",
    "alpha_5b = (56 - 1)**2 / (56 + 1)**2\n",
    "xi_5b = 1 + alpha_5b / (1-alpha_5b) * log(alpha_5b)\n",
    "\n",
    "n_5b = 1/xi_5b * log(2/1)\n",
    "print('Scatters 56Fe;', n_5b)"
   ]
  },
  {
   "cell_type": "raw",
   "id": "5a0fb9ab",
   "metadata": {},
   "source": [
    "6. (5 points) (Shultis & Faw 6.25) Explain how electricity generated from hydroelectric power, wind turbines, coal-fired power plants, and nuclear power plants are all indirect manifestations of fusion energy generated in stars."
   ]
  },
  {
   "cell_type": "raw",
   "id": "fbc621ab",
   "metadata": {},
   "source": [
    "Hydroelectric is from currents, which is from the moon, which is made of material in stars, which is from fusion in stars.\n",
    "Wind is from the weather, which is from the uneven exposure to solar radiation, which is from fusion in stars.\n",
    "Coal is made of hydrocarbons, which are made of carbon and hydrogen, which is made from fusion in stars.\n",
    "Nuclear materials are from supernovae, which is when a star explodes and dies, which happens when fusion makes the core iron."
   ]
  },
  {
   "cell_type": "raw",
   "id": "2b2fec98",
   "metadata": {},
   "source": [
    "7. (Shultis & Faw 7.4) A material is found to have a tenth-thickness of 2.8cm for 1.25 MeV gamma rays.\n",
    "\n",
    "(a) (5 points) What is the linear attenuation coefficient for the material?\n",
    "(b) (5 points) What is the half-thickness?\n",
    "(c) (5 points) What is the mean free path length of 1.25 MeV photons in the material?"
   ]
  },
  {
   "cell_type": "code",
   "execution_count": 57,
   "id": "aad6b352",
   "metadata": {},
   "outputs": [
    {
     "name": "stdout",
     "output_type": "stream",
     "text": [
      "Linear Attenuation Coefficient [1/cm] 0.822351818926445\n"
     ]
    }
   ],
   "source": [
    "#7a\n",
    "\n",
    "mu = (log(10) / 2.8).evalf()\n",
    "print('Linear Attenuation Coefficient [1/cm]', mu)"
   ]
  },
  {
   "cell_type": "code",
   "execution_count": 59,
   "id": "87e53b5b",
   "metadata": {},
   "outputs": [
    {
     "name": "stdout",
     "output_type": "stream",
     "text": [
      "Half Thickness [cm] 0.842883987859147\n"
     ]
    }
   ],
   "source": [
    "#7b\n",
    "\n",
    "half_thickness = (log(2) / mu).evalf()\n",
    "print('Half Thickness [cm]', half_thickness)"
   ]
  },
  {
   "cell_type": "code",
   "execution_count": 66,
   "id": "7fa5f775",
   "metadata": {},
   "outputs": [
    {
     "name": "stdout",
     "output_type": "stream",
     "text": [
      "MFP; 1.21602454932911\n"
     ]
    }
   ],
   "source": [
    "#7c\n",
    "print('MFP;', 1/mu)"
   ]
  },
  {
   "cell_type": "raw",
   "id": "388288f0",
   "metadata": {},
   "source": [
    "8. (Shultis & Faw, 7.8) In natural uranium, 0.720% of the atoms are the isotope 235U, 0.0055% are 234U, and the remaining are 238U. From the data in Table C.1,\n",
    "\n",
    "(a) (10 points) what is the total macroscopic cross section, Σt for natural uranium?\n",
    "(b) (10 points) what is the total macroscopic fission cross section, Σf for natural uranium?"
   ]
  },
  {
   "cell_type": "code",
   "execution_count": 63,
   "id": "6288cc07",
   "metadata": {},
   "outputs": [
    {
     "data": {
      "text/plain": [
       "17.157868999999998"
      ]
     },
     "execution_count": 63,
     "metadata": {},
     "output_type": "execute_result"
    }
   ],
   "source": [
    "#8a\n",
    "(.720/100 * 700) + (.0055/100 * 116) + ((100-.72-.0055)/100 * 12.2)"
   ]
  },
  {
   "cell_type": "code",
   "execution_count": 62,
   "id": "f5045ee4",
   "metadata": {},
   "outputs": [
    {
     "data": {
      "text/plain": [
       "4.226437289391001"
      ]
     },
     "execution_count": 62,
     "metadata": {},
     "output_type": "execute_result"
    }
   ],
   "source": [
    "#8b\n",
    "(.720/100 * 587) + (.0055/100 * .465) + ((100-.72-.0055)/100 * 11.8e-6)"
   ]
  }
 ],
 "metadata": {
  "kernelspec": {
   "display_name": "Python 3 (ipykernel)",
   "language": "python",
   "name": "python3"
  },
  "language_info": {
   "codemirror_mode": {
    "name": "ipython",
    "version": 3
   },
   "file_extension": ".py",
   "mimetype": "text/x-python",
   "name": "python",
   "nbconvert_exporter": "python",
   "pygments_lexer": "ipython3",
   "version": "3.9.12"
  }
 },
 "nbformat": 4,
 "nbformat_minor": 5
}
