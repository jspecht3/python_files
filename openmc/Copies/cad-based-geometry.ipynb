{
 "cells": [
  {
   "cell_type": "markdown",
   "id": "1a9974ea-bc01-43a5-85e1-aab28239bcbb",
   "metadata": {},
   "source": [
    "# DAGMC's CAD-Based Geometry in OpenMC"
   ]
  },
  {
   "cell_type": "code",
   "execution_count": 1,
   "id": "74bf83ba-8f19-48f5-bda7-f570891157c0",
   "metadata": {},
   "outputs": [],
   "source": [
    "from IPython.display import Image\n",
    "import openmc\n",
    "import math\n",
    "from matplotlib import pyplot as plt"
   ]
  },
  {
   "cell_type": "markdown",
   "id": "83236272-dbd7-48fd-9705-3344dd15415d",
   "metadata": {},
   "source": [
    "## Warning\n",
    "\n",
    "This notebook requires a version of OpenMC built with DAGMC geometry enabled. Use the following cell to determine whether or not this feature is enabled for the version of OpenMC being used here."
   ]
  },
  {
   "cell_type": "code",
   "execution_count": 2,
   "id": "10b1db49-6ea9-45a5-853d-b4e82ed59f0c",
   "metadata": {
    "tags": []
   },
   "outputs": [],
   "source": [
    "from warnings import warn\n",
    "import openmc.lib\n",
    "\n",
    "if not openmc.lib._dagmc_enabled():\n",
    "    warn(\"DAGMC is not enabled.\")"
   ]
  },
  {
   "cell_type": "code",
   "execution_count": 3,
   "id": "9410e2fc-c606-4527-a453-fb11e1f29010",
   "metadata": {},
   "outputs": [],
   "source": [
    "import urllib.request\n",
    "\n",
    "fuel_pin_url = 'https://tinyurl.com/y3ugwz6w' # 1.2 MB\n",
    "teapot_url = 'https://tinyurl.com/y4mcmc3u' # 29 MB\n",
    "paramak_w_graveyard = 'https://tinyurl.com/y7w238th' # 18 MB\n",
    "\n",
    "def download(url, filename=\"dagmc.h5m\"):\n",
    "    \"\"\"\n",
    "    Helper function for retrieving dagmc models\n",
    "    \"\"\"\n",
    "    u = urllib.request.urlopen(url)\n",
    "    \n",
    "    if u.status != 200:\n",
    "        raise RuntimeError(\"Failed to download file.\")\n",
    "    \n",
    "    # save file as dagmc.h5m\n",
    "    with open(filename, 'wb') as f:\n",
    "        f.write(u.read())"
   ]
  },
  {
   "cell_type": "markdown",
   "id": "28c6e2ca-d588-4d04-b00c-0ce44a0427e7",
   "metadata": {},
   "source": [
    "To start, we'll be using a simple U235 fuel pin surrounded by a water moderator, so let's create those materials."
   ]
  },
  {
   "cell_type": "code",
   "execution_count": 4,
   "id": "6fb13df7-df2e-4919-be9d-290c79f8dfd0",
   "metadata": {
    "tags": []
   },
   "outputs": [],
   "source": [
    " # materials\n",
    "u235 = openmc.Material(name=\"fuel\")\n",
    "u235.add_nuclide('U235', 1.0, 'ao')\n",
    "u235.set_density('g/cc', 11)\n",
    "u235.id = 40\n",
    "\n",
    "water = openmc.Material(name=\"water\")\n",
    "water.add_nuclide('H1', 2.0, 'ao')\n",
    "water.add_nuclide('O16', 1.0, 'ao')\n",
    "water.set_density('g/cc', 1.0)\n",
    "water.add_s_alpha_beta('c_H_in_H2O')\n",
    "water.id = 41\n",
    "\n",
    "materials = openmc.Materials([u235, water])"
   ]
  },
  {
   "cell_type": "markdown",
   "id": "cf215b70-c6fb-4580-890e-1a8eb156431b",
   "metadata": {},
   "source": [
    "Now let's get our DAGMC geometry. We'll be using prefabricated models in this notebook. For information on how to create your own DAGMC models, you can refer to the instructions [here](https://svalinn.github.io/DAGMC/usersguide/trelis_workflow.html)."
   ]
  },
  {
   "cell_type": "markdown",
   "id": "d25a3701-c881-49c9-8cdd-498559ec39eb",
   "metadata": {},
   "source": [
    "Let's download the DAGMC model. These models come in the form of triangle surface meshes stored using the the Mesh Oriented datABase ([MOAB](https://sigma.mcs.anl.gov/moab-library/)) in an HDF5 file with the extension `.h5m`. An example of a coarse triangle mesh looks like:"
   ]
  },
  {
   "cell_type": "code",
   "execution_count": 5,
   "id": "00f18623-45ab-43a2-b42e-82eb8a23600c",
   "metadata": {
    "collapsed": true,
    "jupyter": {
     "outputs_hidden": true
    },
    "tags": []
   },
   "outputs": [
    {
     "ename": "FileNotFoundError",
     "evalue": "No such file or directory: './images/cylinder_mesh.png'",
     "output_type": "error",
     "traceback": [
      "\u001b[0;31m---------------------------------------------------------------------------\u001b[0m",
      "\u001b[0;31mTypeError\u001b[0m                                 Traceback (most recent call last)",
      "File \u001b[0;32m~/miniconda3/envs/openmc-env/lib/python3.12/site-packages/IPython/core/display.py:1045\u001b[0m, in \u001b[0;36mImage._data_and_metadata\u001b[0;34m(self, always_both)\u001b[0m\n\u001b[1;32m   1044\u001b[0m \u001b[38;5;28;01mtry\u001b[39;00m:\n\u001b[0;32m-> 1045\u001b[0m     b64_data \u001b[38;5;241m=\u001b[39m \u001b[43mb2a_base64\u001b[49m\u001b[43m(\u001b[49m\u001b[38;5;28;43mself\u001b[39;49m\u001b[38;5;241;43m.\u001b[39;49m\u001b[43mdata\u001b[49m\u001b[43m,\u001b[49m\u001b[43m \u001b[49m\u001b[43mnewline\u001b[49m\u001b[38;5;241;43m=\u001b[39;49m\u001b[38;5;28;43;01mFalse\u001b[39;49;00m\u001b[43m)\u001b[49m\u001b[38;5;241m.\u001b[39mdecode(\u001b[38;5;124m\"\u001b[39m\u001b[38;5;124mascii\u001b[39m\u001b[38;5;124m\"\u001b[39m)\n\u001b[1;32m   1046\u001b[0m \u001b[38;5;28;01mexcept\u001b[39;00m \u001b[38;5;167;01mTypeError\u001b[39;00m \u001b[38;5;28;01mas\u001b[39;00m e:\n",
      "\u001b[0;31mTypeError\u001b[0m: a bytes-like object is required, not 'str'",
      "\nThe above exception was the direct cause of the following exception:\n",
      "\u001b[0;31mFileNotFoundError\u001b[0m                         Traceback (most recent call last)",
      "File \u001b[0;32m~/miniconda3/envs/openmc-env/lib/python3.12/site-packages/IPython/core/formatters.py:977\u001b[0m, in \u001b[0;36mMimeBundleFormatter.__call__\u001b[0;34m(self, obj, include, exclude)\u001b[0m\n\u001b[1;32m    974\u001b[0m     method \u001b[38;5;241m=\u001b[39m get_real_method(obj, \u001b[38;5;28mself\u001b[39m\u001b[38;5;241m.\u001b[39mprint_method)\n\u001b[1;32m    976\u001b[0m     \u001b[38;5;28;01mif\u001b[39;00m method \u001b[38;5;129;01mis\u001b[39;00m \u001b[38;5;129;01mnot\u001b[39;00m \u001b[38;5;28;01mNone\u001b[39;00m:\n\u001b[0;32m--> 977\u001b[0m         \u001b[38;5;28;01mreturn\u001b[39;00m \u001b[43mmethod\u001b[49m\u001b[43m(\u001b[49m\u001b[43minclude\u001b[49m\u001b[38;5;241;43m=\u001b[39;49m\u001b[43minclude\u001b[49m\u001b[43m,\u001b[49m\u001b[43m \u001b[49m\u001b[43mexclude\u001b[49m\u001b[38;5;241;43m=\u001b[39;49m\u001b[43mexclude\u001b[49m\u001b[43m)\u001b[49m\n\u001b[1;32m    978\u001b[0m     \u001b[38;5;28;01mreturn\u001b[39;00m \u001b[38;5;28;01mNone\u001b[39;00m\n\u001b[1;32m    979\u001b[0m \u001b[38;5;28;01melse\u001b[39;00m:\n",
      "File \u001b[0;32m~/miniconda3/envs/openmc-env/lib/python3.12/site-packages/IPython/core/display.py:1035\u001b[0m, in \u001b[0;36mImage._repr_mimebundle_\u001b[0;34m(self, include, exclude)\u001b[0m\n\u001b[1;32m   1033\u001b[0m \u001b[38;5;28;01mif\u001b[39;00m \u001b[38;5;28mself\u001b[39m\u001b[38;5;241m.\u001b[39membed:\n\u001b[1;32m   1034\u001b[0m     mimetype \u001b[38;5;241m=\u001b[39m \u001b[38;5;28mself\u001b[39m\u001b[38;5;241m.\u001b[39m_mimetype\n\u001b[0;32m-> 1035\u001b[0m     data, metadata \u001b[38;5;241m=\u001b[39m \u001b[38;5;28;43mself\u001b[39;49m\u001b[38;5;241;43m.\u001b[39;49m\u001b[43m_data_and_metadata\u001b[49m\u001b[43m(\u001b[49m\u001b[43malways_both\u001b[49m\u001b[38;5;241;43m=\u001b[39;49m\u001b[38;5;28;43;01mTrue\u001b[39;49;00m\u001b[43m)\u001b[49m\n\u001b[1;32m   1036\u001b[0m     \u001b[38;5;28;01mif\u001b[39;00m metadata:\n\u001b[1;32m   1037\u001b[0m         metadata \u001b[38;5;241m=\u001b[39m {mimetype: metadata}\n",
      "File \u001b[0;32m~/miniconda3/envs/openmc-env/lib/python3.12/site-packages/IPython/core/display.py:1047\u001b[0m, in \u001b[0;36mImage._data_and_metadata\u001b[0;34m(self, always_both)\u001b[0m\n\u001b[1;32m   1045\u001b[0m     b64_data \u001b[38;5;241m=\u001b[39m b2a_base64(\u001b[38;5;28mself\u001b[39m\u001b[38;5;241m.\u001b[39mdata, newline\u001b[38;5;241m=\u001b[39m\u001b[38;5;28;01mFalse\u001b[39;00m)\u001b[38;5;241m.\u001b[39mdecode(\u001b[38;5;124m\"\u001b[39m\u001b[38;5;124mascii\u001b[39m\u001b[38;5;124m\"\u001b[39m)\n\u001b[1;32m   1046\u001b[0m \u001b[38;5;28;01mexcept\u001b[39;00m \u001b[38;5;167;01mTypeError\u001b[39;00m \u001b[38;5;28;01mas\u001b[39;00m e:\n\u001b[0;32m-> 1047\u001b[0m     \u001b[38;5;28;01mraise\u001b[39;00m \u001b[38;5;167;01mFileNotFoundError\u001b[39;00m(\n\u001b[1;32m   1048\u001b[0m         \u001b[38;5;124m\"\u001b[39m\u001b[38;5;124mNo such file or directory: \u001b[39m\u001b[38;5;124m'\u001b[39m\u001b[38;5;132;01m%s\u001b[39;00m\u001b[38;5;124m'\u001b[39m\u001b[38;5;124m\"\u001b[39m \u001b[38;5;241m%\u001b[39m (\u001b[38;5;28mself\u001b[39m\u001b[38;5;241m.\u001b[39mdata)) \u001b[38;5;28;01mfrom\u001b[39;00m \u001b[38;5;21;01me\u001b[39;00m\n\u001b[1;32m   1049\u001b[0m md \u001b[38;5;241m=\u001b[39m {}\n\u001b[1;32m   1050\u001b[0m \u001b[38;5;28;01mif\u001b[39;00m \u001b[38;5;28mself\u001b[39m\u001b[38;5;241m.\u001b[39mmetadata:\n",
      "\u001b[0;31mFileNotFoundError\u001b[0m: No such file or directory: './images/cylinder_mesh.png'"
     ]
    },
    {
     "ename": "FileNotFoundError",
     "evalue": "No such file or directory: './images/cylinder_mesh.png'",
     "output_type": "error",
     "traceback": [
      "\u001b[0;31m---------------------------------------------------------------------------\u001b[0m",
      "\u001b[0;31mTypeError\u001b[0m                                 Traceback (most recent call last)",
      "File \u001b[0;32m~/miniconda3/envs/openmc-env/lib/python3.12/site-packages/IPython/core/display.py:1045\u001b[0m, in \u001b[0;36mImage._data_and_metadata\u001b[0;34m(self, always_both)\u001b[0m\n\u001b[1;32m   1044\u001b[0m \u001b[38;5;28;01mtry\u001b[39;00m:\n\u001b[0;32m-> 1045\u001b[0m     b64_data \u001b[38;5;241m=\u001b[39m \u001b[43mb2a_base64\u001b[49m\u001b[43m(\u001b[49m\u001b[38;5;28;43mself\u001b[39;49m\u001b[38;5;241;43m.\u001b[39;49m\u001b[43mdata\u001b[49m\u001b[43m,\u001b[49m\u001b[43m \u001b[49m\u001b[43mnewline\u001b[49m\u001b[38;5;241;43m=\u001b[39;49m\u001b[38;5;28;43;01mFalse\u001b[39;49;00m\u001b[43m)\u001b[49m\u001b[38;5;241m.\u001b[39mdecode(\u001b[38;5;124m\"\u001b[39m\u001b[38;5;124mascii\u001b[39m\u001b[38;5;124m\"\u001b[39m)\n\u001b[1;32m   1046\u001b[0m \u001b[38;5;28;01mexcept\u001b[39;00m \u001b[38;5;167;01mTypeError\u001b[39;00m \u001b[38;5;28;01mas\u001b[39;00m e:\n",
      "\u001b[0;31mTypeError\u001b[0m: a bytes-like object is required, not 'str'",
      "\nThe above exception was the direct cause of the following exception:\n",
      "\u001b[0;31mFileNotFoundError\u001b[0m                         Traceback (most recent call last)",
      "File \u001b[0;32m~/miniconda3/envs/openmc-env/lib/python3.12/site-packages/IPython/core/formatters.py:347\u001b[0m, in \u001b[0;36mBaseFormatter.__call__\u001b[0;34m(self, obj)\u001b[0m\n\u001b[1;32m    345\u001b[0m     method \u001b[38;5;241m=\u001b[39m get_real_method(obj, \u001b[38;5;28mself\u001b[39m\u001b[38;5;241m.\u001b[39mprint_method)\n\u001b[1;32m    346\u001b[0m     \u001b[38;5;28;01mif\u001b[39;00m method \u001b[38;5;129;01mis\u001b[39;00m \u001b[38;5;129;01mnot\u001b[39;00m \u001b[38;5;28;01mNone\u001b[39;00m:\n\u001b[0;32m--> 347\u001b[0m         \u001b[38;5;28;01mreturn\u001b[39;00m \u001b[43mmethod\u001b[49m\u001b[43m(\u001b[49m\u001b[43m)\u001b[49m\n\u001b[1;32m    348\u001b[0m     \u001b[38;5;28;01mreturn\u001b[39;00m \u001b[38;5;28;01mNone\u001b[39;00m\n\u001b[1;32m    349\u001b[0m \u001b[38;5;28;01melse\u001b[39;00m:\n",
      "File \u001b[0;32m~/miniconda3/envs/openmc-env/lib/python3.12/site-packages/IPython/core/display.py:1067\u001b[0m, in \u001b[0;36mImage._repr_png_\u001b[0;34m(self)\u001b[0m\n\u001b[1;32m   1065\u001b[0m \u001b[38;5;28;01mdef\u001b[39;00m \u001b[38;5;21m_repr_png_\u001b[39m(\u001b[38;5;28mself\u001b[39m):\n\u001b[1;32m   1066\u001b[0m     \u001b[38;5;28;01mif\u001b[39;00m \u001b[38;5;28mself\u001b[39m\u001b[38;5;241m.\u001b[39membed \u001b[38;5;129;01mand\u001b[39;00m \u001b[38;5;28mself\u001b[39m\u001b[38;5;241m.\u001b[39mformat \u001b[38;5;241m==\u001b[39m \u001b[38;5;28mself\u001b[39m\u001b[38;5;241m.\u001b[39m_FMT_PNG:\n\u001b[0;32m-> 1067\u001b[0m         \u001b[38;5;28;01mreturn\u001b[39;00m \u001b[38;5;28;43mself\u001b[39;49m\u001b[38;5;241;43m.\u001b[39;49m\u001b[43m_data_and_metadata\u001b[49m\u001b[43m(\u001b[49m\u001b[43m)\u001b[49m\n",
      "File \u001b[0;32m~/miniconda3/envs/openmc-env/lib/python3.12/site-packages/IPython/core/display.py:1047\u001b[0m, in \u001b[0;36mImage._data_and_metadata\u001b[0;34m(self, always_both)\u001b[0m\n\u001b[1;32m   1045\u001b[0m     b64_data \u001b[38;5;241m=\u001b[39m b2a_base64(\u001b[38;5;28mself\u001b[39m\u001b[38;5;241m.\u001b[39mdata, newline\u001b[38;5;241m=\u001b[39m\u001b[38;5;28;01mFalse\u001b[39;00m)\u001b[38;5;241m.\u001b[39mdecode(\u001b[38;5;124m\"\u001b[39m\u001b[38;5;124mascii\u001b[39m\u001b[38;5;124m\"\u001b[39m)\n\u001b[1;32m   1046\u001b[0m \u001b[38;5;28;01mexcept\u001b[39;00m \u001b[38;5;167;01mTypeError\u001b[39;00m \u001b[38;5;28;01mas\u001b[39;00m e:\n\u001b[0;32m-> 1047\u001b[0m     \u001b[38;5;28;01mraise\u001b[39;00m \u001b[38;5;167;01mFileNotFoundError\u001b[39;00m(\n\u001b[1;32m   1048\u001b[0m         \u001b[38;5;124m\"\u001b[39m\u001b[38;5;124mNo such file or directory: \u001b[39m\u001b[38;5;124m'\u001b[39m\u001b[38;5;132;01m%s\u001b[39;00m\u001b[38;5;124m'\u001b[39m\u001b[38;5;124m\"\u001b[39m \u001b[38;5;241m%\u001b[39m (\u001b[38;5;28mself\u001b[39m\u001b[38;5;241m.\u001b[39mdata)) \u001b[38;5;28;01mfrom\u001b[39;00m \u001b[38;5;21;01me\u001b[39;00m\n\u001b[1;32m   1049\u001b[0m md \u001b[38;5;241m=\u001b[39m {}\n\u001b[1;32m   1050\u001b[0m \u001b[38;5;28;01mif\u001b[39;00m \u001b[38;5;28mself\u001b[39m\u001b[38;5;241m.\u001b[39mmetadata:\n",
      "\u001b[0;31mFileNotFoundError\u001b[0m: No such file or directory: './images/cylinder_mesh.png'"
     ]
    },
    {
     "data": {
      "text/plain": [
       "<IPython.core.display.Image object>"
      ]
     },
     "execution_count": 5,
     "metadata": {},
     "output_type": "execute_result"
    }
   ],
   "source": [
    "Image(\"./images/cylinder_mesh.png\", width=350)"
   ]
  },
  {
   "cell_type": "markdown",
   "id": "6718409f-3dad-40ba-b813-45e2f74b5c17",
   "metadata": {},
   "source": [
    "First we'll need to grab some pre-made DagMC models."
   ]
  },
  {
   "cell_type": "code",
   "execution_count": 6,
   "id": "6e064e35-eca6-48e7-bbdf-cd821981dc58",
   "metadata": {
    "tags": []
   },
   "outputs": [],
   "source": [
    "download(fuel_pin_url)"
   ]
  },
  {
   "cell_type": "markdown",
   "id": "bafc3793-55e5-4d55-adda-3bf7f84ca6ea",
   "metadata": {},
   "source": [
    "To create a geometry where DAGMC represents the entire model, we'll make a DAGMC universe and use it as the root universe of the model."
   ]
  },
  {
   "cell_type": "code",
   "execution_count": 7,
   "id": "59e31d21-c3d3-40a4-ba24-f06d0236908c",
   "metadata": {
    "tags": []
   },
   "outputs": [],
   "source": [
    "dagmc_univ = openmc.DAGMCUniverse(filename=\"dagmc.h5m\")\n",
    "geometry = openmc.Geometry(root=dagmc_univ)"
   ]
  },
  {
   "cell_type": "markdown",
   "id": "7dd42ba6-b0f0-4744-a5b9-847ee58b91ef",
   "metadata": {},
   "source": [
    "Now we'll tie the geometry, materials and some settings into a model object."
   ]
  },
  {
   "cell_type": "code",
   "execution_count": 8,
   "id": "4e4d77a4-9d63-4e1d-8bf4-412d0d6118b8",
   "metadata": {
    "tags": []
   },
   "outputs": [],
   "source": [
    "settings = openmc.Settings()\n",
    "settings.batches = 10\n",
    "settings.inactive = 2\n",
    "settings.particles = 5000\n",
    "\n",
    "model = openmc.Model(geometry=geometry, materials=materials, settings=settings)\n",
    "model.export_to_model_xml()"
   ]
  },
  {
   "cell_type": "markdown",
   "id": "d60bf50d-5a10-405e-ab31-fb8953a0b88b",
   "metadata": {},
   "source": [
    "Unlike conventional geometries in OpenMC, we really have no way of knowing what our model looks like at this point. Thankfully DagMC geometries can be plotted just like any other OpenMC geometry to give us an idea of what we're now working with.\n",
    "\n",
    "Note that material assignments have already been applied to this model. Materials can be assigned either using ids or names of materials in the `materials.xml` file. It is recommended that material names are used for assignment for readability."
   ]
  },
  {
   "cell_type": "code",
   "execution_count": 9,
   "id": "c68dcf27-016d-4261-b440-d5af5fc0cf09",
   "metadata": {
    "tags": []
   },
   "outputs": [
    {
     "data": {
      "image/png": "[encoded data removed]",
      "text/plain": [
       "<IPython.core.display.Image object>"
      ]
     },
     "metadata": {},
     "output_type": "display_data"
    }
   ],
   "source": [
    "p = openmc.Plot()\n",
    "p.width = (25.0, 25.0)\n",
    "p.pixels = (400, 400)\n",
    "p.color_by = 'material'\n",
    "p.colors = {u235: 'yellow', water: 'blue'}\n",
    "openmc.plot_inline(p)"
   ]
  },
  {
   "cell_type": "markdown",
   "id": "0b853e83-0d3f-4e88-bb55-eaa9e7619b49",
   "metadata": {},
   "source": [
    "Now that we've had a chance to examine the model a bit, we can finish applying our settings and add a source."
   ]
  },
  {
   "cell_type": "code",
   "execution_count": 10,
   "id": "e6074922-b10d-41a4-b11d-f12cff81af45",
   "metadata": {
    "tags": []
   },
   "outputs": [
    {
     "name": "stderr",
     "output_type": "stream",
     "text": [
      "/home/joe/miniconda3/envs/openmc-env/lib/python3.12/site-packages/openmc/source.py:390: FutureWarning: This class is deprecated in favor of 'IndependentSource'\n",
      "  warnings.warn(\"This class is deprecated in favor of 'IndependentSource'\", FutureWarning)\n"
     ]
    }
   ],
   "source": [
    "model.settings.source = openmc.Source(space=openmc.stats.Box([-4., -4., -4.],\n",
    "                                                       [ 4.,  4.,  4.]))\n",
    "model.export_to_model_xml()"
   ]
  },
  {
   "cell_type": "markdown",
   "id": "6f0e849e-582f-46e0-bf35-3e49e7f3152b",
   "metadata": {},
   "source": [
    "Tallies work in the same way when using DAGMC geometries too. We'll add a tally on the fuel cell here."
   ]
  },
  {
   "cell_type": "code",
   "execution_count": 11,
   "id": "f133d2b8-5328-48f8-9b50-df923d60f276",
   "metadata": {
    "tags": []
   },
   "outputs": [],
   "source": [
    "tally = openmc.Tally()\n",
    "tally.scores = ['total']\n",
    "tally.filters = [openmc.CellFilter(1)]\n",
    "tallies = openmc.Tallies([tally])\n",
    "\n",
    "model.tallies = tallies\n",
    "model.export_to_model_xml()"
   ]
  },
  {
   "cell_type": "markdown",
   "id": "16b77de1-3df3-4616-b808-f48b7ab1af83",
   "metadata": {},
   "source": [
    "**Note:** Applying tally filters in DagMC models requires prior knowledge of the model. Here, we know that the fuel cell's volume ID in the CAD sofware is 1. To identify cells without use of CAD software, load them into the [OpenMC plotter](https://github.com/openmc-dev/plotter) where cell, material, and volume IDs can be identified for native both OpenMC and DagMC geometries."
   ]
  },
  {
   "cell_type": "markdown",
   "id": "ce815a75-28ac-4695-90fb-bf367059a5b0",
   "metadata": {},
   "source": [
    "Now we're ready to run the simulation just like any other OpenMC run."
   ]
  },
  {
   "cell_type": "code",
   "execution_count": 12,
   "id": "ec67ff63-a9e7-4d74-9a4e-ec9383eca317",
   "metadata": {
    "collapsed": true,
    "jupyter": {
     "outputs_hidden": true
    },
    "scrolled": true,
    "tags": []
   },
   "outputs": [
    {
     "name": "stdout",
     "output_type": "stream",
     "text": [
      "[v5:99761] mca_base_component_repository_open: unable to open mca_btl_openib: librdmacm.so.1: cannot open shared object file: No such file or directory (ignored)\n",
      "                                %%%%%%%%%%%%%%%\n",
      "                           %%%%%%%%%%%%%%%%%%%%%%%%\n",
      "                        %%%%%%%%%%%%%%%%%%%%%%%%%%%%%%\n",
      "                      %%%%%%%%%%%%%%%%%%%%%%%%%%%%%%%%%%\n",
      "                    %%%%%%%%%%%%%%%%%%%%%%%%%%%%%%%%%%%%%%\n",
      "                   %%%%%%%%%%%%%%%%%%%%%%%%%%%%%%%%%%%%%%%%\n",
      "                                    %%%%%%%%%%%%%%%%%%%%%%%%\n",
      "                                     %%%%%%%%%%%%%%%%%%%%%%%%\n",
      "                 ###############      %%%%%%%%%%%%%%%%%%%%%%%%\n",
      "                ##################     %%%%%%%%%%%%%%%%%%%%%%%\n",
      "                ###################     %%%%%%%%%%%%%%%%%%%%%%%\n",
      "                ####################     %%%%%%%%%%%%%%%%%%%%%%\n",
      "                #####################     %%%%%%%%%%%%%%%%%%%%%\n",
      "                ######################     %%%%%%%%%%%%%%%%%%%%\n",
      "                #######################     %%%%%%%%%%%%%%%%%%\n",
      "                 #######################     %%%%%%%%%%%%%%%%%\n",
      "                 ######################     %%%%%%%%%%%%%%%%%\n",
      "                  ####################     %%%%%%%%%%%%%%%%%\n",
      "                    #################     %%%%%%%%%%%%%%%%%\n",
      "                     ###############     %%%%%%%%%%%%%%%%\n",
      "                       ############     %%%%%%%%%%%%%%%\n",
      "                          ########     %%%%%%%%%%%%%%\n",
      "                                      %%%%%%%%%%%\n",
      "\n",
      "                 | The OpenMC Monte Carlo Code\n",
      "       Copyright | 2011-2023 MIT, UChicago Argonne LLC, and contributors\n",
      "         License | https://docs.openmc.org/en/latest/license.html\n",
      "         Version | 0.14.0\n",
      "        Git SHA1 | e1a8ee7794b441c992426f17fafe216391cbba83\n",
      "       Date/Time | 2024-05-17 16:56:27\n",
      "   MPI Processes | 1\n",
      "  OpenMP Threads | 8\n",
      "\n",
      " Reading model XML file './model.xml' ...\n",
      " WARNING: Other XML file input(s) are present. These files may be ignored in\n",
      "          favor of the ./model.xml file.\n",
      " Reading cross sections XML file...\n",
      "Loading file dagmc.h5m\n",
      "Initializing the GeomQueryTool...\n",
      "Using faceting tolerance: 0.0001\n",
      "Building acceleration data structures...\n",
      " Reading U235 from /home/joe/projects/endfb71_hdf5/neutron/U235.h5\n",
      " Reading H1 from /home/joe/projects/endfb71_hdf5/neutron/H1.h5\n",
      " Reading O16 from /home/joe/projects/endfb71_hdf5/neutron/O16.h5\n",
      " Reading c_H_in_H2O from /home/joe/projects/endfb71_hdf5/neutron/c_H_in_H2O.h5\n",
      " Minimum neutron data temperature: 294 K\n",
      " Maximum neutron data temperature: 294 K\n",
      " Preparing distributed cell instances...\n",
      " Reading plot XML file...\n",
      " Writing summary.h5 file...\n",
      " Maximum neutron transport energy: 20000000 eV for U235\n",
      " Initializing source particles...\n",
      "\n",
      " ====================>     K EIGENVALUE SIMULATION     <====================\n",
      "\n",
      "  Bat./Gen.      k            Average k\n",
      "  =========   ========   ====================\n",
      "        1/1    1.16584\n",
      "        2/1    1.04592\n",
      "        3/1    0.98438\n",
      "        4/1    0.97929    0.98184 +/- 0.00255\n",
      "        5/1    0.97962    0.98110 +/- 0.00165\n",
      "        6/1    0.95980    0.97577 +/- 0.00545\n",
      "        7/1    0.97772    0.97616 +/- 0.00424\n",
      "        8/1    0.97676    0.97626 +/- 0.00346\n",
      "        9/1    0.97424    0.97597 +/- 0.00294\n",
      "       10/1    0.98027    0.97651 +/- 0.00260\n",
      " Creating state point statepoint.10.h5...\n",
      "\n",
      " =======================>     TIMING STATISTICS     <=======================\n",
      "\n",
      " Total time for initialization     = 2.7113e-01 seconds\n",
      "   Reading cross sections          = 1.8780e-01 seconds\n",
      " Total time in simulation          = 8.6681e-01 seconds\n",
      "   Time in transport only          = 7.9917e-01 seconds\n",
      "   Time in inactive batches        = 1.5487e-01 seconds\n",
      "   Time in active batches          = 7.1194e-01 seconds\n",
      "   Time synchronizing fission bank = 3.1102e-03 seconds\n",
      "     Sampling source sites         = 2.8308e-03 seconds\n",
      "     SEND/RECV source sites        = 2.4211e-04 seconds\n",
      "   Time accumulating tallies       = 5.5194e-02 seconds\n",
      "   Time writing statepoints        = 7.0438e-03 seconds\n",
      " Total time for finalization       = 1.4503e-04 seconds\n",
      " Total time elapsed                = 1.1491e+00 seconds\n",
      " Calculation Rate (inactive)       = 64570.3 particles/second\n",
      " Calculation Rate (active)         = 56184.6 particles/second\n",
      "\n",
      " ============================>     RESULTS     <============================\n",
      "\n",
      " k-effective (Collision)     = 0.98183 +/- 0.00246\n",
      " k-effective (Track-length)  = 0.97651 +/- 0.00260\n",
      " k-effective (Absorption)    = 0.97266 +/- 0.00420\n",
      " Combined k-effective        = 0.97787 +/- 0.00263\n",
      " Leakage Fraction            = 0.57100 +/- 0.00180\n",
      "\n"
     ]
    }
   ],
   "source": [
    "openmc.run()"
   ]
  },
  {
   "cell_type": "markdown",
   "id": "0c4f07a6-fb83-4525-98d7-24c27a587061",
   "metadata": {},
   "source": [
    "Neat! But this pincell is something we could've done with CSG. Let's take a look at something more complex. We'll download a pre-built model of the [Utah teapot](https://en.wikipedia.org/wiki/Utah_teapot) and use it here."
   ]
  },
  {
   "cell_type": "code",
   "execution_count": 13,
   "id": "85d416c2-ca27-43d9-8707-f79eea64dcca",
   "metadata": {},
   "outputs": [],
   "source": [
    "download(teapot_url, \"teapot.h5m\")\n",
    "dagmc_univ = openmc.DAGMCUniverse(filename=\"teapot.h5m\")\n",
    "geometry = openmc.Geometry(root=dagmc_univ)"
   ]
  },
  {
   "cell_type": "code",
   "execution_count": 14,
   "id": "728604d4-c898-465c-a5c6-aa47542fdc8f",
   "metadata": {
    "collapsed": true,
    "jupyter": {
     "outputs_hidden": true
    }
   },
   "outputs": [
    {
     "ename": "FileNotFoundError",
     "evalue": "No such file or directory: './images/teapot.jpg'",
     "output_type": "error",
     "traceback": [
      "\u001b[0;31m---------------------------------------------------------------------------\u001b[0m",
      "\u001b[0;31mTypeError\u001b[0m                                 Traceback (most recent call last)",
      "File \u001b[0;32m~/miniconda3/envs/openmc-env/lib/python3.12/site-packages/IPython/core/display.py:1045\u001b[0m, in \u001b[0;36mImage._data_and_metadata\u001b[0;34m(self, always_both)\u001b[0m\n\u001b[1;32m   1044\u001b[0m \u001b[38;5;28;01mtry\u001b[39;00m:\n\u001b[0;32m-> 1045\u001b[0m     b64_data \u001b[38;5;241m=\u001b[39m \u001b[43mb2a_base64\u001b[49m\u001b[43m(\u001b[49m\u001b[38;5;28;43mself\u001b[39;49m\u001b[38;5;241;43m.\u001b[39;49m\u001b[43mdata\u001b[49m\u001b[43m,\u001b[49m\u001b[43m \u001b[49m\u001b[43mnewline\u001b[49m\u001b[38;5;241;43m=\u001b[39;49m\u001b[38;5;28;43;01mFalse\u001b[39;49;00m\u001b[43m)\u001b[49m\u001b[38;5;241m.\u001b[39mdecode(\u001b[38;5;124m\"\u001b[39m\u001b[38;5;124mascii\u001b[39m\u001b[38;5;124m\"\u001b[39m)\n\u001b[1;32m   1046\u001b[0m \u001b[38;5;28;01mexcept\u001b[39;00m \u001b[38;5;167;01mTypeError\u001b[39;00m \u001b[38;5;28;01mas\u001b[39;00m e:\n",
      "\u001b[0;31mTypeError\u001b[0m: a bytes-like object is required, not 'str'",
      "\nThe above exception was the direct cause of the following exception:\n",
      "\u001b[0;31mFileNotFoundError\u001b[0m                         Traceback (most recent call last)",
      "File \u001b[0;32m~/miniconda3/envs/openmc-env/lib/python3.12/site-packages/IPython/core/formatters.py:977\u001b[0m, in \u001b[0;36mMimeBundleFormatter.__call__\u001b[0;34m(self, obj, include, exclude)\u001b[0m\n\u001b[1;32m    974\u001b[0m     method \u001b[38;5;241m=\u001b[39m get_real_method(obj, \u001b[38;5;28mself\u001b[39m\u001b[38;5;241m.\u001b[39mprint_method)\n\u001b[1;32m    976\u001b[0m     \u001b[38;5;28;01mif\u001b[39;00m method \u001b[38;5;129;01mis\u001b[39;00m \u001b[38;5;129;01mnot\u001b[39;00m \u001b[38;5;28;01mNone\u001b[39;00m:\n\u001b[0;32m--> 977\u001b[0m         \u001b[38;5;28;01mreturn\u001b[39;00m \u001b[43mmethod\u001b[49m\u001b[43m(\u001b[49m\u001b[43minclude\u001b[49m\u001b[38;5;241;43m=\u001b[39;49m\u001b[43minclude\u001b[49m\u001b[43m,\u001b[49m\u001b[43m \u001b[49m\u001b[43mexclude\u001b[49m\u001b[38;5;241;43m=\u001b[39;49m\u001b[43mexclude\u001b[49m\u001b[43m)\u001b[49m\n\u001b[1;32m    978\u001b[0m     \u001b[38;5;28;01mreturn\u001b[39;00m \u001b[38;5;28;01mNone\u001b[39;00m\n\u001b[1;32m    979\u001b[0m \u001b[38;5;28;01melse\u001b[39;00m:\n",
      "File \u001b[0;32m~/miniconda3/envs/openmc-env/lib/python3.12/site-packages/IPython/core/display.py:1035\u001b[0m, in \u001b[0;36mImage._repr_mimebundle_\u001b[0;34m(self, include, exclude)\u001b[0m\n\u001b[1;32m   1033\u001b[0m \u001b[38;5;28;01mif\u001b[39;00m \u001b[38;5;28mself\u001b[39m\u001b[38;5;241m.\u001b[39membed:\n\u001b[1;32m   1034\u001b[0m     mimetype \u001b[38;5;241m=\u001b[39m \u001b[38;5;28mself\u001b[39m\u001b[38;5;241m.\u001b[39m_mimetype\n\u001b[0;32m-> 1035\u001b[0m     data, metadata \u001b[38;5;241m=\u001b[39m \u001b[38;5;28;43mself\u001b[39;49m\u001b[38;5;241;43m.\u001b[39;49m\u001b[43m_data_and_metadata\u001b[49m\u001b[43m(\u001b[49m\u001b[43malways_both\u001b[49m\u001b[38;5;241;43m=\u001b[39;49m\u001b[38;5;28;43;01mTrue\u001b[39;49;00m\u001b[43m)\u001b[49m\n\u001b[1;32m   1036\u001b[0m     \u001b[38;5;28;01mif\u001b[39;00m metadata:\n\u001b[1;32m   1037\u001b[0m         metadata \u001b[38;5;241m=\u001b[39m {mimetype: metadata}\n",
      "File \u001b[0;32m~/miniconda3/envs/openmc-env/lib/python3.12/site-packages/IPython/core/display.py:1047\u001b[0m, in \u001b[0;36mImage._data_and_metadata\u001b[0;34m(self, always_both)\u001b[0m\n\u001b[1;32m   1045\u001b[0m     b64_data \u001b[38;5;241m=\u001b[39m b2a_base64(\u001b[38;5;28mself\u001b[39m\u001b[38;5;241m.\u001b[39mdata, newline\u001b[38;5;241m=\u001b[39m\u001b[38;5;28;01mFalse\u001b[39;00m)\u001b[38;5;241m.\u001b[39mdecode(\u001b[38;5;124m\"\u001b[39m\u001b[38;5;124mascii\u001b[39m\u001b[38;5;124m\"\u001b[39m)\n\u001b[1;32m   1046\u001b[0m \u001b[38;5;28;01mexcept\u001b[39;00m \u001b[38;5;167;01mTypeError\u001b[39;00m \u001b[38;5;28;01mas\u001b[39;00m e:\n\u001b[0;32m-> 1047\u001b[0m     \u001b[38;5;28;01mraise\u001b[39;00m \u001b[38;5;167;01mFileNotFoundError\u001b[39;00m(\n\u001b[1;32m   1048\u001b[0m         \u001b[38;5;124m\"\u001b[39m\u001b[38;5;124mNo such file or directory: \u001b[39m\u001b[38;5;124m'\u001b[39m\u001b[38;5;132;01m%s\u001b[39;00m\u001b[38;5;124m'\u001b[39m\u001b[38;5;124m\"\u001b[39m \u001b[38;5;241m%\u001b[39m (\u001b[38;5;28mself\u001b[39m\u001b[38;5;241m.\u001b[39mdata)) \u001b[38;5;28;01mfrom\u001b[39;00m \u001b[38;5;21;01me\u001b[39;00m\n\u001b[1;32m   1049\u001b[0m md \u001b[38;5;241m=\u001b[39m {}\n\u001b[1;32m   1050\u001b[0m \u001b[38;5;28;01mif\u001b[39;00m \u001b[38;5;28mself\u001b[39m\u001b[38;5;241m.\u001b[39mmetadata:\n",
      "\u001b[0;31mFileNotFoundError\u001b[0m: No such file or directory: './images/teapot.jpg'"
     ]
    },
    {
     "ename": "FileNotFoundError",
     "evalue": "No such file or directory: './images/teapot.jpg'",
     "output_type": "error",
     "traceback": [
      "\u001b[0;31m---------------------------------------------------------------------------\u001b[0m",
      "\u001b[0;31mTypeError\u001b[0m                                 Traceback (most recent call last)",
      "File \u001b[0;32m~/miniconda3/envs/openmc-env/lib/python3.12/site-packages/IPython/core/display.py:1045\u001b[0m, in \u001b[0;36mImage._data_and_metadata\u001b[0;34m(self, always_both)\u001b[0m\n\u001b[1;32m   1044\u001b[0m \u001b[38;5;28;01mtry\u001b[39;00m:\n\u001b[0;32m-> 1045\u001b[0m     b64_data \u001b[38;5;241m=\u001b[39m \u001b[43mb2a_base64\u001b[49m\u001b[43m(\u001b[49m\u001b[38;5;28;43mself\u001b[39;49m\u001b[38;5;241;43m.\u001b[39;49m\u001b[43mdata\u001b[49m\u001b[43m,\u001b[49m\u001b[43m \u001b[49m\u001b[43mnewline\u001b[49m\u001b[38;5;241;43m=\u001b[39;49m\u001b[38;5;28;43;01mFalse\u001b[39;49;00m\u001b[43m)\u001b[49m\u001b[38;5;241m.\u001b[39mdecode(\u001b[38;5;124m\"\u001b[39m\u001b[38;5;124mascii\u001b[39m\u001b[38;5;124m\"\u001b[39m)\n\u001b[1;32m   1046\u001b[0m \u001b[38;5;28;01mexcept\u001b[39;00m \u001b[38;5;167;01mTypeError\u001b[39;00m \u001b[38;5;28;01mas\u001b[39;00m e:\n",
      "\u001b[0;31mTypeError\u001b[0m: a bytes-like object is required, not 'str'",
      "\nThe above exception was the direct cause of the following exception:\n",
      "\u001b[0;31mFileNotFoundError\u001b[0m                         Traceback (most recent call last)",
      "File \u001b[0;32m~/miniconda3/envs/openmc-env/lib/python3.12/site-packages/IPython/core/formatters.py:347\u001b[0m, in \u001b[0;36mBaseFormatter.__call__\u001b[0;34m(self, obj)\u001b[0m\n\u001b[1;32m    345\u001b[0m     method \u001b[38;5;241m=\u001b[39m get_real_method(obj, \u001b[38;5;28mself\u001b[39m\u001b[38;5;241m.\u001b[39mprint_method)\n\u001b[1;32m    346\u001b[0m     \u001b[38;5;28;01mif\u001b[39;00m method \u001b[38;5;129;01mis\u001b[39;00m \u001b[38;5;129;01mnot\u001b[39;00m \u001b[38;5;28;01mNone\u001b[39;00m:\n\u001b[0;32m--> 347\u001b[0m         \u001b[38;5;28;01mreturn\u001b[39;00m \u001b[43mmethod\u001b[49m\u001b[43m(\u001b[49m\u001b[43m)\u001b[49m\n\u001b[1;32m    348\u001b[0m     \u001b[38;5;28;01mreturn\u001b[39;00m \u001b[38;5;28;01mNone\u001b[39;00m\n\u001b[1;32m    349\u001b[0m \u001b[38;5;28;01melse\u001b[39;00m:\n",
      "File \u001b[0;32m~/miniconda3/envs/openmc-env/lib/python3.12/site-packages/IPython/core/display.py:1067\u001b[0m, in \u001b[0;36mImage._repr_png_\u001b[0;34m(self)\u001b[0m\n\u001b[1;32m   1065\u001b[0m \u001b[38;5;28;01mdef\u001b[39;00m \u001b[38;5;21m_repr_png_\u001b[39m(\u001b[38;5;28mself\u001b[39m):\n\u001b[1;32m   1066\u001b[0m     \u001b[38;5;28;01mif\u001b[39;00m \u001b[38;5;28mself\u001b[39m\u001b[38;5;241m.\u001b[39membed \u001b[38;5;129;01mand\u001b[39;00m \u001b[38;5;28mself\u001b[39m\u001b[38;5;241m.\u001b[39mformat \u001b[38;5;241m==\u001b[39m \u001b[38;5;28mself\u001b[39m\u001b[38;5;241m.\u001b[39m_FMT_PNG:\n\u001b[0;32m-> 1067\u001b[0m         \u001b[38;5;28;01mreturn\u001b[39;00m \u001b[38;5;28;43mself\u001b[39;49m\u001b[38;5;241;43m.\u001b[39;49m\u001b[43m_data_and_metadata\u001b[49m\u001b[43m(\u001b[49m\u001b[43m)\u001b[49m\n",
      "File \u001b[0;32m~/miniconda3/envs/openmc-env/lib/python3.12/site-packages/IPython/core/display.py:1047\u001b[0m, in \u001b[0;36mImage._data_and_metadata\u001b[0;34m(self, always_both)\u001b[0m\n\u001b[1;32m   1045\u001b[0m     b64_data \u001b[38;5;241m=\u001b[39m b2a_base64(\u001b[38;5;28mself\u001b[39m\u001b[38;5;241m.\u001b[39mdata, newline\u001b[38;5;241m=\u001b[39m\u001b[38;5;28;01mFalse\u001b[39;00m)\u001b[38;5;241m.\u001b[39mdecode(\u001b[38;5;124m\"\u001b[39m\u001b[38;5;124mascii\u001b[39m\u001b[38;5;124m\"\u001b[39m)\n\u001b[1;32m   1046\u001b[0m \u001b[38;5;28;01mexcept\u001b[39;00m \u001b[38;5;167;01mTypeError\u001b[39;00m \u001b[38;5;28;01mas\u001b[39;00m e:\n\u001b[0;32m-> 1047\u001b[0m     \u001b[38;5;28;01mraise\u001b[39;00m \u001b[38;5;167;01mFileNotFoundError\u001b[39;00m(\n\u001b[1;32m   1048\u001b[0m         \u001b[38;5;124m\"\u001b[39m\u001b[38;5;124mNo such file or directory: \u001b[39m\u001b[38;5;124m'\u001b[39m\u001b[38;5;132;01m%s\u001b[39;00m\u001b[38;5;124m'\u001b[39m\u001b[38;5;124m\"\u001b[39m \u001b[38;5;241m%\u001b[39m (\u001b[38;5;28mself\u001b[39m\u001b[38;5;241m.\u001b[39mdata)) \u001b[38;5;28;01mfrom\u001b[39;00m \u001b[38;5;21;01me\u001b[39;00m\n\u001b[1;32m   1049\u001b[0m md \u001b[38;5;241m=\u001b[39m {}\n\u001b[1;32m   1050\u001b[0m \u001b[38;5;28;01mif\u001b[39;00m \u001b[38;5;28mself\u001b[39m\u001b[38;5;241m.\u001b[39mmetadata:\n",
      "\u001b[0;31mFileNotFoundError\u001b[0m: No such file or directory: './images/teapot.jpg'"
     ]
    },
    {
     "data": {
      "text/plain": [
       "<IPython.core.display.Image object>"
      ]
     },
     "execution_count": 14,
     "metadata": {},
     "output_type": "execute_result"
    }
   ],
   "source": [
    "Image(\"./images/teapot.jpg\", width=600)"
   ]
  },
  {
   "cell_type": "markdown",
   "id": "6d9928c6-c4c5-47c3-842f-84111e77fa74",
   "metadata": {},
   "source": [
    "Our teapot is made out of iron, so we'll want to create that material and make sure it is in our `materials.xml` file."
   ]
  },
  {
   "cell_type": "markdown",
   "id": "5f1d1375",
   "metadata": {},
   "source": [
    "The DAGMC file contains tessellated surfaces that make up volumes. We can use built-in methods to inspect the geometry."
   ]
  },
  {
   "cell_type": "code",
   "execution_count": 15,
   "id": "44690ee6",
   "metadata": {},
   "outputs": [
    {
     "data": {
      "text/plain": [
       "5"
      ]
     },
     "execution_count": 15,
     "metadata": {},
     "output_type": "execute_result"
    }
   ],
   "source": [
    "# returns the number of cells in the dagmc geometry\n",
    "dagmc_univ.n_cells"
   ]
  },
  {
   "cell_type": "code",
   "execution_count": 16,
   "id": "2911de4f",
   "metadata": {},
   "outputs": [
    {
     "data": {
      "text/plain": [
       "112"
      ]
     },
     "execution_count": 16,
     "metadata": {},
     "output_type": "execute_result"
    }
   ],
   "source": [
    "# returns the number of surfaces in the dagmc geometry\n",
    "dagmc_univ.n_surfaces"
   ]
  },
  {
   "cell_type": "code",
   "execution_count": 17,
   "id": "7a83ed7b",
   "metadata": {},
   "outputs": [
    {
     "data": {
      "text/plain": [
       "['Graveyard', 'iron', 'water']"
      ]
     },
     "execution_count": 17,
     "metadata": {},
     "output_type": "execute_result"
    }
   ],
   "source": [
    "# returns the names of materials used in the geometry.\n",
    "# these names are used when creating openmc.Materials\n",
    "dagmc_univ.material_names"
   ]
  },
  {
   "cell_type": "code",
   "execution_count": 18,
   "id": "5548a539-f133-44a2-8450-89c859360f2b",
   "metadata": {},
   "outputs": [],
   "source": [
    "iron = openmc.Material(name=\"iron\")\n",
    "iron.add_nuclide(\"Fe54\", 0.0564555822608)\n",
    "iron.add_nuclide(\"Fe56\", 0.919015287728)\n",
    "iron.add_nuclide(\"Fe57\", 0.0216036861685)\n",
    "iron.add_nuclide(\"Fe58\", 0.00292544384231)\n",
    "iron.set_density(\"g/cm3\", 7.874)\n",
    "\n",
    "water = openmc.Material(name=\"water\")\n",
    "water.add_nuclide('H1', 2.0, 'ao')\n",
    "water.add_nuclide('O16', 1.0, 'ao')\n",
    "water.set_density('g/cc', 1.0)\n",
    "water.add_s_alpha_beta('c_H_in_H2O')\n",
    "water.id = 41\n",
    "\n",
    "materials = openmc.Materials([iron, water])\n",
    "materials.export_to_xml()"
   ]
  },
  {
   "cell_type": "code",
   "execution_count": 19,
   "id": "d8f4dd2d-667a-40f9-b867-23776b08943e",
   "metadata": {},
   "outputs": [
    {
     "name": "stderr",
     "output_type": "stream",
     "text": [
      "/home/joe/miniconda3/envs/openmc-env/lib/python3.12/site-packages/openmc/source.py:390: FutureWarning: This class is deprecated in favor of 'IndependentSource'\n",
      "  warnings.warn(\"This class is deprecated in favor of 'IndependentSource'\", FutureWarning)\n"
     ]
    }
   ],
   "source": [
    "settings = openmc.Settings()\n",
    "settings.batches = 10\n",
    "settings.particles = 5000\n",
    "settings.run_mode = \"fixed source\"\n",
    "\n",
    "space = openmc.stats.Box(*geometry.bounding_box)\n",
    "my_source = openmc.Source(space=space, domains=[water])\n",
    "my_source.energy = openmc.stats.Discrete(x=[12.0,], p=[1.0,])\n",
    "\n",
    "settings.source = my_source"
   ]
  },
  {
   "cell_type": "code",
   "execution_count": 20,
   "id": "403597b3-e66e-4ab2-bab2-f0b940704de0",
   "metadata": {},
   "outputs": [],
   "source": [
    "mesh = openmc.RegularMesh()  # could use from_domain here to avid setting lower_left and upper_right\n",
    "mesh.dimension = (120, 1, 40)\n",
    "mesh.lower_left = (-20.0, 0.0, -10.0)\n",
    "mesh.upper_right = (20.0, 1.0, 4.0)\n",
    "\n",
    "mesh_filter = openmc.MeshFilter(mesh)\n",
    "\n",
    "pot_filter = openmc.CellFilter([1])\n",
    "pot_tally = openmc.Tally()\n",
    "pot_tally.filters = [mesh_filter, pot_filter]\n",
    "pot_tally.scores = ['flux']\n",
    "\n",
    "water_filter = openmc.CellFilter([5])\n",
    "water_tally = openmc.Tally()\n",
    "water_tally.filters = [mesh_filter, water_filter]\n",
    "water_tally.scores = ['flux']\n",
    "\n",
    "\n",
    "tallies = openmc.Tallies([pot_tally, water_tally])"
   ]
  },
  {
   "cell_type": "code",
   "execution_count": 21,
   "id": "67630d35-6f83-4993-a286-d68f570702df",
   "metadata": {
    "tags": []
   },
   "outputs": [],
   "source": [
    "model = openmc.Model(materials=materials, geometry=geometry, settings=settings, tallies=tallies)\n",
    "model.export_to_model_xml()"
   ]
  },
  {
   "cell_type": "markdown",
   "id": "a00180de-8121-4a97-a296-9587cceb0fba",
   "metadata": {},
   "source": [
    "To make sure we've updated the file correctly, let's make a plot of the teapot."
   ]
  },
  {
   "cell_type": "code",
   "execution_count": 22,
   "id": "c6c58151-4b6c-4e3d-92d9-e657c2c239c2",
   "metadata": {},
   "outputs": [
    {
     "data": {
      "image/png": "[encoded data removed]",
      "text/plain": [
       "<IPython.core.display.Image object>"
      ]
     },
     "metadata": {},
     "output_type": "display_data"
    }
   ],
   "source": [
    "p = openmc.Plot()\n",
    "p.basis = 'xz'\n",
    "p.origin = (0.0, -0.1, 0.0)\n",
    "p.width = (30.0, 20.0)\n",
    "p.pixels = (450, 300)\n",
    "p.color_by = 'material'\n",
    "p.colors = {iron: 'gray', water: 'blue'}\n",
    "openmc.plot_inline(p)"
   ]
  },
  {
   "cell_type": "markdown",
   "id": "f7256bd2-d743-4e7b-aee7-67a4d3e13e2f",
   "metadata": {},
   "source": [
    "Here we start to see some of the advantages CAD geometries provide. This particular file was pulled from the [GrabCAD](https://grabcad.com/library) and pushed through the DAGMC workflow without modification (other than the addition of material assignments). It would take a considerable amount of time to create a model like this using CSG!"
   ]
  },
  {
   "cell_type": "code",
   "execution_count": 23,
   "id": "6d7b58fe-1cfb-4913-b979-67e499e0301d",
   "metadata": {},
   "outputs": [
    {
     "data": {
      "image/png": "[encoded data removed]",
      "text/plain": [
       "<IPython.core.display.Image object>"
      ]
     },
     "metadata": {},
     "output_type": "display_data"
    }
   ],
   "source": [
    "p.width = (18.0, 6.0)\n",
    "p.basis = 'xz'\n",
    "p.origin = (10.0, 0.1, 5.0)\n",
    "p.pixels = (600, 200)\n",
    "p.color_by = 'material'\n",
    "openmc.plot_inline(p)"
   ]
  },
  {
   "cell_type": "markdown",
   "id": "ff73df08-791a-4df6-8e9c-9eea2aaefd7d",
   "metadata": {},
   "source": [
    "Now let's brew some tea! ... using a very hot neutron source. We'll use some well-placed point sources distributed throughout the model."
   ]
  },
  {
   "cell_type": "markdown",
   "id": "ee598db0-2219-4122-b58a-5996aa74ffac",
   "metadata": {},
   "source": [
    "...and setup a couple of mesh tallies. One for the kettle, and one for the water inside."
   ]
  },
  {
   "cell_type": "code",
   "execution_count": 24,
   "id": "30d37b8d-4e2d-4117-8226-58b244226c89",
   "metadata": {
    "collapsed": true,
    "jupyter": {
     "outputs_hidden": true
    },
    "scrolled": true
   },
   "outputs": [
    {
     "name": "stdout",
     "output_type": "stream",
     "text": [
      "[v5:99178] mca_base_component_repository_open: unable to open mca_btl_openib: librdmacm.so.1: cannot open shared object file: No such file or directory (ignored)\n",
      "                                %%%%%%%%%%%%%%%\n",
      "                           %%%%%%%%%%%%%%%%%%%%%%%%\n",
      "                        %%%%%%%%%%%%%%%%%%%%%%%%%%%%%%\n",
      "                      %%%%%%%%%%%%%%%%%%%%%%%%%%%%%%%%%%\n",
      "                    %%%%%%%%%%%%%%%%%%%%%%%%%%%%%%%%%%%%%%\n",
      "                   %%%%%%%%%%%%%%%%%%%%%%%%%%%%%%%%%%%%%%%%\n",
      "                                    %%%%%%%%%%%%%%%%%%%%%%%%\n",
      "                                     %%%%%%%%%%%%%%%%%%%%%%%%\n",
      "                 ###############      %%%%%%%%%%%%%%%%%%%%%%%%\n",
      "                ##################     %%%%%%%%%%%%%%%%%%%%%%%\n",
      "                ###################     %%%%%%%%%%%%%%%%%%%%%%%\n",
      "                ####################     %%%%%%%%%%%%%%%%%%%%%%\n",
      "                #####################     %%%%%%%%%%%%%%%%%%%%%\n",
      "                ######################     %%%%%%%%%%%%%%%%%%%%\n",
      "                #######################     %%%%%%%%%%%%%%%%%%\n",
      "                 #######################     %%%%%%%%%%%%%%%%%\n",
      "                 ######################     %%%%%%%%%%%%%%%%%\n",
      "                  ####################     %%%%%%%%%%%%%%%%%\n",
      "                    #################     %%%%%%%%%%%%%%%%%\n",
      "                     ###############     %%%%%%%%%%%%%%%%\n",
      "                       ############     %%%%%%%%%%%%%%%\n",
      "                          ########     %%%%%%%%%%%%%%\n",
      "                                      %%%%%%%%%%%\n",
      "\n",
      "                 | The OpenMC Monte Carlo Code\n",
      "       Copyright | 2011-2023 MIT, UChicago Argonne LLC, and contributors\n",
      "         License | https://docs.openmc.org/en/latest/license.html\n",
      "         Version | 0.14.0\n",
      "        Git SHA1 | e1a8ee7794b441c992426f17fafe216391cbba83\n",
      "       Date/Time | 2024-05-17 16:49:55\n",
      "   MPI Processes | 1\n",
      "  OpenMP Threads | 8\n",
      "\n",
      " Reading model XML file './model.xml' ...\n",
      " WARNING: Other XML file input(s) are present. These files may be ignored in\n",
      "          favor of the ./model.xml file.\n",
      " Reading cross sections XML file...\n",
      "Loading file teapot.h5m\n",
      "Initializing the GeomQueryTool...\n",
      "Using faceting tolerance: 0.001\n",
      "Building acceleration data structures...\n",
      " Reading Fe54 from /home/joe/projects/endfb71_hdf5/neutron/Fe54.h5\n",
      " Reading Fe56 from /home/joe/projects/endfb71_hdf5/neutron/Fe56.h5\n",
      " Reading Fe57 from /home/joe/projects/endfb71_hdf5/neutron/Fe57.h5\n",
      " Reading Fe58 from /home/joe/projects/endfb71_hdf5/neutron/Fe58.h5\n",
      " Reading H1 from /home/joe/projects/endfb71_hdf5/neutron/H1.h5\n",
      " Reading O16 from /home/joe/projects/endfb71_hdf5/neutron/O16.h5\n",
      " Reading c_H_in_H2O from /home/joe/projects/endfb71_hdf5/neutron/c_H_in_H2O.h5\n",
      " Minimum neutron data temperature: 294 K\n",
      " Maximum neutron data temperature: 294 K\n",
      " Preparing distributed cell instances...\n",
      " Reading plot XML file...\n",
      " Writing summary.h5 file...\n",
      " Maximum neutron transport energy: 20000000 eV for Fe58\n",
      "\n",
      " ===============>     FIXED SOURCE TRANSPORT SIMULATION     <===============\n",
      "\n",
      " Simulating batch 1\n",
      " Simulating batch 2\n",
      " Simulating batch 3\n",
      " Simulating batch 4\n",
      " Simulating batch 5\n",
      " Simulating batch 6\n",
      " Simulating batch 7\n",
      " Simulating batch 8\n",
      " Simulating batch 9\n",
      " Simulating batch 10\n",
      " Creating state point statepoint.10.h5...\n",
      "\n",
      " =======================>     TIMING STATISTICS     <=======================\n",
      "\n",
      " Total time for initialization     = 4.3983e+00 seconds\n",
      "   Reading cross sections          = 4.9361e-01 seconds\n",
      " Total time in simulation          = 2.1569e+01 seconds\n",
      "   Time in transport only          = 2.1428e+01 seconds\n",
      "   Time in active batches          = 2.1569e+01 seconds\n",
      "   Time accumulating tallies       = 1.3484e-01 seconds\n",
      "   Time writing statepoints        = 4.6988e-03 seconds\n",
      " Total time for finalization       = 1.5098e-02 seconds\n",
      " Total time elapsed                = 2.5984e+01 seconds\n",
      " Calculation Rate (active)         = 2318.16 particles/second\n",
      "\n",
      " ============================>     RESULTS     <============================\n",
      "\n",
      " Leakage Fraction            = 0.69292 +/- 0.00242\n",
      "\n"
     ]
    }
   ],
   "source": [
    "openmc.run()"
   ]
  },
  {
   "cell_type": "markdown",
   "id": "1e4a2a28-24fe-4c08-8371-e3062b0451b6",
   "metadata": {},
   "source": [
    "Note that the performance is significantly lower than our pincell model due to the increased complexity of the model, but it allows us to examine tally results like these:"
   ]
  },
  {
   "cell_type": "code",
   "execution_count": 25,
   "id": "22771d2e-9ba8-41a0-9444-9bebc2bc3d85",
   "metadata": {},
   "outputs": [],
   "source": [
    "sp = openmc.StatePoint(\"statepoint.10.h5\")\n",
    "\n",
    "water_tally = sp.get_tally(scores=['flux'], id=water_tally.id)\n",
    "water_flux = water_tally.mean\n",
    "water_flux.shape = (40, 120)\n",
    "water_flux = water_flux[::-1, :]\n",
    "\n",
    "pot_tally = sp.get_tally(scores=['flux'], id=pot_tally.id)\n",
    "pot_flux = pot_tally.mean\n",
    "pot_flux.shape = (40, 120)\n",
    "pot_flux = pot_flux[::-1, :]\n",
    "\n",
    "sp.close() # close the statepoint file to release HDF5 file handles"
   ]
  },
  {
   "cell_type": "code",
   "execution_count": 26,
   "id": "34aa4367-c6e5-480b-b46b-96894c29c85f",
   "metadata": {},
   "outputs": [
    {
     "data": {
      "text/plain": [
       "<matplotlib.image.AxesImage at 0x7f6e7bb8d370>"
      ]
     },
     "execution_count": 26,
     "metadata": {},
     "output_type": "execute_result"
    },
    {
     "data": {
      "image/png": "[encoded data removed]",
      "text/plain": [
       "<Figure size 1800x1600 with 2 Axes>"
      ]
     },
     "metadata": {},
     "output_type": "display_data"
    }
   ],
   "source": [
    "from matplotlib import pyplot as plt\n",
    "fig = plt.figure(figsize=(18, 16))\n",
    "\n",
    "sub_plot1 = plt.subplot(121, title=\"Kettle Flux\")\n",
    "sub_plot1.imshow(pot_flux)\n",
    "\n",
    "sub_plot2 = plt.subplot(122, title=\"Water Flux\")\n",
    "sub_plot2.imshow(water_flux)"
   ]
  },
  {
   "cell_type": "markdown",
   "id": "51adb2b9-3525-4672-97b3-ac827f45d5db",
   "metadata": {},
   "source": [
    "# Tokamak Geometry"
   ]
  },
  {
   "cell_type": "markdown",
   "id": "51bbebc3-e575-4043-a7df-027f5f4e4fde",
   "metadata": {},
   "source": [
    "Next we'll look at a tokamak model courtesy of John Shimwell's [paramak](https://github.com/fusion-energy/paramak) package. With this model, we'll explore how to use CAD geometry as a universe in OpenMC to create repeating instances complex geometry or clip a CAD model to insert it into an OpenMC CSG geometry."
   ]
  },
  {
   "cell_type": "code",
   "execution_count": 27,
   "id": "99cf68d1-d13f-44fe-bbca-5a33d0d5957d",
   "metadata": {},
   "outputs": [],
   "source": [
    "download(paramak_w_graveyard, 'paramak_with_graveyard.h5m')"
   ]
  },
  {
   "cell_type": "markdown",
   "id": "21c05698-1059-401d-bff9-f2a31903be7f",
   "metadata": {},
   "source": [
    "First, we'll create some materials that we know are present in the paramak model. These will be assigned by the `Material.name` attribute to match those in the `paramak_with_graveyard.h5m` file."
   ]
  },
  {
   "cell_type": "code",
   "execution_count": 28,
   "id": "694f7b47-aab1-44e8-a516-8fa498332643",
   "metadata": {},
   "outputs": [],
   "source": [
    "materials = openmc.Materials()\n",
    "\n",
    "mat_pf_coil_1 = openmc.Material(name=\"pf_coil_1\")\n",
    "mat_pf_coil_1.add_element(\"Cu\", 1, \"ao\")\n",
    "mat_pf_coil_1.set_density(\"g/cm3\", 8.96)\n",
    "materials.append(mat_pf_coil_1)\n",
    "\n",
    "mat_pf_coil_2 = openmc.Material(name=\"pf_coil_2\")\n",
    "mat_pf_coil_2.add_element(\"Cu\", 1, \"ao\")\n",
    "mat_pf_coil_2.set_density(\"g/cm3\", 8.96)\n",
    "materials.append(mat_pf_coil_2)\n",
    "\n",
    "mat_pf_coil_3 = openmc.Material(name=\"pf_coil_3\")\n",
    "mat_pf_coil_3.add_element(\"Cu\", 1, \"ao\")\n",
    "mat_pf_coil_3.set_density(\"g/cm3\", 8.96)\n",
    "materials.append(mat_pf_coil_3)\n",
    "\n",
    "mat_pf_coil_4 = openmc.Material(name=\"pf_coil_4\")\n",
    "mat_pf_coil_4.add_element(\"Cu\", 1, \"ao\")\n",
    "mat_pf_coil_4.set_density(\"g/cm3\", 8.96)\n",
    "materials.append(mat_pf_coil_4)\n",
    "\n",
    "mat_plasma = openmc.Material(name=\"plasma\")\n",
    "mat_plasma.add_element(\"H\", 1, \"ao\")\n",
    "mat_plasma.set_density(\"g/cm3\", 0.00001)\n",
    "materials.append(mat_plasma)\n",
    "\n",
    "mat_inboard_tf_coils = openmc.Material(name=\"inboard_tf_coils\")\n",
    "mat_inboard_tf_coils.add_element(\"Cu\", 1, \"ao\")\n",
    "mat_inboard_tf_coils.set_density(\"g/cm3\", 8.96)\n",
    "materials.append(mat_inboard_tf_coils)\n",
    "\n",
    "mat_center_column_shield = openmc.Material(name=\"center_column_shield\")\n",
    "mat_center_column_shield.add_element(\"W\", 1, \"ao\")\n",
    "mat_center_column_shield.set_density(\"g/cm3\", 19.3)\n",
    "materials.append(mat_center_column_shield)\n",
    "\n",
    "\n",
    "mat_firstwall = openmc.Material(name=\"firstwall\")\n",
    "mat_firstwall.add_element(\"Fe\", 1, \"ao\")\n",
    "mat_firstwall.set_density(\"g/cm3\", 7.7)\n",
    "materials.append(mat_firstwall)\n",
    "\n",
    "mat_blanket = openmc.Material(name=\"blanket\")\n",
    "mat_blanket.add_elements_from_formula(\"Pb842Li158\")\n",
    "mat_blanket.set_density(\"g/cm3\", 19.)\n",
    "materials.append(mat_blanket)\n",
    "\n",
    "mat_blanket_rear_wall = openmc.Material(name=\"blanket_rear_wall\")\n",
    "mat_blanket_rear_wall.add_element(\"Fe\", 1, \"ao\")\n",
    "mat_blanket_rear_wall.set_density(\"g/cm3\", 7.7)\n",
    "materials.append(mat_blanket_rear_wall)\n",
    "\n",
    "mat_divertor_upper = openmc.Material(name=\"divertor_upper\")\n",
    "mat_divertor_upper.add_element(\"W\", 1, \"ao\")\n",
    "mat_divertor_upper.set_density(\"g/cm3\", 19.3)\n",
    "materials.append(mat_divertor_upper)\n",
    "\n",
    "mat_divertor_lower = openmc.Material(name=\"divertor_lower\")\n",
    "mat_divertor_lower.add_element(\"W\", 1, \"ao\")\n",
    "mat_divertor_lower.set_density(\"g/cm3\", 19.3)\n",
    "materials.append(mat_divertor_lower)\n",
    "\n",
    "mat_pf_coil_case_1 = openmc.Material(name=\"pf_coil_case_1\")\n",
    "mat_pf_coil_case_1.add_element(\"Fe\", 1, \"ao\")\n",
    "mat_pf_coil_case_1.set_density(\"g/cm3\", 8.96)\n",
    "materials.append(mat_pf_coil_case_1)\n",
    "\n",
    "mat_pf_coil_case_2 = openmc.Material(name=\"pf_coil_case_2\")\n",
    "mat_pf_coil_case_2.add_element(\"Fe\", 1, \"ao\")\n",
    "mat_pf_coil_case_2.set_density(\"g/cm3\", 8.96)\n",
    "materials.append(mat_pf_coil_case_2)\n",
    "\n",
    "mat_pf_coil_case_3 = openmc.Material(name=\"pf_coil_case_3\")\n",
    "mat_pf_coil_case_3.add_element(\"Fe\", 1, \"ao\")\n",
    "mat_pf_coil_case_3.set_density(\"g/cm3\", 8.96)\n",
    "materials.append(mat_pf_coil_case_3)\n",
    "\n",
    "mat_pf_coil_case_4 = openmc.Material(name=\"pf_coil_case_4\")\n",
    "mat_pf_coil_case_4.add_element(\"Fe\", 1, \"ao\")\n",
    "mat_pf_coil_case_4.set_density(\"g/cm3\", 8.96)\n",
    "materials.append(mat_pf_coil_case_4)"
   ]
  },
  {
   "cell_type": "markdown",
   "id": "34130f7f-747d-4b0d-98e5-14833890cc76",
   "metadata": {},
   "source": [
    "Next, we'll create a ring source to mock a fusion neutron source in the middle of the tokamak."
   ]
  },
  {
   "cell_type": "code",
   "execution_count": 21,
   "id": "4622477a-32e1-4626-9643-898e5c845169",
   "metadata": {},
   "outputs": [
    {
     "name": "stderr",
     "output_type": "stream",
     "text": [
      "/home/joe/miniconda3/envs/openmc-env/lib/python3.12/site-packages/openmc/stats/univariate.py:814: FutureWarning: The Muir(...) class has been replaced by the muir(...) function and will be removed in a future version of OpenMC. Use muir(...) instead.\n",
      "  warn(\n"
     ]
    }
   ],
   "source": [
    "# creates a simple isotropic neutron source in the center with 14MeV neutrons\n",
    "source = openmc.IndependentSource()\n",
    "# the distribution of radius is just a single value at the plasma major radius\n",
    "radius = openmc.stats.Discrete([250.], [1])\n",
    "# the distribution of source z values is just a single value\n",
    "z_values = openmc.stats.Discrete([0], [1])\n",
    "# the distribution of source azimuthal angles values is a uniform distribution between 0 and 0.5 Pi\n",
    "# these angles must be the same as the reflective angles\n",
    "angle = openmc.stats.Uniform(a=0., b=math.radians(180))\n",
    "# this makes the ring source using the three distributions and a radius\n",
    "source.space = openmc.stats.CylindricalIndependent(r=radius, phi=angle, z=z_values, origin=(0.0, 0.0, 0.0))\n",
    "# sets the direction to isotropic\n",
    "source.angle = openmc.stats.Isotropic()\n",
    "# sets the energy distribution to a Muir distribution of D-T fusion neutrons\n",
    "source.energy = openmc.stats.Muir(e0=14_000_000.0, m_rat=5.0, kt=20000.0)"
   ]
  },
  {
   "cell_type": "markdown",
   "id": "2e3d10c5-27e4-48de-9fdc-6577eedd9bb1",
   "metadata": {},
   "source": [
    "Now we'll create a CAD-based DAGMC universe containing the paramak model."
   ]
  },
  {
   "cell_type": "code",
   "execution_count": 30,
   "id": "3682d2d2-728c-44e2-b8be-d73988355ac2",
   "metadata": {},
   "outputs": [],
   "source": [
    "dag_universe = openmc.DAGMCUniverse('paramak_with_graveyard.h5m')\n",
    "geometry = openmc.Geometry(root=dag_universe)"
   ]
  },
  {
   "cell_type": "markdown",
   "id": "b85ad735-714f-48f4-98da-5d34bcd4c226",
   "metadata": {},
   "source": [
    "And we'll apply a flux tally using a mesh over the entire model that tallies flux results only in the blanket region (shown in . Access to information about DAGMC models from the Python API is limited to information like the global bounding box of the model, which is enough to use the `RegularMesh.from_domain` method to automatically create a mesh that covers the model."
   ]
  },
  {
   "cell_type": "code",
   "execution_count": 31,
   "id": "2de1ee10-b604-42a2-8dfa-a6c514a0b95f",
   "metadata": {},
   "outputs": [],
   "source": [
    "mesh = openmc.RegularMesh.from_domain(geometry, dimension=(100,100,100))\n",
    "\n",
    "mesh_filter = openmc.MeshFilter(mesh)\n",
    "\n",
    "material_filter = openmc.MaterialFilter([mat_blanket])\n",
    "\n",
    "flux_tally = openmc.Tally(name='blanket flux')\n",
    "flux_tally.filters = [mesh_filter, material_filter]\n",
    "flux_tally.scores = ['flux']"
   ]
  },
  {
   "cell_type": "markdown",
   "id": "7695ccb6-55c6-480b-b1ad-219e8c3086a7",
   "metadata": {},
   "source": [
    "We'll now tie the materials, geometry, tallies, and settings together in a model class and plot the model. Below is an X-Z slice plot of this model colored by material."
   ]
  },
  {
   "cell_type": "code",
   "execution_count": 32,
   "id": "1c86d959-6c4f-41fd-8897-65d3db47e635",
   "metadata": {},
   "outputs": [],
   "source": [
    "model = openmc.Model()\n",
    "model.geometry = geometry\n",
    "model.materials = materials\n",
    "model.tallies = [flux_tally]\n",
    "model.settings.run_mode = 'fixed source'\n",
    "model.settings.source = source\n",
    "model.settings.batches = 10\n",
    "model.settings.particles = 10000"
   ]
  },
  {
   "cell_type": "code",
   "execution_count": 33,
   "id": "9189808d-2dc8-47ca-9c17-728f2793b53c",
   "metadata": {},
   "outputs": [],
   "source": [
    "model.export_to_model_xml()"
   ]
  },
  {
   "cell_type": "code",
   "execution_count": 34,
   "id": "93f8e38c-2db2-41a0-a92c-4e42330483e8",
   "metadata": {},
   "outputs": [
    {
     "data": {
      "image/png": "[encoded data removed]",
      "text/plain": [
       "<IPython.core.display.Image object>"
      ]
     },
     "metadata": {},
     "output_type": "display_data"
    }
   ],
   "source": [
    "p = openmc.Plot()\n",
    "p.origin = (0, 10, 0)\n",
    "p.pixels = (800, 800)\n",
    "p.width = (1200, 1200)\n",
    "p.basis = 'xz'\n",
    "p.color_by = 'material'\n",
    "openmc.plot_inline([p])"
   ]
  },
  {
   "cell_type": "code",
   "execution_count": 35,
   "id": "065e4223-1975-4d97-9d34-492ceb963e81",
   "metadata": {},
   "outputs": [
    {
     "data": {
      "image/png": "[encoded data removed]",
      "text/plain": [
       "<IPython.core.display.Image object>"
      ]
     },
     "metadata": {},
     "output_type": "display_data"
    }
   ],
   "source": [
    "p.basis = 'xy'\n",
    "openmc.plot_inline(p)"
   ]
  },
  {
   "cell_type": "markdown",
   "id": "ba560af5-11b7-4be0-a75a-cb1d73632b76",
   "metadata": {},
   "source": [
    "Time to run a full simulation so we can view the results."
   ]
  },
  {
   "cell_type": "code",
   "execution_count": 36,
   "id": "8eeb0c31-ef09-499e-9358-9df103c2db2a",
   "metadata": {},
   "outputs": [
    {
     "name": "stdout",
     "output_type": "stream",
     "text": [
      "[v5:99299] mca_base_component_repository_open: unable to open mca_btl_openib: librdmacm.so.1: cannot open shared object file: No such file or directory (ignored)\n",
      "                                %%%%%%%%%%%%%%%\n",
      "                           %%%%%%%%%%%%%%%%%%%%%%%%\n",
      "                        %%%%%%%%%%%%%%%%%%%%%%%%%%%%%%\n",
      "                      %%%%%%%%%%%%%%%%%%%%%%%%%%%%%%%%%%\n",
      "                    %%%%%%%%%%%%%%%%%%%%%%%%%%%%%%%%%%%%%%\n",
      "                   %%%%%%%%%%%%%%%%%%%%%%%%%%%%%%%%%%%%%%%%\n",
      "                                    %%%%%%%%%%%%%%%%%%%%%%%%\n",
      "                                     %%%%%%%%%%%%%%%%%%%%%%%%\n",
      "                 ###############      %%%%%%%%%%%%%%%%%%%%%%%%\n",
      "                ##################     %%%%%%%%%%%%%%%%%%%%%%%\n",
      "                ###################     %%%%%%%%%%%%%%%%%%%%%%%\n",
      "                ####################     %%%%%%%%%%%%%%%%%%%%%%\n",
      "                #####################     %%%%%%%%%%%%%%%%%%%%%\n",
      "                ######################     %%%%%%%%%%%%%%%%%%%%\n",
      "                #######################     %%%%%%%%%%%%%%%%%%\n",
      "                 #######################     %%%%%%%%%%%%%%%%%\n",
      "                 ######################     %%%%%%%%%%%%%%%%%\n",
      "                  ####################     %%%%%%%%%%%%%%%%%\n",
      "                    #################     %%%%%%%%%%%%%%%%%\n",
      "                     ###############     %%%%%%%%%%%%%%%%\n",
      "                       ############     %%%%%%%%%%%%%%%\n",
      "                          ########     %%%%%%%%%%%%%%\n",
      "                                      %%%%%%%%%%%\n",
      "\n",
      "                 | The OpenMC Monte Carlo Code\n",
      "       Copyright | 2011-2023 MIT, UChicago Argonne LLC, and contributors\n",
      "         License | https://docs.openmc.org/en/latest/license.html\n",
      "         Version | 0.14.0\n",
      "        Git SHA1 | e1a8ee7794b441c992426f17fafe216391cbba83\n",
      "       Date/Time | 2024-05-17 16:50:48\n",
      "   MPI Processes | 1\n",
      "  OpenMP Threads | 8\n",
      "\n",
      " Reading model XML file './model.xml' ...\n",
      " WARNING: Other XML file input(s) are present. These files may be ignored in\n",
      "          favor of the ./model.xml file.\n",
      " Reading cross sections XML file...\n",
      "Loading file paramak_with_graveyard.h5m\n",
      "Initializing the GeomQueryTool...\n",
      "Using faceting tolerance: 0\n",
      "Building acceleration data structures...\n",
      " Reading Cu63 from /home/joe/projects/endfb71_hdf5/neutron/Cu63.h5\n",
      " Reading Cu65 from /home/joe/projects/endfb71_hdf5/neutron/Cu65.h5\n",
      " Reading H1 from /home/joe/projects/endfb71_hdf5/neutron/H1.h5\n",
      " Reading H2 from /home/joe/projects/endfb71_hdf5/neutron/H2.h5\n",
      " Reading W180 from /home/joe/projects/endfb71_hdf5/neutron/W180.h5\n",
      " Reading W182 from /home/joe/projects/endfb71_hdf5/neutron/W182.h5\n",
      " Reading W183 from /home/joe/projects/endfb71_hdf5/neutron/W183.h5\n",
      " Reading W184 from /home/joe/projects/endfb71_hdf5/neutron/W184.h5\n",
      " Reading W186 from /home/joe/projects/endfb71_hdf5/neutron/W186.h5\n",
      " Reading Fe54 from /home/joe/projects/endfb71_hdf5/neutron/Fe54.h5\n",
      " Reading Fe56 from /home/joe/projects/endfb71_hdf5/neutron/Fe56.h5\n",
      " Reading Fe57 from /home/joe/projects/endfb71_hdf5/neutron/Fe57.h5\n",
      " Reading Fe58 from /home/joe/projects/endfb71_hdf5/neutron/Fe58.h5\n",
      " Reading Pb204 from /home/joe/projects/endfb71_hdf5/neutron/Pb204.h5\n",
      " Reading Pb206 from /home/joe/projects/endfb71_hdf5/neutron/Pb206.h5\n",
      " Reading Pb207 from /home/joe/projects/endfb71_hdf5/neutron/Pb207.h5\n",
      " Reading Pb208 from /home/joe/projects/endfb71_hdf5/neutron/Pb208.h5\n",
      " Reading Li6 from /home/joe/projects/endfb71_hdf5/neutron/Li6.h5\n",
      " Reading Li7 from /home/joe/projects/endfb71_hdf5/neutron/Li7.h5\n",
      " Minimum neutron data temperature: 294 K\n",
      " Maximum neutron data temperature: 294 K\n",
      " Preparing distributed cell instances...\n",
      " Reading plot XML file...\n",
      " Writing summary.h5 file...\n",
      " Maximum neutron transport energy: 20000000 eV for H1\n",
      "\n",
      " ===============>     FIXED SOURCE TRANSPORT SIMULATION     <===============\n",
      "\n",
      " Simulating batch 1\n",
      " Simulating batch 2\n",
      " Simulating batch 3\n",
      " Simulating batch 4\n",
      " Simulating batch 5\n",
      " Simulating batch 6\n",
      " Simulating batch 7\n",
      " Simulating batch 8\n",
      " Simulating batch 9\n",
      " Simulating batch 10\n",
      " Creating state point statepoint.10.h5...\n",
      "\n",
      " =======================>     TIMING STATISTICS     <=======================\n",
      "\n",
      " Total time for initialization     = 5.3679e+00 seconds\n",
      "   Reading cross sections          = 1.7142e+00 seconds\n",
      " Total time in simulation          = 5.6519e+01 seconds\n",
      "   Time in transport only          = 5.6397e+01 seconds\n",
      "   Time in active batches          = 5.6519e+01 seconds\n",
      "   Time accumulating tallies       = 7.0377e-02 seconds\n",
      "   Time writing statepoints        = 5.0179e-02 seconds\n",
      " Total time for finalization       = 1.1961e+00 seconds\n",
      " Total time elapsed                = 6.3097e+01 seconds\n",
      " Calculation Rate (active)         = 1769.32 particles/second\n",
      "\n",
      " ============================>     RESULTS     <============================\n",
      "\n",
      " Leakage Fraction            = 0.71113 +/- 0.00185\n",
      "\n"
     ]
    }
   ],
   "source": [
    "sp_filename = model.run()"
   ]
  },
  {
   "cell_type": "code",
   "execution_count": 37,
   "id": "972141aa-5e35-45e0-99bb-19f216eac372",
   "metadata": {},
   "outputs": [
    {
     "data": {
      "text/plain": [
       "<matplotlib.image.AxesImage at 0x7f6e7bb27e90>"
      ]
     },
     "execution_count": 37,
     "metadata": {},
     "output_type": "execute_result"
    },
    {
     "data": {
      "image/png": "[encoded data removed]",
      "text/plain": [
       "<Figure size 1000x1000 with 1 Axes>"
      ]
     },
     "metadata": {},
     "output_type": "display_data"
    }
   ],
   "source": [
    "with openmc.StatePoint(sp_filename) as sp:\n",
    "    flux_tally = sp.get_tally(name='blanket flux')\n",
    "\n",
    "flux_mean = flux_tally.mean.reshape(*mesh.dimension)\n",
    "plt.figure(figsize=(10,10))\n",
    "plt.imshow(flux_mean[:, 50, :], origin='lower')"
   ]
  },
  {
   "cell_type": "markdown",
   "id": "486659bd-888c-4272-a2f2-555f9ee6f001",
   "metadata": {},
   "source": [
    "Let's change this tokamak model from a 180 section to a 90 degree section by creating a CSG box and filling it with the DAGMC universe."
   ]
  },
  {
   "cell_type": "code",
   "execution_count": 38,
   "id": "92e746c7-fd06-4733-a736-c747bac40fff",
   "metadata": {},
   "outputs": [],
   "source": [
    "x_min = openmc.XPlane(0.0, boundary_type='reflective')\n",
    "x_max = openmc.XPlane(600.0, boundary_type='vacuum')\n",
    "\n",
    "y_min = openmc.YPlane(0.0, boundary_type='reflective')\n",
    "y_max = openmc.YPlane(600.0, boundary_type='vacuum')\n",
    "\n",
    "region = +x_min & -x_max & +y_min & -y_max\n",
    "quarter_cell = openmc.Cell(fill=dag_universe, region=region)\n",
    "dag_universe.auto_geom_ids = True\n",
    "\n",
    "model.geometry = openmc.Geometry([quarter_cell])\n",
    "model.export_to_model_xml()"
   ]
  },
  {
   "cell_type": "code",
   "execution_count": 39,
   "id": "e3141679-051f-4b5f-a815-114a23ebe1e8",
   "metadata": {},
   "outputs": [
    {
     "data": {
      "image/png": "[encoded data removed]",
      "text/plain": [
       "<IPython.core.display.Image object>"
      ]
     },
     "metadata": {},
     "output_type": "display_data"
    }
   ],
   "source": [
    "p.basis = 'xy'\n",
    "openmc.plot_inline(p)"
   ]
  },
  {
   "cell_type": "markdown",
   "id": "25f4edc4-12c9-4780-8186-e8b2b9cde8ae",
   "metadata": {},
   "source": [
    "Any of the geometry modification options for the CSG cell apply just as they would for a geometry with CAD parts. We can just as easily take this one-quarter symmetric section and turn it into a one-eigth symmetric section by adding a Z plane to the cell."
   ]
  },
  {
   "cell_type": "code",
   "execution_count": 40,
   "id": "4040a248-894d-4670-8a3e-2ce8300976cb",
   "metadata": {},
   "outputs": [],
   "source": [
    "z_min = openmc.ZPlane(-0.1, boundary_type='reflective')\n",
    "quarter_cell.region &= +z_min"
   ]
  },
  {
   "cell_type": "code",
   "execution_count": 41,
   "id": "30803575-d73f-4fbf-b146-f9a1ae445824",
   "metadata": {},
   "outputs": [
    {
     "data": {
      "image/png": "[encoded data removed]",
      "text/plain": [
       "<IPython.core.display.Image object>"
      ]
     },
     "metadata": {},
     "output_type": "display_data"
    }
   ],
   "source": [
    "model.export_to_model_xml()\n",
    "p.basis = 'xz'\n",
    "openmc.plot_inline(p)"
   ]
  },
  {
   "cell_type": "markdown",
   "id": "219cca19-f4d8-42db-9a5c-e756dd6d145b",
   "metadata": {},
   "source": [
    "We'll create a new tally that only covers this region of the geometry; and, same as before, we'll tally a flux in the blanket region."
   ]
  },
  {
   "cell_type": "code",
   "execution_count": 42,
   "id": "81186212-884c-4fc3-bdba-1edc2c0f9485",
   "metadata": {},
   "outputs": [],
   "source": [
    "mesh = openmc.RegularMesh()\n",
    "mesh.lower_left = [0.0,  0.0, 0.0]\n",
    "mesh.upper_right = [500, 500, 500]\n",
    "mesh.dimension = (200, 200, 200)\n",
    "\n",
    "mesh_filter = openmc.MeshFilter(mesh)\n",
    "\n",
    "material_filter = openmc.MaterialFilter([mat_blanket])\n",
    "\n",
    "flux_tally = openmc.Tally(name='blanket flux')\n",
    "flux_tally.filters = [mesh_filter, material_filter]\n",
    "flux_tally.scores = ['flux']\n",
    "\n",
    "model.tallies = [flux_tally]"
   ]
  },
  {
   "cell_type": "code",
   "execution_count": null,
   "id": "c9d5ab1e-bb6d-40ea-8467-89833fea9d12",
   "metadata": {},
   "outputs": [
    {
     "name": "stdout",
     "output_type": "stream",
     "text": [
      "[v5:99456] mca_base_component_repository_open: unable to open mca_btl_openib: librdmacm.so.1: cannot open shared object file: No such file or directory (ignored)\n",
      "                                %%%%%%%%%%%%%%%\n",
      "                           %%%%%%%%%%%%%%%%%%%%%%%%\n",
      "                        %%%%%%%%%%%%%%%%%%%%%%%%%%%%%%\n",
      "                      %%%%%%%%%%%%%%%%%%%%%%%%%%%%%%%%%%\n",
      "                    %%%%%%%%%%%%%%%%%%%%%%%%%%%%%%%%%%%%%%\n",
      "                   %%%%%%%%%%%%%%%%%%%%%%%%%%%%%%%%%%%%%%%%\n",
      "                                    %%%%%%%%%%%%%%%%%%%%%%%%\n",
      "                                     %%%%%%%%%%%%%%%%%%%%%%%%\n",
      "                 ###############      %%%%%%%%%%%%%%%%%%%%%%%%\n",
      "                ##################     %%%%%%%%%%%%%%%%%%%%%%%\n",
      "                ###################     %%%%%%%%%%%%%%%%%%%%%%%\n",
      "                ####################     %%%%%%%%%%%%%%%%%%%%%%\n",
      "                #####################     %%%%%%%%%%%%%%%%%%%%%\n",
      "                ######################     %%%%%%%%%%%%%%%%%%%%\n",
      "                #######################     %%%%%%%%%%%%%%%%%%\n",
      "                 #######################     %%%%%%%%%%%%%%%%%\n",
      "                 ######################     %%%%%%%%%%%%%%%%%\n",
      "                  ####################     %%%%%%%%%%%%%%%%%\n",
      "                    #################     %%%%%%%%%%%%%%%%%\n",
      "                     ###############     %%%%%%%%%%%%%%%%\n",
      "                       ############     %%%%%%%%%%%%%%%\n",
      "                          ########     %%%%%%%%%%%%%%\n",
      "                                      %%%%%%%%%%%\n",
      "\n",
      "                 | The OpenMC Monte Carlo Code\n",
      "       Copyright | 2011-2023 MIT, UChicago Argonne LLC, and contributors\n",
      "         License | https://docs.openmc.org/en/latest/license.html\n",
      "         Version | 0.14.0\n",
      "        Git SHA1 | e1a8ee7794b441c992426f17fafe216391cbba83\n",
      "       Date/Time | 2024-05-17 16:52:11\n",
      "   MPI Processes | 1\n",
      "  OpenMP Threads | 8\n",
      "\n",
      " Reading model XML file './model.xml' ...\n",
      " WARNING: Other XML file input(s) are present. These files may be ignored in\n",
      "          favor of the ./model.xml file.\n",
      " Reading cross sections XML file...\n",
      "Loading file paramak_with_graveyard.h5m\n",
      "Initializing the GeomQueryTool...\n",
      "Using faceting tolerance: 0\n",
      "Building acceleration data structures...\n",
      " Reading Cu63 from /home/joe/projects/endfb71_hdf5/neutron/Cu63.h5\n",
      " Reading Cu65 from /home/joe/projects/endfb71_hdf5/neutron/Cu65.h5\n",
      " Reading H1 from /home/joe/projects/endfb71_hdf5/neutron/H1.h5\n",
      " Reading H2 from /home/joe/projects/endfb71_hdf5/neutron/H2.h5\n",
      " Reading W180 from /home/joe/projects/endfb71_hdf5/neutron/W180.h5\n",
      " Reading W182 from /home/joe/projects/endfb71_hdf5/neutron/W182.h5\n",
      " Reading W183 from /home/joe/projects/endfb71_hdf5/neutron/W183.h5\n",
      " Reading W184 from /home/joe/projects/endfb71_hdf5/neutron/W184.h5\n",
      " Reading W186 from /home/joe/projects/endfb71_hdf5/neutron/W186.h5\n",
      " Reading Fe54 from /home/joe/projects/endfb71_hdf5/neutron/Fe54.h5\n",
      " Reading Fe56 from /home/joe/projects/endfb71_hdf5/neutron/Fe56.h5\n",
      " Reading Fe57 from /home/joe/projects/endfb71_hdf5/neutron/Fe57.h5\n",
      " Reading Fe58 from /home/joe/projects/endfb71_hdf5/neutron/Fe58.h5\n",
      " Reading Pb204 from /home/joe/projects/endfb71_hdf5/neutron/Pb204.h5\n",
      " Reading Pb206 from /home/joe/projects/endfb71_hdf5/neutron/Pb206.h5\n",
      " Reading Pb207 from /home/joe/projects/endfb71_hdf5/neutron/Pb207.h5\n",
      " Reading Pb208 from /home/joe/projects/endfb71_hdf5/neutron/Pb208.h5\n",
      " Reading Li6 from /home/joe/projects/endfb71_hdf5/neutron/Li6.h5\n",
      " Reading Li7 from /home/joe/projects/endfb71_hdf5/neutron/Li7.h5\n",
      " Minimum neutron data temperature: 294 K\n",
      " Maximum neutron data temperature: 294 K\n",
      " Preparing distributed cell instances...\n",
      " Reading plot XML file...\n",
      " Writing summary.h5 file...\n",
      " Maximum neutron transport energy: 20000000 eV for H1\n",
      "\n",
      " ===============>     FIXED SOURCE TRANSPORT SIMULATION     <===============\n",
      "\n",
      " Simulating batch 1\n",
      " Simulating batch 2\n",
      " Simulating batch 3\n",
      " Simulating batch 4\n",
      " Simulating batch 5\n"
     ]
    }
   ],
   "source": [
    "model.export_to_model_xml()\n",
    "sp_filename = model.run()"
   ]
  },
  {
   "cell_type": "markdown",
   "id": "e0cc7ddd-b74d-47a0-9f81-f4aa8ed26521",
   "metadata": {},
   "source": [
    "When veiwing a X-Z slice of this image at the correct depth, we can see the rectangular coil regions clipped out of the mesh due to the combination of filters applied."
   ]
  },
  {
   "cell_type": "code",
   "execution_count": null,
   "id": "887320d5-3fe0-4570-bfe8-ed920111ff79",
   "metadata": {},
   "outputs": [],
   "source": [
    "with openmc.StatePoint(sp_filename) as sp:\n",
    "    flux_tally = sp.get_tally(name='blanket flux')\n",
    "\n",
    "flux_mean = flux_tally.mean.reshape(*mesh.dimension)\n",
    "plt.figure(figsize=(10,10))\n",
    "plt.imshow(flux_mean[:, 100, :], origin='lower')"
   ]
  },
  {
   "cell_type": "markdown",
   "id": "d7c97a8e-41e6-474e-ae65-04cec9336770",
   "metadata": {},
   "source": [
    "Now we'll replicate this DAGMC unvierse and create a full 360 degree model. We can do this by creating two cells, one for each half of the tokamak. We then fill each cell with the DAGMC universe and rotate the universe inside the cell on the negative side of the Y=0 plane to complete the model."
   ]
  },
  {
   "cell_type": "code",
   "execution_count": null,
   "id": "747a6d20-a1a9-4084-be0a-269c3fa9698c",
   "metadata": {
    "tags": []
   },
   "outputs": [],
   "source": [
    "x_min = openmc.XPlane(-650.0, boundary_type='vacuum')\n",
    "x_max = openmc.XPlane(650.0, boundary_type='vacuum')\n",
    "\n",
    "y_min = openmc.YPlane(-650.0, boundary_type='vacuum')\n",
    "y_max = openmc.YPlane(650.0, boundary_type='vacuum')\n",
    "\n",
    "z_min = openmc.ZPlane(-650.0, boundary_type='vacuum')\n",
    "z_max = openmc.ZPlane(650.0, boundary_type='vacuum')\n",
    "\n",
    "y0 = openmc.YPlane(0.0)\n",
    "\n",
    "c_upper = openmc.Cell(fill=dag_universe, region=+x_min & -x_max & +y0 & -y_max & +z_min & -z_max)\n",
    "c_lower = openmc.Cell(fill=dag_universe, region=+x_min & -x_max & +y_min & -y0 & +z_min & -z_max)\n",
    "c_lower.rotation = (0.0, 0.0, 180.0) # this rotation applies to the contents of the cell\n",
    "\n",
    "dag_universe.auto_geom_ids = True\n",
    "geometry = openmc.Geometry([c_upper, c_lower])\n",
    "model.geometry = geometry"
   ]
  },
  {
   "cell_type": "markdown",
   "id": "4fd6fa72-dd54-4662-b897-58e4fcb83544",
   "metadata": {},
   "source": [
    "We'll plot the model one more time to convince ourselves that it's worked."
   ]
  },
  {
   "cell_type": "code",
   "execution_count": null,
   "id": "f62cd421-3b68-49c4-a246-0a6b86d10863",
   "metadata": {},
   "outputs": [],
   "source": [
    "model.export_to_model_xml()\n",
    "p.basis = 'xy'\n",
    "openmc.plot_inline(p)"
   ]
  },
  {
   "cell_type": "code",
   "execution_count": null,
   "id": "ffbc4d53-3292-4521-8d84-3fe855d25a76",
   "metadata": {},
   "outputs": [],
   "source": [
    "sp_filename = model.run()"
   ]
  }
 ],
 "metadata": {
  "kernelspec": {
   "display_name": "Python 3 (ipykernel)",
   "language": "python",
   "name": "python3"
  },
  "language_info": {
   "codemirror_mode": {
    "name": "ipython",
    "version": 3
   },
   "file_extension": ".py",
   "mimetype": "text/x-python",
   "name": "python",
   "nbconvert_exporter": "python",
   "pygments_lexer": "ipython3",
   "version": "3.12.3"
  },
  "vscode": {
   "interpreter": {
    "hash": "c47dabf1cc2568b64caa04441372f68f02228a3c450a6b1274acdfdc3a93f19e"
   }
  }
 },
 "nbformat": 4,
 "nbformat_minor": 5
}
