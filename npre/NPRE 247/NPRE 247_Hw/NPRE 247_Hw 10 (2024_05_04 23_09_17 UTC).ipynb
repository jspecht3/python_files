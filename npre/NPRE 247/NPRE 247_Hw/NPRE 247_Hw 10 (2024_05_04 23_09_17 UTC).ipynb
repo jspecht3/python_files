{
 "cells": [
  {
   "cell_type": "code",
   "execution_count": 1,
   "id": "eaa6466e",
   "metadata": {},
   "outputs": [],
   "source": [
    "from sympy import *\n",
    "import numpy as np\n",
    "import scipy.constants as c\n",
    "import matplotlib.pyplot as plt\n",
    "from tabulate import tabulate\n",
    "\n",
    "import pandas as pd\n",
    "import urllib.request\n",
    "\n",
    "def lc_read_csv(url):\n",
    "    req = urllib.request.Request(url)\n",
    "    req.add_header('User-Agent', 'Mozilla/5.0 (X11; Ubuntu; Linux x86_64; rv:77.0) Gecko/20100101 Firefox/77.0')\n",
    "    return pd.read_csv(urllib.request.urlopen(req))\n",
    "\n",
    "# the service URL\n",
    "livechart = \"https://nds.iaea.org/relnsd/v0/data?\"\n",
    "lc_iso = livechart + \"fields=ground_states\"\n",
    "\n",
    "def iso_molar(iso): #accepts string of Z number followed by atomic symbol\n",
    "    iso_info = lc_read_csv(lc_iso + f\"&nuclides={iso}\")\n",
    "    mu_iso_molar = iso_info[\"atomic_mass\"][0]\n",
    "    iso_molar = mu_iso_molar/10**6\n",
    "    return iso_molar #returns molar mass in amu\n",
    "\n",
    "def u_mev(u):\n",
    "    MeV = u * (9.31494028*100)\n",
    "    return MeV"
   ]
  },
  {
   "cell_type": "code",
   "execution_count": 350,
   "id": "c2acbf86",
   "metadata": {},
   "outputs": [
    {
     "name": "stdout",
     "output_type": "stream",
     "text": [
      "Max k w/ ratio = 578.0\n",
      "Max k 1.0459201210315665\n"
     ]
    }
   ],
   "source": [
    "#1\n",
    "\n",
    "#Constants\n",
    "sigma_a_U235 = 592.6\n",
    "sigma_a_U238 = 2.382\n",
    "\n",
    "sigma_f_U235 = 505.9\n",
    "nu_U235 = 2.437\n",
    "\n",
    "sigma_a_C = 3.861/1000 * (np.pi)**(1/2)/2\n",
    "\n",
    "a_U238 = 2.73\n",
    "c_U238 = .486\n",
    "\n",
    "zeta_C = .158\n",
    "sigma_s_C = 4.8\n",
    "\n",
    "#Number Densities\n",
    "N1_U235 = 1.5 / 100\n",
    "N1_U238 = 98.5 / 100\n",
    "\n",
    "N1_C = S('N1_C')\n",
    "ratio1 = N1_C / (N1_U235 + N1_U238)\n",
    "\n",
    "\n",
    "#K terms\n",
    "eta1 = nu_U235*sigma_f_U235*N1_U235 / (sigma_a_U235*N1_U235 + sigma_a_U238*N1_U238)\n",
    "f1 = (sigma_a_U235*N1_U235 + sigma_a_U238*N1_U238) / (sigma_a_U235*N1_U235 + sigma_a_U238*N1_U238 + sigma_a_C*ratio1)\n",
    "epsilon1 = 1\n",
    "p1 = exp(-a_U238/zeta_C * (N1_U238/(ratio1*sigma_s_C))**(1-c_U238))\n",
    "\n",
    "k1 = eta1 * f1 * epsilon1 * p1\n",
    "\n",
    "\n",
    "#Solving\n",
    "bound = 600\n",
    "\n",
    "r1 = np.zeros(bound)\n",
    "k1_array = np.zeros(bound)\n",
    "\n",
    "for i in range(bound):\n",
    "    r1[i] = i\n",
    "    k1_array[i] = k1.subs(N1_C, i)\n",
    "    \n",
    "k1_array[0] = 0\n",
    "max_k1 = np.max(k1_array)\n",
    "index1 = np.where(k1_array == max_k1)[0][0]\n",
    "\n",
    "print('Max k w/ ratio =', r1[index1])\n",
    "print('Max k', max_k1)"
   ]
  },
  {
   "cell_type": "code",
   "execution_count": 206,
   "id": "1572a482",
   "metadata": {
    "scrolled": true
   },
   "outputs": [
    {
     "data": {
      "text/latex": [
       "$\\displaystyle 581.257197033639$"
      ],
      "text/plain": [
       "581.257197033639"
      ]
     },
     "execution_count": 206,
     "metadata": {},
     "output_type": "execute_result"
    }
   ],
   "source": [
    "#2\n",
    "\n",
    "N2_U235 = 3 / 100\n",
    "N2_U238 = 97 / 100\n",
    "\n",
    "M_to_U = 828\n",
    "\n",
    "k2 = 1.26897\n",
    "epsilon2 = 1\n",
    "p2 = .78642\n",
    "eta2 = 1.84117\n",
    "f2 = .87640\n",
    "\n",
    "s2 = S('s2')\n",
    "\n",
    "#From Table 10.4\n",
    "L2 = 55.4\n",
    "Bm_sqd = (k2 - 1) / L2**2\n",
    "Bg_sqd = 3 * (np.pi/s2)**2\n",
    "\n",
    "eq2a = Eq(Bm_sqd, Bg_sqd)\n",
    "soln2a = solve(eq2a)\n",
    "\n",
    "soln2a[1]"
   ]
  },
  {
   "cell_type": "code",
   "execution_count": 289,
   "id": "7421f12c",
   "metadata": {},
   "outputs": [],
   "source": [
    "#3\n",
    "\n",
    "sigma_s_H2O = 44.8\n",
    "sigma_s_D2O = .509\n",
    "sigma_s_Be = 6.1\n",
    "\n",
    "sigma_a_H2O = .664\n",
    "sigma_a_D2O = .0001133\n",
    "sigma_a_Be = .0092\n",
    "\n",
    "zeta_H2O = .920\n",
    "zeta_D2O = .509\n",
    "zeta_Be = .207\n",
    "\n",
    "def optimum_fuel_to_mod_ratio(sigmaa, sigmas, zeta):\n",
    "    r3 = S('r3')\n",
    "    \n",
    "    eta = (nu_U235*sigma_f_U235) / (sigma_a_U235)\n",
    "    f = (sigma_a_U235) / (sigma_a_U235 + sigmaa*r3)\n",
    "    p = exp(-a_U238/zeta * (1/(r3*sigmas))**(1-c_U238))\n",
    "    k = eta*f*p\n",
    "    \n",
    "    bound = 70000\n",
    "    spacing = 1\n",
    "    \n",
    "    r = np.arange(bound)\n",
    "    ks = np.zeros(bound)\n",
    "    \n",
    "    for i in range(bound):\n",
    "        ks[i] = k.subs(r3, i*spacing)\n",
    "        if(ks[i] < ks[i-1]):\n",
    "            max_k3 = ks[i-1]\n",
    "            index3 = np.where(ks == max_k3)[0][0]\n",
    "            return(spacing*r[index3])"
   ]
  },
  {
   "cell_type": "code",
   "execution_count": 290,
   "id": "39b8c62b",
   "metadata": {},
   "outputs": [
    {
     "name": "stdout",
     "output_type": "stream",
     "text": [
      "H2O 33\n",
      "D2O 67883\n",
      "Be 2962\n",
      "C 7365\n"
     ]
    }
   ],
   "source": [
    "#3 answers, Table 10.5\n",
    "print('H2O', optimum_fuel_to_mod_ratio(sigma_a_H2O, sigma_s_H2O, zeta_H2O))\n",
    "print('D2O', optimum_fuel_to_mod_ratio(sigma_a_D2O, sigma_s_D2O, zeta_D2O))\n",
    "print('Be', optimum_fuel_to_mod_ratio(sigma_a_Be, sigma_s_Be, zeta_Be))\n",
    "print('C', optimum_fuel_to_mod_ratio(sigma_a_C, sigma_s_C, zeta_C))"
   ]
  },
  {
   "cell_type": "code",
   "execution_count": 331,
   "id": "32514724",
   "metadata": {},
   "outputs": [
    {
     "name": "stdout",
     "output_type": "stream",
     "text": [
      "k infinity - 1.09706202171205\n"
     ]
    }
   ],
   "source": [
    "#4a\n",
    "\n",
    "r4 = 40 #cm\n",
    "ratio4 = 800 #H2O/U235\n",
    "\n",
    "eta4 = nu_U235*sigma_f_U235 / sigma_a_U235\n",
    "f4 = sigma_a_U235 / (sigma_a_U235 + sigma_a_H2O*ratio4)\n",
    "p4 = exp(-0/zeta_H2O *(1/(ratio4*sigma_s_H2O))**(1-c_U238))\n",
    "\n",
    "k4a = eta4*f4*p4\n",
    "print('k infinity -', k4a)"
   ]
  },
  {
   "cell_type": "code",
   "execution_count": 354,
   "id": "19a8559c",
   "metadata": {},
   "outputs": [
    {
     "name": "stdout",
     "output_type": "stream",
     "text": [
      "keff4 0.884451095064143\n"
     ]
    }
   ],
   "source": [
    "#4b\n",
    "\n",
    "Lsqd = 8.12\n",
    "Bsqd = (np.pi/r4)**2\n",
    "tau = 27\n",
    "\n",
    "P_th_NL4 = 1 / (1 + Lsqd*Bsqd)\n",
    "P_f_NL4 = exp(-Bsqd * tau)\n",
    "\n",
    "keff4 = k4a * P_th_NL4 * P_f_NL4\n",
    "\n",
    "print('keff4', keff4)"
   ]
  },
  {
   "cell_type": "code",
   "execution_count": 10,
   "id": "0fbb38ca",
   "metadata": {},
   "outputs": [
    {
     "name": "stdout",
     "output_type": "stream",
     "text": [
      "Insertion in $ 0.163739384390688\n"
     ]
    }
   ],
   "source": [
    "#5\n",
    "\n",
    "Beta5, keff5 = S('Beta5, keff5')\n",
    "\n",
    "p05 = 100\n",
    "pf5 = 10000\n",
    "\n",
    "t5 = 6*60 #min* sec/min\n",
    "\n",
    "T5 = t5 / log(pf5/p05) #seconds\n",
    "deltak = Beta5 * 12.8 / T5\n",
    "\n",
    "insertion = deltak / Beta5\n",
    "\n",
    "print('Insertion in $', insertion)"
   ]
  },
  {
   "cell_type": "raw",
   "id": "6a786d96",
   "metadata": {},
   "source": [
    "6) A decrease in the boiling rate would increase reactivity as the water is now a liquid, which has better thermal transfer properties than gaseous steam. This allows it to remove more heat from the reactor, which makes the alpha,Temp go up as the cooler the reactor, the high alpha,Temp. Also, if boiling is too high, H gas will be produced, which could oxidize the fuel and explode."
   ]
  },
  {
   "cell_type": "raw",
   "id": "0a1555da",
   "metadata": {},
   "source": [
    "7) Xe-135 should have a large cross section because it is a large nucleus and it has 81 neutrons, which is 1 away from the special full shell number of 82 neutrons, which would increase its cross section."
   ]
  },
  {
   "cell_type": "raw",
   "id": "dec4771d",
   "metadata": {},
   "source": [
    "8) Xe-135 would not produce much feedback as the cross section for Xe-135 at high neutron energies is low compared to the fast fission cross sections of the fuel. However, the cross section is still existent, so it will slightly take away from fast fission."
   ]
  }
 ],
 "metadata": {
  "kernelspec": {
   "display_name": "Python 3 (ipykernel)",
   "language": "python",
   "name": "python3"
  },
  "language_info": {
   "codemirror_mode": {
    "name": "ipython",
    "version": 3
   },
   "file_extension": ".py",
   "mimetype": "text/x-python",
   "name": "python",
   "nbconvert_exporter": "python",
   "pygments_lexer": "ipython3",
   "version": "3.9.12"
  }
 },
 "nbformat": 4,
 "nbformat_minor": 5
}
