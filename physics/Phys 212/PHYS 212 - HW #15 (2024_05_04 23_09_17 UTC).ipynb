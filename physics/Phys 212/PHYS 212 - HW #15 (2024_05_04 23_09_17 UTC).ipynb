{
 "cells": [
  {
   "cell_type": "code",
   "execution_count": 2,
   "id": "3b48b338",
   "metadata": {},
   "outputs": [],
   "source": [
    "import numpy as np"
   ]
  },
  {
   "cell_type": "code",
   "execution_count": 3,
   "id": "8b46e46a",
   "metadata": {},
   "outputs": [
    {
     "name": "stdout",
     "output_type": "stream",
     "text": [
      "[-3.28421053e-06 -4.14780588e-06 -0.00000000e+00]\n"
     ]
    }
   ],
   "source": [
    "#Three Infinite Straight Wires\n",
    "\n",
    "B2u = np.array([0, -1, 0])\n",
    "B3u = np.array([np.sin(np.radians(60)), -np.cos(np.radians(60)), 0])\n",
    "\n",
    "B2m = 2*(10**-7) * 1.3  / .38\n",
    "B3m = 2*(10**-7) * 7  / .38\n",
    "\n",
    "B2 = B2u * B2m\n",
    "B3 = B3u * B3m\n",
    "Bt = B2 + B3\n",
    "\n",
    "l1 = np.array([0,0,-1])\n",
    "F = 1.3 * np.cross(l1, Bt)\n",
    "\n",
    "print(F)"
   ]
  }
 ],
 "metadata": {
  "kernelspec": {
   "display_name": "Python 3",
   "language": "python",
   "name": "python3"
  },
  "language_info": {
   "codemirror_mode": {
    "name": "ipython",
    "version": 3
   },
   "file_extension": ".py",
   "mimetype": "text/x-python",
   "name": "python",
   "nbconvert_exporter": "python",
   "pygments_lexer": "ipython3",
   "version": "3.8.8"
  }
 },
 "nbformat": 4,
 "nbformat_minor": 5
}
