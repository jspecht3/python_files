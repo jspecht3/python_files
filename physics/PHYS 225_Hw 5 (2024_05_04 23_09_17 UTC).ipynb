{
 "cells": [
  {
   "cell_type": "code",
   "execution_count": 34,
   "id": "afdadabf",
   "metadata": {},
   "outputs": [],
   "source": [
    "import numpy as np\n",
    "import numpy.linalg as la\n",
    "import sympy as sy\n",
    "import matplotlib.pyplot as plt"
   ]
  },
  {
   "cell_type": "code",
   "execution_count": 114,
   "id": "2f5434cb",
   "metadata": {},
   "outputs": [
    {
     "name": "stdout",
     "output_type": "stream",
     "text": [
      "1.1547005383792517 1.0012523486435176 2.294157338705618\n",
      "1.4142135623730945 1.6566112707136937\n"
     ]
    },
    {
     "data": {
      "text/latex": [
       "$\\displaystyle \\left[\\begin{matrix}2.52357307257618\\\\-1.83532587096449\\end{matrix}\\right]$"
      ],
      "text/plain": [
       "Matrix([\n",
       "[ 2.52357307257618],\n",
       "[-1.83532587096449]])"
      ]
     },
     "execution_count": 114,
     "metadata": {},
     "output_type": "execute_result"
    }
   ],
   "source": [
    "#Transforms\n",
    "\n",
    "B1 = .5\n",
    "B2 = .05\n",
    "B3 =.9\n",
    "\n",
    "G1 = 1 / ((1-B1**2)**(1/2))\n",
    "G2 = 1 / ((1-B2**2)**(1/2))\n",
    "G3 = 1 / ((1-B3**2)**(1/2))\n",
    "\n",
    "s1 = (5 - (G1*1.5)**2)**(1/2)\n",
    "s2 = (5 - (G2*1.5)**2)**(1/2)\n",
    "\n",
    "x,t = sy.symbols('x,t', real = True)\n",
    "\n",
    "def transform(beta, time, space):\n",
    "    gamma = 1 / ((1-beta**2)**(1/2))\n",
    "    t = time\n",
    "    x = space\n",
    "    transform_matrix = sy.Matrix([[gamma, -beta * gamma], [-beta * gamma, gamma]])\n",
    "    return transform_matrix @ sy.Matrix([t, x])\n",
    "\n",
    "t1 = (5)**(1/2) / ((1-B1**2)**(1/2))\n",
    "t2 = (9)**(1/2) / ((1-B2**2)**(1/2))\n",
    "\n",
    "primes1 = transform(B1, t1, 1.5)\n",
    "primes2 = transform(B2, t2, 1.5)\n",
    "primes3 = transform(B3, 2, 1)\n",
    "\n",
    "print(G1, G2, G3)\n",
    "print(s1, s2)\n",
    "\n",
    "primes3"
   ]
  }
 ],
 "metadata": {
  "kernelspec": {
   "display_name": "Python 3 (ipykernel)",
   "language": "python",
   "name": "python3"
  },
  "language_info": {
   "codemirror_mode": {
    "name": "ipython",
    "version": 3
   },
   "file_extension": ".py",
   "mimetype": "text/x-python",
   "name": "python",
   "nbconvert_exporter": "python",
   "pygments_lexer": "ipython3",
   "version": "3.9.12"
  }
 },
 "nbformat": 4,
 "nbformat_minor": 5
}
