{
 "cells": [
  {
   "cell_type": "code",
   "execution_count": 1,
   "id": "29044eb6",
   "metadata": {},
   "outputs": [],
   "source": [
    "import numpy as np"
   ]
  },
  {
   "cell_type": "code",
   "execution_count": 2,
   "id": "614e4838",
   "metadata": {},
   "outputs": [],
   "source": [
    "#Question 4 givens\n",
    "x = np.array([15.1,10.7,8.8,11.3,12.6,14.4,8.7])"
   ]
  },
  {
   "cell_type": "code",
   "execution_count": 4,
   "id": "672a924f",
   "metadata": {},
   "outputs": [
    {
     "data": {
      "text/plain": [
       "11.657142857142857"
      ]
     },
     "execution_count": 4,
     "metadata": {},
     "output_type": "execute_result"
    }
   ],
   "source": [
    "#4a\n",
    "mu = np.mean(x)\n",
    "mu"
   ]
  },
  {
   "cell_type": "code",
   "execution_count": 6,
   "id": "8cb351ba",
   "metadata": {},
   "outputs": [
    {
     "data": {
      "text/plain": [
       "0.35721702644162273"
      ]
     },
     "execution_count": 6,
     "metadata": {},
     "output_type": "execute_result"
    }
   ],
   "source": [
    "#4b\n",
    "decay_constant = 1/mu\n",
    "reliability = np.exp(-decay_constant*12)\n",
    "reliability"
   ]
  }
 ],
 "metadata": {
  "kernelspec": {
   "display_name": "Python 3 (ipykernel)",
   "language": "python",
   "name": "python3"
  },
  "language_info": {
   "codemirror_mode": {
    "name": "ipython",
    "version": 3
   },
   "file_extension": ".py",
   "mimetype": "text/x-python",
   "name": "python",
   "nbconvert_exporter": "python",
   "pygments_lexer": "ipython3",
   "version": "3.9.12"
  }
 },
 "nbformat": 4,
 "nbformat_minor": 5
}
