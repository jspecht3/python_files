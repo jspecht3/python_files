{
 "cells": [
  {
   "cell_type": "code",
   "execution_count": 22,
   "id": "43788cf9-0ce8-437c-bb98-f788b4eeb427",
   "metadata": {},
   "outputs": [],
   "source": [
    "import numpy as np\n",
    "import numpy.linalg as la"
   ]
  },
  {
   "cell_type": "code",
   "execution_count": 19,
   "id": "d252d91d-6f4a-493d-9d73-50be80d28389",
   "metadata": {},
   "outputs": [
    {
     "data": {
      "text/plain": [
       "array([1.75, 0.25])"
      ]
     },
     "execution_count": 19,
     "metadata": {},
     "output_type": "execute_result"
    }
   ],
   "source": [
    "# 9 \n",
    "v1, v2 = 10, 2\n",
    "r1, r2, r3, r4 = 4, 2, 1, 3\n",
    "\n",
    "A = np.array([[r1+r2,-r2],[-r2,r2+r3+r4]])\n",
    "C = np.array([v1, -v2])\n",
    "la.inv(A) @ C"
   ]
  },
  {
   "cell_type": "code",
   "execution_count": 21,
   "id": "e5d9184b-38ed-4777-a7c5-231cb897861e",
   "metadata": {},
   "outputs": [
    {
     "data": {
      "text/plain": [
       "array([0.10294118, 0.60294118, 0.38970588])"
      ]
     },
     "execution_count": 21,
     "metadata": {},
     "output_type": "execute_result"
    }
   ],
   "source": [
    "# 10\n",
    "v = 5\n",
    "\n",
    "A = np.array([[-1,1,0],[0,7,2],[1,5,-8]])\n",
    "C = np.array([.5e-3, v*1e-3, 0])\n",
    "la.inv(A) @ C * 1000"
   ]
  }
 ],
 "metadata": {
  "kernelspec": {
   "display_name": "Python 3 (ipykernel)",
   "language": "python",
   "name": "python3"
  },
  "language_info": {
   "codemirror_mode": {
    "name": "ipython",
    "version": 3
   },
   "file_extension": ".py",
   "mimetype": "text/x-python",
   "name": "python",
   "nbconvert_exporter": "python",
   "pygments_lexer": "ipython3",
   "version": "3.12.2"
  }
 },
 "nbformat": 4,
 "nbformat_minor": 5
}
