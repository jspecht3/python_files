{
 "cells": [
  {
   "cell_type": "code",
   "execution_count": 2,
   "id": "9d1119c4-c32e-43d8-89be-3737a1cdaac4",
   "metadata": {},
   "outputs": [],
   "source": [
    "from vertices_to_h5m import vertices_to_h5m\n",
    "import numpy as np\n",
    "import openmc\n",
    "import openmc.lib"
   ]
  },
  {
   "cell_type": "code",
   "execution_count": 6,
   "id": "0b4caca1-f5e2-4fb3-8631-44232cd886e0",
   "metadata": {
    "collapsed": true,
    "jupyter": {
     "outputs_hidden": true,
     "source_hidden": true
    }
   },
   "outputs": [
    {
     "name": "stdout",
     "output_type": "stream",
     "text": [
      "Help on function vertices_to_h5m in module vertices_to_h5m.core:\n",
      "\n",
      "vertices_to_h5m(vertices: Union[Iterable[Tuple[float, float, float]], Iterable[ForwardRef('cadquery.occ_impl.geom.Vector')]], triangles: Iterable[Tuple[int, int, int]], material_tags: Iterable[str], h5m_filename='dagmc.h5m')\n",
      "    Converts vertices and triangle sets into a tagged h5m file compatible\n",
      "    with DAGMC enabled neutronics simulations\n",
      "\n",
      "    Args:\n",
      "        vertices:\n",
      "        triangles:\n",
      "        material_tags:\n",
      "        h5m_filename:\n",
      "\n"
     ]
    }
   ],
   "source": [
    "help(vertices_to_h5m)"
   ]
  },
  {
   "cell_type": "code",
   "execution_count": 11,
   "id": "3bd8d0b0-9b9a-4617-b1f0-50d197d1904c",
   "metadata": {
    "jupyter": {
     "source_hidden": true
    }
   },
   "outputs": [],
   "source": [
    "#Some Mesh Bologna\n",
    "mesh_library = 'moab'\n",
    "mesh_file = 'one_volume.h5m'\n",
    "umesh = openmc.UnstructuredMesh(mesh_file, library=mesh_library)\n",
    "mesh_filter = openmc.MeshFilter(umesh)"
   ]
  },
  {
   "cell_type": "code",
   "execution_count": 8,
   "id": "31c3b3e8-5f5a-4977-8218-c9cdd7f11e62",
   "metadata": {},
   "outputs": [],
   "source": [
    "#Cube\n",
    "vertices = np.array(\n",
    "    [\n",
    "        [-1.0, -1.0, -1.0], #0\n",
    "        [-1.0, -1.0, 1.0], #1\n",
    "        [-1.0, 1.0, -1.0], #2\n",
    "        [-1.0, 1.0, 1.0], #3\n",
    "        [1.0, -1.0, -1.0], #4\n",
    "        [1.0, -1.0, 1.0], #5\n",
    "        [1.0, 1.0, -1.0], #6\n",
    "        [1.0, 1.0, 1.0] #7\n",
    "    ]\n",
    ")\n",
    "\n",
    "triangles = [np.array([[1,5,7],[4,5,7], [1,4,5], [0,1,4], [1,3,7], [4,6,7], [0,2,6], [2,3,6], [0,2,3], [0,1,3], [3,6,7], [0,4,6]])]\n",
    "\n",
    "vertices_to_h5m(\n",
    "    vertices = vertices,\n",
    "    triangles = triangles,\n",
    "    material_tags = ['mat1'],\n",
    "    h5m_filename = 'hopefully_cube.h5m'\n",
    ")"
   ]
  },
  {
   "cell_type": "code",
   "execution_count": 9,
   "id": "fec251e5-2b0c-4c00-9194-b9bc004c71be",
   "metadata": {
    "jupyter": {
     "source_hidden": true
    }
   },
   "outputs": [],
   "source": [
    "#Tetrahedron\n",
    "vertices = np.array(\n",
    "    [\n",
    "        [0.0, 0.0, 0.0],\n",
    "        [1.0, 0.0, 0.0],\n",
    "        [0.0, 1.0, 0.0],\n",
    "        [0.0, 0.0, 1.0]\n",
    "    ]\n",
    ")\n",
    "\n",
    "triangles = [\n",
    "    np.array([[0,1,2],[3,1,2],[0,2,3],[0,1,3]])\n",
    "]\n",
    "\n",
    "vertices_to_h5m(\n",
    "    vertices = vertices,\n",
    "    triangles = triangles,\n",
    "    material_tags = ['mat1'],\n",
    "    h5m_filename = 'one_volume.h5m'\n",
    ")"
   ]
  },
  {
   "cell_type": "code",
   "execution_count": 38,
   "id": "78f1a788-5040-43b3-bf41-2e19b0d22d43",
   "metadata": {},
   "outputs": [
    {
     "ename": "ValueError",
     "evalue": "The number of material_tags provided is 1 and the number of sets of triangles is 24. You must provide one material_tag for every triangle set",
     "output_type": "error",
     "traceback": [
      "\u001b[0;31m---------------------------------------------------------------------------\u001b[0m",
      "\u001b[0;31mValueError\u001b[0m                                Traceback (most recent call last)",
      "Cell \u001b[0;32mIn[38], line 36\u001b[0m\n\u001b[1;32m     33\u001b[0m     triangles\u001b[38;5;241m.\u001b[39mappend([c,d,b])\n\u001b[1;32m     34\u001b[0m triangles \u001b[38;5;241m=\u001b[39m np\u001b[38;5;241m.\u001b[39marray(triangles)\n\u001b[0;32m---> 36\u001b[0m \u001b[43mvertices_to_h5m\u001b[49m\u001b[43m(\u001b[49m\n\u001b[1;32m     37\u001b[0m \u001b[43m    \u001b[49m\u001b[43mvertices\u001b[49m\u001b[43m \u001b[49m\u001b[38;5;241;43m=\u001b[39;49m\u001b[43m \u001b[49m\u001b[43mvertices\u001b[49m\u001b[43m,\u001b[49m\n\u001b[1;32m     38\u001b[0m \u001b[43m    \u001b[49m\u001b[43mtriangles\u001b[49m\u001b[43m \u001b[49m\u001b[38;5;241;43m=\u001b[39;49m\u001b[43m \u001b[49m\u001b[43mtriangles\u001b[49m\u001b[43m,\u001b[49m\n\u001b[1;32m     39\u001b[0m \u001b[43m    \u001b[49m\u001b[43mmaterial_tags\u001b[49m\u001b[43m \u001b[49m\u001b[38;5;241;43m=\u001b[39;49m\u001b[43m \u001b[49m\u001b[43m[\u001b[49m\u001b[38;5;124;43m'\u001b[39;49m\u001b[38;5;124;43mmat\u001b[39;49m\u001b[38;5;124;43m'\u001b[39;49m\u001b[43m]\u001b[49m\u001b[43m,\u001b[49m\n\u001b[1;32m     40\u001b[0m \u001b[43m    \u001b[49m\u001b[43mh5m_filename\u001b[49m\u001b[43m \u001b[49m\u001b[38;5;241;43m=\u001b[39;49m\u001b[43m \u001b[49m\u001b[38;5;124;43m'\u001b[39;49m\u001b[38;5;124;43mhex_prism.h5m\u001b[39;49m\u001b[38;5;124;43m'\u001b[39;49m\n\u001b[1;32m     41\u001b[0m \u001b[43m)\u001b[49m\n",
      "File \u001b[0;32m~/miniconda3/envs/openmc-env/lib/python3.12/site-packages/vertices_to_h5m/core.py:170\u001b[0m, in \u001b[0;36mvertices_to_h5m\u001b[0;34m(vertices, triangles, material_tags, h5m_filename)\u001b[0m\n\u001b[1;32m    168\u001b[0m \u001b[38;5;28;01mif\u001b[39;00m \u001b[38;5;28mlen\u001b[39m(material_tags) \u001b[38;5;241m!=\u001b[39m \u001b[38;5;28mlen\u001b[39m(triangles):\n\u001b[1;32m    169\u001b[0m     msg \u001b[38;5;241m=\u001b[39m \u001b[38;5;124mf\u001b[39m\u001b[38;5;124m\"\u001b[39m\u001b[38;5;124mThe number of material_tags provided is \u001b[39m\u001b[38;5;132;01m{\u001b[39;00m\u001b[38;5;28mlen\u001b[39m(material_tags)\u001b[38;5;132;01m}\u001b[39;00m\u001b[38;5;124m and the number of sets of triangles is \u001b[39m\u001b[38;5;132;01m{\u001b[39;00m\u001b[38;5;28mlen\u001b[39m(triangles)\u001b[38;5;132;01m}\u001b[39;00m\u001b[38;5;124m. You must provide one material_tag for every triangle set\u001b[39m\u001b[38;5;124m\"\u001b[39m\n\u001b[0;32m--> 170\u001b[0m     \u001b[38;5;28;01mraise\u001b[39;00m \u001b[38;5;167;01mValueError\u001b[39;00m(msg)\n\u001b[1;32m    172\u001b[0m \u001b[38;5;66;03m# limited attribute checking to see if user passed in a list of CadQuery vectors\u001b[39;00m\n\u001b[1;32m    173\u001b[0m \u001b[38;5;28;01mif\u001b[39;00m (\n\u001b[1;32m    174\u001b[0m     \u001b[38;5;28mhasattr\u001b[39m(vertices[\u001b[38;5;241m0\u001b[39m], \u001b[38;5;124m\"\u001b[39m\u001b[38;5;124mx\u001b[39m\u001b[38;5;124m\"\u001b[39m)\n\u001b[1;32m    175\u001b[0m     \u001b[38;5;129;01mand\u001b[39;00m \u001b[38;5;28mhasattr\u001b[39m(vertices[\u001b[38;5;241m0\u001b[39m], \u001b[38;5;124m\"\u001b[39m\u001b[38;5;124my\u001b[39m\u001b[38;5;124m\"\u001b[39m)\n\u001b[1;32m    176\u001b[0m     \u001b[38;5;129;01mand\u001b[39;00m \u001b[38;5;28mhasattr\u001b[39m(vertices[\u001b[38;5;241m0\u001b[39m], \u001b[38;5;124m\"\u001b[39m\u001b[38;5;124mz\u001b[39m\u001b[38;5;124m\"\u001b[39m)\n\u001b[1;32m    177\u001b[0m ):\n",
      "\u001b[0;31mValueError\u001b[0m: The number of material_tags provided is 1 and the number of sets of triangles is 24. You must provide one material_tag for every triangle set"
     ]
    }
   ],
   "source": [
    "#Hexagonal Prism\n",
    "s = 1 #side length\n",
    "h = 1 #height\n",
    "\n",
    "vertices = np.array([\n",
    "    [0,0,h/2], #0\n",
    "    [s,0,h/2], #1\n",
    "    [s/2,s*(3)**(1/2)/2,h/2], #2\n",
    "    [-s/2,s*(3)**(1/2)/2,h/2], #3\n",
    "    [0,0,h/2], #4\n",
    "    [-s/2,-s*(3)**(1/2)/2,h/2], #5\n",
    "    [s/2,-s*(3)**(1/2)/2,h/2], #6\n",
    "    [0,0,-h/2], #7\n",
    "    [s,0,-h/2], #8\n",
    "    [s/2,s*(3)**(1/2)/2,-h/2], #9\n",
    "    [-s/2,s*(3)**(1/2)/2,-h/2], #10\n",
    "    [0,0,-h/2], #11\n",
    "    [-s/2,-s*(3)**(1/2)/2,-h/2], #12\n",
    "    [s/2,-s*(3)**(1/2)/2,-h/2], #13\n",
    "])\n",
    "\n",
    "triangles = []\n",
    "for i in range(6):\n",
    "    #vertex id\n",
    "    a = i + 1\n",
    "    b = (i+1)%6 + 1\n",
    "    c = a + 7\n",
    "    d = b + 7\n",
    "    #appending\n",
    "    triangles.append([0,a,b])\n",
    "    triangles.append([7,c,d])\n",
    "    triangles.append([c,a,b])\n",
    "    triangles.append([c,d,b])\n",
    "triangles = np.array(triangles)\n",
    "\n",
    "vertices_to_h5m(\n",
    "    vertices = vertices,\n",
    "    triangles = triangles,\n",
    "    material_tags = ['mat'],\n",
    "    h5m_filename = 'hex_prism.h5m'\n",
    ")"
   ]
  },
  {
   "cell_type": "code",
   "execution_count": null,
   "id": "7cb17201-9138-4d2d-a068-1390f6011f54",
   "metadata": {
    "jupyter": {
     "source_hidden": true
    }
   },
   "outputs": [],
   "source": [
    "['mat1','mat2','mat3','mat4','mat5','mat6',\n",
    "                     'mat7','mat8','mat9','mat10','mat11','mat12',\n",
    "                     'mat13','mat14','mat15','mat16','mat17','mat18',\n",
    "                     'mat19','mat20','mat21','mat22','mat23','mat24',]"
   ]
  },
  {
   "cell_type": "code",
   "execution_count": 34,
   "id": "7cdb5241-51cd-4c39-afec-2096fcd78f90",
   "metadata": {
    "collapsed": true,
    "jupyter": {
     "outputs_hidden": true,
     "source_hidden": true
    }
   },
   "outputs": [
    {
     "data": {
      "text/plain": [
       "array([[ 0,  1,  2],\n",
       "       [ 7,  8,  9],\n",
       "       [ 8,  1,  2],\n",
       "       [ 8,  9,  2],\n",
       "       [ 0,  2,  3],\n",
       "       [ 7,  9, 10],\n",
       "       [ 9,  2,  3],\n",
       "       [ 9, 10,  3],\n",
       "       [ 0,  3,  4],\n",
       "       [ 7, 10, 11],\n",
       "       [10,  3,  4],\n",
       "       [10, 11,  4],\n",
       "       [ 0,  4,  5],\n",
       "       [ 7, 11, 12],\n",
       "       [11,  4,  5],\n",
       "       [11, 12,  5],\n",
       "       [ 0,  5,  6],\n",
       "       [ 7, 12, 13],\n",
       "       [12,  5,  6],\n",
       "       [12, 13,  6],\n",
       "       [ 0,  6,  1],\n",
       "       [ 7, 13,  8],\n",
       "       [13,  6,  1],\n",
       "       [13,  8,  1]])"
      ]
     },
     "execution_count": 34,
     "metadata": {},
     "output_type": "execute_result"
    }
   ],
   "source": [
    "test = []\n",
    "for i in range(6):\n",
    "    #vertex id\n",
    "    a = i + 1\n",
    "    b = (i+1)%6 + 1\n",
    "    c = a + 7\n",
    "    d = b + 7\n",
    "    #appending\n",
    "    test.append([0,a,b])\n",
    "    test.append([7,c,d])\n",
    "    test.append([c,a,b])\n",
    "    test.append([c,d,b])\n",
    "np.array(test)"
   ]
  }
 ],
 "metadata": {
  "kernelspec": {
   "display_name": "Python 3 (ipykernel)",
   "language": "python",
   "name": "python3"
  },
  "language_info": {
   "codemirror_mode": {
    "name": "ipython",
    "version": 3
   },
   "file_extension": ".py",
   "mimetype": "text/x-python",
   "name": "python",
   "nbconvert_exporter": "python",
   "pygments_lexer": "ipython3",
   "version": "3.12.2"
  }
 },
 "nbformat": 4,
 "nbformat_minor": 5
}
