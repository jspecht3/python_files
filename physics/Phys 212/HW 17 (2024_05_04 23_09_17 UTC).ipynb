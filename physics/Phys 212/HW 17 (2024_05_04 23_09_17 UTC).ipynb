{
 "cells": [
  {
   "cell_type": "code",
   "execution_count": 21,
   "id": "20ec8016",
   "metadata": {},
   "outputs": [],
   "source": [
    "import numpy as np\n",
    "import math as math\n",
    "udp = 2*10**(-7)"
   ]
  },
  {
   "cell_type": "code",
   "execution_count": 18,
   "id": "90b4c630",
   "metadata": {},
   "outputs": [
    {
     "name": "stdout",
     "output_type": "stream",
     "text": [
      "-5.054904139519808e-08\n"
     ]
    }
   ],
   "source": [
    "#Time Dependent Current in a Wire\n",
    "\n",
    "I1 = 4.5\n",
    "l = 62 / 100\n",
    "w = 21 / 100\n",
    "d = 40 / 100\n",
    "\n",
    "flux = w * udp * np.log((d+l)/d) * I1 #Flux thing\n",
    "print(flux)"
   ]
  },
  {
   "cell_type": "code",
   "execution_count": 30,
   "id": "f79cb190",
   "metadata": {},
   "outputs": [
    {
     "name": "stdout",
     "output_type": "stream",
     "text": [
      "-0.14439369549014688\n"
     ]
    }
   ],
   "source": [
    "#Rotating Triangle in a Magnetic Field\n",
    "\n",
    "I = 1.6\n",
    "omega = 2 / 1.6 * np.pi\n",
    "b = 52 / 100\n",
    "h = 30 / 100\n",
    "B = 1.2\n",
    "\n",
    "EMF = B * 1/2 * b * h * -omega * np.sin(omega * .6)\n",
    "flux = B * b * h / 2 * np.cos(omega * .6)\n",
    "print(EMF/1.8)"
   ]
  },
  {
   "cell_type": "code",
   "execution_count": 35,
   "id": "260b9c76",
   "metadata": {},
   "outputs": [
    {
     "name": "stdout",
     "output_type": "stream",
     "text": [
      "5.7600000000000004e-05\n"
     ]
    }
   ],
   "source": [
    "#Moving Coil\n",
    "\n",
    "B = 1.6\n",
    "w = 3 / 100\n",
    "v = 5 / 100\n",
    "r = 2\n",
    "\n",
    "emf = B * w * v\n",
    "I = emf / r\n",
    "F = I * w * B\n",
    "print(F)"
   ]
  },
  {
   "cell_type": "code",
   "execution_count": 50,
   "id": "7ad85d14",
   "metadata": {},
   "outputs": [
    {
     "name": "stdout",
     "output_type": "stream",
     "text": [
      "15.918\n"
     ]
    }
   ],
   "source": [
    "#Conducting Loop Moving Through Constant Magnetic Field\n",
    "\n",
    "s1 = 2.5 / 100\n",
    "s2 = 5.1 / 100\n",
    "L = 15.1 / 100\n",
    "B = 1.6\n",
    "v = 42 / 100\n",
    "R = 2.6\n",
    "\n",
    "emf = B * s2 * v\n",
    "I = emf / R\n",
    "F = I * s2 * B\n",
    "\n",
    "print(v * .379 * 100)"
   ]
  },
  {
   "cell_type": "code",
   "execution_count": 88,
   "id": "c3db28e6",
   "metadata": {},
   "outputs": [
    {
     "name": "stdout",
     "output_type": "stream",
     "text": [
      "2.63157894736842e-08\n"
     ]
    }
   ],
   "source": [
    "#Conducting Loop and Current-Carrying Wire\n",
    "\n",
    "I = 4.5\n",
    "d = 42 / 100\n",
    "v = 15 / 100\n",
    "w = 15 / 100\n",
    "R = 1.8\n",
    "l = 56 / 100\n",
    "\n",
    "d1 = d\n",
    "d2 = d + w\n",
    "\n",
    "emf = udp * I * l * v * ((1/d1) - (1/d2))\n",
    "Iend = emf / R\n",
    "\n",
    "print(Iend)"
   ]
  }
 ],
 "metadata": {
  "kernelspec": {
   "display_name": "Python 3",
   "language": "python",
   "name": "python3"
  },
  "language_info": {
   "codemirror_mode": {
    "name": "ipython",
    "version": 3
   },
   "file_extension": ".py",
   "mimetype": "text/x-python",
   "name": "python",
   "nbconvert_exporter": "python",
   "pygments_lexer": "ipython3",
   "version": "3.8.8"
  }
 },
 "nbformat": 4,
 "nbformat_minor": 5
}
