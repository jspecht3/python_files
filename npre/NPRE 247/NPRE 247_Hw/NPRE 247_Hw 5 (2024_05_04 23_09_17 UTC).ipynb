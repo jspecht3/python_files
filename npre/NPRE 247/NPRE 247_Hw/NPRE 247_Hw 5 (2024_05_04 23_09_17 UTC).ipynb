{
 "cells": [
  {
   "cell_type": "code",
   "execution_count": 219,
   "id": "cf1c622c",
   "metadata": {},
   "outputs": [],
   "source": [
    "from sympy import *\n",
    "import numpy as np\n",
    "import scipy.constants as c\n",
    "import matplotlib.pyplot as plt"
   ]
  },
  {
   "cell_type": "code",
   "execution_count": 155,
   "id": "0898b77a",
   "metadata": {},
   "outputs": [],
   "source": [
    "#Constants & Useful Numbers\n",
    "N_A = c.Avogadro\n",
    "amu_e = 931.494311371427 #MeV\n",
    "Ci_to_bq = 37000000000 "
   ]
  },
  {
   "cell_type": "code",
   "execution_count": 181,
   "id": "49be9fcc",
   "metadata": {},
   "outputs": [],
   "source": [
    "#Masses (amu)\n",
    "m_e = 5.4857990943e-4\n",
    "m_p = 1.00727646677\n",
    "m_n = 1.008664916\n",
    "\n",
    "m_H1 = 1.0078250321\n",
    "m_He4 = 4.0026032542\n",
    "m_Na24 = 23.990963012\n",
    "m_Al27 = 26.9815386\n",
    "m_Ar38 = 37.9627324\n",
    "m_Ar40 = 39.962383123\n",
    "m_Ni60 = 59.930786\n",
    "m_Ag107 = 106.905097\n",
    "m_Te107 = 106.9350\n",
    "m_Te108 = 107.9294\n",
    "m_Xe136 = 135.90722\n",
    "m_Ba137 = 136.9058274\n",
    "m_Nd145 = 144.912574\n",
    "m_Pb206 = 205.974465\n",
    "m_Po210 = 209.982874\n",
    "m_Rn220 = 220.011394\n",
    "m_Ra224 = 224.020212\n",
    "m_U234 = 234.040952\n",
    "m_U238 = 238.050788"
   ]
  },
  {
   "cell_type": "code",
   "execution_count": 182,
   "id": "16c5c2e9",
   "metadata": {},
   "outputs": [],
   "source": [
    "#Energies (MeV)\n",
    "e_e = m_e * amu_e\n",
    "e_n = m_n * amu_e\n",
    "e_p = m_p * amu_e\n",
    "\n",
    "e_H1 = m_H1 * amu_e\n",
    "e_He4 = m_He4 * amu_e\n",
    "e_Na24 = m_Na24 * amu_e\n",
    "e_Al27 = m_Al27 * amu_e\n",
    "e_Ar38 = m_Ar38 * amu_e\n",
    "e_Ar40 = m_Ar40 * amu_e\n",
    "e_Ni60 = m_Ni60 * amu_e\n",
    "e_Ag107 = m_Ag107 * amu_e\n",
    "e_Te107 = m_Te107 * amu_e\n",
    "e_Te108 = m_Te108 * amu_e\n",
    "e_Xe136 = m_Xe136 * amu_e\n",
    "e_Ba137 = m_Ba137 * amu_e\n",
    "e_Nd145 = m_Nd145 * amu_e\n",
    "e_Sm145 = m_Sm145 * amu_e\n",
    "e_Pb206 = m_Pb206 * amu_e\n",
    "e_Po210 = m_Po210 * amu_e\n",
    "e_Rn220 = m_Rn220 * amu_e\n",
    "e_Ra224 = m_Ra224 * amu_e\n",
    "e_U234 = m_U234 * amu_e\n",
    "e_U238 = m_U238 * amu_e"
   ]
  },
  {
   "cell_type": "code",
   "execution_count": 167,
   "id": "14058a8a",
   "metadata": {},
   "outputs": [],
   "source": [
    "#Energies through disintegration\n",
    "e_Si27 = e_Al27 + 4.8124\n",
    "e_S38 = e_Ar38 + 4.9165 + 2.94\n",
    "e_Cl38 = e_Ar38 + 4.9165\n",
    "e_K40 = e_Ar40 + 1.5047\n",
    "e_Cu60 = e_Ni60 + 6.128\n",
    "e_Sb107 = e_Ag107 + 7.9 + 5 + 3.43 + 1.417\n",
    "e_Xe137 = e_Ba137 + 1.1756 + 4.17\n",
    "e_Pm145 = e_Nd145 + .163\n",
    "e_Sm145 = e_Nd145 + .163 + .616\n",
    "e_Th234 = e_U234 + 2.195 + .273"
   ]
  },
  {
   "cell_type": "code",
   "execution_count": 37,
   "id": "2dd2cb35",
   "metadata": {},
   "outputs": [
    {
     "data": {
      "text/plain": [
       "5.408019185968442"
      ]
     },
     "execution_count": 37,
     "metadata": {},
     "output_type": "execute_result"
    }
   ],
   "source": [
    "#1a\n",
    "q1a = e_Po210 - (e_Pb206 + e_He4)\n",
    "q1a"
   ]
  },
  {
   "cell_type": "code",
   "execution_count": 44,
   "id": "de653980",
   "metadata": {},
   "outputs": [
    {
     "data": {
      "text/plain": [
       "2.9400000000023283"
      ]
     },
     "execution_count": 44,
     "metadata": {},
     "output_type": "execute_result"
    }
   ],
   "source": [
    "#1b\n",
    "q1b = e_S38 - (e_Cl38)\n",
    "q1b"
   ]
  },
  {
   "cell_type": "code",
   "execution_count": 45,
   "id": "a22a42be",
   "metadata": {},
   "outputs": [
    {
     "data": {
      "text/plain": [
       "3.79040187006467"
      ]
     },
     "execution_count": 45,
     "metadata": {},
     "output_type": "execute_result"
    }
   ],
   "source": [
    "#1c\n",
    "q1c = e_Si27 - (e_Al27 + 2*e_e)\n",
    "q1c"
   ]
  },
  {
   "cell_type": "code",
   "execution_count": 119,
   "id": "24bba2ee",
   "metadata": {},
   "outputs": [
    {
     "data": {
      "text/plain": [
       "0.6160000000090804"
      ]
     },
     "execution_count": 119,
     "metadata": {},
     "output_type": "execute_result"
    }
   ],
   "source": [
    "#1d\n",
    "q1d = e_Sm145 - (e_Pm145)\n",
    "q1d"
   ]
  },
  {
   "cell_type": "code",
   "execution_count": 120,
   "id": "2926d57c",
   "metadata": {},
   "outputs": [
    {
     "data": {
      "text/plain": [
       "2.687081059484626"
      ]
     },
     "execution_count": 120,
     "metadata": {},
     "output_type": "execute_result"
    }
   ],
   "source": [
    "#1e\n",
    "q1e = (e_Xe137 + 6.71) - (e_Xe136 + e_n)\n",
    "q1e"
   ]
  },
  {
   "cell_type": "code",
   "execution_count": 374,
   "id": "a78c947d",
   "metadata": {},
   "outputs": [
    {
     "data": {
      "text/plain": [
       "-5.797866638167761"
      ]
     },
     "execution_count": 374,
     "metadata": {},
     "output_type": "execute_result"
    }
   ],
   "source": [
    "#1f\n",
    "q1f = e_Te108 - ((e_Sb107 + 3.4) + e_H1)\n",
    "q1f"
   ]
  },
  {
   "cell_type": "code",
   "execution_count": 139,
   "id": "ae86faae",
   "metadata": {},
   "outputs": [
    {
     "data": {
      "text/plain": [
       "0.11667"
      ]
     },
     "execution_count": 139,
     "metadata": {},
     "output_type": "execute_result"
    }
   ],
   "source": [
    "#1g, The energy is just the Excitation Energy - the binding energy\n",
    ".125 - 8.33e-3"
   ]
  },
  {
   "cell_type": "code",
   "execution_count": 145,
   "id": "26170fe7",
   "metadata": {},
   "outputs": [
    {
     "name": "stdout",
     "output_type": "stream",
     "text": [
      "T alpha... 4.197476511840658\n",
      "T Th... 0.07178505644929078\n"
     ]
    }
   ],
   "source": [
    "#2\n",
    "q2 = e_U238 - (e_Th234 + e_He4)\n",
    "\n",
    "T_alpha = q2 * (e_Th234 / (e_Th234 + e_He4))\n",
    "T_Th = q2 - T_alpha\n",
    "\n",
    "print('T alpha...', T_alpha)\n",
    "print('T Th...', T_Th)"
   ]
  },
  {
   "cell_type": "code",
   "execution_count": 294,
   "id": "13b20458",
   "metadata": {},
   "outputs": [
    {
     "name": "stdout",
     "output_type": "stream",
     "text": [
      "Ground 5.685564538505447\n",
      "Excited 5.448870641677954\n"
     ]
    }
   ],
   "source": [
    "#3\n",
    "q3_ground = (e_Ra224) - (e_Rn220 + e_He4)\n",
    "q3_excited = q3_ground - .241\n",
    "\n",
    "t_ground = q3_ground * ((e_Rn220) / (e_Rn220 + e_He4))\n",
    "t_excited = q3_excited * ((e_Rn220) / (e_Rn220 + e_He4))\n",
    "\n",
    "print(\"Ground\", t_ground)\n",
    "print(\"Excited\", t_excited)"
   ]
  },
  {
   "cell_type": "code",
   "execution_count": 299,
   "id": "88cc2993",
   "metadata": {},
   "outputs": [
    {
     "data": {
      "text/plain": [
       "213.0695737644884"
      ]
     },
     "execution_count": 299,
     "metadata": {},
     "output_type": "execute_result"
    }
   ],
   "source": [
    "#4\n",
    "T_alpha = 4.7844\n",
    "q = 4.8760\n",
    "\n",
    "#T_alpha = q * (md / (md + ma))\n",
    "#(md + ma)/md = q/T\n",
    "#1 + ma/md = q/T\n",
    "#ma/md = q/T - 1\n",
    "#md = ma / (q/T - 1)\n",
    "\n",
    "e_D = e_He4 / (q/T_alpha - 1)\n",
    "e_P = e_D + e_He4 + q\n",
    "\n",
    "e_P / amu_e"
   ]
  },
  {
   "cell_type": "code",
   "execution_count": 193,
   "id": "c3e45c8b",
   "metadata": {},
   "outputs": [
    {
     "name": "stdout",
     "output_type": "stream",
     "text": [
      "Lambda [1/Ga] 0.537323395782903\n",
      "Mean Lifetime [Ga] 1.86107660274676\n"
     ]
    }
   ],
   "source": [
    "#5\n",
    "hl_K40 = 1.25 #Gyears\n",
    "\n",
    "dc_K40 = ln(2).evalf() / hl_K40\n",
    "mlt_K40 = 1 / decay_constant\n",
    "\n",
    "print('Lambda [1/Ga]', dc5)\n",
    "print('Mean Lifetime [Ga]', mlt5)"
   ]
  },
  {
   "cell_type": "code",
   "execution_count": 190,
   "id": "371b6a22",
   "metadata": {},
   "outputs": [
    {
     "data": {
      "text/latex": [
       "$\\displaystyle 721.022900040851$"
      ],
      "text/plain": [
       "721.022900040851"
      ]
     },
     "execution_count": 190,
     "metadata": {},
     "output_type": "execute_result"
    }
   ],
   "source": [
    "#6\n",
    "A6_Ci = 5e-3 #Ci\n",
    "A6_bq = A6_Ci * Ci_to_bq\n",
    "\n",
    "dc_K40_s = dc_K40 * 3.16887385068114E-17 #1/ (Ga to s)\n",
    "\n",
    "N_K40 = A6_bq / dc_K40_s\n",
    "g_K40 = N_K40 * (e_K40 / amu_e) / N_A\n",
    "\n",
    "g_K40"
   ]
  },
  {
   "cell_type": "code",
   "execution_count": 208,
   "id": "4a8cc82f",
   "metadata": {},
   "outputs": [
    {
     "name": "stdout",
     "output_type": "stream",
     "text": [
      "Atoms_Na24 9.32996653723056 e+10\n"
     ]
    }
   ],
   "source": [
    "#7a\n",
    "A7 = 1.2e6 #Bq\n",
    "\n",
    "hl_Na24 = 14.97 #hours\n",
    "hl_Na24_s = hl_Na24 * 3600\n",
    "\n",
    "dc_Na24 = ln(2).evalf() / hl_Na24_s\n",
    "\n",
    "N_Na24 = A7 / dc_Na24\n",
    "print('Atoms_Na24', N_Na24*1e-10,'e+10')"
   ]
  },
  {
   "cell_type": "code",
   "execution_count": 204,
   "id": "de7945cd",
   "metadata": {},
   "outputs": [
    {
     "name": "stdout",
     "output_type": "stream",
     "text": [
      "Atoms_U238 2.44097875009054e+23\n"
     ]
    }
   ],
   "source": [
    "#7b\n",
    "\n",
    "hl_U238 = 4.468e9 #years\n",
    "hl_U238_s = hl_U238 * 31556952 #years to seconds\n",
    "\n",
    "dc_U238 = ln(2).evalf() / hl_U238_s\n",
    "\n",
    "N_U238 = A7 / dc_U238\n",
    "print('Atoms_U238', N_U238)"
   ]
  },
  {
   "cell_type": "code",
   "execution_count": 215,
   "id": "394197ab",
   "metadata": {},
   "outputs": [],
   "source": [
    "#8\n",
    "t8 = np.array([0,3,6,9,12,18,24,30,36,42,48,54,60,66,72,78])\n",
    "counts8 = np.array([29770,19097,12548,8600,6189,3346,2155,1438,1048,802,592,463,334,256,183,167])"
   ]
  },
  {
   "cell_type": "code",
   "execution_count": 337,
   "id": "530fe49d",
   "metadata": {
    "scrolled": false
   },
   "outputs": [
    {
     "data": {
      "text/plain": [
       "Text(0, 0.5, 'Count [decays/min]')"
      ]
     },
     "execution_count": 337,
     "metadata": {},
     "output_type": "execute_result"
    },
    {
     "data": {
      "image/png": "[encoded data removed]",
      "text/plain": [
       "<Figure size 432x288 with 1 Axes>"
      ]
     },
     "metadata": {
      "needs_background": "light"
     },
     "output_type": "display_data"
    }
   ],
   "source": [
    "#8a\n",
    "plt.semilogy(t8, counts8)\n",
    "plt.xlabel(\"Time [min]\")\n",
    "plt.ylabel(\"Count [decays/min]\")"
   ]
  },
  {
   "cell_type": "code",
   "execution_count": 364,
   "id": "a46b00b7",
   "metadata": {},
   "outputs": [
    {
     "name": "stdout",
     "output_type": "stream",
     "text": [
      "First lambda [1/min] 0.0152487234041110\n",
      "Second lambda [1/min] 0.110684305618879\n"
     ]
    }
   ],
   "source": [
    "#8b\n",
    "dc8_1 = log(counts8[15]/counts8[14]) / -(t8[15]-t8[14])\n",
    "dc8_2 = (log(counts8[3]/counts8[2]) / -(t8[3]-t8[2])) - dc8_1\n",
    "\n",
    "print('First lambda [1/min]', dc8_1)\n",
    "print('Second lambda [1/min]', dc8_2)"
   ]
  },
  {
   "cell_type": "code",
   "execution_count": 366,
   "id": "f6a8b2cc",
   "metadata": {},
   "outputs": [
    {
     "name": "stdout",
     "output_type": "stream",
     "text": [
      "First Half life [min] 45.4560793182908\n",
      "Second Half life [min] 6.26237998860173\n"
     ]
    }
   ],
   "source": [
    "#8c\n",
    "hl8_1 = log(2).evalf() / dc8_1\n",
    "hl8_2 = log(2).evalf() / dc8_2\n",
    "\n",
    "print('First Half life [min]', hl8_1)\n",
    "print('Second Half life [min]', hl8_2)"
   ]
  },
  {
   "cell_type": "code",
   "execution_count": 373,
   "id": "6e4570a2",
   "metadata": {},
   "outputs": [
    {
     "name": "stdout",
     "output_type": "stream",
     "text": [
      "First initial counts/min 548.613528332242\n",
      "Second initial counts/min 29221.3864716678\n"
     ]
    }
   ],
   "source": [
    "#8d\n",
    "count8_initial_1 = counts8[15] / exp(-dc8_1 * t8[15])\n",
    "count8_initial_2 = counts8[0] - count8_initial_1\n",
    "\n",
    "print('First initial counts/min', count8_initial_1)\n",
    "print('Second initial counts/min', count8_initial_2)"
   ]
  },
  {
   "cell_type": "raw",
   "id": "e7126142",
   "metadata": {},
   "source": [
    "#9\n",
    "For this to be true, the derivative of the whole expession N1(t) + N2(t) + N3(t) = N1(0) + N2(0) + N3(0). has to be equal to 0\n",
    "\n",
    "These derivatives are given by the following.\n",
    "\n",
    "dN1(t)/dt = -lambda_1*N1(t)\n",
    "dN2(t)/dt = -lambda_2*N2(t) + lambda_1 * N1(t)\n",
    "dN3(t)/dt = lambda_2*N2(t)\n",
    "\n",
    "The time derivatives of N1(0) = N2(0) = N3(0) = 0 because all of these values are either 0, in the cases of N2(0) and N3(0), or constants, in the case of N1(0).\n",
    "\n",
    "\n",
    "Plugging these expersions into d/dt(N1(t) + N2(t) + N3(t) = N1(0) + N2(0) + N3(0)), we get\n",
    "\n",
    "-lambda_1*N1(t) -lambda_2*N2(t) + lambda_1 * N1(t) + lambda_2*N2(t) = 0 + 0 + 0, which simplifies to\n",
    "\n",
    "0 = 0\n",
    "\n",
    "As the derivivates wrt time for each side are both 0, we can conclude that neither side changes in number over time."
   ]
  },
  {
   "cell_type": "code",
   "execution_count": 300,
   "id": "6c79f97d",
   "metadata": {},
   "outputs": [],
   "source": [
    "#10 N(t) is the same everywhere, so N(t) doesn't have a max."
   ]
  },
  {
   "cell_type": "code",
   "execution_count": 324,
   "id": "a5bae51a",
   "metadata": {},
   "outputs": [
    {
     "data": {
      "text/latex": [
       "$\\displaystyle 11735.6940276053$"
      ],
      "text/plain": [
       "11735.6940276053"
      ]
     },
     "execution_count": 324,
     "metadata": {},
     "output_type": "execute_result"
    }
   ],
   "source": [
    "#11\n",
    "aD = 1.8\n",
    "aP = 7.5\n",
    "\n",
    "hl_C14 = 5.7e3\n",
    "dc_C14 = ln(2) / hl_C14\n",
    "\n",
    "t = -ln(aD/aP) / dc_C14\n",
    "t.evalf()"
   ]
  },
  {
   "cell_type": "raw",
   "id": "94f68ead",
   "metadata": {},
   "source": [
    "aD = aP exp(-dc*t)\n",
    "aD/aP = exp(-dc*t)\n",
    "ln(aD/aP) = -dc*t\n",
    "t = ln(aD/aP) / -dc"
   ]
  }
 ],
 "metadata": {
  "kernelspec": {
   "display_name": "Python 3 (ipykernel)",
   "language": "python",
   "name": "python3"
  },
  "language_info": {
   "codemirror_mode": {
    "name": "ipython",
    "version": 3
   },
   "file_extension": ".py",
   "mimetype": "text/x-python",
   "name": "python",
   "nbconvert_exporter": "python",
   "pygments_lexer": "ipython3",
   "version": "3.9.12"
  }
 },
 "nbformat": 4,
 "nbformat_minor": 5
}
