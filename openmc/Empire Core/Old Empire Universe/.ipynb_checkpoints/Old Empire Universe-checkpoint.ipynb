{
 "cells": [
  {
   "cell_type": "code",
   "execution_count": 1,
   "id": "22f8fa22-ff11-4578-a744-de04a3c68fa4",
   "metadata": {},
   "outputs": [],
   "source": [
    "import openmc\n",
    "import matplotlib.pyplot as plt\n",
    "import pandas as pd\n",
    "import numpy as np\n",
    "\n",
    "#Link to the Paper the Parameters were obtained from:\n",
    "#https://www.tandfonline.com/doi/full/10.1080/00295450.2021.1906474"
   ]
  },
  {
   "cell_type": "code",
   "execution_count": 2,
   "id": "d4356a39-aa14-4522-b698-cf6d335916bf",
   "metadata": {
    "jupyter": {
     "source_hidden": true
    }
   },
   "outputs": [],
   "source": [
    "#Parameters [cm]\n",
    "monolith_pitch = 2.15\n",
    "fuel_radius = 0.975\n",
    "moderator_radius = 1\n",
    "heat_pipe_radius = 1\n",
    "height = 60"
   ]
  },
  {
   "cell_type": "code",
   "execution_count": 3,
   "id": "f4555c2e-e5fd-4728-8c77-caccfb72ac03",
   "metadata": {
    "jupyter": {
     "source_hidden": true
    }
   },
   "outputs": [],
   "source": [
    "#Materials\n",
    "\n",
    "#Fuel: Uranium Nitride (UN)\n",
    "un = openmc.Material()\n",
    "un.add_element('N', 1.0)\n",
    "un.add_nuclide('U235', .1605, 'ao')\n",
    "un.add_nuclide('U238', 1-.1605, 'ao')\n",
    "un.set_density('g/cm3', 14.3)\n",
    "\n",
    "#Moderator: Yttrium Hydride (YH2)\n",
    "yh2 = openmc.Material()\n",
    "yh2.add_element('Y', 1.0)\n",
    "yh2.add_element('H', 2.0)\n",
    "yh2.set_density('g/cm3', 4.3)\n",
    "\n",
    "#Monolith: Stainless Steel 316 (various elements)\n",
    "ss316 = openmc.Material()\n",
    "ss316.add_element('Fe', 65.9, 'wo')\n",
    "ss316.add_element('Cr', 17.0, 'wo')\n",
    "ss316.add_element('Ni', 12.01, 'wo')\n",
    "ss316.add_element('Mo', 2.0, 'wo')\n",
    "ss316.add_element('Mn', 2.0, 'wo')\n",
    "ss316.add_element('Si', 1.0, 'wo')\n",
    "ss316.add_element('P', 0.04, 'wo')\n",
    "ss316.add_element('S', 0.03, 'wo')\n",
    "ss316.add_element('C', 0.02, 'wo') #Carbon is C0 when displayed\n",
    "ss316.set_density('g/cm3', 7.9)\n",
    "\n",
    "#Heat Pipe: Approxmated as Copper (Cu)\n",
    "cu = openmc.Material()\n",
    "cu.add_element('Cu', 1.0)\n",
    "cu.set_density('g/cm3', 8.92)"
   ]
  },
  {
   "cell_type": "code",
   "execution_count": 15,
   "id": "62322b5b-b96d-4dfc-9f67-f1758f8bf3f8",
   "metadata": {
    "jupyter": {
     "source_hidden": true
    }
   },
   "outputs": [],
   "source": [
    "#Cell Creation Functions\n",
    "#Global Geometry\n",
    "top = openmc.ZPlane(z0=height/2, boundary_type='vacuum')\n",
    "bot = openmc.ZPlane(z0=-height/2, boundary_type='vacuum')\n",
    "layer = -top & + bot\n",
    "\n",
    "def zcylinder_maker(x,y,radius):\n",
    "    return -openmc.ZCylinder(x0=x, y0=y, r=radius) & layer\n",
    "\n",
    "#Box Maker\n",
    "def box_maker(pitch):\n",
    "    left = openmc.XPlane(-pitch, boundary_type='reflective')\n",
    "    right = openmc.XPlane(pitch, boundary_type='reflective')\n",
    "    front = openmc.YPlane(-pitch, boundary_type='reflective')\n",
    "    back = openmc.YPlane(pitch, boundary_type='reflective')\n",
    "    return +left & -right & +front & -back & layer\n",
    "\n",
    "def void_box(pitch):\n",
    "    return openmc.Cell(\n",
    "        fill=None,\n",
    "        region=box_maker(pitch),\n",
    "    )\n",
    "\n",
    "#Simple Cell Makers\n",
    "def fuel_maker(x,y):\n",
    "    return openmc.Cell(fill=un, region=zcylinder_maker(x,y,fuel_radius))\n",
    "\n",
    "def mod_maker(x,y):\n",
    "    return openmc.Cell(fill=yh2, region=zcylinder_maker(x,y,moderator_radius))\n",
    "\n",
    "def heat_pipe_maker(x,y):\n",
    "    return openmc.Cell(fill=cu, region=zcylinder_maker(x,y,heat_pipe_radius))\n",
    "\n",
    "#Symmetric Four Quadrant Cell Makers\n",
    "def four_quad_fuel(universe,x,y):\n",
    "    universe.add_cell(fuel_maker(x,y))\n",
    "    universe.add_cell(fuel_maker(x,-y))\n",
    "    universe.add_cell(fuel_maker(-x,y))\n",
    "    universe.add_cell(fuel_maker(-x,-y))\n",
    "\n",
    "def four_quad_mod(universe,x,y):\n",
    "    universe.add_cell(mod_maker(x,y))\n",
    "    universe.add_cell(mod_maker(x,-y))\n",
    "    universe.add_cell(mod_maker(-x,y))\n",
    "    universe.add_cell(mod_maker(-x,-y))\n",
    "\n",
    "def four_quad_heat_pipe(universe,x,y):\n",
    "    universe.add_cell(heat_pipe_maker(x,y))\n",
    "    universe.add_cell(heat_pipe_maker(x,-y))\n",
    "    universe.add_cell(heat_pipe_maker(-x,y))\n",
    "    universe.add_cell(heat_pipe_maker(-x,-y))"
   ]
  },
  {
   "cell_type": "code",
   "execution_count": 26,
   "id": "e024b430-3c67-4ffc-816d-2654b3cd88cd",
   "metadata": {
    "collapsed": true,
    "jupyter": {
     "outputs_hidden": true,
     "source_hidden": true
    }
   },
   "outputs": [
    {
     "data": {
      "image/png": "[encoded data removed]",
      "text/plain": [
       "<Figure size 258.065x259.74 with 1 Axes>"
      ]
     },
     "metadata": {},
     "output_type": "display_data"
    }
   ],
   "source": [
    "#Circular Heterogenous Lattice Universe\n",
    "length_circ = 5\n",
    "#length_circ is the (number of cells across the diameter - 1) /2\n",
    "#Start at the central heat pipe and move out until the edge.\n",
    "#^^Number of Cells crossed by this is length_circ^^\n",
    "radius = (length_circ - .25) * monolith_pitch\n",
    "\n",
    "circular_universe = openmc.Universe()\n",
    "circular_universe.add_cell(heat_pipe_maker(0,0))\n",
    "\n",
    "#Cylindrical Cells\n",
    "layers = np.arange(1,length_circ)\n",
    "for i in layers:\n",
    "    #Creating Position Vectors\n",
    "    theta = np.linspace(0, 2*np.pi, 1+(i*6))\n",
    "    x_pos = np.cos(theta[:-1]) * (i*monolith_pitch)\n",
    "    y_pos = np.sin(theta[:-1]) * (i*monolith_pitch)\n",
    "\n",
    "    #Moderator Population\n",
    "    if i%2 ==1:\n",
    "        for j in range(len(x_pos)):\n",
    "            circular_universe.add_cell(mod_maker(x_pos[j], y_pos[j]))\n",
    "    elif i%2 == 0:\n",
    "        for j in range(len(x_pos)):\n",
    "            if j%2 == 0:\n",
    "                circular_universe.add_cell(heat_pipe_maker(x_pos[j], y_pos[j]))\n",
    "            elif j%2 == 1:\n",
    "                circular_universe.add_cell(fuel_maker(x_pos[j], y_pos[j]))\n",
    "\n",
    "#Monolith\n",
    "boundary = zcylinder_maker(0,0,(layers[-1]+.75)*(monolith_pitch))\n",
    "boundary.boundary_type = 'reflective'\n",
    "\n",
    "monolith = openmc.Cell(\n",
    "    fill=ss316,\n",
    "    region=boundary,\n",
    ")\n",
    "\n",
    "circular_universe.add_cell(monolith)\n",
    "\n",
    "#Edge\n",
    "#circular_universe.add_cell(void_box(radius))\n",
    "\n",
    "#Plotting\n",
    "circular_universe.plot()\n",
    "plt.show()"
   ]
  },
  {
   "cell_type": "code",
   "execution_count": 8,
   "id": "60da6522-bbcd-4676-89b0-2b1b52bd33fb",
   "metadata": {
    "collapsed": true,
    "jupyter": {
     "outputs_hidden": true,
     "source_hidden": true
    },
    "scrolled": true
   },
   "outputs": [
    {
     "data": {
      "image/png": "[encoded data removed]",
      "text/plain": [
       "<Figure size 258.065x259.74 with 1 Axes>"
      ]
     },
     "metadata": {},
     "output_type": "display_data"
    }
   ],
   "source": [
    "#Cheater Homogenous Hexagonal Lattice\n",
    "layers = 4\n",
    "#Layers is the number of layers out from the central heat pipe\n",
    "#This is going to be one less than the number of cells an the outer edge\n",
    "\n",
    "cheater_lattice_universe = openmc.Universe()\n",
    "\n",
    "#Cylindrical Cells\n",
    "heights = (3/4)**(.5) * np.linspace(0,1,layers+1) * (monolith_pitch*layers)\n",
    "x_spacing = np.linspace(0,1,layers+1) * (monolith_pitch*layers)\n",
    "\n",
    "for i in range(layers+1):\n",
    "    pos = x_spacing - i*monolith_pitch/2\n",
    "    for x in pos:\n",
    "        four_quad_fuel(cheater_lattice_universe,x,heights[i])\n",
    "\n",
    "#Monolith\n",
    "hexagon = openmc.model.HexagonalPrism(\n",
    "    edge_length=(layers+1)*monolith_pitch,\n",
    "    orientation='x',\n",
    "    origin=(0,0),\n",
    "    boundary_type='reflective'\n",
    ")\n",
    "\n",
    "monolith = openmc.Cell(\n",
    "    fill = ss316,\n",
    "    region = -hexagon\n",
    ")\n",
    "\n",
    "cheater_lattice_universe.add_cell(monolith)\n",
    "\n",
    "#Plotting\n",
    "scope = 2.5 * layers * monolith_pitch\n",
    "cheater_lattice_universe.plot(width=(scope,scope))\n",
    "plt.show()"
   ]
  },
  {
   "cell_type": "code",
   "execution_count": 82,
   "id": "473eafed-6b9a-4ea8-895d-ef8a81875693",
   "metadata": {
    "collapsed": true,
    "jupyter": {
     "outputs_hidden": true,
     "source_hidden": true
    }
   },
   "outputs": [
    {
     "data": {
      "image/png": "[encoded data removed]",
      "text/plain": [
       "<Figure size 258.065x259.74 with 1 Axes>"
      ]
     },
     "metadata": {},
     "output_type": "display_data"
    }
   ],
   "source": [
    "#Hexagonal Homogenous Lattice Universe\n",
    "layers = 4\n",
    "#Layers is the number of layers out from the central heat pipe\n",
    "#This is going to be one less than the number of cells an the outer edge\n",
    "\n",
    "lattice_universe = openmc.Universe()\n",
    "\n",
    "#Cylindrical Cells\n",
    "\n",
    "heights = (3/4)**(.5) * np.linspace(0,1,layers+1) * (monolith_pitch*layers)\n",
    "x_spacing = np.linspace(0,1,layers+1) * (monolith_pitch*layers)\n",
    "\n",
    "for i in range(layers+1):\n",
    "    if i%2 != 0:\n",
    "        pos = np.delete(x_spacing, np.arange(int(i/2)+1)) - i*monolith_pitch/2\n",
    "    else:\n",
    "        pos = np.delete(x_spacing, np.arange(int(i/2))) - i*monolith_pitch/2\n",
    "    for j in range(len(pos)):\n",
    "        four_quad_fuel(lattice_universe,pos[j],heights[i])\n",
    "\n",
    "\n",
    "#Monolith\n",
    "hexagon = openmc.model.HexagonalPrism(\n",
    "    edge_length = (layers+1) * monolith_pitch,\n",
    "    orientation = 'x',\n",
    "    origin = (0,0),\n",
    "    boundary_type = 'reflective'\n",
    ")\n",
    "\n",
    "monolith = openmc.Cell(\n",
    "    fill = ss316,\n",
    "    region = -hexagon\n",
    ")\n",
    "\n",
    "lattice_universe.add_cell(monolith)\n",
    "\n",
    "#Plotting\n",
    "scope = 2.5 * layers * monolith_pitch\n",
    "lattice_universe.plot(width=(scope, scope))\n",
    "plt.show()"
   ]
  },
  {
   "cell_type": "code",
   "execution_count": 37,
   "id": "2fb9f635-e6f2-4927-887b-06ae5767bca9",
   "metadata": {
    "collapsed": true,
    "jupyter": {
     "outputs_hidden": true,
     "source_hidden": true
    }
   },
   "outputs": [
    {
     "data": {
      "image/png": "[encoded data removed]",
      "text/plain": [
       "<Figure size 258.065x259.74 with 1 Axes>"
      ]
     },
     "metadata": {},
     "output_type": "display_data"
    }
   ],
   "source": [
    "#Empire Core Universe\n",
    "length = 9\n",
    "#Length is the number of cells on each side\n",
    "#It is 1 less than the number of layers out from the central heat pipe\n",
    "\n",
    "empire_core = openmc.Universe()\n",
    "empire_core.add_cell(heat_pipe_maker(0,0))\n",
    "\n",
    "#Cylindrical Cells\n",
    "def unique_cell_count(x):\n",
    "    return int((x+1) + (x/2))\n",
    "\n",
    "for i in range(length):\n",
    "    cell_count = unique_cell_count(i)\n",
    "\n",
    "    #Creating Position Arrays w/ Initial Positions\n",
    "    x_pos = np.zeros(cell_count)\n",
    "    y_pos = np.zeros(cell_count)\n",
    "\n",
    "    x0 = i\n",
    "    y0 = 0\n",
    "\n",
    "    #Filling Position Arrays\n",
    "    for j in range(cell_count):\n",
    "        if j <= i:\n",
    "            x_pos[j] = x0 - 0.5*j\n",
    "            y_pos[j] = y0 + (3)**(.5)/2*j\n",
    "        else:\n",
    "            x_pos[j] = x_pos[j-1] - 1\n",
    "            y_pos[j] = y_pos[j-1]\n",
    "\n",
    "    x_pos = x_pos * monolith_pitch\n",
    "    y_pos = y_pos * monolith_pitch\n",
    "\n",
    "    #Adding Cells\n",
    "    for k in range(cell_count):\n",
    "        if i%2 != 0:\n",
    "            four_quad_mod(empire_core,x_pos[k],y_pos[k])\n",
    "        else:\n",
    "            if k%2 == 0:\n",
    "                four_quad_heat_pipe(empire_core,x_pos[k],y_pos[k])\n",
    "            else:\n",
    "                four_quad_fuel(empire_core,x_pos[k],y_pos[k])\n",
    "\n",
    "#Monolith\n",
    "hexagon = openmc.model.HexagonalPrism(\n",
    "    edge_length = (length) * monolith_pitch,\n",
    "    orientation = 'x',\n",
    "    origin = (0,0),\n",
    "    boundary_type = 'reflective'\n",
    ")\n",
    "\n",
    "monolith = openmc.Cell(\n",
    "    fill = ss316,\n",
    "    region = -hexagon\n",
    ")\n",
    "\n",
    "empire_core.add_cell(monolith)\n",
    "\n",
    "#Plotting\n",
    "scope = 2 * length * monolith_pitch\n",
    "empire_core.plot(width=(scope,scope))\n",
    "plt.show()"
   ]
  },
  {
   "cell_type": "code",
   "execution_count": 38,
   "id": "9598685d-3db2-493e-abb8-e81daeab1555",
   "metadata": {
    "jupyter": {
     "source_hidden": true
    }
   },
   "outputs": [],
   "source": [
    "#Model Settings\n",
    "model = openmc.Model()\n",
    "#model.settings.source = openmc.IndependentSource(space=openmc.stats.CylindricalIndependent(radius, 2*np.pi, height))\n",
    "\n",
    "model.settings.inactive = 200\n",
    "model.settings.batches = 400\n",
    "model.settings.particles = 1000\n",
    "\n",
    "#Running the Model\n",
    "with openmc.StatePoint(statepoint) as sp:\n",
    "    mesh_tally_out = sp.get_tally(id=heat.id)\n",
    "\n",
    "mesh_flux = mesh_tally_out.get_values()\n",
    "mesh_flux = mesh_flux.reshape(mesh.dimension)\n",
    "\n",
    "plt.figure()\n",
    "img = plt.imshow(mesh_flux)\n",
    "plt.colorbar(img)\n",
    "plt.xlim(1.25*radius,2.5*radius)\n",
    "plt.ylim(1.25*radius,2.5*radius)\n",
    "plt.show()\n",
    "\n",
    "#mesh = openmc.CylindricalMesh(\n",
    "#    r_grid = np.linspace(0,radius,50),\n",
    "#    z_grid = np.linspace(-height/2, height/2, 50),\n",
    "#    phi_grid = np.linspace(0,2*np.pi,50)\n",
    "#)\n",
    "mesh = openmc.RegularMesh()\n",
    "mesh.lower_left = (-radius, -radius)\n",
    "mesh.upper_right = (radius, radius)\n",
    "mesh.dimension = (1000, 1000)\n",
    "\n",
    "mesh_filter = openmc.MeshFilter(mesh)\n",
    "\n",
    "heat = openmc.Tally()\n",
    "heat.scores = ['kappa-fission']\n",
    "heat.filters = [mesh_filter]\n",
    "model.tallies = [heat]\n",
    "\n",
    "model.geometry = openmc.Geometry(circular_universe)\n",
    "model.materials = openmc.Materials([un, yh2, ss316, cu])\n",
    "\n",
    "statepoint = model.run(output=True)"
   ]
  },
  {
   "cell_type": "code",
   "execution_count": 1,
   "id": "d620d55f-2177-4824-b4ae-500e8b5f5400",
   "metadata": {},
   "outputs": [],
   "source": [
    "#Removes all the output files\n",
    "!rm *.h5"
   ]
  }
 ],
 "metadata": {
  "kernelspec": {
   "display_name": "Python 3 (ipykernel)",
   "language": "python",
   "name": "python3"
  },
  "language_info": {
   "codemirror_mode": {
    "name": "ipython",
    "version": 3
   },
   "file_extension": ".py",
   "mimetype": "text/x-python",
   "name": "python",
   "nbconvert_exporter": "python",
   "pygments_lexer": "ipython3",
   "version": "3.12.3"
  }
 },
 "nbformat": 4,
 "nbformat_minor": 5
}
