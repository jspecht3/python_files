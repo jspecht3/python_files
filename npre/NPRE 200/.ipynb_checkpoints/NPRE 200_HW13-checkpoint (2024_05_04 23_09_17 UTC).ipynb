{
 "cells": [
  {
   "cell_type": "code",
   "execution_count": 1,
   "id": "9dbbf8eb",
   "metadata": {},
   "outputs": [],
   "source": [
    "import scipy.stats as stats\n",
    "import numpy as np"
   ]
  },
  {
   "cell_type": "code",
   "execution_count": 2,
   "id": "473c624f",
   "metadata": {},
   "outputs": [],
   "source": [
    "#2\n",
    "data = np.array([250,580,809,865,1376,1935,2538,4207])"
   ]
  },
  {
   "cell_type": "code",
   "execution_count": 3,
   "id": "7bb6d3f9",
   "metadata": {},
   "outputs": [
    {
     "data": {
      "text/plain": [
       "0.0006369426751592356"
      ]
     },
     "execution_count": 3,
     "metadata": {},
     "output_type": "execute_result"
    }
   ],
   "source": [
    "#a\n",
    "lam = 1/np.mean(data)\n",
    "lam"
   ]
  },
  {
   "cell_type": "code",
   "execution_count": 11,
   "id": "1f56ba60",
   "metadata": {},
   "outputs": [
    {
     "name": "stdout",
     "output_type": "stream",
     "text": [
      "Exponential Parameters - (0.0, 1570.0)\n",
      "Lambda - 1570.0\n"
     ]
    },
    {
     "data": {
      "text/plain": [
       "0.18386959349341858"
      ]
     },
     "execution_count": 11,
     "metadata": {},
     "output_type": "execute_result"
    }
   ],
   "source": [
    "#b\n",
    "distribution = 'expon'\n",
    "parameters = eval('stats.' + distribution + '.fit(data, floc=0)')\n",
    "\n",
    "if distribution == 'expon':\n",
    "    print('Exponential Parameters - ' + str(parameters))\n",
    "    print('Lambda - ' + str(parameters[1]))\n",
    "    \n",
    "KS_test_max, pval = stats.kstest(data, distribution, args=parameters)\n",
    "KS_test_max"
   ]
  }
 ],
 "metadata": {
  "kernelspec": {
   "display_name": "Python 3 (ipykernel)",
   "language": "python",
   "name": "python3"
  },
  "language_info": {
   "codemirror_mode": {
    "name": "ipython",
    "version": 3
   },
   "file_extension": ".py",
   "mimetype": "text/x-python",
   "name": "python",
   "nbconvert_exporter": "python",
   "pygments_lexer": "ipython3",
   "version": "3.9.12"
  }
 },
 "nbformat": 4,
 "nbformat_minor": 5
}
