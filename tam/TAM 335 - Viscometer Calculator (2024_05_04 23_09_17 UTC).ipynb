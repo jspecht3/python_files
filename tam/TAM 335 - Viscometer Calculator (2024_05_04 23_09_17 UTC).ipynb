{
 "cells": [
  {
   "cell_type": "code",
   "execution_count": 131,
   "id": "5f3479a1",
   "metadata": {},
   "outputs": [],
   "source": [
    "from sympy import *\n",
    "\n",
    "torque, viscocity_coefficient, angular_v, height, R_i, R_o = S('tau, mu, omega, l, R_i, R_o')\n",
    "\n",
    "eq_var = Eq(1/viscocity_coefficient, 2*pi/torque*angular_v*R_i**3*height/(R_o-R_i))\n",
    "eq_num = eq_var.subs([(R_o, 2.5/12), (R_i, 2.45/12), (height, 5/12)])"
   ]
  },
  {
   "cell_type": "code",
   "execution_count": 194,
   "id": "41fc7380",
   "metadata": {},
   "outputs": [
    {
     "data": {
      "text/plain": [
       "(2.44739391258163, 117.181854409430)"
      ]
     },
     "execution_count": 194,
     "metadata": {},
     "output_type": "execute_result"
    }
   ],
   "source": [
    "torques = [13.1,26.0,39.5,52.7,64.9,78.6]\n",
    "\n",
    "def viscocity_finder():\n",
    "    avg_visc = 0\n",
    "    for i in range(6):\n",
    "        eq_temp = eq_num.subs([(angular_v, i+1), (torque, torques[i])])\n",
    "        soln = solve(eq_temp)\n",
    "        #print('mu [lbs*s/ft^2]', [i+1], '', soln[0])\n",
    "        avg_visc += soln[0]\n",
    "    avg_visc = avg_visc / 6\n",
    "    return avg_visc, avg_visc / 0.020885434224573 #pascal seconds/ [lbs*s/ft^2]\n",
    "\n",
    "viscocity_finder() #[lbs*s/ft^2, pascal seconds]"
   ]
  }
 ],
 "metadata": {
  "kernelspec": {
   "display_name": "Python 3 (ipykernel)",
   "language": "python",
   "name": "python3"
  },
  "language_info": {
   "codemirror_mode": {
    "name": "ipython",
    "version": 3
   },
   "file_extension": ".py",
   "mimetype": "text/x-python",
   "name": "python",
   "nbconvert_exporter": "python",
   "pygments_lexer": "ipython3",
   "version": "3.9.12"
  }
 },
 "nbformat": 4,
 "nbformat_minor": 5
}
