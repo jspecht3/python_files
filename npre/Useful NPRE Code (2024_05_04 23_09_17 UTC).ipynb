{
 "cells": [
  {
   "cell_type": "code",
   "execution_count": 36,
   "id": "59db8785",
   "metadata": {},
   "outputs": [
    {
     "data": {
      "text/plain": [
       "4.0"
      ]
     },
     "execution_count": 36,
     "metadata": {},
     "output_type": "execute_result"
    }
   ],
   "source": [
    "import numpy as np\n",
    "import numpy.linalg as la\n",
    "\n",
    "np.set_printoptions(edgeitems=30, linewidth=100000, \n",
    "    formatter=dict(float=lambda x: \"%.3g\" % x))\n",
    "\n",
    "A = np.array([1,2,3])\n",
    "np.trapz(A, dx=1) #trapezoidal approximation"
   ]
  },
  {
   "cell_type": "code",
   "execution_count": 31,
   "id": "fdf46a63",
   "metadata": {},
   "outputs": [
    {
     "name": "stderr",
     "output_type": "stream",
     "text": [
      "No artists with labels found to put in legend.  Note that artists whose label start with an underscore are ignored when legend() is called with no argument.\n"
     ]
    },
    {
     "data": {
      "image/png": "[encoded data removed]",
      "text/plain": [
       "<Figure size 432x288 with 1 Axes>"
      ]
     },
     "metadata": {
      "needs_background": "light"
     },
     "output_type": "display_data"
    }
   ],
   "source": [
    "#Matplot Plotting\n",
    "from matplotlib import pyplot as plt\n",
    "\n",
    "font = {'fontname':'Times New Roman'}\n",
    "size = {'fontsize':'14'}\n",
    "#save_path = r'C:\\Users\\reape\\Desktop\\Sp24\\...\\\\'\n",
    "\n",
    "plt.legend()\n",
    "plt.ylabel('',**font, **size)\n",
    "plt.xlabel('', **font, **size)\n",
    "plt.axvline(10, color = 'silver', linestyle = '--', label = \"Material Interface\")\n",
    "#plt.savefig(save_path+'')\n",
    "plt.show()"
   ]
  },
  {
   "cell_type": "code",
   "execution_count": null,
   "id": "49c396b2",
   "metadata": {},
   "outputs": [],
   "source": [
    "#Saving a Plot as a Vector Graphic\n",
    "import matplotlib_inline.backend_inline\n",
    "\n",
    "plotformat='svg'\n",
    "matplotlib_inline.backend_inline.set_matplotlib_formats(plotformat)"
   ]
  },
  {
   "cell_type": "code",
   "execution_count": null,
   "id": "97550e56",
   "metadata": {},
   "outputs": [],
   "source": [
    "from tabulate import tabulate"
   ]
  },
  {
   "cell_type": "code",
   "execution_count": 8,
   "id": "26cdcd93",
   "metadata": {},
   "outputs": [
    {
     "data": {
      "text/latex": [
       "$\\displaystyle {x}'$"
      ],
      "text/plain": [
       "xprime"
      ]
     },
     "metadata": {},
     "output_type": "display_data"
    },
    {
     "data": {
      "text/latex": [
       "$\\displaystyle \\bar{y}$"
      ],
      "text/plain": [
       "ybar"
      ]
     },
     "metadata": {},
     "output_type": "display_data"
    }
   ],
   "source": [
    "#Sympy\n",
    "from sympy import *\n",
    "from sympy.plotting import plot\n",
    "\n",
    "x, y = S('xprime, ybar')\n",
    "display(x, y)\n",
    "\n",
    "test = x*y\n",
    "subs = test.subs([(x, 1), (y, 1)])"
   ]
  },
  {
   "cell_type": "code",
   "execution_count": null,
   "id": "2bf4ae35",
   "metadata": {},
   "outputs": [],
   "source": [
    "#Writing Output files\n",
    "g = open('NPRE_XXX', 'a')\n",
    "g.write('Title:\\n')\n",
    "g.write(str(h_H.evalf()))\n",
    "g.write('\\n')\n",
    "g.write('Title:\\n')\n",
    "g.write(str(t_max))"
   ]
  }
 ],
 "metadata": {
  "kernelspec": {
   "display_name": "Python 3 (ipykernel)",
   "language": "python",
   "name": "python3"
  },
  "language_info": {
   "codemirror_mode": {
    "name": "ipython",
    "version": 3
   },
   "file_extension": ".py",
   "mimetype": "text/x-python",
   "name": "python",
   "nbconvert_exporter": "python",
   "pygments_lexer": "ipython3",
   "version": "3.9.12"
  }
 },
 "nbformat": 4,
 "nbformat_minor": 5
}
