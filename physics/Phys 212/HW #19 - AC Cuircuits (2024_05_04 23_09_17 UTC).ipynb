{
 "cells": [
  {
   "cell_type": "code",
   "execution_count": 2,
   "id": "56c356d8",
   "metadata": {},
   "outputs": [],
   "source": [
    "import numpy as np"
   ]
  },
  {
   "cell_type": "code",
   "execution_count": 30,
   "id": "07765a1a",
   "metadata": {},
   "outputs": [
    {
     "name": "stdout",
     "output_type": "stream",
     "text": [
      "23.305766102225913\n"
     ]
    }
   ],
   "source": [
    "#AC Circuit I.E.\n",
    "w = 310 * 2 * np.pi\n",
    "c = 40 / 1000000\n",
    "l = 24 / 1000\n",
    "emax = 120\n",
    "imax = 1.4\n",
    "\n",
    "xc = 1 / (c * w)\n",
    "xl = w * l\n",
    "\n",
    "Z = emax / imax\n",
    "R = (Z**2 - (xl - xc)**2)**(1/2)\n",
    "tanphi = (xl - xc)/R\n",
    "phi = np.arctan(tanphi)\n",
    "print(np.degrees(phi))"
   ]
  },
  {
   "cell_type": "code",
   "execution_count": 41,
   "id": "add8689f",
   "metadata": {},
   "outputs": [
    {
     "name": "stdout",
     "output_type": "stream",
     "text": [
      "1.53704261489394e-05\n"
     ]
    }
   ],
   "source": [
    "#LC Circuit\n",
    "#Energy is equal in the beginning, what is the max charge on capacitor\n",
    "c = .05 / 1000000\n",
    "l = 420 / 1000\n",
    "i = 75 / 1000\n",
    "\n",
    "u = l * i**2\n",
    "q = (2 * l * i**2 * c)**(1/2)\n",
    "print(q)"
   ]
  },
  {
   "cell_type": "code",
   "execution_count": 64,
   "id": "a190a302",
   "metadata": {},
   "outputs": [
    {
     "name": "stdout",
     "output_type": "stream",
     "text": [
      "0.005186055919095775\n"
     ]
    }
   ],
   "source": [
    "#LRC Energy\n",
    "r1 = 60\n",
    "r2 = 220\n",
    "r3 = 330\n",
    "r4 = 480\n",
    "l = 8 / 1000\n",
    "c = 250 / 1000000\n",
    "v = 9\n",
    "\n",
    "r24 = ((1 / r2) + (1 / r4))**(-1)\n",
    "i1 = v / (r1 + r24)\n",
    "v24 = r24 * i1\n",
    "\n",
    "i2 = v24 / r2\n",
    "Ul = l * i2**2 / 2\n",
    "Uc = c * v24**2 / 2\n",
    "\n",
    "print(Ul + Uc)"
   ]
  },
  {
   "cell_type": "code",
   "execution_count": 6,
   "id": "28a94de9",
   "metadata": {},
   "outputs": [
    {
     "name": "stdout",
     "output_type": "stream",
     "text": [
      "0.0008907791244682971\n"
     ]
    }
   ],
   "source": [
    "#LC Circuit 1\n",
    "c1 = 353 / 1000000\n",
    "c2 = 82 / 1000000\n",
    "ct = ((1 / c1) + (1 / c2))**(-1)\n",
    "l = 281 / 1000\n",
    "imax = 206 / 1000\n",
    "\n",
    "t = 15.8 / 1000\n",
    "\n",
    "w = 1 / (l * ct)**(1/2)\n",
    "didt = - w * imax * np.sin(w * t)\n",
    "q = ct * l * didt\n",
    "\n",
    "qmax = (l * ct * imax**2)**(1/2)\n",
    "print(qmax)"
   ]
  },
  {
   "cell_type": "code",
   "execution_count": 4,
   "id": "bb974c74",
   "metadata": {},
   "outputs": [
    {
     "name": "stdout",
     "output_type": "stream",
     "text": [
      "9.89726344404411\n"
     ]
    }
   ],
   "source": [
    "#LC Circuit 2\n",
    "r1 = 302\n",
    "l1 = 213 / 1000\n",
    "l2 = 184 / 1000\n",
    "c = 100 / 1000000\n",
    "v = 12\n",
    "t1 = 3.28 / 1000\n",
    "\n",
    "iopened = v / r1\n",
    "ul1max = l1 * iopened**2 / 2\n",
    "\n",
    "leq = l1 + l2\n",
    "w = 1 / (leq * c)**(1/2)\n",
    "\n",
    "qmax = (leq * c * iopened**2)**(1/2)\n",
    "q = iopened * np.sin(w * t1) / w\n",
    "\n",
    "umax = leq * iopened**2 / 2\n",
    "\n",
    "print(np.pi / 2 / w * 1000)"
   ]
  },
  {
   "cell_type": "code",
   "execution_count": 16,
   "id": "bac755e1",
   "metadata": {},
   "outputs": [
    {
     "name": "stdout",
     "output_type": "stream",
     "text": [
      "67\n",
      "19\n",
      "85\n",
      "50\n",
      "93\n",
      "59\n",
      "68\n",
      "40\n",
      "90\n",
      "88\n"
     ]
    },
    {
     "data": {
      "text/plain": [
       "(0, [67, 19, 85, 50, 93])"
      ]
     },
     "execution_count": 16,
     "metadata": {},
     "output_type": "execute_result"
    }
   ],
   "source": [
    "n = 5\n",
    "A = [67,19,85,50,93,59,68,40,90,88]\n",
    "\n",
    "def A_subset(A,n):\n",
    "    int = 0\n",
    "    for i in A:\n",
    "        \n",
    "        print(i)\n",
    "    return(int,A[0:n])\n",
    "    pass\n",
    "\n",
    "A_subset(A,n)"
   ]
  }
 ],
 "metadata": {
  "kernelspec": {
   "display_name": "Python 3 (ipykernel)",
   "language": "python",
   "name": "python3"
  },
  "language_info": {
   "codemirror_mode": {
    "name": "ipython",
    "version": 3
   },
   "file_extension": ".py",
   "mimetype": "text/x-python",
   "name": "python",
   "nbconvert_exporter": "python",
   "pygments_lexer": "ipython3",
   "version": "3.9.12"
  }
 },
 "nbformat": 4,
 "nbformat_minor": 5
}
