{
 "cells": [
  {
   "cell_type": "code",
   "execution_count": 27,
   "id": "8b5c15cd",
   "metadata": {},
   "outputs": [],
   "source": [
    "import numpy as np\n",
    "import numpy.linalg as la"
   ]
  },
  {
   "cell_type": "code",
   "execution_count": 24,
   "id": "6acfa61e",
   "metadata": {},
   "outputs": [
    {
     "name": "stdout",
     "output_type": "stream",
     "text": [
      "[[ 0. -3.]\n",
      " [-1.  0.]]\n"
     ]
    }
   ],
   "source": [
    "#HW 3.4 Using Inverses to Solve Matrix Equations\n",
    "\n",
    "a = np.array([[1,1],[1,-1]])\n",
    "b = np.array([[0,-1],[1,0]])\n",
    "c = np.array([[-2,-1],[1,-2]])\n",
    "\n",
    "ainv = np.array([[.5,.5],[.5,-.5]])\n",
    "binv = np.array([[0,1],[-1,0]])\n",
    "\n",
    "x1 = ainv @ (c - a - 3*b) @ binv\n",
    "\n",
    "print(x1)"
   ]
  },
  {
   "cell_type": "code",
   "execution_count": 65,
   "id": "3fd798d9",
   "metadata": {},
   "outputs": [
    {
     "name": "stdout",
     "output_type": "stream",
     "text": [
      "[[-0.33333333  1.        ]\n",
      " [-0.66666667  1.        ]\n",
      " [ 0.33333333  0.        ]]\n"
     ]
    }
   ],
   "source": [
    "#HW 3.5 Right Inverse\n",
    "\n",
    "I = np.eye(2)\n",
    "m = np.array([[1,-1,2],\n",
    "              [1,0,1]])\n",
    "\n",
    "inter = m @ m.T\n",
    "inter2 = la.inv(inter)\n",
    "B = m.T @ inter2\n",
    "print(B)"
   ]
  },
  {
   "cell_type": "code",
   "execution_count": 61,
   "id": "291fd065",
   "metadata": {},
   "outputs": [
    {
     "name": "stdout",
     "output_type": "stream",
     "text": [
      "[[-6.00000000e+00  2.00000000e+00  2.00000000e+00  5.00000000e+00]\n",
      " [ 2.66666667e+00 -1.33333333e+00 -1.00000000e+00 -2.33333333e+00]\n",
      " [-1.00000000e+00 -5.55111512e-17 -0.00000000e+00  1.00000000e+00]\n",
      " [-6.66666667e-01  3.33333333e-01  0.00000000e+00  3.33333333e-01]]\n"
     ]
    }
   ],
   "source": [
    "#HW 3.7 Computing the Inverse of a Matrix\n",
    "\n",
    "a = np.array([[-1,-2,1,-2],\n",
    "              [-1,-2,0,1],\n",
    "              [1,1,-2,-2],\n",
    "              [-1,-2,2,-2]])\n",
    "\n",
    "ainv = la.inv(a)\n",
    "print(ainv)"
   ]
  }
 ],
 "metadata": {
  "kernelspec": {
   "display_name": "Python 3 (ipykernel)",
   "language": "python",
   "name": "python3"
  },
  "language_info": {
   "codemirror_mode": {
    "name": "ipython",
    "version": 3
   },
   "file_extension": ".py",
   "mimetype": "text/x-python",
   "name": "python",
   "nbconvert_exporter": "python",
   "pygments_lexer": "ipython3",
   "version": "3.9.12"
  }
 },
 "nbformat": 4,
 "nbformat_minor": 5
}
