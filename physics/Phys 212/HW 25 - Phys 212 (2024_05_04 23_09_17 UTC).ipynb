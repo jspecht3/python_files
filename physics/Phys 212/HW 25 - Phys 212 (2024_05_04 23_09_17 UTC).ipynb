{
 "cells": [
  {
   "cell_type": "code",
   "execution_count": 2,
   "id": "2980ae71",
   "metadata": {},
   "outputs": [],
   "source": [
    "import numpy as np\n",
    "\n",
    "c = 3e8\n",
    "z0 = 377\n",
    "u0 = 4e-7 * np.pi\n",
    "e0 = 8.85e-12"
   ]
  },
  {
   "cell_type": "code",
   "execution_count": 20,
   "id": "ff149841",
   "metadata": {},
   "outputs": [
    {
     "name": "stdout",
     "output_type": "stream",
     "text": [
      "-0.7144834094631805\n"
     ]
    }
   ],
   "source": [
    "# Monochromatic Light and a 30-60-90 Prism\n",
    "\n",
    "p1 = 43.4\n",
    "t1 = np.radians(60 - p1)\n",
    "\n",
    "sr = np.radians(60)\n",
    "tr = np.radians(30)\n",
    "\n",
    "d = 28.7\n",
    "h = 11\n",
    "\n",
    "l = h / np.tan(np.radians(30))\n",
    "p2 = np.arctan(h/(d-l))\n",
    "\n",
    "t2 = np.pi - tr - p2\n",
    "t3 = np.degrees(t2) - 60\n",
    "\n",
    "n = np.sin(t1) / np.sin(t3)\n",
    "print(n)"
   ]
  }
 ],
 "metadata": {
  "kernelspec": {
   "display_name": "Python 3",
   "language": "python",
   "name": "python3"
  },
  "language_info": {
   "codemirror_mode": {
    "name": "ipython",
    "version": 3
   },
   "file_extension": ".py",
   "mimetype": "text/x-python",
   "name": "python",
   "nbconvert_exporter": "python",
   "pygments_lexer": "ipython3",
   "version": "3.8.8"
  }
 },
 "nbformat": 4,
 "nbformat_minor": 5
}
