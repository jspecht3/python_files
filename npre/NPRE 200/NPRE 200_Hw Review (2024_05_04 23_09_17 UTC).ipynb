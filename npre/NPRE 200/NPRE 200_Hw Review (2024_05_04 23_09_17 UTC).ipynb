{
 "cells": [
  {
   "cell_type": "code",
   "execution_count": 14,
   "id": "b510bb46",
   "metadata": {},
   "outputs": [
    {
     "name": "stdout",
     "output_type": "stream",
     "text": [
      "931.4941027390486\n"
     ]
    }
   ],
   "source": [
    "# Hw 1 - u to MeV\n",
    "\n",
    "#1 u to grams, 1u = g/avagadros number\n",
    "u = 1\n",
    "Na = 6.02214076e23\n",
    "c = 299792458\n",
    "eV_to_J = 1.602176634e-19\n",
    "\n",
    "UtoMeV = 1 / Na / 1000 * c**2 / eV_to_J / 1e6 #from U to MeV - u / avagadro / gtoKg * light**2 / eV_to_J / ev_to_MeV\n",
    "print(UtoMeV)"
   ]
  },
  {
   "cell_type": "code",
   "execution_count": 21,
   "id": "f0fba4e6",
   "metadata": {},
   "outputs": [
    {
     "name": "stdout",
     "output_type": "stream",
     "text": [
      "12.947768065209704\n"
     ]
    }
   ],
   "source": [
    "#Hw 1 - Binding Energy\n",
    "\n",
    "e = 5.485799e-4\n",
    "p = 1.007276466\n",
    "H = 1.007825032\n",
    "\n",
    "mass_difference = (e+p) - H\n",
    "binding_energy = mass_difference * UtoMeV\n",
    "print(binding_energy * 1e6) # binding energy in eV"
   ]
  },
  {
   "cell_type": "code",
   "execution_count": 22,
   "id": "8053b93f",
   "metadata": {},
   "outputs": [
    {
     "name": "stdout",
     "output_type": "stream",
     "text": [
      "0.025600245000000577 0.025600301999999964\n"
     ]
    }
   ],
   "source": [
    "#Hw 1 - Nuclear Balancing\n",
    "\n",
    "#Nuclear Mass\n",
    "d = 2.013553212\n",
    "alpha = 4.001506179\n",
    "\n",
    "#Atomic Mass\n",
    "H2 = 2.014101778\n",
    "He4 = 4.002603254 \n",
    "\n",
    "nuclear_mass_difference = 2*d - alpha\n",
    "atomic_mass_difference = 2*H2 - He4\n",
    "\n",
    "print(nuclear_mass_difference, atomic_mass_difference)"
   ]
  },
  {
   "cell_type": "markdown",
   "id": "22c66530",
   "metadata": {},
   "source": [
    "Average MeV out of fission is around 200.\n",
    "It's easy to make any reactor run without refueling because you just lower the power."
   ]
  }
 ],
 "metadata": {
  "kernelspec": {
   "display_name": "Python 3 (ipykernel)",
   "language": "python",
   "name": "python3"
  },
  "language_info": {
   "codemirror_mode": {
    "name": "ipython",
    "version": 3
   },
   "file_extension": ".py",
   "mimetype": "text/x-python",
   "name": "python",
   "nbconvert_exporter": "python",
   "pygments_lexer": "ipython3",
   "version": "3.9.12"
  }
 },
 "nbformat": 4,
 "nbformat_minor": 5
}
