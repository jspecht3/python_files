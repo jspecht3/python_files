{
 "cells": [
  {
   "cell_type": "code",
   "execution_count": 26,
   "metadata": {
    "id": "B0191Pt-hJa7"
   },
   "outputs": [],
   "source": [
    "# load necessary modules\n",
    "import numpy as np\n",
    "import pandas as pd # for reading data\n",
    "from matplotlib import pyplot as plt # for plotting\n",
    "from scipy import optimize # for data fitting\n",
    "from scipy import stats\n",
    "from scipy import special\n",
    "from scipy.stats import binom\n",
    "import statistics"
   ]
  },
  {
   "cell_type": "markdown",
   "metadata": {
    "id": "GtT3xJyZwbi2"
   },
   "source": [
    "## Prepare data points for fitting"
   ]
  },
  {
   "cell_type": "code",
   "execution_count": 27,
   "metadata": {
    "id": "FpEf8FrEr5Bi"
   },
   "outputs": [
    {
     "name": "stdout",
     "output_type": "stream",
     "text": [
      "[269 245 266 260 271 279 285 270 276 253 271 291 257 250 283 285 244 272\n",
      " 253 277]\n"
     ]
    }
   ],
   "source": [
    "# read data from excel spreadsheet\n",
    "data_file_path = r'C:\\Users\\reape\\Desktop\\Sp24\\NPRE 451\\Lab 1.xlsx'\n",
    "df = pd.read_excel(data_file_path, header=None, sheet_name = '30 second trials')\n",
    "data = df.T.to_numpy()[0]\n",
    "print(data)"
   ]
  },
  {
   "cell_type": "code",
   "execution_count": 32,
   "metadata": {
    "colab": {
     "base_uri": "https://localhost:8080/"
    },
    "id": "oSH28zfC4Zq9",
    "outputId": "af0d2052-a708-4d50-9e2b-4563d4b27361"
   },
   "outputs": [
    {
     "name": "stdout",
     "output_type": "stream",
     "text": [
      "Sample mean is 267, standard deviation is 13.92838827718412\n"
     ]
    }
   ],
   "source": [
    "# calculate sample mean and standard deviation\n",
    "sample_mean = statistics.mean(data)\n",
    "sample_stdev = statistics.stdev(data)\n",
    "print(\"Sample mean is {0}, standard deviation is {1}\".format(sample_mean, sample_stdev))"
   ]
  },
  {
   "cell_type": "code",
   "execution_count": 4,
   "metadata": {
    "id": "nxmwr4JIuwvE"
   },
   "outputs": [],
   "source": [
    "# create the frequency of occurrence of the data set, i.e. the measured distribution\n",
    "# grouping the counts in bins of width 1 from 1 to 20\n",
    "\n",
    "#bin_width = 2*(2*sample_stdev)/20**(1/3)\n",
    "#bin_num = int(np.around(55/bin_width)) \n",
    "#Didn't use the Freedman-Diaconis Rule as the bin number was only 3\n",
    "\n",
    "occurrences, bin_edges = np.histogram(data, bins=5, range=(240, 295)) #decreased number of bins from 20 to 5\n",
    "counts = bin_edges[:-1]"
   ]
  },
  {
   "cell_type": "code",
   "execution_count": 38,
   "metadata": {
    "colab": {
     "base_uri": "https://localhost:8080/",
     "height": 542
    },
    "id": "KiROZTmpxrTj",
    "outputId": "e0de5e81-5031-4203-e34f-ca21ebb017f6"
   },
   "outputs": [
    {
     "data": {
      "image/png": "[encoded data removed]",
      "text/plain": [
       "<Figure size 432x432 with 1 Axes>"
      ]
     },
     "metadata": {
      "needs_background": "light"
     },
     "output_type": "display_data"
    },
    {
     "data": {
      "text/plain": [
       "<Figure size 432x288 with 0 Axes>"
      ]
     },
     "metadata": {},
     "output_type": "display_data"
    }
   ],
   "source": [
    "plt.figure(facecolor='White')\n",
    "fig, ax = plt.subplots(1,1,figsize=(6,6))\n",
    "# ax.step(counts, occurrences, where='pre')\n",
    "# ax.scatter(counts, occurrences)\n",
    "# ax.stem(counts, occurrences)\n",
    "ax.bar(counts, occurrences, align='edge')\n",
    "ax.set_xlabel(\"Counts\")\n",
    "ax.set_ylabel(\"Number of occurrences\")\n",
    "#plt.savefig(fname='30s hist', dpi=600, edgecolor='auto')\n",
    "plt.show()"
   ]
  },
  {
   "cell_type": "code",
   "execution_count": 39,
   "metadata": {
    "colab": {
     "base_uri": "https://localhost:8080/",
     "height": 542
    },
    "id": "QmpHFAVYzkRD",
    "outputId": "a7461ac1-96a0-4468-b8fc-2aba158da989"
   },
   "outputs": [
    {
     "data": {
      "image/png": "[encoded data removed]",
      "text/plain": [
       "<Figure size 432x432 with 1 Axes>"
      ]
     },
     "metadata": {
      "needs_background": "light"
     },
     "output_type": "display_data"
    },
    {
     "data": {
      "text/plain": [
       "<Figure size 432x288 with 0 Axes>"
      ]
     },
     "metadata": {},
     "output_type": "display_data"
    }
   ],
   "source": [
    "# normalize the sum to 1\n",
    "plt.figure(facecolor='White')\n",
    "bin_size = bin_edges[1] - bin_edges[0]\n",
    "probabilities = occurrences/np.sum(occurrences)/bin_size\n",
    "fig, ax = plt.subplots(1,1,figsize=(6,6))\n",
    "# ax.step(counts, probabilities, where='mid')\n",
    "# ax.scatter(counts, probabilities)\n",
    "# ax.stem(counts, probabilities)\n",
    "ax.bar(counts, probabilities, align='edge')\n",
    "ax.set_xlabel(\"Counts\")\n",
    "ax.set_ylabel(\"Probability\")\n",
    "#plt.savefig(fname='30s norm', dpi=600, edgecolor='auto')\n",
    "plt.show()"
   ]
  },
  {
   "cell_type": "markdown",
   "metadata": {
    "id": "kvD6ICRfyCQN"
   },
   "source": [
    "## Prepare the models"
   ]
  },
  {
   "cell_type": "markdown",
   "metadata": {
    "id": "YlUaussK1X47"
   },
   "source": [
    "Three models will be tested: Poisson, Gaussian, and Binomial. The probability mass /density function is:\n",
    "\n",
    "1.   Poisson distribution: $P(X=x)=e^{-\\mu} \\frac{\\mu^x}{x!}$.\n",
    "2.   Gaussian distribution: $f(X=x)=\\frac{1}{\\sqrt{2\\pi}\\sigma}\\exp(\\frac{-(x-\\mu)^2}{2\\sigma^2})$.\n",
    "3.   Binomial distribution: $P(X=x)=\\binom{n}{x}p^x(1-p)^{n-x}$.\n",
    "\n"
   ]
  },
  {
   "cell_type": "code",
   "execution_count": 7,
   "metadata": {
    "id": "D8JN7XoME6M_"
   },
   "outputs": [],
   "source": [
    "# define the fit models\n",
    "def poisson(x, mu):\n",
    "    x = np.array(x)\n",
    "    log_xf = np.zeros(len(x))\n",
    "    for x_ind, x_val in enumerate(x):\n",
    "        log_xf[x_ind] = special.loggamma(x_val+1)\n",
    "    log_likelihood= -log_xf + x*np.log(mu) - mu\n",
    "    return np.exp(log_likelihood)\n",
    "\n",
    "\n",
    "def gaussian(x, mu, sigma):\n",
    "    t = (x-mu)/sigma\n",
    "    return 1/np.sqrt(2*np.pi)/sigma * np.exp(-t**2/2)\n",
    "\n",
    "\n",
    "def binomial(x, n, p):\n",
    "    return binom.pmf(x, n, p)"
   ]
  },
  {
   "cell_type": "markdown",
   "metadata": {
    "id": "0ZFUu3tLMgic"
   },
   "source": [
    "## Peform data fitting"
   ]
  },
  {
   "cell_type": "markdown",
   "metadata": {
    "id": "qr1Ka7UG6h4E"
   },
   "source": [
    "### Initial guess of fit parameters\n",
    "The fitting procedure requires an initial guess of the parameter(s) as a starting point.\n",
    "1.   For poisson distribution, the mean is $\\mu$. An initial guess of parameter $\\mu$ is the mean of all samples.\n",
    "2.   For Gaussian distribution, the mean is $\\mu$ and standard deviation is $\\sigma$.\n",
    "3.   For binomial distribution, the mean is $Np$ and the variance is $Np(1-p)$. An initial guess of paramter $p$ is $1-$variance/mean, and mean/$p$ for $N$."
   ]
  },
  {
   "cell_type": "code",
   "execution_count": 15,
   "metadata": {
    "id": "agy0tw1S2yRU"
   },
   "outputs": [
    {
     "name": "stdout",
     "output_type": "stream",
     "text": [
      "0.27340823970037453\n",
      "976\n"
     ]
    }
   ],
   "source": [
    "# fit the model to data\n",
    "fit_results = [] # An empty array for storing the fitted parameters\n",
    "models = [poisson, gaussian, binomial]\n",
    "for model in models:\n",
    "    if model == poisson:\n",
    "        initial_guess = [sample_mean] # initial_guess = [YOUR GUESS FOR MU]\n",
    "        bounds = (250, 300) # bounds = (MU LOWER BOUND, MU UPPER BOUND)\n",
    "    if model == gaussian:\n",
    "        initial_guess = [sample_mean, sample_stdev] # initial_guess = [YOUR GUESS FOR MU, YOUR GUESS FOR SIGMA]\n",
    "        bounds = ([250, 10], [300, 20]) # bounds = ([MU LOWER BOUND, SIGMA LOWER BOUND], [MU UPPER BOUND, SIGMA UPPER BOUND])\n",
    "    if model == poisson or model == gaussian:\n",
    "        # the following line performs the fit\n",
    "        best_fit_parameters, cov_matrix = optimize.curve_fit(model, counts, probabilities, p0 = initial_guess, bounds = bounds)\n",
    "    if model == binomial:\n",
    "        guess_of_p = 1 - sample_stdev**2/sample_mean\n",
    "        print(guess_of_p)\n",
    "        guess_of_N = int((sample_mean / guess_of_p))\n",
    "        print(guess_of_N)\n",
    "        guess_of_N = sample_mean / guess_of_p\n",
    "        initial_guess = [guess_of_N, guess_of_p] # initial_guess = [YOUR GUESS FOR N, YOUR GUESS FOR P]\n",
    "        best_fit_parameters, cov_matrix = optimize.curve_fit(model, counts, probabilities, p0 = initial_guess, maxfev = 10000)\n",
    "    fit_results.append([best_fit_parameters, cov_matrix])"
   ]
  },
  {
   "cell_type": "code",
   "execution_count": 40,
   "metadata": {
    "colab": {
     "base_uri": "https://localhost:8080/",
     "height": 542
    },
    "id": "WF-swti16QhM",
    "outputId": "1e2498f9-9c3e-4ca6-9f2b-c2b8a5e27bd2"
   },
   "outputs": [
    {
     "data": {
      "text/plain": [
       "<Figure size 432x288 with 0 Axes>"
      ]
     },
     "metadata": {},
     "output_type": "display_data"
    },
    {
     "data": {
      "image/png": "[encoded data removed]",
      "text/plain": [
       "<Figure size 432x432 with 1 Axes>"
      ]
     },
     "metadata": {
      "needs_background": "light"
     },
     "output_type": "display_data"
    }
   ],
   "source": [
    "# plot the measured and fitted distributions and compare them\n",
    "COUNT_LOWER_LIMIT = 240\n",
    "COUNT_UPPER_LIMIT = 295\n",
    "plt.figure(facecolor='White')\n",
    "x_axis_counts = np.arange(COUNT_LOWER_LIMIT, COUNT_UPPER_LIMIT, 0.1)\n",
    "labels = ['Poisson fit', \"Gaussian fit\", \"Binomial fit\"]\n",
    "fig, ax = plt.subplots(1,1,figsize=(6,6))\n",
    "ax.scatter(counts, probabilities, color='g', label=\"Measured data\")\n",
    "for i in range(3):\n",
    "    best_fit_parameters, _ = fit_results[i]\n",
    "    model = models[i]\n",
    "    if i == 0:\n",
    "        # poisson only work for integer values (discrete distribution)\n",
    "        ax.scatter(counts, model(counts, *best_fit_parameters), marker='s', color='k', label=labels[i])\n",
    "    elif i == 2:\n",
    "        # binomial only work for integer values (discrete distribution)\n",
    "        ax.scatter(counts, model(counts, *best_fit_parameters), marker='^', color='r', label=labels[i])\n",
    "    else:\n",
    "        # gaussian is continuous function\n",
    "        ax.plot(x_axis_counts, model(x_axis_counts, *best_fit_parameters), label=labels[i])\n",
    "ax.set_xlabel(\"Counts\")\n",
    "ax.set_ylabel(\"Probability\")\n",
    "ax.legend()\n",
    "#plt.savefig(fname='30s prob', dpi=600, edgecolor='auto')\n",
    "plt.show()"
   ]
  },
  {
   "cell_type": "markdown",
   "metadata": {
    "id": "lryd98WOMjxQ"
   },
   "source": [
    "## Compare the goodness of fit"
   ]
  },
  {
   "cell_type": "code",
   "execution_count": 17,
   "metadata": {
    "id": "wNsISOL37Vsa"
   },
   "outputs": [],
   "source": [
    "# The R-squared metric is commonly use to detemine the goodness of the fit.\n",
    "# It provides a measure of how well observed outcomes are replicated by the model,\n",
    "# based on the proportion of total variation of outcomes explained by the model.\n",
    "def get_fit_goodness(y, y_fit):\n",
    "    # residual sum of squares\n",
    "    ss_res = np.sum((y - y_fit) ** 2)\n",
    "    # total sum of squares\n",
    "    ss_tot = np.sum((y - np.mean(y)) ** 2)\n",
    "    # r-squared\n",
    "    r2 = 1 - (ss_res / ss_tot)\n",
    "    return r2"
   ]
  },
  {
   "cell_type": "code",
   "execution_count": 18,
   "metadata": {
    "colab": {
     "base_uri": "https://localhost:8080/"
    },
    "id": "oGMGrjDT9UXg",
    "outputId": "ef4cc5a1-ad0d-4923-e99a-6bc4af172d6d"
   },
   "outputs": [
    {
     "name": "stdout",
     "output_type": "stream",
     "text": [
      "Goodness of Poisson fit is: 0.673937572823234\n",
      "Goodness of Gaussian fit is: 0.6803708852414139\n",
      "Goodness of Binomial fit is: 0.6739267995489648\n"
     ]
    }
   ],
   "source": [
    "for i in range(3):\n",
    "    best_fit_parameters, _ = fit_results[i]\n",
    "    model = models[i]\n",
    "    y_fit = model(counts, *best_fit_parameters)\n",
    "    r2 = get_fit_goodness(probabilities, y_fit)\n",
    "    print(\"Goodness of \" + labels[i] + \" is: \" + str(r2))"
   ]
  }
 ],
 "metadata": {
  "colab": {
   "provenance": []
  },
  "kernelspec": {
   "display_name": "Python 3 (ipykernel)",
   "language": "python",
   "name": "python3"
  },
  "language_info": {
   "codemirror_mode": {
    "name": "ipython",
    "version": 3
   },
   "file_extension": ".py",
   "mimetype": "text/x-python",
   "name": "python",
   "nbconvert_exporter": "python",
   "pygments_lexer": "ipython3",
   "version": "3.9.12"
  }
 },
 "nbformat": 4,
 "nbformat_minor": 1
}
