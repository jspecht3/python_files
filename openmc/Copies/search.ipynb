{
 "cells": [
  {
   "cell_type": "markdown",
   "metadata": {},
   "source": [
    "# Criticality Search\n",
    "This notebook illustrates the usage of the OpenMC Python API's generic eigenvalue search capability.  In this Notebook, we will do a critical boron concentration search of a typical PWR pin cell.\n",
    "\n",
    "To use the search functionality, we must create a function which creates our model according to the input parameter we wish to search for (in this case, the boron concentration).  \n",
    "\n",
    "This notebook will first create that function, and then, run the search."
   ]
  },
  {
   "cell_type": "code",
   "execution_count": 1,
   "metadata": {},
   "outputs": [],
   "source": [
    "# Initialize third-party libraries and the OpenMC Python API\n",
    "import matplotlib.pyplot as plt\n",
    "import numpy as np\n",
    "\n",
    "import openmc\n",
    "import openmc.model\n",
    "\n",
    "%matplotlib inline"
   ]
  },
  {
   "cell_type": "markdown",
   "metadata": {},
   "source": [
    "## Create Parametrized Model\n",
    "\n",
    "To perform the search we will use the `openmc.search_for_keff` function.  This function requires a different function be defined which creates an parametrized model to analyze. This model is required to be stored in an `openmc.model.Model` object. The first parameter of this function will be modified during the search process for our critical eigenvalue.\n",
    "\n",
    "Our model will be a pin-cell from the [Multi-Group Mode Part II](mg-mode-part-ii.ipynb) assembly, except this time the entire model building process will be contained within a function, and the Boron concentration will be parametrized."
   ]
  },
  {
   "cell_type": "code",
   "execution_count": 2,
   "metadata": {},
   "outputs": [],
   "source": [
    "# Create the model. `ppm_Boron` will be the parametric variable.\n",
    "\n",
    "def build_model(ppm_Boron):\n",
    "    \n",
    "    # Create the pin materials\n",
    "    fuel = openmc.Material(name='1.6% Fuel')\n",
    "    fuel.set_density('g/cm3', 10.31341)\n",
    "    fuel.add_element('U', 1., enrichment=1.6)\n",
    "    fuel.add_element('O', 2.)\n",
    "\n",
    "    zircaloy = openmc.Material(name='Zircaloy')\n",
    "    zircaloy.set_density('g/cm3', 6.55)\n",
    "    zircaloy.add_element('Zr', 1.)\n",
    "\n",
    "    water = openmc.Material(name='Borated Water')\n",
    "    water.set_density('g/cm3', 0.741)\n",
    "    water.add_element('H', 2.)\n",
    "    water.add_element('O', 1.)\n",
    "\n",
    "    # Include the amount of boron in the water based on the ppm,\n",
    "    # neglecting the other constituents of boric acid\n",
    "    water.add_element('B', ppm_Boron * 1e-6)\n",
    "    \n",
    "    # Instantiate a Materials object\n",
    "    materials = openmc.Materials([fuel, zircaloy, water])\n",
    "    \n",
    "    # Create cylinders for the fuel and clad\n",
    "    fuel_outer_radius = openmc.ZCylinder(r=0.39218)\n",
    "    clad_outer_radius = openmc.ZCylinder(r=0.45720)\n",
    "\n",
    "    # Create boundary planes to surround the geometry\n",
    "    min_x = openmc.XPlane(x0=-0.63, boundary_type='reflective')\n",
    "    max_x = openmc.XPlane(x0=+0.63, boundary_type='reflective')\n",
    "    min_y = openmc.YPlane(y0=-0.63, boundary_type='reflective')\n",
    "    max_y = openmc.YPlane(y0=+0.63, boundary_type='reflective')\n",
    "\n",
    "    # Create fuel Cell\n",
    "    fuel_cell = openmc.Cell(name='1.6% Fuel')\n",
    "    fuel_cell.fill = fuel\n",
    "    fuel_cell.region = -fuel_outer_radius\n",
    "\n",
    "    # Create a clad Cell\n",
    "    clad_cell = openmc.Cell(name='1.6% Clad')\n",
    "    clad_cell.fill = zircaloy\n",
    "    clad_cell.region = +fuel_outer_radius & -clad_outer_radius\n",
    "\n",
    "    # Create a moderator Cell\n",
    "    moderator_cell = openmc.Cell(name='1.6% Moderator')\n",
    "    moderator_cell.fill = water\n",
    "    moderator_cell.region = +clad_outer_radius & (+min_x & -max_x & +min_y & -max_y)\n",
    "\n",
    "    # Create root Universe\n",
    "    root_universe = openmc.Universe(name='root universe')\n",
    "    root_universe.add_cells([fuel_cell, clad_cell, moderator_cell])\n",
    "\n",
    "    # Create Geometry and set root universe\n",
    "    geometry = openmc.Geometry(root_universe)\n",
    "    \n",
    "    # Instantiate a Settings object\n",
    "    settings = openmc.Settings()\n",
    "    \n",
    "    # Set simulation parameters\n",
    "    settings.batches = 300\n",
    "    settings.inactive = 20\n",
    "    settings.particles = 1000\n",
    "    \n",
    "    # Create an initial uniform spatial source distribution over fissionable zones\n",
    "    bounds = [-0.63, -0.63, -10, 0.63, 0.63, 10.]\n",
    "    uniform_dist = openmc.stats.Box(bounds[:3], bounds[3:], only_fissionable=True)\n",
    "    settings.source = openmc.source.IndependentSource(space=uniform_dist)\n",
    "    \n",
    "    # We dont need a tallies file so dont waste the disk input/output time\n",
    "    settings.output = {'tallies': False}\n",
    "    \n",
    "    model = openmc.model.Model(geometry, materials, settings)\n",
    "    \n",
    "    return model"
   ]
  },
  {
   "cell_type": "markdown",
   "metadata": {},
   "source": [
    "## Search for the Critical Boron Concentration\n",
    "\n",
    "To perform the search we imply call the `openmc.search_for_keff` function and pass in the relvant arguments.  For our purposes we will be passing in the model building function (`build_model` defined above), a bracketed range for the expected critical Boron concentration (1,000 to 2,500 ppm), the tolerance, and the method we wish to use. \n",
    "\n",
    "Instead of the bracketed range we could have used a single initial guess, but have elected not to in this example. Finally, due to the high noise inherent in using as few histories as are used in this example, our tolerance on the final keff value will be rather large (1.e-2) and the default 'bisection' method will be used for the search."
   ]
  },
  {
   "cell_type": "code",
   "execution_count": 3,
   "metadata": {},
   "outputs": [
    {
     "name": "stdout",
     "output_type": "stream",
     "text": [
      "Iteration: 1; Guess of 1.00e+03 produced a keff of 1.08934 +/- 0.00167\n",
      "Iteration: 2; Guess of 2.50e+03 produced a keff of 0.95014 +/- 0.00155\n",
      "Iteration: 3; Guess of 1.75e+03 produced a keff of 1.01762 +/- 0.00158\n",
      "Iteration: 4; Guess of 2.12e+03 produced a keff of 0.98460 +/- 0.00154\n",
      "Iteration: 5; Guess of 1.94e+03 produced a keff of 1.00037 +/- 0.00150\n",
      "Iteration: 6; Guess of 2.03e+03 produced a keff of 0.99079 +/- 0.00154\n",
      "Iteration: 7; Guess of 1.98e+03 produced a keff of 0.99683 +/- 0.00152\n",
      "Iteration: 8; Guess of 1.96e+03 produced a keff of 0.99754 +/- 0.00154\n",
      "Iteration: 9; Guess of 1.95e+03 produced a keff of 0.99962 +/- 0.00157\n",
      "Critical Boron Concentration: 1949 ppm\n"
     ]
    }
   ],
   "source": [
    "# Perform the search\n",
    "crit_ppm, guesses, keffs = openmc.search_for_keff(build_model, bracket=[1000., 2500.],\n",
    "                                                  tol=1e-2, print_iterations=True, \n",
    "                                                  run_args={'output': False})\n",
    "\n",
    "print('Critical Boron Concentration: {:4.0f} ppm'.format(crit_ppm))"
   ]
  },
  {
   "cell_type": "markdown",
   "metadata": {},
   "source": [
    "Finally, the `openmc.search_for_keff` function also provided us with `List`s of the guesses and corresponding keff values generated during the search process with OpenMC. Let's use that information to make a quick plot of the value of keff versus the boron concentration."
   ]
  },
  {
   "cell_type": "code",
   "execution_count": 4,
   "metadata": {},
   "outputs": [
    {
     "data": {
      "image/png": "[encoded data removed]",
      "text/plain": [
       "<Figure size 800x450 with 1 Axes>"
      ]
     },
     "metadata": {},
     "output_type": "display_data"
    }
   ],
   "source": [
    "plt.figure(figsize=(8, 4.5))\n",
    "plt.title('Eigenvalue versus Boron Concentration')\n",
    "# Create a scatter plot using the mean value of keff\n",
    "plt.scatter(guesses, [keffs[i].nominal_value for i in range(len(keffs))])\n",
    "plt.xlabel('Boron Concentration [ppm]')\n",
    "plt.ylabel('Eigenvalue')\n",
    "plt.show()"
   ]
  },
  {
   "cell_type": "markdown",
   "metadata": {},
   "source": [
    "We see a nearly linear reactivity coefficient for the boron concentration, exactly as one would expect for a pure 1/v absorber at small concentrations."
   ]
  }
 ],
 "metadata": {
  "kernelspec": {
   "display_name": "Python 3 (ipykernel)",
   "language": "python",
   "name": "python3"
  },
  "language_info": {
   "codemirror_mode": {
    "name": "ipython",
    "version": 3
   },
   "file_extension": ".py",
   "mimetype": "text/x-python",
   "name": "python",
   "nbconvert_exporter": "python",
   "pygments_lexer": "ipython3",
   "version": "3.12.3"
  }
 },
 "nbformat": 4,
 "nbformat_minor": 4
}
