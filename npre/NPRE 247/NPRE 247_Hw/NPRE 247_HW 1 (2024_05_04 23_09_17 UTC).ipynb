{
 "cells": [
  {
   "cell_type": "code",
   "execution_count": 9,
   "id": "0b91e575",
   "metadata": {},
   "outputs": [],
   "source": [
    "from sympy import *\n",
    "import numpy as np\n",
    "import scipy.constants as c"
   ]
  },
  {
   "cell_type": "code",
   "execution_count": null,
   "id": "2be7807d",
   "metadata": {},
   "outputs": [],
   "source": [
    "#Constants & Useful Numbers\n",
    "N_A = c.Avogadro\n",
    "\n",
    "U_molar_mass = 238.02891 #g/mol\n",
    "U235_molar_mass = 235.04393 #g/mol\n",
    "U238_molar_mass = 238.05078826 #g/mol"
   ]
  },
  {
   "cell_type": "raw",
   "id": "b2dd8ecd",
   "metadata": {},
   "source": [
    "Question 1 (Shultis & Faw, 1.1)\n",
    "Both the hertz and the curie have units of (s−1). Explain the difference between these two units.\n",
    "\n",
    "The hertz tells how many time per second something happens while the curie measures decays of a radioactive material per second. The reason it is in /s for curies is because decays don't have a proper unit."
   ]
  },
  {
   "cell_type": "raw",
   "id": "b252ff7c",
   "metadata": {},
   "source": [
    "Question 2 (Shultis & Faw, 1.8) How many neutrons and protons are there in the following nuclides:\n",
    "(a) 11B\n",
    "    5 protons, 6 neutrons\n",
    "(b) 24Na\n",
    "    11 protons, 13 neutrons\n",
    "(c) 60Co\n",
    "    27 protons, 33 neutrons\n",
    "(d) 207Pb\n",
    "    82 protons, 125 neutrons\n",
    "(e) 238U\n",
    "    92 protons, 146 neutrons"
   ]
  },
  {
   "cell_type": "raw",
   "id": "cb3dd9bf",
   "metadata": {},
   "source": [
    "Question 3 (Shultis & Faw, 1.9) Consider the isotope Ge-71. Use a chart of the nuclides to find a nuclide that is\n",
    "(a) in the same isobar (same A different Z)\n",
    "    Ga-71\n",
    "(b) in the same isotone (same n+ different A)\n",
    "    As-72\n",
    "(c) is an isomer (same element but different energy state)\n",
    "    Ge-71"
   ]
  },
  {
   "cell_type": "code",
   "execution_count": 49,
   "id": "b84ea36c",
   "metadata": {},
   "outputs": [
    {
     "name": "stdout",
     "output_type": "stream",
     "text": [
      "Atoms of U-234 1.36620211822169e+20\n"
     ]
    }
   ],
   "source": [
    "#Question 4 (Shultis & Faw, 1.15) How many atoms of 234U are there in 1 kg of natural uranium?\n",
    "\n",
    "atoms_U234 = S('atoms_U34')\n",
    "\n",
    "mass = 1000 #g\n",
    "U234_abundance = 0.0054 / 100\n",
    "\n",
    "eq1 = Eq(atoms_U234, mass * N_A * U234_abundance / U_molar_mass)\n",
    "soln = solve(eq1)\n",
    "print('Atoms of U-234', soln[0]) #1.36620211822169e20 atoms U-234"
   ]
  },
  {
   "cell_type": "code",
   "execution_count": 78,
   "id": "79dc7452",
   "metadata": {},
   "outputs": [
    {
     "name": "stdout",
     "output_type": "stream",
     "text": [
      "a) Moles of H20 - 55.508435061791985\n",
      "b) H-1 atoms - 6.684622775321615e+25\n",
      "   H-2 atoms - 9.694108669973488e+20\n"
     ]
    }
   ],
   "source": [
    "#Question 5 (Shultis & Faw, 1.16) A bucket contains 1L of water at 4◦C where water has a denisty of 1 g/cm^3.\n",
    "\n",
    "#(a) How many moles of H2O are there in the bucket?\n",
    "\n",
    "rho = 1 #g/cm^3\n",
    "V = 1 #L\n",
    "\n",
    "H20_molar_mass = 18.01528 #g/mol\n",
    "L_to_cc = 1000 \n",
    "\n",
    "moles_H20 = V * L_to_cc * rho / H20_molar_mass\n",
    "#55.508435061791985 moles_H20\n",
    "\n",
    "#(b) How many atoms of H-1 and H-2 are there in the bucket?\n",
    "moles_H = moles_H20 * 2\n",
    "\n",
    "H1_abundance = 99.9855 / 100\n",
    "H2_abundance = 0.0145 / 1000\n",
    "\n",
    "H1_atoms = moles_H * N_A * H1_abundance\n",
    "H2_atoms = moles_H * N_A * H2_abundance\n",
    "\n",
    "#Solutions\n",
    "print(\"a) Moles of H20 -\", moles_H20) #55.508435061791985 moles H20\n",
    "print(\"b) H-1 atoms -\", H1_atoms) #6.684622775321615e+25 atoms H-1\n",
    "print(\"   H-2 atoms -\", H2_atoms) #9.694108669973488e+20 atoms H-2"
   ]
  },
  {
   "cell_type": "code",
   "execution_count": 79,
   "id": "48f5e260",
   "metadata": {},
   "outputs": [
    {
     "name": "stdout",
     "output_type": "stream",
     "text": [
      "a) U-235 mass - 808.1873600666904\n",
      "b) U-235 atom density in atoms/cc - 5.491022631142109e+26\n",
      "   U-238 atom density in atoms/cc - 2.1964090524568435e+27\n"
     ]
    }
   ],
   "source": [
    "#Question 6  (Shultis & Faw, 1.23) A reactor is fueled with 4 kg uranium enriched to 20 atom-percent in 235U. \n",
    "#The remainder of the fuel is 238U. The fuel has a mass density of 19.2 g/cc.\n",
    "\n",
    "#(a) What is the mass of 235U in the reactor?\n",
    "\n",
    "mass = 4000 #g\n",
    "rho = 19.2 #g/cc\n",
    "\n",
    "fuel_molar_mass = U235_molar_mass*.2 + U238_molar_mass*.8\n",
    "\n",
    "total_atoms = mass * N_A * fuel_molar_mass\n",
    "U235_atoms = total_atoms * .2\n",
    "U235_mass = U235_atoms / N_A / U235_molar_mass\n",
    "\n",
    "#(b) What are the atom densities of 235U and 238U in the fuel?\n",
    "\n",
    "volume = mass / rho\n",
    "\n",
    "U235_atom_density = U235_atoms / volume\n",
    "U238_atom_density = (total_atoms - U235_atoms) / volume\n",
    "\n",
    "#Solutions\n",
    "print('a) U-235 mass -', U235_mass) #808.1873600666904 g U-235\n",
    "print('b) U-235 atom density in atoms/cc -', U235_atom_density) #5.491022631142109e+26 atoms of U-235/cc \n",
    "print('   U-238 atom density in atoms/cc -', U238_atom_density) #2.1964090524568435e+27 atoms of U-238/cc"
   ]
  },
  {
   "cell_type": "code",
   "execution_count": 97,
   "id": "b7b63364",
   "metadata": {},
   "outputs": [
    {
     "name": "stdout",
     "output_type": "stream",
     "text": [
      "U235 Weight Percent - 3.1608578889940397 %\n"
     ]
    }
   ],
   "source": [
    "#Question 7  (Shultis & Faw, 1.24) A sample of uranium is enriched to 3.2 atom-percent in 235U with the remainder \n",
    "#being 238U. What is the enrichment of 235U in weight-percent?\n",
    "\n",
    "U235_atom_percent = 3.2 / 100\n",
    "U238_atom_percent = 1 - U235_atom_percent\n",
    "\n",
    "sample_molar_mass = (U235_atom_percent * U235_molar_mass) + (U238_atom_percent * U238_molar_mass)\n",
    "sample_atoms = N_A / sample_molar_mass #Using 1 as the mass for ease of use\n",
    "\n",
    "U235_atoms = sample_atoms * U235_atom_percent\n",
    "U235_weight_percent = U235_atoms / N_A * U235_molar_mass\n",
    "\n",
    "print('U235 Weight Percent -',U235_weight_percent * 100, \"%\")"
   ]
  },
  {
   "cell_type": "code",
   "execution_count": 109,
   "id": "d84339ef",
   "metadata": {},
   "outputs": [
    {
     "name": "stdout",
     "output_type": "stream",
     "text": [
      "The diameter of a Uranium nucleus is 6.8e-15 m larger than an Iron nucleus and also 1.8499999999999999 times larger\n"
     ]
    }
   ],
   "source": [
    "#Question 8 (Shultis & Faw, 1.27) How much larger in diameter is a uranium nucleus compare to an iron nucleus?\n",
    "\n",
    "Uranium_nuclear_diameter = 2 * 7.4e-15\n",
    "Iron_nuclear_diameter = 2 * 4e-15\n",
    "\n",
    "diameter_multiplier = Uranium_nuclear_diameter / Iron_nuclear_diameter\n",
    "diameter_difference = Uranium_nuclear_diameter - Iron_nuclear_diameter\n",
    "\n",
    "print('The diameter of a Uranium nucleus is', diameter_difference, 'm larger than an Iron nucleus and also', diameter_multiplier, 'times larger')"
   ]
  },
  {
   "cell_type": "code",
   "execution_count": 119,
   "id": "5dcb0ea2",
   "metadata": {},
   "outputs": [
    {
     "name": "stdout",
     "output_type": "stream",
     "text": [
      "Earth's new mass - 2.46682091073965e+38 kg\n"
     ]
    }
   ],
   "source": [
    "#Question 9 (Shultis & Faw, 1.30) The earth has a radius of about 6.35e6 m and a mass of 5.98e24 kg. \n",
    "#What would be the radius if the earth had the same mass density as matter in a nucleus?\n",
    "\n",
    "earth_radius = 6.35e6 #m\n",
    "nucleus_density = 2.3e17 #kg/m3\n",
    "\n",
    "earth_volume = 4/3 * pi * earth_radius**3\n",
    "\n",
    "earth_nuclear_mass = earth_volume * nucleus_density\n",
    "\n",
    "print(\"Earth's new mass -\", earth_nuclear_mass.evalf(), 'kg')"
   ]
  }
 ],
 "metadata": {
  "kernelspec": {
   "display_name": "Python 3 (ipykernel)",
   "language": "python",
   "name": "python3"
  },
  "language_info": {
   "codemirror_mode": {
    "name": "ipython",
    "version": 3
   },
   "file_extension": ".py",
   "mimetype": "text/x-python",
   "name": "python",
   "nbconvert_exporter": "python",
   "pygments_lexer": "ipython3",
   "version": "3.9.12"
  }
 },
 "nbformat": 4,
 "nbformat_minor": 5
}
