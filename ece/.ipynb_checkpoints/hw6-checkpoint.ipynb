{
 "cells": [
  {
   "cell_type": "code",
   "execution_count": 1,
   "id": "e58eb81b-5627-4903-af62-ae362f5d961f",
   "metadata": {},
   "outputs": [],
   "source": [
    "import numpy as np\n",
    "import numpy.linalg as la"
   ]
  },
  {
   "cell_type": "code",
   "execution_count": 101,
   "id": "8b0aa123-39b2-4782-9ead-8bbc5d0e3609",
   "metadata": {},
   "outputs": [
    {
     "name": "stdout",
     "output_type": "stream",
     "text": [
      "xl [kOhm]:  1j \n",
      "xc [kOhm]:  (-0-0.2j)\n",
      "xeq [kOhm]: 2.171039989071215 \n",
      "theta [deg]:  13.645951279220736\n",
      "rho:  9.212174856602308 \n",
      "phi;  -103.64595127922072\n"
     ]
    }
   ],
   "source": [
    "# 10\n",
    "w = 3000\n",
    "l = (1000/3) * 1e-3\n",
    "c = (5/3) * 1e-6\n",
    "\n",
    "r1, r2 = 1.5, 1\n",
    "\n",
    "A = 20\n",
    "ps = np.pi/2\n",
    "\n",
    "# part a\n",
    "xl = w * l * 1j / 1000# Kohm\n",
    "xc = -1/(w * c) * 1j / 1000 # kOhm\n",
    "\n",
    "print('xl [kOhm]: ', xl, '\\nxc [kOhm]: ', xc)\n",
    "\n",
    "# part b\n",
    "x1 = r2 + xc\n",
    "x2 = (1/xl + 1/x1)**(-1)\n",
    "xeq = r1 + x2\n",
    "R = (xeq.real**2 + xeq.imag**2)**(1/2)\n",
    "theta = np.arctan(xeq.imag / xeq.real)\n",
    "\n",
    "print('xeq [kOhm]:', R, '\\ntheta [deg]: ', theta * 180/np.pi)\n",
    "\n",
    "# part c\n",
    "v_bar = A * (np.cos(ps) + np.sin(ps) * 1j)\n",
    "z_bar = R * (np.cos(theta) + np.sin(theta) * 1j)\n",
    "\n",
    "i_bar = v_bar / z_bar\n",
    "rho = (i_bar.real**2 + i_bar.imag**2)**(1/2)\n",
    "phi = np.arctan(i_bar.imag / i_bar.real) - np.pi\n",
    "\n",
    "print('rho: ', rho, '\\nphi; ', phi * 180/np.pi)"
   ]
  },
  {
   "cell_type": "code",
   "execution_count": 139,
   "id": "3c28f2a1-f147-4331-9374-e2620c891a40",
   "metadata": {},
   "outputs": [
    {
     "data": {
      "text/plain": [
       "(1.5+0.5j)"
      ]
     },
     "execution_count": 139,
     "metadata": {},
     "output_type": "execute_result"
    }
   ],
   "source": [
    "# 11\n",
    "r1, r2 = 1, 1\n",
    "xl, xc = 1j, -1j\n",
    "\n",
    "# v1\n",
    "A1 = 1\n",
    "theta1 = 0\n",
    "v1 = A1 * (np.cos(theta1) + np.sin(theta1) * 1j)\n",
    "\n",
    "# i1\n",
    "A2 = 2\n",
    "theta2 = 0\n",
    "i_bar = A2 * (np.cos(theta2) + np.sin(theta2) * 1j)\n",
    "\n",
    "\n",
    "# xeq\n",
    "x1 = (1/r2 + 1/xc)**(-1)\n",
    "xeq = x1 + xl + r1\n",
    "\n",
    "a,b = xeq.real, xeq.imag\n",
    "\n",
    "rz = (a**2 + b**2)**(1/2)\n",
    "thetaz = np.arctan(b / a)\n",
    "z_bar = rz * (np.cos(thetaz) + np.sin(thetaz) * 1j)\n",
    "\n",
    "# voltage\n",
    "xtop = (1/r2 + 1/xc)**(-1)\n",
    "\n",
    "z_bar"
   ]
  },
  {
   "cell_type": "code",
   "execution_count": 141,
   "id": "32e0d19a-302e-4228-8309-93dba2552b73",
   "metadata": {},
   "outputs": [
    {
     "name": "stdout",
     "output_type": "stream",
     "text": [
      "2 0 0.7071067811865476 45 2 90\n"
     ]
    }
   ],
   "source": [
    "# 12\n",
    "print(2, 0, np.sqrt(2)/2, 45, 2, 90)"
   ]
  }
 ],
 "metadata": {
  "kernelspec": {
   "display_name": "Python 3 (ipykernel)",
   "language": "python",
   "name": "python3"
  },
  "language_info": {
   "codemirror_mode": {
    "name": "ipython",
    "version": 3
   },
   "file_extension": ".py",
   "mimetype": "text/x-python",
   "name": "python",
   "nbconvert_exporter": "python",
   "pygments_lexer": "ipython3",
   "version": "3.12.2"
  }
 },
 "nbformat": 4,
 "nbformat_minor": 5
}
