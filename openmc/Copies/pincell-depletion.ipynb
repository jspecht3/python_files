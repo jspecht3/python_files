{
 "cells": [
  {
   "cell_type": "markdown",
   "metadata": {},
   "source": [
    "# Pincell Depletion\n",
    "This notebook is intended to introduce the reader to the depletion interface contained in OpenMC. It is recommended that you are moderately familiar with building models using the OpenMC Python API. The earlier examples are excellent starting points, as this notebook will not focus heavily on model building.\n",
    "\n",
    "If you have a real power reactor, the fuel composition is constantly changing as fission events produce energy, remove some fissile isotopes, and produce fission products. Other reactions, like $(n, \\alpha)$ and $(n, \\gamma)$ will alter the composition as well. Furthermore, some nuclides undergo spontaneous decay with widely ranging frequencies. Depletion is the process of modeling this behavior.\n",
    "\n",
    "In this notebook, we will model a simple fuel pin in an infinite lattice using the Python API. We will then build and examine some of the necessary components for performing depletion analysis. Then, we will use the depletion interface in OpenMC to simulate the fuel pin producing power over several months. Lastly, we will wrap up with some helpful tips to improve the fidelity of depletion simulations."
   ]
  },
  {
   "cell_type": "code",
   "execution_count": 1,
   "metadata": {},
   "outputs": [],
   "source": [
    "%matplotlib inline\n",
    "import math\n",
    "import openmc"
   ]
  },
  {
   "cell_type": "markdown",
   "metadata": {},
   "source": [
    "## Build the Geometry\n",
    "\n",
    "Much of this section is borrowed from the \"Modeling a Pin-Cell\" example. If you find yourself not understanding some aspects of this section, feel free to refer to that example, as some details may be glossed over for brevity.\n",
    "\n",
    "First, we will create our fuel, cladding, and water materials to represent a typical PWR."
   ]
  },
  {
   "cell_type": "code",
   "execution_count": 2,
   "metadata": {},
   "outputs": [],
   "source": [
    "fuel = openmc.Material(name=\"uo2\")\n",
    "fuel.add_element(\"U\", 1, percent_type=\"ao\", enrichment=4.25)\n",
    "fuel.add_element(\"O\", 2)\n",
    "fuel.set_density(\"g/cc\", 10.4)\n",
    "\n",
    "clad = openmc.Material(name=\"clad\")\n",
    "clad.add_element(\"Zr\", 1)\n",
    "clad.set_density(\"g/cc\", 6)\n",
    "\n",
    "water = openmc.Material(name=\"water\")\n",
    "water.add_element(\"O\", 1)\n",
    "water.add_element(\"H\", 2)\n",
    "water.set_density(\"g/cc\", 1.0)\n",
    "water.add_s_alpha_beta(\"c_H_in_H2O\")\n",
    "materials = openmc.Materials([fuel, clad, water])"
   ]
  },
  {
   "cell_type": "markdown",
   "metadata": {},
   "source": [
    "Here, we are going to use the `openmc.model.pin` function to build our pin cell. The `pin` function anticipates concentric cylinders and materials to fill the inner regions. One additional material is needed than the number of cylinders to cover the domain outside the final ring. \n",
    "\n",
    "To do this, we define two radii for the outer radius of our fuel pin, and the outer radius of the cladding."
   ]
  },
  {
   "cell_type": "code",
   "execution_count": 3,
   "metadata": {},
   "outputs": [],
   "source": [
    "radii = [0.42, 0.45]"
   ]
  },
  {
   "cell_type": "markdown",
   "metadata": {},
   "source": [
    "Using these radii, we define concentric `ZCylinder` objects. So long as the cylinders are concentric and increasing in radius, any orientation can be used. We also take advantage of the fact that the `openmc.Materials` object is a subclass of the `list` object to assign materials to the regions defined by the surfaces."
   ]
  },
  {
   "cell_type": "code",
   "execution_count": 4,
   "metadata": {},
   "outputs": [],
   "source": [
    "pin_surfaces = [openmc.ZCylinder(r=r) for r in radii]\n",
    "pin_univ = openmc.model.pin(pin_surfaces, materials)"
   ]
  },
  {
   "cell_type": "markdown",
   "metadata": {},
   "source": [
    "The first material, in our case `fuel`, is placed inside the first cylinder in the inner-most region. The second material, `clad`, fills the space between our cylinders, while `water` is placed outside the last ring. The `pin` function returns an `openmc.Universe` object, and has some additional features we will mention later. Finally, we need to place the fuel pin universe in a bounding cell."
   ]
  },
  {
   "cell_type": "code",
   "execution_count": 5,
   "metadata": {},
   "outputs": [],
   "source": [
    "bound_box = openmc.model.RectangularPrism(1.24, 1.24, boundary_type=\"reflective\")\n",
    "root_cell = openmc.Cell(fill=pin_univ, region=-bound_box)\n",
    "geometry = openmc.Geometry([root_cell])"
   ]
  },
  {
   "cell_type": "markdown",
   "metadata": {},
   "source": [
    "To ensure our geometry looks right, let's plot it."
   ]
  },
  {
   "cell_type": "code",
   "execution_count": 6,
   "metadata": {},
   "outputs": [
    {
     "data": {
      "text/plain": [
       "<Axes: xlabel='x [cm]', ylabel='y [cm]'>"
      ]
     },
     "execution_count": 6,
     "metadata": {},
     "output_type": "execute_result"
    },
    {
     "data": {
      "image/png": "[encoded data removed]",
      "text/plain": [
       "<Figure size 258.065x259.74 with 1 Axes>"
      ]
     },
     "metadata": {},
     "output_type": "display_data"
    }
   ],
   "source": [
    "geometry.root_universe.plot()"
   ]
  },
  {
   "cell_type": "markdown",
   "metadata": {},
   "source": [
    "Lastly we construct our settings. For the sake of time, a relatively low number of particles will be used."
   ]
  },
  {
   "cell_type": "code",
   "execution_count": 7,
   "metadata": {},
   "outputs": [],
   "source": [
    "settings = openmc.Settings()\n",
    "settings.particles = 1000\n",
    "settings.inactive = 10\n",
    "settings.batches = 50"
   ]
  },
  {
   "cell_type": "markdown",
   "metadata": {},
   "source": [
    "The depletion interface relies on `OpenMC` to perform the transport simulation and obtain reaction rates and other important information. Normally, we would need to export XML files before running OpenMC, but the depletion interface takes care of this for us."
   ]
  },
  {
   "cell_type": "markdown",
   "metadata": {},
   "source": [
    "However, we must first add one bit of information: the volume of our fuel. In order to translate the reaction rates obtained by `openmc` to meaningful units for depletion, we have to normalize them to a correct power. This requires us to know, or be able to calculate, how much fuel is in our problem. Correctly setting the volumes is a critical step, and can lead to incorrect answers, as the fuel is over- or under-depleted due to poor normalization.\n",
    "\n",
    "For our problem, we can assign the \"volume\" to be the cross-sectional area of our fuel. This is identical to modeling our fuel pin inside a box with height of 1 cm."
   ]
  },
  {
   "cell_type": "code",
   "execution_count": 8,
   "metadata": {},
   "outputs": [],
   "source": [
    "fuel.volume = math.pi * radii[0] ** 2"
   ]
  },
  {
   "cell_type": "markdown",
   "metadata": {},
   "source": [
    "## Setting up for depletion\n",
    "\n",
    "The OpenMC depletion interface can be accessed from the `openmc.deplete` module, and has a variety of classes that will help us."
   ]
  },
  {
   "cell_type": "code",
   "execution_count": 17,
   "metadata": {},
   "outputs": [],
   "source": [
    "import openmc.deplete"
   ]
  },
  {
   "cell_type": "markdown",
   "metadata": {},
   "source": [
    "In order to run the depletion calculation we need the following information:\n",
    "\n",
    "1. Nuclide decay, fission yield, and reaction data\n",
    "2. Operational power or power density\n",
    "3. Desired depletion schedule\n",
    "4. Desired time integration scheme\n",
    "\n",
    "The first item is necessary to determine the paths by which nuclides transmute over the depletion simulation. This includes spontaneous decay, fission product yield distributions, and nuclides produced through neutron-reactions. For example,\n",
    "* Te129 decays to I129 with a half life of ~70 minutes\n",
    "* A fission event for U-235 produces fission products like Xe135 according to a distribution\n",
    "* For thermal problems, Am241 will produce metastable Am242 about 8% of the time during an $(n,\\gamma)$ reaction. The other 92% of capture reactions will produce ground state Am242\n",
    "\n",
    "These data are often distributed with other nuclear data, like incident neutron cross sections with ENDF/B-VII.\n",
    "OpenMC uses the [`openmc.deplete.Chain`](https://docs.openmc.org/en/latest/pythonapi/generated/openmc.deplete.Chain.html#openmc.deplete.Chain) to collect represent the various decay and transmutation pathways in a single object.\n",
    "While a complete `Chain` can be created using nuclear data files, users may prefer to download pre-generated XML-representations instead.\n",
    "Such files can be found at https://openmc.org/depletion-chains/ and include full and compressed chains, with capture branching ratios derived using PWR- or SFR-spectra.\n",
    "\n",
    "For this problem, we will be using a much smaller depletion chain that contains very few nuclides. In a realistic problem, over 1000 isotopes may be included in the depletion chain."
   ]
  },
  {
   "cell_type": "code",
   "execution_count": 28,
   "metadata": {},
   "outputs": [
    {
     "ename": "OSError",
     "evalue": "Error reading file './chain_simple.xml': failed to load external entity \"./chain_simple.xml\"",
     "output_type": "error",
     "traceback": [
      "\u001b[0;31m---------------------------------------------------------------------------\u001b[0m",
      "\u001b[0;31mOSError\u001b[0m                                   Traceback (most recent call last)",
      "Cell \u001b[0;32mIn[28], line 1\u001b[0m\n\u001b[0;32m----> 1\u001b[0m chain \u001b[38;5;241m=\u001b[39m \u001b[43mopenmc\u001b[49m\u001b[38;5;241;43m.\u001b[39;49m\u001b[43mdeplete\u001b[49m\u001b[38;5;241;43m.\u001b[39;49m\u001b[43mChain\u001b[49m\u001b[38;5;241;43m.\u001b[39;49m\u001b[43mfrom_xml\u001b[49m\u001b[43m(\u001b[49m\u001b[38;5;124;43m\"\u001b[39;49m\u001b[38;5;124;43m./chain_simple.xml\u001b[39;49m\u001b[38;5;124;43m\"\u001b[39;49m\u001b[43m)\u001b[49m\n\u001b[1;32m      2\u001b[0m chain\u001b[38;5;241m.\u001b[39mnuclide_dict\n",
      "File \u001b[0;32m~/miniconda3/envs/openmc-env/lib/python3.12/site-packages/openmc/deplete/chain.py:535\u001b[0m, in \u001b[0;36mChain.from_xml\u001b[0;34m(cls, filename, fission_q)\u001b[0m\n\u001b[1;32m    532\u001b[0m     fission_q \u001b[38;5;241m=\u001b[39m {}\n\u001b[1;32m    534\u001b[0m \u001b[38;5;66;03m# Load XML tree\u001b[39;00m\n\u001b[0;32m--> 535\u001b[0m root \u001b[38;5;241m=\u001b[39m \u001b[43mET\u001b[49m\u001b[38;5;241;43m.\u001b[39;49m\u001b[43mparse\u001b[49m\u001b[43m(\u001b[49m\u001b[38;5;28;43mstr\u001b[39;49m\u001b[43m(\u001b[49m\u001b[43mfilename\u001b[49m\u001b[43m)\u001b[49m\u001b[43m)\u001b[49m\n\u001b[1;32m    537\u001b[0m \u001b[38;5;28;01mfor\u001b[39;00m i, nuclide_elem \u001b[38;5;129;01min\u001b[39;00m \u001b[38;5;28menumerate\u001b[39m(root\u001b[38;5;241m.\u001b[39mfindall(\u001b[38;5;124m'\u001b[39m\u001b[38;5;124mnuclide\u001b[39m\u001b[38;5;124m'\u001b[39m)):\n\u001b[1;32m    538\u001b[0m     this_q \u001b[38;5;241m=\u001b[39m fission_q\u001b[38;5;241m.\u001b[39mget(nuclide_elem\u001b[38;5;241m.\u001b[39mget(\u001b[38;5;124m\"\u001b[39m\u001b[38;5;124mname\u001b[39m\u001b[38;5;124m\"\u001b[39m))\n",
      "File \u001b[0;32msrc/lxml/etree.pyx:3570\u001b[0m, in \u001b[0;36mlxml.etree.parse\u001b[0;34m()\u001b[0m\n",
      "File \u001b[0;32msrc/lxml/parser.pxi:1952\u001b[0m, in \u001b[0;36mlxml.etree._parseDocument\u001b[0;34m()\u001b[0m\n",
      "File \u001b[0;32msrc/lxml/parser.pxi:1978\u001b[0m, in \u001b[0;36mlxml.etree._parseDocumentFromURL\u001b[0;34m()\u001b[0m\n",
      "File \u001b[0;32msrc/lxml/parser.pxi:1881\u001b[0m, in \u001b[0;36mlxml.etree._parseDocFromFile\u001b[0;34m()\u001b[0m\n",
      "File \u001b[0;32msrc/lxml/parser.pxi:1200\u001b[0m, in \u001b[0;36mlxml.etree._BaseParser._parseDocFromFile\u001b[0;34m()\u001b[0m\n",
      "File \u001b[0;32msrc/lxml/parser.pxi:633\u001b[0m, in \u001b[0;36mlxml.etree._ParserContext._handleParseResultDoc\u001b[0;34m()\u001b[0m\n",
      "File \u001b[0;32msrc/lxml/parser.pxi:743\u001b[0m, in \u001b[0;36mlxml.etree._handleParseResult\u001b[0;34m()\u001b[0m\n",
      "File \u001b[0;32msrc/lxml/parser.pxi:670\u001b[0m, in \u001b[0;36mlxml.etree._raiseParseError\u001b[0;34m()\u001b[0m\n",
      "\u001b[0;31mOSError\u001b[0m: Error reading file './chain_simple.xml': failed to load external entity \"./chain_simple.xml\""
     ]
    }
   ],
   "source": [
    "chain = openmc.deplete.Chain.from_xml(\"./chain_simple.xml\")\n",
    "chain.nuclide_dict"
   ]
  },
  {
   "cell_type": "markdown",
   "metadata": {},
   "source": [
    "The primary entry point for depletion is the `openmc.deplete.Operator`. It relies on the `openmc.deplete.Chain` and helper classes to run `openmc`, retrieve and normalize reaction rates, and other perform other tasks. For a thorough description, please see the full API documentation."
   ]
  },
  {
   "cell_type": "markdown",
   "metadata": {},
   "source": [
    "We will create our Operator using the geometry and settings from above, and our simple chain file. The materials are read in automatically using the `materials.xml` file."
   ]
  },
  {
   "cell_type": "code",
   "execution_count": 16,
   "metadata": {},
   "outputs": [
    {
     "ename": "OSError",
     "evalue": "Error reading file './chain_simple.xml': failed to load external entity \"./chain_simple.xml\"",
     "output_type": "error",
     "traceback": [
      "\u001b[0;31m---------------------------------------------------------------------------\u001b[0m",
      "\u001b[0;31mOSError\u001b[0m                                   Traceback (most recent call last)",
      "Cell \u001b[0;32mIn[16], line 2\u001b[0m\n\u001b[1;32m      1\u001b[0m model \u001b[38;5;241m=\u001b[39m openmc\u001b[38;5;241m.\u001b[39mModel(geometry\u001b[38;5;241m=\u001b[39mgeometry, settings\u001b[38;5;241m=\u001b[39msettings)\n\u001b[0;32m----> 2\u001b[0m operator \u001b[38;5;241m=\u001b[39m \u001b[43mopenmc\u001b[49m\u001b[38;5;241;43m.\u001b[39;49m\u001b[43mdeplete\u001b[49m\u001b[38;5;241;43m.\u001b[39;49m\u001b[43mCoupledOperator\u001b[49m\u001b[43m(\u001b[49m\u001b[43mmodel\u001b[49m\u001b[43m,\u001b[49m\u001b[43m \u001b[49m\u001b[38;5;124;43m\"\u001b[39;49m\u001b[38;5;124;43m./chain_simple.xml\u001b[39;49m\u001b[38;5;124;43m\"\u001b[39;49m\u001b[43m)\u001b[49m\n",
      "File \u001b[0;32m~/miniconda3/envs/openmc-env/lib/python3.12/site-packages/openmc/deplete/coupled_operator.py:266\u001b[0m, in \u001b[0;36mCoupledOperator.__init__\u001b[0;34m(self, model, chain_file, prev_results, diff_burnable_mats, diff_volume_method, normalization_mode, fission_q, fission_yield_mode, fission_yield_opts, reaction_rate_mode, reaction_rate_opts, reduce_chain, reduce_chain_level)\u001b[0m\n\u001b[1;32m    257\u001b[0m     fission_yield_opts \u001b[38;5;241m=\u001b[39m {}\n\u001b[1;32m    258\u001b[0m helper_kwargs \u001b[38;5;241m=\u001b[39m {\n\u001b[1;32m    259\u001b[0m     \u001b[38;5;124m'\u001b[39m\u001b[38;5;124mreaction_rate_mode\u001b[39m\u001b[38;5;124m'\u001b[39m: reaction_rate_mode,\n\u001b[1;32m    260\u001b[0m     \u001b[38;5;124m'\u001b[39m\u001b[38;5;124mnormalization_mode\u001b[39m\u001b[38;5;124m'\u001b[39m: normalization_mode,\n\u001b[0;32m   (...)\u001b[0m\n\u001b[1;32m    263\u001b[0m     \u001b[38;5;124m'\u001b[39m\u001b[38;5;124mfission_yield_opts\u001b[39m\u001b[38;5;124m'\u001b[39m: fission_yield_opts\n\u001b[1;32m    264\u001b[0m }\n\u001b[0;32m--> 266\u001b[0m \u001b[38;5;28;43msuper\u001b[39;49m\u001b[43m(\u001b[49m\u001b[43m)\u001b[49m\u001b[38;5;241;43m.\u001b[39;49m\u001b[38;5;21;43m__init__\u001b[39;49m\u001b[43m(\u001b[49m\n\u001b[1;32m    267\u001b[0m \u001b[43m    \u001b[49m\u001b[43mmaterials\u001b[49m\u001b[38;5;241;43m=\u001b[39;49m\u001b[43mmodel\u001b[49m\u001b[38;5;241;43m.\u001b[39;49m\u001b[43mmaterials\u001b[49m\u001b[43m,\u001b[49m\n\u001b[1;32m    268\u001b[0m \u001b[43m    \u001b[49m\u001b[43mcross_sections\u001b[49m\u001b[38;5;241;43m=\u001b[39;49m\u001b[43mcross_sections\u001b[49m\u001b[43m,\u001b[49m\n\u001b[1;32m    269\u001b[0m \u001b[43m    \u001b[49m\u001b[43mchain_file\u001b[49m\u001b[38;5;241;43m=\u001b[39;49m\u001b[43mchain_file\u001b[49m\u001b[43m,\u001b[49m\n\u001b[1;32m    270\u001b[0m \u001b[43m    \u001b[49m\u001b[43mprev_results\u001b[49m\u001b[38;5;241;43m=\u001b[39;49m\u001b[43mprev_results\u001b[49m\u001b[43m,\u001b[49m\n\u001b[1;32m    271\u001b[0m \u001b[43m    \u001b[49m\u001b[43mdiff_burnable_mats\u001b[49m\u001b[38;5;241;43m=\u001b[39;49m\u001b[43mdiff_burnable_mats\u001b[49m\u001b[43m,\u001b[49m\n\u001b[1;32m    272\u001b[0m \u001b[43m    \u001b[49m\u001b[43mdiff_volume_method\u001b[49m\u001b[38;5;241;43m=\u001b[39;49m\u001b[43mdiff_volume_method\u001b[49m\u001b[43m,\u001b[49m\n\u001b[1;32m    273\u001b[0m \u001b[43m    \u001b[49m\u001b[43mfission_q\u001b[49m\u001b[38;5;241;43m=\u001b[39;49m\u001b[43mfission_q\u001b[49m\u001b[43m,\u001b[49m\n\u001b[1;32m    274\u001b[0m \u001b[43m    \u001b[49m\u001b[43mhelper_kwargs\u001b[49m\u001b[38;5;241;43m=\u001b[39;49m\u001b[43mhelper_kwargs\u001b[49m\u001b[43m,\u001b[49m\n\u001b[1;32m    275\u001b[0m \u001b[43m    \u001b[49m\u001b[43mreduce_chain\u001b[49m\u001b[38;5;241;43m=\u001b[39;49m\u001b[43mreduce_chain\u001b[49m\u001b[43m,\u001b[49m\n\u001b[1;32m    276\u001b[0m \u001b[43m    \u001b[49m\u001b[43mreduce_chain_level\u001b[49m\u001b[38;5;241;43m=\u001b[39;49m\u001b[43mreduce_chain_level\u001b[49m\u001b[43m)\u001b[49m\n",
      "File \u001b[0;32m~/miniconda3/envs/openmc-env/lib/python3.12/site-packages/openmc/deplete/openmc_operator.py:123\u001b[0m, in \u001b[0;36mOpenMCOperator.__init__\u001b[0;34m(self, materials, cross_sections, chain_file, prev_results, diff_burnable_mats, diff_volume_method, fission_q, helper_kwargs, reduce_chain, reduce_chain_level)\u001b[0m\n\u001b[1;32m    117\u001b[0m     \u001b[38;5;28;01mif\u001b[39;00m chain_file \u001b[38;5;129;01mis\u001b[39;00m \u001b[38;5;28;01mNone\u001b[39;00m:\n\u001b[1;32m    118\u001b[0m         \u001b[38;5;28;01mraise\u001b[39;00m DataError(\n\u001b[1;32m    119\u001b[0m             \u001b[38;5;124m\"\u001b[39m\u001b[38;5;124mNo depletion chain specified and could not find depletion \u001b[39m\u001b[38;5;124m\"\u001b[39m\n\u001b[1;32m    120\u001b[0m             \u001b[38;5;124m\"\u001b[39m\u001b[38;5;124mchain in openmc.config[\u001b[39m\u001b[38;5;124m'\u001b[39m\u001b[38;5;124mchain_file\u001b[39m\u001b[38;5;124m'\u001b[39m\u001b[38;5;124m]\u001b[39m\u001b[38;5;124m\"\u001b[39m\n\u001b[1;32m    121\u001b[0m         )\n\u001b[0;32m--> 123\u001b[0m \u001b[38;5;28;43msuper\u001b[39;49m\u001b[43m(\u001b[49m\u001b[43m)\u001b[49m\u001b[38;5;241;43m.\u001b[39;49m\u001b[38;5;21;43m__init__\u001b[39;49m\u001b[43m(\u001b[49m\u001b[43mchain_file\u001b[49m\u001b[43m,\u001b[49m\u001b[43m \u001b[49m\u001b[43mfission_q\u001b[49m\u001b[43m,\u001b[49m\u001b[43m \u001b[49m\u001b[43mprev_results\u001b[49m\u001b[43m)\u001b[49m\n\u001b[1;32m    124\u001b[0m \u001b[38;5;28mself\u001b[39m\u001b[38;5;241m.\u001b[39mround_number \u001b[38;5;241m=\u001b[39m \u001b[38;5;28;01mFalse\u001b[39;00m\n\u001b[1;32m    125\u001b[0m \u001b[38;5;28mself\u001b[39m\u001b[38;5;241m.\u001b[39mmaterials \u001b[38;5;241m=\u001b[39m materials\n",
      "File \u001b[0;32m~/miniconda3/envs/openmc-env/lib/python3.12/site-packages/openmc/deplete/abc.py:114\u001b[0m, in \u001b[0;36mTransportOperator.__init__\u001b[0;34m(self, chain_file, fission_q, prev_results)\u001b[0m\n\u001b[1;32m    111\u001b[0m \u001b[38;5;28mself\u001b[39m\u001b[38;5;241m.\u001b[39moutput_dir \u001b[38;5;241m=\u001b[39m \u001b[38;5;124m'\u001b[39m\u001b[38;5;124m.\u001b[39m\u001b[38;5;124m'\u001b[39m\n\u001b[1;32m    113\u001b[0m \u001b[38;5;66;03m# Read depletion chain\u001b[39;00m\n\u001b[0;32m--> 114\u001b[0m \u001b[38;5;28mself\u001b[39m\u001b[38;5;241m.\u001b[39mchain \u001b[38;5;241m=\u001b[39m \u001b[43mChain\u001b[49m\u001b[38;5;241;43m.\u001b[39;49m\u001b[43mfrom_xml\u001b[49m\u001b[43m(\u001b[49m\u001b[43mchain_file\u001b[49m\u001b[43m,\u001b[49m\u001b[43m \u001b[49m\u001b[43mfission_q\u001b[49m\u001b[43m)\u001b[49m\n\u001b[1;32m    115\u001b[0m \u001b[38;5;28;01mif\u001b[39;00m prev_results \u001b[38;5;129;01mis\u001b[39;00m \u001b[38;5;28;01mNone\u001b[39;00m:\n\u001b[1;32m    116\u001b[0m     \u001b[38;5;28mself\u001b[39m\u001b[38;5;241m.\u001b[39mprev_res \u001b[38;5;241m=\u001b[39m \u001b[38;5;28;01mNone\u001b[39;00m\n",
      "File \u001b[0;32m~/miniconda3/envs/openmc-env/lib/python3.12/site-packages/openmc/deplete/chain.py:535\u001b[0m, in \u001b[0;36mChain.from_xml\u001b[0;34m(cls, filename, fission_q)\u001b[0m\n\u001b[1;32m    532\u001b[0m     fission_q \u001b[38;5;241m=\u001b[39m {}\n\u001b[1;32m    534\u001b[0m \u001b[38;5;66;03m# Load XML tree\u001b[39;00m\n\u001b[0;32m--> 535\u001b[0m root \u001b[38;5;241m=\u001b[39m \u001b[43mET\u001b[49m\u001b[38;5;241;43m.\u001b[39;49m\u001b[43mparse\u001b[49m\u001b[43m(\u001b[49m\u001b[38;5;28;43mstr\u001b[39;49m\u001b[43m(\u001b[49m\u001b[43mfilename\u001b[49m\u001b[43m)\u001b[49m\u001b[43m)\u001b[49m\n\u001b[1;32m    537\u001b[0m \u001b[38;5;28;01mfor\u001b[39;00m i, nuclide_elem \u001b[38;5;129;01min\u001b[39;00m \u001b[38;5;28menumerate\u001b[39m(root\u001b[38;5;241m.\u001b[39mfindall(\u001b[38;5;124m'\u001b[39m\u001b[38;5;124mnuclide\u001b[39m\u001b[38;5;124m'\u001b[39m)):\n\u001b[1;32m    538\u001b[0m     this_q \u001b[38;5;241m=\u001b[39m fission_q\u001b[38;5;241m.\u001b[39mget(nuclide_elem\u001b[38;5;241m.\u001b[39mget(\u001b[38;5;124m\"\u001b[39m\u001b[38;5;124mname\u001b[39m\u001b[38;5;124m\"\u001b[39m))\n",
      "File \u001b[0;32msrc/lxml/etree.pyx:3570\u001b[0m, in \u001b[0;36mlxml.etree.parse\u001b[0;34m()\u001b[0m\n",
      "File \u001b[0;32msrc/lxml/parser.pxi:1952\u001b[0m, in \u001b[0;36mlxml.etree._parseDocument\u001b[0;34m()\u001b[0m\n",
      "File \u001b[0;32msrc/lxml/parser.pxi:1978\u001b[0m, in \u001b[0;36mlxml.etree._parseDocumentFromURL\u001b[0;34m()\u001b[0m\n",
      "File \u001b[0;32msrc/lxml/parser.pxi:1881\u001b[0m, in \u001b[0;36mlxml.etree._parseDocFromFile\u001b[0;34m()\u001b[0m\n",
      "File \u001b[0;32msrc/lxml/parser.pxi:1200\u001b[0m, in \u001b[0;36mlxml.etree._BaseParser._parseDocFromFile\u001b[0;34m()\u001b[0m\n",
      "File \u001b[0;32msrc/lxml/parser.pxi:633\u001b[0m, in \u001b[0;36mlxml.etree._ParserContext._handleParseResultDoc\u001b[0;34m()\u001b[0m\n",
      "File \u001b[0;32msrc/lxml/parser.pxi:743\u001b[0m, in \u001b[0;36mlxml.etree._handleParseResult\u001b[0;34m()\u001b[0m\n",
      "File \u001b[0;32msrc/lxml/parser.pxi:670\u001b[0m, in \u001b[0;36mlxml.etree._raiseParseError\u001b[0;34m()\u001b[0m\n",
      "\u001b[0;31mOSError\u001b[0m: Error reading file './chain_simple.xml': failed to load external entity \"./chain_simple.xml\""
     ]
    }
   ],
   "source": [
    "model = openmc.Model(geometry=geometry, settings=settings)\n",
    "operator = openmc.deplete.CoupledOperator(model, \"./chain_simple.xml\")"
   ]
  },
  {
   "cell_type": "raw",
   "metadata": {},
   "source": [
    "We will then simulate our fuel pin operating at linear power of 174 W/cm, or 174 W given a unit height for our problem."
   ]
  },
  {
   "cell_type": "code",
   "execution_count": null,
   "metadata": {},
   "outputs": [],
   "source": [
    "power = 174"
   ]
  },
  {
   "cell_type": "markdown",
   "metadata": {},
   "source": [
    "For this problem, we will take depletion step sizes of 30 days, and instruct OpenMC to re-run a transport simulation every 30 days until we have modeled the problem over a six month cycle. The depletion interface expects the time to be given in seconds, so we will have to convert. Note that these values are not cumulative."
   ]
  },
  {
   "cell_type": "code",
   "execution_count": null,
   "metadata": {},
   "outputs": [],
   "source": [
    "time_steps = [30] * 6"
   ]
  },
  {
   "cell_type": "markdown",
   "metadata": {},
   "source": [
    "And lastly, we will use the basic predictor, or forward Euler, time integration scheme. Other, more advanced methods are provided to the user through `openmc.deplete`"
   ]
  },
  {
   "cell_type": "code",
   "execution_count": null,
   "metadata": {},
   "outputs": [],
   "source": [
    "integrator = openmc.deplete.PredictorIntegrator(operator, time_steps, power, timestep_units='d')"
   ]
  },
  {
   "cell_type": "markdown",
   "metadata": {},
   "source": [
    "To perform the simulation, we use the `integrate` method, and let `openmc` take care of the rest."
   ]
  },
  {
   "cell_type": "code",
   "execution_count": null,
   "metadata": {},
   "outputs": [],
   "source": [
    "integrator.integrate()"
   ]
  },
  {
   "cell_type": "markdown",
   "metadata": {},
   "source": [
    "## Processing the outputs\n",
    "\n",
    "The depletion simulation produces a few output files. First, the statepoint files from each individual transport simulation are written to `openmc_simulation_n<N>.h5`, where `<N>` indicates the current depletion step. Any tallies that we defined in `tallies.xml` will be included in these files across our simulations. We have 7 such files, one for each our of 6 depletion steps and the initial state."
   ]
  },
  {
   "cell_type": "code",
   "execution_count": null,
   "metadata": {},
   "outputs": [],
   "source": [
    "!ls *.h5"
   ]
  },
  {
   "cell_type": "markdown",
   "metadata": {},
   "source": [
    "The `depletion_results.h5` file contains information that is aggregated over all time steps through depletion. This includes the multiplication factor, as well as concentrations. We can process this file using the `openmc.deplete.Results` object"
   ]
  },
  {
   "cell_type": "code",
   "execution_count": null,
   "metadata": {},
   "outputs": [],
   "source": [
    "results = openmc.deplete.Results(\"./depletion_results.h5\")"
   ]
  },
  {
   "cell_type": "code",
   "execution_count": null,
   "metadata": {},
   "outputs": [],
   "source": [
    "time, k = results.get_keff()"
   ]
  },
  {
   "cell_type": "code",
   "execution_count": null,
   "metadata": {},
   "outputs": [],
   "source": [
    "time /= (24 * 60 * 60)  # convert back to days from seconds"
   ]
  },
  {
   "cell_type": "code",
   "execution_count": null,
   "metadata": {},
   "outputs": [],
   "source": [
    "k"
   ]
  },
  {
   "cell_type": "markdown",
   "metadata": {},
   "source": [
    "The first column of `k` is the value of `k-combined` at each point in our simulation, while the second column contains the associated uncertainty. We can plot this using `matplotlib`"
   ]
  },
  {
   "cell_type": "code",
   "execution_count": null,
   "metadata": {},
   "outputs": [],
   "source": [
    "from matplotlib import pyplot"
   ]
  },
  {
   "cell_type": "code",
   "execution_count": null,
   "metadata": {},
   "outputs": [],
   "source": [
    "pyplot.errorbar(time, k[:, 0], yerr=k[:, 1])\n",
    "pyplot.xlabel(\"Time [d]\")\n",
    "pyplot.ylabel(\"$k_{eff}\\pm \\sigma$\");"
   ]
  },
  {
   "cell_type": "markdown",
   "metadata": {},
   "source": [
    "Due to the low number of particles selected, the uncertainty on each value is rather high. However, we can still see the decline in `k` over time due to fuel consumption."
   ]
  },
  {
   "cell_type": "markdown",
   "metadata": {},
   "source": [
    "We can then examine concentrations of atoms in each of our materials. This requires knowing the material ID, which can be obtained from the `materials.xml` file."
   ]
  },
  {
   "cell_type": "code",
   "execution_count": null,
   "metadata": {},
   "outputs": [],
   "source": [
    "_, u235 = results.get_atoms(\"1\", \"U235\")\n",
    "_, xe135 = results.get_atoms(\"1\", \"Xe135\")"
   ]
  },
  {
   "cell_type": "code",
   "execution_count": null,
   "metadata": {},
   "outputs": [],
   "source": [
    "pyplot.plot(time, u235, label=\"U235\")\n",
    "pyplot.xlabel(\"Time [d]\")\n",
    "pyplot.ylabel(\"Number of atoms - U235\");"
   ]
  },
  {
   "cell_type": "code",
   "execution_count": null,
   "metadata": {},
   "outputs": [],
   "source": [
    "pyplot.plot(time, xe135, label=\"Xe135\")\n",
    "pyplot.xlabel(\"Time [d]\")\n",
    "pyplot.ylabel(\"Number of atoms - Xe135\");"
   ]
  },
  {
   "cell_type": "markdown",
   "metadata": {},
   "source": [
    "We can also examine reaction rates over time using the `Results` object."
   ]
  },
  {
   "cell_type": "code",
   "execution_count": null,
   "metadata": {},
   "outputs": [],
   "source": [
    "_, u235_fission = results.get_reaction_rate(\"1\", \"U235\", \"fission\")"
   ]
  },
  {
   "cell_type": "code",
   "execution_count": null,
   "metadata": {},
   "outputs": [],
   "source": [
    "pyplot.plot(time, u235_fission)\n",
    "pyplot.xlabel(\"Time [d]\")\n",
    "pyplot.ylabel(\"Fission reactions / s\");"
   ]
  },
  {
   "cell_type": "markdown",
   "metadata": {},
   "source": [
    "## Helpful tips\n",
    "\n",
    "Depletion is a tricky task to get correct. Use too short of a time step, and you will incur a steep cost in computational time due to excessive transport simulations. Use too long of a time step, and you may miss physics happening on shorter timescales, leading to incorrect answers. Consider the xenon plot from above. Xenon-135 is a fission product with a thermal absorption cross section on the order of millions of barns, but it has a half life of ~9 hours. Taking smaller time steps at the beginning of your simulation to build up some equilibrium in your fission products is highly recommended.\n",
    "\n",
    "When possible, differentiate materials that reappear in multiple places. If we had built an entire core with the single `fuel` material, every pin would be depleted using the same averaged spectrum and reaction rates, which is incorrect. Pins experiencing different flux will deplete at different rates. The `Operator` can differentiate these materials using the `diff_burnable_mats` argument, but note that the volumes will be copied from the original material.\n",
    "\n",
    "Using higher-order integrators, like the `CECMIntegrator`, `EPCRK4Integrator` with a fourth order Runge-Kutta, or the `LEQIIntegrator`, can improve the accuracy of a simulation, or at least allow you to take longer depletion steps between transport simulations with similar accuracy.\n",
    "\n",
    "Fuel pins with integrated burnable absorbers, like gadolinia, experience strong flux gradients until the absorbers are mostly burned away. This means that the spectrum and magnitude of the flux at the edge of the fuel pin can be vastly different than that in the interior. The helper `pin` function can be used to subdivide regions into equal volume segments, as follows."
   ]
  },
  {
   "cell_type": "code",
   "execution_count": 19,
   "metadata": {},
   "outputs": [],
   "source": [
    "div_surfs_1 = [openmc.ZCylinder(r=1)]\n",
    "div_1 = openmc.model.pin(div_surfs_1, [fuel, water], subdivisions={0: 10})"
   ]
  },
  {
   "cell_type": "code",
   "execution_count": null,
   "metadata": {},
   "outputs": [],
   "source": [
    "div_1.plot(width=(2.0, 2.0))"
   ]
  },
  {
   "cell_type": "markdown",
   "metadata": {},
   "source": [
    "The innermost region has been divided into 10 equal volume regions. We can pass additional arguments to divide multiple regions, except for the region outside the last cylinder."
   ]
  },
  {
   "cell_type": "markdown",
   "metadata": {},
   "source": [
    "## Register depletion chain\n",
    "\n",
    "The depletion chain we created can be registered into the OpenMC `cross_sections.xml` file, so we don't have to always pass the `chain_file` argument to the `Operator`. To do this, we create a `DataLibrary` using `openmc.data`. Without any arguments, the `from_xml` method will look for the file located at `OPENMC_CROSS_SECTIONS`. For this example, we will just create a bare library."
   ]
  },
  {
   "cell_type": "code",
   "execution_count": 20,
   "metadata": {},
   "outputs": [],
   "source": [
    "data_lib = openmc.data.DataLibrary()"
   ]
  },
  {
   "cell_type": "code",
   "execution_count": 26,
   "metadata": {},
   "outputs": [],
   "source": [
    "data_lib.register_file(\"./chain_simple.xml\")"
   ]
  },
  {
   "cell_type": "code",
   "execution_count": 27,
   "metadata": {},
   "outputs": [],
   "source": [
    "data_lib.export_to_xml()"
   ]
  },
  {
   "cell_type": "code",
   "execution_count": 23,
   "metadata": {},
   "outputs": [
    {
     "name": "stdout",
     "output_type": "stream",
     "text": [
      "<?xml version='1.0' encoding='UTF-8'?>\n",
      "<cross_sections>\n",
      "  <depletion_chain path=\"chain_simple.xml\" type=\"depletion_chain\"/>\n",
      "</cross_sections>\n"
     ]
    }
   ],
   "source": [
    "!cat cross_sections.xml"
   ]
  },
  {
   "cell_type": "markdown",
   "metadata": {},
   "source": [
    "This allows us to make an `Operator` simply with the geometry and settings arguments, provided we exported our library to `OPENMC_CROSS_SECTIONS`. For a problem where we built and registered a `Chain` using all the available nuclear data, we might see something like the following."
   ]
  },
  {
   "cell_type": "code",
   "execution_count": 29,
   "metadata": {},
   "outputs": [
    {
     "ename": "OSError",
     "evalue": "Error reading file './chain_simple.xml': failed to load external entity \"./chain_simple.xml\"",
     "output_type": "error",
     "traceback": [
      "\u001b[0;31m---------------------------------------------------------------------------\u001b[0m",
      "\u001b[0;31mOSError\u001b[0m                                   Traceback (most recent call last)",
      "Cell \u001b[0;32mIn[29], line 2\u001b[0m\n\u001b[1;32m      1\u001b[0m model \u001b[38;5;241m=\u001b[39m openmc\u001b[38;5;241m.\u001b[39mModel(geometry\u001b[38;5;241m=\u001b[39mgeometry, settings\u001b[38;5;241m=\u001b[39msettings)\n\u001b[0;32m----> 2\u001b[0m new_op \u001b[38;5;241m=\u001b[39m \u001b[43mopenmc\u001b[49m\u001b[38;5;241;43m.\u001b[39;49m\u001b[43mdeplete\u001b[49m\u001b[38;5;241;43m.\u001b[39;49m\u001b[43mCoupledOperator\u001b[49m\u001b[43m(\u001b[49m\u001b[43mmodel\u001b[49m\u001b[43m,\u001b[49m\u001b[43m \u001b[49m\u001b[38;5;124;43m\"\u001b[39;49m\u001b[38;5;124;43m./chain_simple.xml\u001b[39;49m\u001b[38;5;124;43m\"\u001b[39;49m\u001b[43m)\u001b[49m\n",
      "File \u001b[0;32m~/miniconda3/envs/openmc-env/lib/python3.12/site-packages/openmc/deplete/coupled_operator.py:266\u001b[0m, in \u001b[0;36mCoupledOperator.__init__\u001b[0;34m(self, model, chain_file, prev_results, diff_burnable_mats, diff_volume_method, normalization_mode, fission_q, fission_yield_mode, fission_yield_opts, reaction_rate_mode, reaction_rate_opts, reduce_chain, reduce_chain_level)\u001b[0m\n\u001b[1;32m    257\u001b[0m     fission_yield_opts \u001b[38;5;241m=\u001b[39m {}\n\u001b[1;32m    258\u001b[0m helper_kwargs \u001b[38;5;241m=\u001b[39m {\n\u001b[1;32m    259\u001b[0m     \u001b[38;5;124m'\u001b[39m\u001b[38;5;124mreaction_rate_mode\u001b[39m\u001b[38;5;124m'\u001b[39m: reaction_rate_mode,\n\u001b[1;32m    260\u001b[0m     \u001b[38;5;124m'\u001b[39m\u001b[38;5;124mnormalization_mode\u001b[39m\u001b[38;5;124m'\u001b[39m: normalization_mode,\n\u001b[0;32m   (...)\u001b[0m\n\u001b[1;32m    263\u001b[0m     \u001b[38;5;124m'\u001b[39m\u001b[38;5;124mfission_yield_opts\u001b[39m\u001b[38;5;124m'\u001b[39m: fission_yield_opts\n\u001b[1;32m    264\u001b[0m }\n\u001b[0;32m--> 266\u001b[0m \u001b[38;5;28;43msuper\u001b[39;49m\u001b[43m(\u001b[49m\u001b[43m)\u001b[49m\u001b[38;5;241;43m.\u001b[39;49m\u001b[38;5;21;43m__init__\u001b[39;49m\u001b[43m(\u001b[49m\n\u001b[1;32m    267\u001b[0m \u001b[43m    \u001b[49m\u001b[43mmaterials\u001b[49m\u001b[38;5;241;43m=\u001b[39;49m\u001b[43mmodel\u001b[49m\u001b[38;5;241;43m.\u001b[39;49m\u001b[43mmaterials\u001b[49m\u001b[43m,\u001b[49m\n\u001b[1;32m    268\u001b[0m \u001b[43m    \u001b[49m\u001b[43mcross_sections\u001b[49m\u001b[38;5;241;43m=\u001b[39;49m\u001b[43mcross_sections\u001b[49m\u001b[43m,\u001b[49m\n\u001b[1;32m    269\u001b[0m \u001b[43m    \u001b[49m\u001b[43mchain_file\u001b[49m\u001b[38;5;241;43m=\u001b[39;49m\u001b[43mchain_file\u001b[49m\u001b[43m,\u001b[49m\n\u001b[1;32m    270\u001b[0m \u001b[43m    \u001b[49m\u001b[43mprev_results\u001b[49m\u001b[38;5;241;43m=\u001b[39;49m\u001b[43mprev_results\u001b[49m\u001b[43m,\u001b[49m\n\u001b[1;32m    271\u001b[0m \u001b[43m    \u001b[49m\u001b[43mdiff_burnable_mats\u001b[49m\u001b[38;5;241;43m=\u001b[39;49m\u001b[43mdiff_burnable_mats\u001b[49m\u001b[43m,\u001b[49m\n\u001b[1;32m    272\u001b[0m \u001b[43m    \u001b[49m\u001b[43mdiff_volume_method\u001b[49m\u001b[38;5;241;43m=\u001b[39;49m\u001b[43mdiff_volume_method\u001b[49m\u001b[43m,\u001b[49m\n\u001b[1;32m    273\u001b[0m \u001b[43m    \u001b[49m\u001b[43mfission_q\u001b[49m\u001b[38;5;241;43m=\u001b[39;49m\u001b[43mfission_q\u001b[49m\u001b[43m,\u001b[49m\n\u001b[1;32m    274\u001b[0m \u001b[43m    \u001b[49m\u001b[43mhelper_kwargs\u001b[49m\u001b[38;5;241;43m=\u001b[39;49m\u001b[43mhelper_kwargs\u001b[49m\u001b[43m,\u001b[49m\n\u001b[1;32m    275\u001b[0m \u001b[43m    \u001b[49m\u001b[43mreduce_chain\u001b[49m\u001b[38;5;241;43m=\u001b[39;49m\u001b[43mreduce_chain\u001b[49m\u001b[43m,\u001b[49m\n\u001b[1;32m    276\u001b[0m \u001b[43m    \u001b[49m\u001b[43mreduce_chain_level\u001b[49m\u001b[38;5;241;43m=\u001b[39;49m\u001b[43mreduce_chain_level\u001b[49m\u001b[43m)\u001b[49m\n",
      "File \u001b[0;32m~/miniconda3/envs/openmc-env/lib/python3.12/site-packages/openmc/deplete/openmc_operator.py:123\u001b[0m, in \u001b[0;36mOpenMCOperator.__init__\u001b[0;34m(self, materials, cross_sections, chain_file, prev_results, diff_burnable_mats, diff_volume_method, fission_q, helper_kwargs, reduce_chain, reduce_chain_level)\u001b[0m\n\u001b[1;32m    117\u001b[0m     \u001b[38;5;28;01mif\u001b[39;00m chain_file \u001b[38;5;129;01mis\u001b[39;00m \u001b[38;5;28;01mNone\u001b[39;00m:\n\u001b[1;32m    118\u001b[0m         \u001b[38;5;28;01mraise\u001b[39;00m DataError(\n\u001b[1;32m    119\u001b[0m             \u001b[38;5;124m\"\u001b[39m\u001b[38;5;124mNo depletion chain specified and could not find depletion \u001b[39m\u001b[38;5;124m\"\u001b[39m\n\u001b[1;32m    120\u001b[0m             \u001b[38;5;124m\"\u001b[39m\u001b[38;5;124mchain in openmc.config[\u001b[39m\u001b[38;5;124m'\u001b[39m\u001b[38;5;124mchain_file\u001b[39m\u001b[38;5;124m'\u001b[39m\u001b[38;5;124m]\u001b[39m\u001b[38;5;124m\"\u001b[39m\n\u001b[1;32m    121\u001b[0m         )\n\u001b[0;32m--> 123\u001b[0m \u001b[38;5;28;43msuper\u001b[39;49m\u001b[43m(\u001b[49m\u001b[43m)\u001b[49m\u001b[38;5;241;43m.\u001b[39;49m\u001b[38;5;21;43m__init__\u001b[39;49m\u001b[43m(\u001b[49m\u001b[43mchain_file\u001b[49m\u001b[43m,\u001b[49m\u001b[43m \u001b[49m\u001b[43mfission_q\u001b[49m\u001b[43m,\u001b[49m\u001b[43m \u001b[49m\u001b[43mprev_results\u001b[49m\u001b[43m)\u001b[49m\n\u001b[1;32m    124\u001b[0m \u001b[38;5;28mself\u001b[39m\u001b[38;5;241m.\u001b[39mround_number \u001b[38;5;241m=\u001b[39m \u001b[38;5;28;01mFalse\u001b[39;00m\n\u001b[1;32m    125\u001b[0m \u001b[38;5;28mself\u001b[39m\u001b[38;5;241m.\u001b[39mmaterials \u001b[38;5;241m=\u001b[39m materials\n",
      "File \u001b[0;32m~/miniconda3/envs/openmc-env/lib/python3.12/site-packages/openmc/deplete/abc.py:114\u001b[0m, in \u001b[0;36mTransportOperator.__init__\u001b[0;34m(self, chain_file, fission_q, prev_results)\u001b[0m\n\u001b[1;32m    111\u001b[0m \u001b[38;5;28mself\u001b[39m\u001b[38;5;241m.\u001b[39moutput_dir \u001b[38;5;241m=\u001b[39m \u001b[38;5;124m'\u001b[39m\u001b[38;5;124m.\u001b[39m\u001b[38;5;124m'\u001b[39m\n\u001b[1;32m    113\u001b[0m \u001b[38;5;66;03m# Read depletion chain\u001b[39;00m\n\u001b[0;32m--> 114\u001b[0m \u001b[38;5;28mself\u001b[39m\u001b[38;5;241m.\u001b[39mchain \u001b[38;5;241m=\u001b[39m \u001b[43mChain\u001b[49m\u001b[38;5;241;43m.\u001b[39;49m\u001b[43mfrom_xml\u001b[49m\u001b[43m(\u001b[49m\u001b[43mchain_file\u001b[49m\u001b[43m,\u001b[49m\u001b[43m \u001b[49m\u001b[43mfission_q\u001b[49m\u001b[43m)\u001b[49m\n\u001b[1;32m    115\u001b[0m \u001b[38;5;28;01mif\u001b[39;00m prev_results \u001b[38;5;129;01mis\u001b[39;00m \u001b[38;5;28;01mNone\u001b[39;00m:\n\u001b[1;32m    116\u001b[0m     \u001b[38;5;28mself\u001b[39m\u001b[38;5;241m.\u001b[39mprev_res \u001b[38;5;241m=\u001b[39m \u001b[38;5;28;01mNone\u001b[39;00m\n",
      "File \u001b[0;32m~/miniconda3/envs/openmc-env/lib/python3.12/site-packages/openmc/deplete/chain.py:535\u001b[0m, in \u001b[0;36mChain.from_xml\u001b[0;34m(cls, filename, fission_q)\u001b[0m\n\u001b[1;32m    532\u001b[0m     fission_q \u001b[38;5;241m=\u001b[39m {}\n\u001b[1;32m    534\u001b[0m \u001b[38;5;66;03m# Load XML tree\u001b[39;00m\n\u001b[0;32m--> 535\u001b[0m root \u001b[38;5;241m=\u001b[39m \u001b[43mET\u001b[49m\u001b[38;5;241;43m.\u001b[39;49m\u001b[43mparse\u001b[49m\u001b[43m(\u001b[49m\u001b[38;5;28;43mstr\u001b[39;49m\u001b[43m(\u001b[49m\u001b[43mfilename\u001b[49m\u001b[43m)\u001b[49m\u001b[43m)\u001b[49m\n\u001b[1;32m    537\u001b[0m \u001b[38;5;28;01mfor\u001b[39;00m i, nuclide_elem \u001b[38;5;129;01min\u001b[39;00m \u001b[38;5;28menumerate\u001b[39m(root\u001b[38;5;241m.\u001b[39mfindall(\u001b[38;5;124m'\u001b[39m\u001b[38;5;124mnuclide\u001b[39m\u001b[38;5;124m'\u001b[39m)):\n\u001b[1;32m    538\u001b[0m     this_q \u001b[38;5;241m=\u001b[39m fission_q\u001b[38;5;241m.\u001b[39mget(nuclide_elem\u001b[38;5;241m.\u001b[39mget(\u001b[38;5;124m\"\u001b[39m\u001b[38;5;124mname\u001b[39m\u001b[38;5;124m\"\u001b[39m))\n",
      "File \u001b[0;32msrc/lxml/etree.pyx:3570\u001b[0m, in \u001b[0;36mlxml.etree.parse\u001b[0;34m()\u001b[0m\n",
      "File \u001b[0;32msrc/lxml/parser.pxi:1952\u001b[0m, in \u001b[0;36mlxml.etree._parseDocument\u001b[0;34m()\u001b[0m\n",
      "File \u001b[0;32msrc/lxml/parser.pxi:1978\u001b[0m, in \u001b[0;36mlxml.etree._parseDocumentFromURL\u001b[0;34m()\u001b[0m\n",
      "File \u001b[0;32msrc/lxml/parser.pxi:1881\u001b[0m, in \u001b[0;36mlxml.etree._parseDocFromFile\u001b[0;34m()\u001b[0m\n",
      "File \u001b[0;32msrc/lxml/parser.pxi:1200\u001b[0m, in \u001b[0;36mlxml.etree._BaseParser._parseDocFromFile\u001b[0;34m()\u001b[0m\n",
      "File \u001b[0;32msrc/lxml/parser.pxi:633\u001b[0m, in \u001b[0;36mlxml.etree._ParserContext._handleParseResultDoc\u001b[0;34m()\u001b[0m\n",
      "File \u001b[0;32msrc/lxml/parser.pxi:743\u001b[0m, in \u001b[0;36mlxml.etree._handleParseResult\u001b[0;34m()\u001b[0m\n",
      "File \u001b[0;32msrc/lxml/parser.pxi:670\u001b[0m, in \u001b[0;36mlxml.etree._raiseParseError\u001b[0;34m()\u001b[0m\n",
      "\u001b[0;31mOSError\u001b[0m: Error reading file './chain_simple.xml': failed to load external entity \"./chain_simple.xml\""
     ]
    }
   ],
   "source": [
    "model = openmc.Model(geometry=geometry, settings=settings)\n",
    "new_op = openmc.deplete.CoupledOperator(model, \"./chain_simple.xml\")"
   ]
  },
  {
   "cell_type": "code",
   "execution_count": null,
   "metadata": {},
   "outputs": [],
   "source": [
    "len(new_op.chain.nuclide_dict)"
   ]
  },
  {
   "cell_type": "code",
   "execution_count": null,
   "metadata": {},
   "outputs": [],
   "source": [
    "[nuc.name for nuc in new_op.chain.nuclides[:10]]"
   ]
  },
  {
   "cell_type": "code",
   "execution_count": null,
   "metadata": {},
   "outputs": [],
   "source": [
    "[nuc.name for nuc in new_op.chain.nuclides[-10:]]"
   ]
  },
  {
   "cell_type": "markdown",
   "metadata": {},
   "source": [
    "## Choice of depletion step size\n",
    "\n",
    "A general rule of thumb is to use depletion step sizes around 2 MWd/kgHM, where kgHM is really the initial heavy metal mass in kg. If your problem includes integral burnable absorbers, these typically require shorter time steps at or below 1 MWd/kgHM. These are typically valid for the predictor scheme, as the point of recent schemes is to extend this step size. A good convergence study, where the step size is decreased until some convergence metric is satisfied, is a beneficial exercise.\n",
    "\n",
    "We can use the `Operator` to determine our maximum step size using this recommendation. The `heavy_metal` attribute returns the mass of initial heavy metal in g, which, using our power, can be used to compute this step size. $$\\frac{2\\,MWd}{kgHM} = \\frac{P\\times\\Delta}{hm_{op}}$$"
   ]
  },
  {
   "cell_type": "code",
   "execution_count": null,
   "metadata": {},
   "outputs": [],
   "source": [
    "operator.heavy_metal"
   ]
  },
  {
   "cell_type": "code",
   "execution_count": null,
   "metadata": {},
   "outputs": [],
   "source": [
    "max_step = 2 * operator.heavy_metal / power * 1E3"
   ]
  },
  {
   "cell_type": "code",
   "execution_count": null,
   "metadata": {},
   "outputs": [],
   "source": [
    "print(\"\\\"Maximum\\\" depletion step: {:5.3} [d]\".format(max_step))"
   ]
  },
  {
   "cell_type": "markdown",
   "metadata": {},
   "source": [
    "Alternatively, if we were provided the power density of our problem, we can provide this directly with `openmc.deplete.PredictorIntegrator(operator, time_steps, power_density=pdens)`. The values of `power` and `power_density` do not have to be scalars. For problems with variable power, we can provide an iterable with the same number of elements as `time_steps`."
   ]
  }
 ],
 "metadata": {
  "kernelspec": {
   "display_name": "Python 3 (ipykernel)",
   "language": "python",
   "name": "python3"
  },
  "language_info": {
   "codemirror_mode": {
    "name": "ipython",
    "version": 3
   },
   "file_extension": ".py",
   "mimetype": "text/x-python",
   "name": "python",
   "nbconvert_exporter": "python",
   "pygments_lexer": "ipython3",
   "version": "3.12.3"
  }
 },
 "nbformat": 4,
 "nbformat_minor": 4
}
