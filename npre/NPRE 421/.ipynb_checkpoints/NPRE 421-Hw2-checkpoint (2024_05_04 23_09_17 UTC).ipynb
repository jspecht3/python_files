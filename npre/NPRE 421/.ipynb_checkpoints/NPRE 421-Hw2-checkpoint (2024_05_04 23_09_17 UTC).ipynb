{
 "cells": [
  {
   "cell_type": "code",
   "execution_count": 100,
   "id": "e09d30e5",
   "metadata": {},
   "outputs": [],
   "source": [
    "from sympy import *\n",
    "import matplotlib.pyplot as plt\n",
    "import numpy as np"
   ]
  },
  {
   "cell_type": "code",
   "execution_count": 34,
   "id": "d39d19ef",
   "metadata": {},
   "outputs": [],
   "source": [
    "A, Omega, dt, q, B, m, C, E, v_old_x, v_old_y, v_old_z = S('A, Omega, dt, q, B, m, C, E, v_old_x, v_old_y, v_old_z')\n",
    "v_old = Matrix([v_old_x, v_old_y, v_old_z])\n",
    "\n",
    "m = 9.11e-31 #kg\n",
    "q = -1.6e-19 #C\n",
    "\n",
    "B = Matrix([0,0,1])\n",
    "E = Matrix([1,0,0])\n",
    "\n",
    "v_old1 = Matrix([0,0,0])\n",
    "v_old2 = Matrix([1,1,1])\n",
    "\n",
    "Omega = q * B\n",
    "A = Omega * dt / 2\n",
    "C = v_old + dt*(q*E/m + v_old.cross(Omega/2))\n",
    "\n",
    "v_new = (C + A*(A.dot(C)) - A.cross(C)) / (1 + A.dot(A))"
   ]
  },
  {
   "cell_type": "code",
   "execution_count": 23,
   "id": "6ff45d81",
   "metadata": {},
   "outputs": [
    {
     "data": {
      "text/latex": [
       "$\\displaystyle \\left[\\begin{matrix}\\frac{- 8.0 \\cdot 10^{-20} dt v_{old y} - 175631174533.48 dt + v_{old x}}{6.4 \\cdot 10^{-39} dt^{2} + 1}\\\\\\frac{8.0 \\cdot 10^{-20} dt \\left(- 175631174533.48 dt + v_{old x}\\right) + v_{old y}}{6.4 \\cdot 10^{-39} dt^{2} + 1}\\\\\\frac{6.4 \\cdot 10^{-39} dt^{2} v_{old z} + v_{old z}}{6.4 \\cdot 10^{-39} dt^{2} + 1}\\end{matrix}\\right]$"
      ],
      "text/plain": [
       "Matrix([\n",
       "[  (-8.0e-20*dt*v_old_y - 175631174533.48*dt + v_old_x)/(6.4e-39*dt**2 + 1)],\n",
       "[(8.0e-20*dt*(-175631174533.48*dt + v_old_x) + v_old_y)/(6.4e-39*dt**2 + 1)],\n",
       "[                     (6.4e-39*dt**2*v_old_z + v_old_z)/(6.4e-39*dt**2 + 1)]])"
      ]
     },
     "execution_count": 23,
     "metadata": {},
     "output_type": "execute_result"
    }
   ],
   "source": [
    "v_new"
   ]
  },
  {
   "cell_type": "code",
   "execution_count": 4,
   "id": "17a11ded",
   "metadata": {
    "scrolled": false
   },
   "outputs": [
    {
     "data": {
      "text/plain": [
       "((2, 3), (1, 3))"
      ]
     },
     "execution_count": 4,
     "metadata": {},
     "output_type": "execute_result"
    }
   ],
   "source": [
    "y1 = Matrix([[1,2,3], [4,5,6]])\n",
    "shape(y1), shape(Matrix([1,2,3]).T)"
   ]
  },
  {
   "cell_type": "code",
   "execution_count": 5,
   "id": "9ec1ec13",
   "metadata": {},
   "outputs": [
    {
     "data": {
      "text/latex": [
       "$\\displaystyle \\left[\\begin{matrix}1 & 2 & 3\\\\4 & 5 & 6\\\\7 & 8 & 9\\end{matrix}\\right]$"
      ],
      "text/plain": [
       "Matrix([\n",
       "[1, 2, 3],\n",
       "[4, 5, 6],\n",
       "[7, 8, 9]])"
      ]
     },
     "execution_count": 5,
     "metadata": {},
     "output_type": "execute_result"
    }
   ],
   "source": [
    "z1 = y1.row_insert(2, Matrix([7,8,9]).T)\n",
    "z1"
   ]
  },
  {
   "cell_type": "code",
   "execution_count": 6,
   "id": "3889947c",
   "metadata": {},
   "outputs": [
    {
     "data": {
      "text/latex": [
       "$\\displaystyle \\left[\\begin{matrix}1 & 2 & 3\\end{matrix}\\right]$"
      ],
      "text/plain": [
       "Matrix([[1, 2, 3]])"
      ]
     },
     "execution_count": 6,
     "metadata": {},
     "output_type": "execute_result"
    }
   ],
   "source": [
    "z1[0,:]"
   ]
  },
  {
   "cell_type": "code",
   "execution_count": 115,
   "id": "88d5f99e",
   "metadata": {
    "scrolled": true
   },
   "outputs": [
    {
     "data": {
      "text/latex": [
       "$\\displaystyle \\left[\\begin{matrix}0 & -175631174533.48 & -1229418221734.36 & -4390779363336.99 & -11416026344676.2 & -24588364434687.2 & -46717892425905.6 & -81141602634467.6 & -131723380900110.0 & -202854006586169.0\\\\0 & -1.40504939626784 \\cdot 10^{-8} & -2.66959385290889 \\cdot 10^{-7} & -1.78441273326015 \\cdot 10^{-6} & -7.4046103183315 \\cdot 10^{-6} & -2.32114160263447 \\cdot 10^{-5} & -6.03890230515917 \\cdot 10^{-5} & -0.000137498133918771 & -0.00028317365532382 & -0.000539243907793633\\\\0 & 0 & 0 & 0 & 0 & 0 & 0 & 0 & 0 & 0\\end{matrix}\\right]$"
      ],
      "text/plain": [
       "Matrix([\n",
       "[0,     -175631174533.48,    -1229418221734.36,    -4390779363336.99,   -11416026344676.2,    -24588364434687.2,    -46717892425905.6,     -81141602634467.6,   -131723380900110.0,    -202854006586169.0],\n",
       "[0, -1.40504939626784e-8, -2.66959385290889e-7, -1.78441273326015e-6, -7.4046103183315e-6, -2.32114160263447e-5, -6.03890230515917e-5, -0.000137498133918771, -0.00028317365532382, -0.000539243907793633],\n",
       "[0,                    0,                    0,                    0,                   0,                    0,                    0,                     0,                    0,                     0]])"
      ]
     },
     "execution_count": 115,
     "metadata": {},
     "output_type": "execute_result"
    }
   ],
   "source": [
    "x1 = Matrix([0,0,0])\n",
    "v1 = Matrix([0,0,0])\n",
    "\n",
    "for i in range(10):\n",
    "    dt1 = i\n",
    "    C1 = C.subs([(v_old_x,v1[0,i]), (v_old_y,v1[1,i]), (v_old_z,v1[2,i])])\n",
    "    \n",
    "    v_new1 = ((C1 + A*(A.dot(C1)) - A.cross(C1)) / (1 + A.dot(A))).subs(dt, dt1)\n",
    "    x_new1 = x1[:,i] + v_new1 * dt1\n",
    "    \n",
    "    v1 = v1.col_insert(i+1, v_new1)\n",
    "    x1 = x1.col_insert(i+1, x_new1)\n",
    "    \n",
    "x1.col_del(0)\n",
    "x1"
   ]
  },
  {
   "cell_type": "code",
   "execution_count": 116,
   "id": "b700b6af",
   "metadata": {},
   "outputs": [
    {
     "data": {
      "text/plain": [
       "array([-202854006586169., 9], dtype=object)"
      ]
     },
     "execution_count": 116,
     "metadata": {},
     "output_type": "execute_result"
    }
   ],
   "source": [
    "test1 = np.array(0)\n",
    "time = np.arange(10)\n",
    "\n",
    "for i in range(len(x1[0,:])):\n",
    "    test1 = np.append(x1[0,i], i)\n",
    "#plt.plot(x1[0,:])\n",
    "test1"
   ]
  }
 ],
 "metadata": {
  "kernelspec": {
   "display_name": "Python 3 (ipykernel)",
   "language": "python",
   "name": "python3"
  },
  "language_info": {
   "codemirror_mode": {
    "name": "ipython",
    "version": 3
   },
   "file_extension": ".py",
   "mimetype": "text/x-python",
   "name": "python",
   "nbconvert_exporter": "python",
   "pygments_lexer": "ipython3",
   "version": "3.9.12"
  }
 },
 "nbformat": 4,
 "nbformat_minor": 5
}
