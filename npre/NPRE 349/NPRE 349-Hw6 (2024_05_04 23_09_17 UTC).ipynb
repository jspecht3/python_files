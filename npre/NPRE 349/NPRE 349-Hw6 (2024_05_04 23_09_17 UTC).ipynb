{
 "cells": [
  {
   "cell_type": "code",
   "execution_count": 3,
   "id": "9207d389",
   "metadata": {},
   "outputs": [],
   "source": [
    "import scipy as sp\n",
    "import scipy.optimize as opt\n",
    "import numpy as np"
   ]
  },
  {
   "cell_type": "code",
   "execution_count": 60,
   "id": "e6a1e830",
   "metadata": {},
   "outputs": [
    {
     "name": "stdout",
     "output_type": "stream",
     "text": [
      "T1 [C]: 890.1844143564228\n",
      "m_dot [kg/s]: 0.052035875301880356\n",
      "Steps to Converge: 6\n"
     ]
    }
   ],
   "source": [
    "#Constants\n",
    "rho, cp, k, nu, Pr, D, L, Ts, q, Ti= 0.4354, 1099, 57.3e-3, 84.93e-6, 0.709, 20e-3, 780e-3, 1400, 16617.6, 600\n",
    "mu = nu*rho\n",
    "\n",
    "#Power Iteration\n",
    "epsilon, error, T0, step = 1e-10, 1, 1000, 0\n",
    "\n",
    "while error > epsilon:\n",
    "    m = q/cp/(T0-Ti)\n",
    "    Re = 4*m/np.pi/D/mu\n",
    "    h = k/D*0.023*(4*m/np.pi/D/mu)**(4/5)*Pr**(0.4)\n",
    "    T1 = Ts - (Ts-Ti)*np.exp(-D*np.pi*L*h/m/cp)\n",
    "    error = (T1-T0)**2/T0**2\n",
    "    T0 = T1\n",
    "    step += 1\n",
    "\n",
    "print('T1 [C]:', T1)\n",
    "print('m_dot [kg/s]:', 15.1/(T1-600))\n",
    "print('Steps to Converge:', step)"
   ]
  }
 ],
 "metadata": {
  "kernelspec": {
   "display_name": "Python 3 (ipykernel)",
   "language": "python",
   "name": "python3"
  },
  "language_info": {
   "codemirror_mode": {
    "name": "ipython",
    "version": 3
   },
   "file_extension": ".py",
   "mimetype": "text/x-python",
   "name": "python",
   "nbconvert_exporter": "python",
   "pygments_lexer": "ipython3",
   "version": "3.9.12"
  }
 },
 "nbformat": 4,
 "nbformat_minor": 5
}
