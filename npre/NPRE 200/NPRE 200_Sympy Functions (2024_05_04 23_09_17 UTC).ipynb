{
 "cells": [
  {
   "cell_type": "code",
   "execution_count": 1,
   "id": "7758d1dc",
   "metadata": {},
   "outputs": [],
   "source": [
    "#Python as Glorified and Symbolic Python\n",
    "\n",
    "from sympy import *"
   ]
  },
  {
   "cell_type": "code",
   "execution_count": 30,
   "id": "a2a8c842",
   "metadata": {},
   "outputs": [
    {
     "data": {
      "text/latex": [
       "$\\displaystyle \\frac{1}{2}$"
      ],
      "text/plain": [
       "1/2"
      ]
     },
     "execution_count": 30,
     "metadata": {},
     "output_type": "execute_result"
    }
   ],
   "source": [
    "sin(pi/6)"
   ]
  },
  {
   "cell_type": "code",
   "execution_count": 31,
   "id": "2294bf7e",
   "metadata": {},
   "outputs": [
    {
     "name": "stdout",
     "output_type": "stream",
     "text": [
      "x+y = 3\n"
     ]
    }
   ],
   "source": [
    "x = 1\n",
    "y = 2\n",
    "\n",
    "print(\"x+y =\",x + y)"
   ]
  },
  {
   "cell_type": "code",
   "execution_count": 32,
   "id": "13cb7410",
   "metadata": {},
   "outputs": [],
   "source": [
    "x,y,z,t = symbols('x y z t', real=True)"
   ]
  },
  {
   "cell_type": "code",
   "execution_count": 33,
   "id": "7a94f83f",
   "metadata": {},
   "outputs": [
    {
     "data": {
      "text/plain": [
       "[-2/3 + 5/(3*(-1/2 - sqrt(3)*I/2)*(97/2 + 3*sqrt(1101)/2)**(1/3)) - (-1/2 - sqrt(3)*I/2)*(97/2 + 3*sqrt(1101)/2)**(1/3)/3,\n",
       " -2/3 - (-1/2 + sqrt(3)*I/2)*(97/2 + 3*sqrt(1101)/2)**(1/3)/3 + 5/(3*(-1/2 + sqrt(3)*I/2)*(97/2 + 3*sqrt(1101)/2)**(1/3)),\n",
       " -(97/2 + 3*sqrt(1101)/2)**(1/3)/3 - 2/3 + 5/(3*(97/2 + 3*sqrt(1101)/2)**(1/3))]"
      ]
     },
     "execution_count": 33,
     "metadata": {},
     "output_type": "execute_result"
    }
   ],
   "source": [
    "solve(2*x**2 + 3*x + 5 + x**3,x)"
   ]
  },
  {
   "cell_type": "code",
   "execution_count": 34,
   "id": "e2acd94b",
   "metadata": {},
   "outputs": [],
   "source": [
    "f,g,h = symbols('f g h', cls=Function)"
   ]
  },
  {
   "cell_type": "code",
   "execution_count": 35,
   "id": "476d0165",
   "metadata": {},
   "outputs": [
    {
     "data": {
      "text/latex": [
       "$\\displaystyle \\left(x - 4\\right) \\left(x + 2\\right)$"
      ],
      "text/plain": [
       "(x - 4)*(x + 2)"
      ]
     },
     "execution_count": 35,
     "metadata": {},
     "output_type": "execute_result"
    }
   ],
   "source": [
    "f = x**2 - x*2 - 8\n",
    "factor(f)"
   ]
  },
  {
   "cell_type": "code",
   "execution_count": 36,
   "id": "5ab12b9e",
   "metadata": {},
   "outputs": [
    {
     "data": {
      "text/latex": [
       "$\\displaystyle x \\left(x + 1\\right) \\left(3 x - 7\\right)$"
      ],
      "text/plain": [
       "x*(x + 1)*(3*x - 7)"
      ]
     },
     "execution_count": 36,
     "metadata": {},
     "output_type": "execute_result"
    }
   ],
   "source": [
    "g = 3*x**3 - 4*x**2 - 7*x\n",
    "factor(g)"
   ]
  },
  {
   "cell_type": "code",
   "execution_count": null,
   "id": "c2f540e2",
   "metadata": {},
   "outputs": [],
   "source": [
    "# () are for calling a function\n",
    "# [] are for indexing a list or anything that can be indexed"
   ]
  },
  {
   "cell_type": "code",
   "execution_count": 37,
   "id": "3d7d4e41",
   "metadata": {},
   "outputs": [
    {
     "data": {
      "text/latex": [
       "$\\displaystyle \\sin{\\left(x + y \\right)}$"
      ],
      "text/plain": [
       "sin(x + y)"
      ]
     },
     "execution_count": 37,
     "metadata": {},
     "output_type": "execute_result"
    }
   ],
   "source": [
    "f=sin(x)*cos(y)+cos(x)*sin(y)\n",
    "simplify(f)"
   ]
  },
  {
   "cell_type": "code",
   "execution_count": 38,
   "id": "1d3d19a3",
   "metadata": {},
   "outputs": [
    {
     "data": {
      "text/latex": [
       "$\\displaystyle 2 \\sin{\\left(x \\right)} \\cos{\\left(x \\right)}$"
      ],
      "text/plain": [
       "2*sin(x)*cos(x)"
      ]
     },
     "execution_count": 38,
     "metadata": {},
     "output_type": "execute_result"
    }
   ],
   "source": [
    "expand_trig(sin(2*x))"
   ]
  },
  {
   "cell_type": "code",
   "execution_count": 39,
   "id": "f5c0e7ba",
   "metadata": {
    "scrolled": false
   },
   "outputs": [
    {
     "data": {
      "text/latex": [
       "$\\displaystyle \\cosh{\\left(x \\right)}$"
      ],
      "text/plain": [
       "cosh(x)"
      ]
     },
     "execution_count": 39,
     "metadata": {},
     "output_type": "execute_result"
    }
   ],
   "source": [
    "f = exp(x)/2 + exp(-x)/2\n",
    "simplify(f)"
   ]
  },
  {
   "cell_type": "code",
   "execution_count": 40,
   "id": "69711c49",
   "metadata": {},
   "outputs": [
    {
     "data": {
      "text/latex": [
       "$\\displaystyle \\infty$"
      ],
      "text/plain": [
       "oo"
      ]
     },
     "execution_count": 40,
     "metadata": {},
     "output_type": "execute_result"
    }
   ],
   "source": [
    "#oo is infinity\n",
    "f=oo\n",
    "f/612"
   ]
  },
  {
   "cell_type": "code",
   "execution_count": 41,
   "id": "8160eae1",
   "metadata": {},
   "outputs": [
    {
     "data": {
      "text/latex": [
       "$\\displaystyle e$"
      ],
      "text/plain": [
       "E"
      ]
     },
     "execution_count": 41,
     "metadata": {},
     "output_type": "execute_result"
    }
   ],
   "source": [
    "n = symbols('n', Integer = True)\n",
    "limit( (1+1/n)**n,n,oo)"
   ]
  },
  {
   "cell_type": "code",
   "execution_count": 42,
   "id": "41f7796c",
   "metadata": {},
   "outputs": [
    {
     "data": {
      "text/latex": [
       "$\\displaystyle 2.71828182845905$"
      ],
      "text/plain": [
       "2.71828182845905"
      ]
     },
     "execution_count": 42,
     "metadata": {},
     "output_type": "execute_result"
    }
   ],
   "source": [
    "E.n()"
   ]
  },
  {
   "cell_type": "code",
   "execution_count": 43,
   "id": "a0d61e36",
   "metadata": {
    "scrolled": true
   },
   "outputs": [
    {
     "data": {
      "text/latex": [
       "$\\displaystyle - x^{2} \\sin^{2}{\\left(x \\right)} + x^{2} \\cos^{2}{\\left(x \\right)} + 2 x \\sin{\\left(x \\right)} \\cos{\\left(x \\right)}$"
      ],
      "text/plain": [
       "-x**2*sin(x)**2 + x**2*cos(x)**2 + 2*x*sin(x)*cos(x)"
      ]
     },
     "execution_count": 43,
     "metadata": {},
     "output_type": "execute_result"
    }
   ],
   "source": [
    "diff(x**2 * sin(x) * cos(x),x)"
   ]
  },
  {
   "cell_type": "code",
   "execution_count": 44,
   "id": "756f3990",
   "metadata": {},
   "outputs": [
    {
     "ename": "TypeError",
     "evalue": "'Add' object is not callable",
     "output_type": "error",
     "traceback": [
      "\u001b[1;31m---------------------------------------------------------------------------\u001b[0m",
      "\u001b[1;31mTypeError\u001b[0m                                 Traceback (most recent call last)",
      "Input \u001b[1;32mIn [44]\u001b[0m, in \u001b[0;36m<cell line: 2>\u001b[1;34m()\u001b[0m\n\u001b[0;32m      1\u001b[0m \u001b[38;5;66;03m#Idk\u001b[39;00m\n\u001b[1;32m----> 2\u001b[0m dsolve(\u001b[43mg\u001b[49m\u001b[43m(\u001b[49m\u001b[43mx\u001b[49m\u001b[43m)\u001b[49m \u001b[38;5;241m-\u001b[39m diff(g(x),x),g(x))\n",
      "\u001b[1;31mTypeError\u001b[0m: 'Add' object is not callable"
     ]
    }
   ],
   "source": [
    "#Idk\n",
    "dsolve(g(x) - diff(g(x),x),g(x))"
   ]
  },
  {
   "cell_type": "code",
   "execution_count": 45,
   "id": "128224a7",
   "metadata": {},
   "outputs": [
    {
     "data": {
      "text/latex": [
       "$\\displaystyle 2$"
      ],
      "text/plain": [
       "2"
      ]
     },
     "execution_count": 45,
     "metadata": {},
     "output_type": "execute_result"
    }
   ],
   "source": [
    "integrate(sin(x),(x,0,pi))"
   ]
  },
  {
   "cell_type": "code",
   "execution_count": null,
   "id": "4090ee6a",
   "metadata": {},
   "outputs": [],
   "source": [
    "integrate((sin(x)*exp(x)),(x,0,1))"
   ]
  },
  {
   "cell_type": "code",
   "execution_count": 5,
   "id": "f18a503a",
   "metadata": {
    "scrolled": true
   },
   "outputs": [],
   "source": [
    "A,th = symbols('A th', real=True)"
   ]
  },
  {
   "cell_type": "code",
   "execution_count": 10,
   "id": "bd8f1eb6",
   "metadata": {},
   "outputs": [
    {
     "data": {
      "text/latex": [
       "$\\displaystyle \\frac{A th^{5}}{5} - \\frac{\\pi A th^{4}}{4} + \\frac{\\pi^{2} A th^{3}}{12} + 100 th$"
      ],
      "text/plain": [
       "A*th**5/5 - pi*A*th**4/4 + pi**2*A*th**3/12 + 100*th"
      ]
     },
     "execution_count": 10,
     "metadata": {},
     "output_type": "execute_result"
    }
   ],
   "source": [
    "integrate(A*th**2*((th-pi/2)**2)+100,th)"
   ]
  },
  {
   "cell_type": "markdown",
   "id": "41373517",
   "metadata": {},
   "source": [
    "### Lecture 9/20/22"
   ]
  },
  {
   "cell_type": "code",
   "execution_count": 108,
   "id": "ad8d18e6",
   "metadata": {},
   "outputs": [],
   "source": [
    "m = Matrix([[512,512,635],[72,8543,92643],[74,2,614]])"
   ]
  },
  {
   "cell_type": "code",
   "execution_count": 112,
   "id": "5095ef04",
   "metadata": {},
   "outputs": [
    {
     "data": {
      "text/plain": [
       "(Matrix([\n",
       " [1, 0, 0],\n",
       " [0, 1, 0],\n",
       " [0, 0, 1]]),\n",
       " (0, 1, 2))"
      ]
     },
     "execution_count": 112,
     "metadata": {},
     "output_type": "execute_result"
    }
   ],
   "source": [
    "m.rref()"
   ]
  },
  {
   "cell_type": "code",
   "execution_count": 16,
   "id": "86c59287",
   "metadata": {},
   "outputs": [],
   "source": [
    "x = Symbol('x')"
   ]
  },
  {
   "cell_type": "code",
   "execution_count": 17,
   "id": "f9827309",
   "metadata": {},
   "outputs": [],
   "source": [
    "f = x**2 + x"
   ]
  },
  {
   "cell_type": "code",
   "execution_count": 22,
   "id": "6d4119b2",
   "metadata": {},
   "outputs": [
    {
     "data": {
      "text/latex": [
       "$\\displaystyle x^{2} + x$"
      ],
      "text/plain": [
       "x**2 + x"
      ]
     },
     "execution_count": 22,
     "metadata": {},
     "output_type": "execute_result"
    }
   ],
   "source": [
    "F1 = integrate(f,x)\n",
    "F2 = diff(F1,x)"
   ]
  },
  {
   "cell_type": "code",
   "execution_count": 24,
   "id": "677653b0",
   "metadata": {},
   "outputs": [],
   "source": [
    "f1 = diff(f,x)\n",
    "f2 = integrate(f1,x)"
   ]
  },
  {
   "cell_type": "markdown",
   "id": "e635c992",
   "metadata": {},
   "source": [
    "### Vector Operations"
   ]
  },
  {
   "cell_type": "code",
   "execution_count": 80,
   "id": "9a806850",
   "metadata": {},
   "outputs": [],
   "source": [
    "u = Matrix([[4,5,6]])\n",
    "v = Matrix([7,8,9]) # ONLY ONE SET OF BRACKETS TO GET A COLUMN VECTOR\n",
    "#vector means column usually"
   ]
  },
  {
   "cell_type": "code",
   "execution_count": 72,
   "id": "5bbd331e",
   "metadata": {},
   "outputs": [
    {
     "data": {
      "text/latex": [
       "$\\displaystyle \\left[\\begin{matrix}28 & 35 & 42\\\\32 & 40 & 48\\\\36 & 45 & 54\\end{matrix}\\right]$"
      ],
      "text/plain": [
       "Matrix([\n",
       "[28, 35, 42],\n",
       "[32, 40, 48],\n",
       "[36, 45, 54]])"
      ]
     },
     "execution_count": 72,
     "metadata": {},
     "output_type": "execute_result"
    }
   ],
   "source": [
    "v @ u # @ is the matrix mult symbol"
   ]
  },
  {
   "cell_type": "code",
   "execution_count": 75,
   "id": "c8b56739",
   "metadata": {
    "scrolled": true
   },
   "outputs": [
    {
     "data": {
      "text/latex": [
       "$\\displaystyle \\left[\\begin{matrix}122\\end{matrix}\\right]$"
      ],
      "text/plain": [
       "Matrix([[122]])"
      ]
     },
     "execution_count": 75,
     "metadata": {},
     "output_type": "execute_result"
    }
   ],
   "source": [
    "u @ v # row @ column gets a scalar (dot product)"
   ]
  },
  {
   "cell_type": "code",
   "execution_count": 82,
   "id": "31379309",
   "metadata": {},
   "outputs": [
    {
     "data": {
      "text/latex": [
       "$\\displaystyle 122$"
      ],
      "text/plain": [
       "122"
      ]
     },
     "execution_count": 82,
     "metadata": {},
     "output_type": "execute_result"
    }
   ],
   "source": [
    "v.dot(u) # Dot product"
   ]
  },
  {
   "cell_type": "code",
   "execution_count": 83,
   "id": "940b57e9",
   "metadata": {
    "scrolled": true
   },
   "outputs": [
    {
     "data": {
      "text/latex": [
       "$\\displaystyle \\left[\\begin{matrix}3\\\\-6\\\\3\\end{matrix}\\right]$"
      ],
      "text/plain": [
       "Matrix([\n",
       "[ 3],\n",
       "[-6],\n",
       "[ 3]])"
      ]
     },
     "execution_count": 83,
     "metadata": {},
     "output_type": "execute_result"
    }
   ],
   "source": [
    "v.cross(u) # Cross Product"
   ]
  },
  {
   "cell_type": "markdown",
   "id": "4fa69108",
   "metadata": {},
   "source": [
    "###### In general, v @ u != u @ v, but the dot product is communative"
   ]
  },
  {
   "cell_type": "code",
   "execution_count": 90,
   "id": "615893be",
   "metadata": {},
   "outputs": [
    {
     "data": {
      "text/latex": [
       "$\\displaystyle \\left[\\begin{matrix}\\frac{4 \\sqrt{77}}{77} & \\frac{5 \\sqrt{77}}{77} & \\frac{6 \\sqrt{77}}{77}\\end{matrix}\\right]$"
      ],
      "text/plain": [
       "Matrix([[4*sqrt(77)/77, 5*sqrt(77)/77, 6*sqrt(77)/77]])"
      ]
     },
     "execution_count": 90,
     "metadata": {},
     "output_type": "execute_result"
    }
   ],
   "source": [
    "uu = u / u.norm() # Length from norm and uu is the unit vector\n",
    "uu"
   ]
  },
  {
   "cell_type": "code",
   "execution_count": 113,
   "id": "a457795b",
   "metadata": {},
   "outputs": [
    {
     "data": {
      "text/latex": [
       "$\\displaystyle \\left[\\begin{matrix}0.455842305838552 & 0.56980288229819 & 0.683763458757828\\end{matrix}\\right]$"
      ],
      "text/plain": [
       "Matrix([[0.455842305838552, 0.56980288229819, 0.683763458757828]])"
      ]
     },
     "execution_count": 113,
     "metadata": {},
     "output_type": "execute_result"
    }
   ],
   "source": [
    "uu.n() # gets the numerical values of all the vectors"
   ]
  },
  {
   "cell_type": "code",
   "execution_count": 98,
   "id": "d7ed7fb0",
   "metadata": {},
   "outputs": [
    {
     "data": {
      "text/latex": [
       "$\\displaystyle \\left[\\begin{matrix}0.45584 & 0.5698 & 0.68376\\end{matrix}\\right]$"
      ],
      "text/plain": [
       "Matrix([[0.45584, 0.5698, 0.68376]])"
      ]
     },
     "execution_count": 98,
     "metadata": {},
     "output_type": "execute_result"
    }
   ],
   "source": [
    "uu.n(5) # argument trunkates the value"
   ]
  },
  {
   "cell_type": "code",
   "execution_count": 100,
   "id": "cb35c3b4",
   "metadata": {
    "scrolled": true
   },
   "outputs": [
    {
     "data": {
      "text/latex": [
       "$\\displaystyle \\left[\\begin{matrix}4\\\\5\\\\6\\end{matrix}\\right]$"
      ],
      "text/plain": [
       "Matrix([\n",
       "[4],\n",
       "[5],\n",
       "[6]])"
      ]
     },
     "execution_count": 100,
     "metadata": {},
     "output_type": "execute_result"
    }
   ],
   "source": [
    "u.T # Transpose - flip rows and coulmns"
   ]
  },
  {
   "cell_type": "code",
   "execution_count": 118,
   "id": "938751f9",
   "metadata": {
    "scrolled": true
   },
   "outputs": [
    {
     "data": {
      "text/latex": [
       "$\\displaystyle \\left[\\begin{matrix}2 & 3 & 6 & 8\\\\-2 & 1 & 2 & 7\\\\1 & 0 & 0 & 6\\end{matrix}\\right]$"
      ],
      "text/plain": [
       "Matrix([\n",
       "[ 2, 3, 6, 8],\n",
       "[-2, 1, 2, 7],\n",
       "[ 1, 0, 0, 6]])"
      ]
     },
     "execution_count": 118,
     "metadata": {},
     "output_type": "execute_result"
    }
   ],
   "source": [
    "A = Matrix([[2,3,6,8],[-2,1,2,7],[1,0,0,6]])\n",
    "A"
   ]
  },
  {
   "cell_type": "code",
   "execution_count": 119,
   "id": "c978a0af",
   "metadata": {
    "scrolled": true
   },
   "outputs": [
    {
     "data": {
      "text/latex": [
       "$\\displaystyle \\left[\\begin{matrix}2 & -2 & 1\\\\3 & 1 & 0\\\\6 & 2 & 0\\\\8 & 7 & 6\\end{matrix}\\right]$"
      ],
      "text/plain": [
       "Matrix([\n",
       "[2, -2, 1],\n",
       "[3,  1, 0],\n",
       "[6,  2, 0],\n",
       "[8,  7, 6]])"
      ]
     },
     "execution_count": 119,
     "metadata": {},
     "output_type": "execute_result"
    }
   ],
   "source": [
    "A.T"
   ]
  },
  {
   "cell_type": "code",
   "execution_count": 122,
   "id": "fa413368",
   "metadata": {},
   "outputs": [
    {
     "data": {
      "text/latex": [
       "$\\displaystyle 6$"
      ],
      "text/plain": [
       "6"
      ]
     },
     "execution_count": 122,
     "metadata": {},
     "output_type": "execute_result"
    }
   ],
   "source": [
    "A[2,3] # 0 indexed w/ [rows,columns]"
   ]
  },
  {
   "cell_type": "code",
   "execution_count": 132,
   "id": "d11abea0",
   "metadata": {},
   "outputs": [
    {
     "data": {
      "text/latex": [
       "$\\displaystyle \\left[\\begin{matrix}2 & 3\\\\-2 & 1\\end{matrix}\\right]$"
      ],
      "text/plain": [
       "Matrix([\n",
       "[ 2, 3],\n",
       "[-2, 1]])"
      ]
     },
     "execution_count": 132,
     "metadata": {},
     "output_type": "execute_result"
    }
   ],
   "source": [
    "B = A[0:2,0:2] # Takes part of a matrix and the ends are not inclusive\n",
    "B"
   ]
  },
  {
   "cell_type": "code",
   "execution_count": 140,
   "id": "0f575397",
   "metadata": {
    "scrolled": true
   },
   "outputs": [
    {
     "data": {
      "text/latex": [
       "$\\displaystyle \\left[\\begin{matrix}\\frac{1}{8} & - \\frac{3}{8}\\\\\\frac{1}{4} & \\frac{1}{4}\\end{matrix}\\right]$"
      ],
      "text/plain": [
       "Matrix([\n",
       "[1/8, -3/8],\n",
       "[1/4,  1/4]])"
      ]
     },
     "execution_count": 140,
     "metadata": {},
     "output_type": "execute_result"
    }
   ],
   "source": [
    "B.inv()"
   ]
  },
  {
   "cell_type": "code",
   "execution_count": 141,
   "id": "7786f39b",
   "metadata": {
    "scrolled": true
   },
   "outputs": [
    {
     "data": {
      "text/plain": [
       "{3/2 - sqrt(23)*I/2: 1, 3/2 + sqrt(23)*I/2: 1}"
      ]
     },
     "execution_count": 141,
     "metadata": {},
     "output_type": "execute_result"
    }
   ],
   "source": [
    "B.eigenvals()"
   ]
  },
  {
   "cell_type": "code",
   "execution_count": 148,
   "id": "91f690bc",
   "metadata": {
    "scrolled": true
   },
   "outputs": [
    {
     "data": {
      "text/plain": [
       "[(3/2 - sqrt(23)*I/2,\n",
       "  1,\n",
       "  [Matrix([\n",
       "   [-1/4 + sqrt(23)*I/4],\n",
       "   [                  1]])]),\n",
       " (3/2 + sqrt(23)*I/2,\n",
       "  1,\n",
       "  [Matrix([\n",
       "   [-1/4 - sqrt(23)*I/4],\n",
       "   [                  1]])])]"
      ]
     },
     "execution_count": 148,
     "metadata": {},
     "output_type": "execute_result"
    }
   ],
   "source": [
    "C = B.eigenvects()\n",
    "C"
   ]
  },
  {
   "cell_type": "code",
   "execution_count": 152,
   "id": "b568f756",
   "metadata": {},
   "outputs": [
    {
     "data": {
      "text/latex": [
       "$\\displaystyle \\frac{3}{2} - \\frac{\\sqrt{23} i}{2}$"
      ],
      "text/plain": [
       "3/2 - sqrt(23)*I/2"
      ]
     },
     "execution_count": 152,
     "metadata": {},
     "output_type": "execute_result"
    }
   ],
   "source": [
    "C[0][0] # eigenvects is better to use.\n",
    "\n",
    "#[n][0] is the value\n",
    "#[n][1] is the mult\n",
    "#[n][2] is the vector"
   ]
  },
  {
   "cell_type": "code",
   "execution_count": 153,
   "id": "2a409399",
   "metadata": {
    "scrolled": true
   },
   "outputs": [
    {
     "data": {
      "text/latex": [
       "$\\displaystyle 8$"
      ],
      "text/plain": [
       "8"
      ]
     },
     "execution_count": 153,
     "metadata": {},
     "output_type": "execute_result"
    }
   ],
   "source": [
    "B.det() # determinants"
   ]
  },
  {
   "cell_type": "code",
   "execution_count": 5,
   "id": "816b5092",
   "metadata": {
    "scrolled": true
   },
   "outputs": [
    {
     "data": {
      "text/latex": [
       "$\\displaystyle \\left[\\begin{matrix}1 & 0 & 0\\\\0 & 1 & 0\\\\0 & 0 & 1\\end{matrix}\\right]$"
      ],
      "text/plain": [
       "Matrix([\n",
       "[1, 0, 0],\n",
       "[0, 1, 0],\n",
       "[0, 0, 1]])"
      ]
     },
     "execution_count": 5,
     "metadata": {},
     "output_type": "execute_result"
    }
   ],
   "source": [
    "eye(3)"
   ]
  },
  {
   "cell_type": "markdown",
   "id": "c989b3b3",
   "metadata": {},
   "source": [
    "### Programing - Only need 4(5) legos\n",
    "\n",
    "##### variables and algebric operations, \n",
    "##### loops (repeat code n times), \n",
    "##### branch (if/then), \n",
    "##### encapsulation(functions, objects),\n",
    "##### input output operations"
   ]
  },
  {
   "cell_type": "markdown",
   "id": "8271404d",
   "metadata": {},
   "source": [
    "### Basic Types\n",
    "###### Float, Integer, String, Boolean\n",
    "\n",
    "### Advanced Types\n",
    "##### Dictionaries, Lists, Touples"
   ]
  },
  {
   "cell_type": "code",
   "execution_count": 35,
   "id": "1b7ab31f",
   "metadata": {
    "scrolled": false
   },
   "outputs": [
    {
     "data": {
      "text/plain": [
       "'bob'"
      ]
     },
     "execution_count": 35,
     "metadata": {},
     "output_type": "execute_result"
    }
   ],
   "source": [
    "#List\n",
    "a = ['jim', 'bob', 'steve']\n",
    "a[1]"
   ]
  },
  {
   "cell_type": "code",
   "execution_count": 42,
   "id": "b759189f",
   "metadata": {
    "scrolled": true
   },
   "outputs": [
    {
     "data": {
      "text/plain": [
       "4.3"
      ]
     },
     "execution_count": 42,
     "metadata": {},
     "output_type": "execute_result"
    }
   ],
   "source": [
    "#Dictionary\n",
    "b = {'jim':4.1,'bob':4.2,'steve':4.3}\n",
    "b['steve']"
   ]
  },
  {
   "cell_type": "code",
   "execution_count": 50,
   "id": "563538f8",
   "metadata": {
    "scrolled": true
   },
   "outputs": [
    {
     "name": "stdout",
     "output_type": "stream",
     "text": [
      "4.1\n",
      "4.2\n",
      "4.3\n"
     ]
    }
   ],
   "source": [
    "for i in b:\n",
    "    print(b[i])"
   ]
  },
  {
   "cell_type": "code",
   "execution_count": 47,
   "id": "3ac99883",
   "metadata": {
    "scrolled": true
   },
   "outputs": [
    {
     "name": "stdout",
     "output_type": "stream",
     "text": [
      "0\n",
      "1\n",
      "2\n"
     ]
    }
   ],
   "source": [
    "for i in range(3):\n",
    "    print(i)"
   ]
  },
  {
   "cell_type": "markdown",
   "id": "9fa779bc",
   "metadata": {},
   "source": [
    "Iterable, list or range\n",
    "    range(number) - how many values you want\n",
    "    range(start,stop,step) - where you start, where you end, step size"
   ]
  },
  {
   "cell_type": "code",
   "execution_count": 127,
   "id": "ef367655",
   "metadata": {},
   "outputs": [],
   "source": [
    "#if/elif/else"
   ]
  }
 ],
 "metadata": {
  "kernelspec": {
   "display_name": "Python 3 (ipykernel)",
   "language": "python",
   "name": "python3"
  },
  "language_info": {
   "codemirror_mode": {
    "name": "ipython",
    "version": 3
   },
   "file_extension": ".py",
   "mimetype": "text/x-python",
   "name": "python",
   "nbconvert_exporter": "python",
   "pygments_lexer": "ipython3",
   "version": "3.9.12"
  }
 },
 "nbformat": 4,
 "nbformat_minor": 5
}
