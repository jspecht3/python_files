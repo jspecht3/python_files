{
 "cells": [
  {
   "cell_type": "code",
   "execution_count": 2,
   "id": "4a2555e7",
   "metadata": {},
   "outputs": [],
   "source": [
    "from sympy import *"
   ]
  },
  {
   "cell_type": "code",
   "execution_count": 3,
   "id": "43f2e583",
   "metadata": {},
   "outputs": [
    {
     "name": "stdout",
     "output_type": "stream",
     "text": [
      "n=1 0.00361016441477838*F\n",
      "n=2 -0.00301889587202642*F\n",
      "n=3 0.0130944349267146*F\n",
      "n=4 -0.000886986242011769*F\n",
      "n=5 0.000324399913827974*F\n"
     ]
    }
   ],
   "source": [
    "w, Z, m, c, k, F, n = S('w, Z, m, c, k, F, n')\n",
    "\n",
    "m = 0.6 #kg\n",
    "c = 0.5 #kg/s\n",
    "k = 200 #N/m\n",
    "\n",
    "w = (k/m)**(1/2)\n",
    "Z = c / (2*m*w)\n",
    "\n",
    "bn = 2*F*(-1)**(n+1) / (pi*n)\n",
    "G = 1/k * (((1-(2*pi*n/w)**(2))**2) + (2*Z*(2*pi*n/w))**(2))**(-1/2)\n",
    "\n",
    "x = bn * G\n",
    "\n",
    "print('n=1', x.subs(n,1).evalf())\n",
    "print('n=2', x.subs(n,2).evalf())\n",
    "print('n=3', x.subs(n,3).evalf())\n",
    "print('n=4', x.subs(n,4).evalf())\n",
    "print('n=5', x.subs(n,5).evalf())"
   ]
  },
  {
   "cell_type": "code",
   "execution_count": 5,
   "id": "38790727",
   "metadata": {},
   "outputs": [
    {
     "name": "stdout",
     "output_type": "stream",
     "text": [
      "n=1 6.28318530717959\n",
      "n=2 12.5663706143592\n",
      "n=3 18.8495559215388\n",
      "n=4 25.1327412287183\n",
      "n=5 31.4159265358979\n"
     ]
    }
   ],
   "source": [
    "print('n=1', (2*pi*1).evalf())\n",
    "print('n=2', (2*pi*2).evalf())\n",
    "print('n=3', (2*pi*3).evalf())\n",
    "print('n=4', (2*pi*4).evalf())\n",
    "print('n=5', (2*pi*5).evalf())"
   ]
  },
  {
   "cell_type": "code",
   "execution_count": null,
   "id": "e3fdbe65",
   "metadata": {},
   "outputs": [],
   "source": []
  }
 ],
 "metadata": {
  "kernelspec": {
   "display_name": "Python 3 (ipykernel)",
   "language": "python",
   "name": "python3"
  },
  "language_info": {
   "codemirror_mode": {
    "name": "ipython",
    "version": 3
   },
   "file_extension": ".py",
   "mimetype": "text/x-python",
   "name": "python",
   "nbconvert_exporter": "python",
   "pygments_lexer": "ipython3",
   "version": "3.9.12"
  }
 },
 "nbformat": 4,
 "nbformat_minor": 5
}
