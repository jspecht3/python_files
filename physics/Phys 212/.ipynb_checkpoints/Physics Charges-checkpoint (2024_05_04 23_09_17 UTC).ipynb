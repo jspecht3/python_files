{
 "cells": [
  {
   "cell_type": "code",
   "execution_count": 14,
   "id": "bee46a0c",
   "metadata": {},
   "outputs": [],
   "source": [
    "import numpy as np\n",
    "import cmath as math\n",
    "import decimal"
   ]
  },
  {
   "cell_type": "code",
   "execution_count": 67,
   "id": "04ffdc17",
   "metadata": {},
   "outputs": [
    {
     "name": "stdout",
     "output_type": "stream",
     "text": [
      "334446395537.0562\n"
     ]
    }
   ],
   "source": [
    "#Charge between particles\n",
    "\n",
    "#Divide Charge by 1,000,000 if using Microcoulobombs\n",
    "charge1 = .32185\n",
    "charge2 = 1\n",
    "distance = 9.3 / 100\n",
    "\n",
    "k = 8.9875e9 #In Coulombs not micro\n",
    "\n",
    "Force = k * charge1 * charge2 / distance**2\n",
    "\n",
    "print(Force)"
   ]
  },
  {
   "cell_type": "code",
   "execution_count": 63,
   "id": "d080852e",
   "metadata": {},
   "outputs": [
    {
     "name": "stdout",
     "output_type": "stream",
     "text": [
      "138.5 -162.5\n"
     ]
    }
   ],
   "source": [
    "#Quadratic Formula Solver THIS IS NOT WORKING\n",
    "\n",
    "a = 1\n",
    "b = 24\n",
    "c = -144\n",
    "\n",
    "plus = (-b + ((b^2 - 4*a*c)**1/2))/2*a\n",
    "minus = (-b - (b^2 - 4*a*c)**1/2)/2*a\n",
    "\n",
    "print(plus, minus)"
   ]
  },
  {
   "cell_type": "code",
   "execution_count": 68,
   "id": "8b1adbf7",
   "metadata": {},
   "outputs": [
    {
     "data": {
      "text/plain": [
       "236489314227.65073"
      ]
     },
     "execution_count": 68,
     "metadata": {},
     "output_type": "execute_result"
    }
   ],
   "source": [
    "(((334446395537.0562)**2)/2)**(1/2)"
   ]
  },
  {
   "cell_type": "code",
   "execution_count": null,
   "id": "3309bbcc",
   "metadata": {},
   "outputs": [],
   "source": []
  }
 ],
 "metadata": {
  "kernelspec": {
   "display_name": "Python 3",
   "language": "python",
   "name": "python3"
  },
  "language_info": {
   "codemirror_mode": {
    "name": "ipython",
    "version": 3
   },
   "file_extension": ".py",
   "mimetype": "text/x-python",
   "name": "python",
   "nbconvert_exporter": "python",
   "pygments_lexer": "ipython3",
   "version": "3.8.8"
  }
 },
 "nbformat": 4,
 "nbformat_minor": 5
}
