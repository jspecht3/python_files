{
 "cells": [
  {
   "cell_type": "code",
   "execution_count": 1,
   "id": "06b4c4e4-2367-42f8-b78c-25cba52371d8",
   "metadata": {},
   "outputs": [],
   "source": [
    "import numpy as np\n",
    "import numpy.linalg as la"
   ]
  },
  {
   "cell_type": "markdown",
   "id": "89aed446-4caf-4de2-a248-949b20f9bd07",
   "metadata": {
    "jp-MarkdownHeadingCollapsed": true
   },
   "source": [
    "# Question 1"
   ]
  },
  {
   "cell_type": "code",
   "execution_count": 31,
   "id": "cdd69e0e-0534-485f-85bb-c8b00ade459a",
   "metadata": {},
   "outputs": [
    {
     "data": {
      "text/plain": [
       "250.0"
      ]
     },
     "metadata": {},
     "output_type": "display_data"
    },
    {
     "data": {
      "text/plain": [
       "4.2"
      ]
     },
     "metadata": {},
     "output_type": "display_data"
    }
   ],
   "source": [
    "vin,vf = 12.6, 0.7\n",
    "r1 = 2e3\n",
    "\n",
    "# part a\n",
    "i1 = (vin - 2*vf)/r1\n",
    "\n",
    "i2 = i1\n",
    "r2a = 2*vf / i2\n",
    "\n",
    "# part b\n",
    "r2 = 1e3\n",
    "i2b = 2*vf/r2\n",
    "\n",
    "iD = 1000*(i1 - i2b)\n",
    "\n",
    "display(r2a,iD)"
   ]
  },
  {
   "cell_type": "markdown",
   "id": "c2e084a0-2adc-48cf-8b50-569413d680aa",
   "metadata": {
    "jp-MarkdownHeadingCollapsed": true
   },
   "source": [
    "# Question 2"
   ]
  },
  {
   "cell_type": "code",
   "execution_count": 38,
   "id": "0c5c5b1b-a813-4d23-a054-59d6a6241666",
   "metadata": {},
   "outputs": [
    {
     "data": {
      "text/plain": [
       "6.0"
      ]
     },
     "metadata": {},
     "output_type": "display_data"
    },
    {
     "data": {
      "text/plain": [
       "5.3"
      ]
     },
     "metadata": {},
     "output_type": "display_data"
    }
   ],
   "source": [
    "vin, vf = 30.9, 0.7\n",
    "r1,r2,r3 = 3e3,2e3,1e3\n",
    "\n",
    "vb = vf\n",
    "va = (vin/r1 + vb/r3)*(1/r1 + 1/r2 + 1/r3)**(-1)\n",
    "\n",
    "i3 = (va - vb)/r3*1000\n",
    "\n",
    "display(va,i3)"
   ]
  },
  {
   "cell_type": "markdown",
   "id": "4a745f67-5ffe-4538-a4eb-8bc2d43b8492",
   "metadata": {
    "jp-MarkdownHeadingCollapsed": true
   },
   "source": [
    "# Question 3"
   ]
  },
  {
   "cell_type": "code",
   "execution_count": 75,
   "id": "0abec691-bec4-4768-8513-9081aa50b74b",
   "metadata": {},
   "outputs": [
    {
     "data": {
      "text/plain": [
       "0.003365000000000001"
      ]
     },
     "metadata": {},
     "output_type": "display_data"
    },
    {
     "data": {
      "text/plain": [
       "0.0021500000000000004"
      ]
     },
     "metadata": {},
     "output_type": "display_data"
    }
   ],
   "source": [
    "vin,vf = 5.7, 0.7\n",
    "r1,r2 = 5e3, 2e3\n",
    "\n",
    "id2 = (vin - 2*vf)/r2\n",
    "i1 = 1/2 * id2 + vf/r1\n",
    "\n",
    "id1 = id2 + i1\n",
    "\n",
    "display(id1,id2)"
   ]
  },
  {
   "cell_type": "markdown",
   "id": "8926a838-8a46-4d3e-b4e8-d008b9c12678",
   "metadata": {
    "jp-MarkdownHeadingCollapsed": true
   },
   "source": [
    "# Question 4"
   ]
  },
  {
   "cell_type": "code",
   "execution_count": 94,
   "id": "1fbd1020-2baf-47c8-8e99-95e81ef74702",
   "metadata": {},
   "outputs": [
    {
     "data": {
      "text/plain": [
       "1.0"
      ]
     },
     "metadata": {},
     "output_type": "display_data"
    },
    {
     "data": {
      "text/plain": [
       "7.5"
      ]
     },
     "metadata": {},
     "output_type": "display_data"
    }
   ],
   "source": [
    "vf,vin = 3,18\n",
    "r1,r2,r3,r4 = 1,2,3,3\n",
    "\n",
    "# part a\n",
    "A = np.array([\n",
    "    [r1+r2,r3,0],\n",
    "    [0,r3,-r4],\n",
    "    [1,-1,-1]\n",
    "])\n",
    "B = np.array([vin,vf,1])\n",
    "\n",
    "i2,i3,il = la.inv(A)@B\n",
    "\n",
    "# part b\n",
    "C = np.array([\n",
    "    [r1+r2,r3],\n",
    "    [1,-1]\n",
    "])\n",
    "D = np.array([vin,1])\n",
    "\n",
    "glip,glop = la.inv(C)@D\n",
    "\n",
    "display(il,r3*glop)"
   ]
  },
  {
   "cell_type": "markdown",
   "id": "22a3f884-cf1c-4236-8cd2-30a479618ccb",
   "metadata": {
    "jp-MarkdownHeadingCollapsed": true
   },
   "source": [
    "# Question 9"
   ]
  },
  {
   "cell_type": "code",
   "execution_count": 138,
   "id": "c795dbcc-6b9c-47d2-bc93-2552ccf0dbf0",
   "metadata": {},
   "outputs": [
    {
     "data": {
      "text/plain": [
       "9.799985000000005"
      ]
     },
     "metadata": {},
     "output_type": "display_data"
    },
    {
     "data": {
      "text/plain": [
       "0.20001499999999517"
      ]
     },
     "metadata": {},
     "output_type": "display_data"
    }
   ],
   "source": [
    "vbe_on,vce_sat,beta = 0.7, 0.2, 60.3076\n",
    "v1 = 10\n",
    "r1,r2,r3 = 40,10,1\n",
    "\n",
    "# part a\n",
    "A = np.array([\n",
    "    [r1,r2,0,0],\n",
    "    [1,-1,-1,0],\n",
    "    [r1,0,0,0],\n",
    "    [0,0,(beta+1),-1]\n",
    "])\n",
    "B = np.array([v1,0,v1-vbe_on,0])\n",
    "\n",
    "i1,i2,ib,ie = la.inv(A) @ B\n",
    "ic = beta*ib\n",
    "\n",
    "# part b\n",
    "vce = v1 - ic*r3\n",
    "display(ic,vce)"
   ]
  },
  {
   "cell_type": "markdown",
   "id": "545ade73-d46c-4eed-82d8-2b6a240660a6",
   "metadata": {},
   "source": [
    "# Question 10"
   ]
  },
  {
   "cell_type": "code",
   "execution_count": 141,
   "id": "f571f4e7-f220-4a05-9152-170e93a792d8",
   "metadata": {},
   "outputs": [
    {
     "data": {
      "text/plain": [
       "0.048"
      ]
     },
     "execution_count": 141,
     "metadata": {},
     "output_type": "execute_result"
    }
   ],
   "source": [
    "v1 = 5\n",
    "vsat = .2\n",
    "r3 = 100\n",
    "\n",
    "(v1-vsat)/r3"
   ]
  },
  {
   "cell_type": "markdown",
   "id": "078e794a-51a5-49a1-a478-ad53bf09637e",
   "metadata": {},
   "source": [
    "# Question 12"
   ]
  },
  {
   "cell_type": "code",
   "execution_count": null,
   "id": "dc02bd00-9706-4a5d-87ca-fff51caf4815",
   "metadata": {},
   "outputs": [],
   "source": []
  }
 ],
 "metadata": {
  "kernelspec": {
   "display_name": "Python 3 (ipykernel)",
   "language": "python",
   "name": "python3"
  },
  "language_info": {
   "codemirror_mode": {
    "name": "ipython",
    "version": 3
   },
   "file_extension": ".py",
   "mimetype": "text/x-python",
   "name": "python",
   "nbconvert_exporter": "python",
   "pygments_lexer": "ipython3",
   "version": "3.12.2"
  }
 },
 "nbformat": 4,
 "nbformat_minor": 5
}
