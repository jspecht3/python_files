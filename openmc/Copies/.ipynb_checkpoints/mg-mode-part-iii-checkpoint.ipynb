{
 "cells": [
  {
   "cell_type": "markdown",
   "metadata": {},
   "source": [
    "# Multigroup Mode Part III: Advanced Feature Showcase\n",
    "This Notebook illustrates the use of the the more advanced features of OpenMC's multi-group mode and the openmc.mgxs.Library class. During this process, this notebook will illustrate the following features:\n",
    "\n",
    "   - Calculation of multi-group cross sections for a simplified BWR 8x8 assembly with isotropic and angle-dependent MGXS.\n",
    "   - Automated creation and storage of MGXS with openmc.mgxs.Library\n",
    "   - Fission rate comparison between continuous-energy and the two multi-group OpenMC cases.\n",
    "\n",
    "To avoid focusing on unimportant details, the BWR assembly in this notebook is greatly simplified. The descriptions which follow will point out some areas of simplification."
   ]
  },
  {
   "cell_type": "markdown",
   "metadata": {},
   "source": [
    "## Generate Input Files"
   ]
  },
  {
   "cell_type": "code",
   "execution_count": 1,
   "metadata": {},
   "outputs": [],
   "source": [
    "import os\n",
    "\n",
    "import matplotlib.pyplot as plt\n",
    "import numpy as np\n",
    "import openmc\n",
    "\n",
    "%matplotlib inline"
   ]
  },
  {
   "cell_type": "markdown",
   "metadata": {},
   "source": [
    "We will be running a rodded 8x8 assembly with Gadolinia fuel pins. Let's start by creating the materials that we will use later.\n",
    "\n",
    "Material Definition Simplifications:\n",
    "\n",
    "- This model will be run at room temperature so the NNDC ENDF-B/VII.1 data set can be used but the water density will be representative of a module with around 20% voiding. This water density will be non-physically used in all regions of the problem.\n",
    "- Steel is composed of more than just iron, but we will only treat it as such here."
   ]
  },
  {
   "cell_type": "code",
   "execution_count": 2,
   "metadata": {},
   "outputs": [],
   "source": [
    "# create a model to bring materials, geometry, settings, and tallies together\n",
    "model = openmc.Model()"
   ]
  },
  {
   "cell_type": "code",
   "execution_count": 3,
   "metadata": {},
   "outputs": [],
   "source": [
    "material_dict = {}\n",
    "\n",
    "# Fuel\n",
    "material_dict['Fuel'] = openmc.Material(name='Fuel')\n",
    "material_dict['Fuel'].set_density('g/cm3', 10.32)\n",
    "material_dict['Fuel'].add_element('O', 2)\n",
    "material_dict['Fuel'].add_element('U', 1, enrichment=3.)\n",
    "\n",
    "# Gadolinia bearing fuel\n",
    "material_dict['Gad'] = openmc.Material(name='Gad')\n",
    "material_dict['Gad'].set_density('g/cm3', 10.23)\n",
    "material_dict['Gad'].add_element('O', 2)\n",
    "material_dict['Gad'].add_element('U', 1, enrichment=3.)\n",
    "material_dict['Gad'].add_element('Gd', .02)\n",
    "\n",
    "# Zircaloy\n",
    "material_dict['Zirc2'] = openmc.Material(name='Zirc2')\n",
    "material_dict['Zirc2'].set_density('g/cm3', 6.55)\n",
    "material_dict['Zirc2'].add_element('Zr', 1)\n",
    "\n",
    "# Boiling Water\n",
    "material_dict['Water'] = openmc.Material(name='Water')\n",
    "material_dict['Water'].set_density('g/cm3', 0.6)\n",
    "material_dict['Water'].add_element('H', 2)\n",
    "material_dict['Water'].add_element('O', 1)\n",
    "\n",
    "# Boron Carbide for the Control Rods\n",
    "material_dict['B4C'] = openmc.Material(name='B4C')\n",
    "material_dict['B4C'].set_density('g/cm3', 0.7 * 2.52)\n",
    "material_dict['B4C'].add_element('B', 4)\n",
    "material_dict['B4C'].add_element('C', 1)\n",
    "\n",
    "# Steel \n",
    "material_dict['Steel'] = openmc.Material(name='Steel')\n",
    "material_dict['Steel'].set_density('g/cm3', 7.75)\n",
    "material_dict['Steel'].add_element('Fe', 1)"
   ]
  },
  {
   "cell_type": "markdown",
   "metadata": {},
   "source": [
    "We can now create a Materials object that can be exported to an actual XML file."
   ]
  },
  {
   "cell_type": "code",
   "execution_count": 4,
   "metadata": {},
   "outputs": [],
   "source": [
    "# Instantiate a Materials object\n",
    "model.materials = openmc.Materials(material_dict.values())"
   ]
  },
  {
   "cell_type": "markdown",
   "metadata": {},
   "source": [
    "Now let's move on to the geometry. The first step is to define some constants which will be used to set our dimensions and then we can start creating the surfaces and regions for the problem, the 8x8 lattice, the rods and the control blade.\n",
    "\n",
    "Before proceeding let's discuss some simplifications made to the problem geometry:\n",
    "- To enable the use of an equal-width mesh for running the multi-group calculations, the intra-assembly gap was increased to the same size as the pitch of the 8x8 fuel lattice\n",
    "- The can is neglected\n",
    "- The pin-in-water geometry for the control blade is ignored and instead the blade is a solid block of B4C\n",
    "- Rounded corners are ignored\n",
    "- There is no cladding for the water rod"
   ]
  },
  {
   "cell_type": "code",
   "execution_count": 5,
   "metadata": {},
   "outputs": [],
   "source": [
    "# Set constants for the problem and assembly dimensions\n",
    "fuel_rad = 0.53213\n",
    "clad_rad = 0.61341\n",
    "Np = 8\n",
    "pin_pitch = 1.6256\n",
    "length = float(Np + 2) * pin_pitch\n",
    "assembly_width = length - 2. * pin_pitch\n",
    "rod_thick = 0.47752 / 2. + 0.14224\n",
    "rod_span = 7. * pin_pitch\n",
    "\n",
    "surfaces = {}\n",
    "\n",
    "# Create boundary planes to surround the geometry\n",
    "surfaces['Global x-'] = openmc.XPlane(0., boundary_type='reflective')\n",
    "surfaces['Global x+'] = openmc.XPlane(length, boundary_type='reflective')\n",
    "surfaces['Global y-'] = openmc.YPlane(0., boundary_type='reflective')\n",
    "surfaces['Global y+'] = openmc.YPlane(length, boundary_type='reflective')\n",
    "\n",
    "# Create cylinders for the fuel and clad\n",
    "surfaces['Fuel Radius'] = openmc.ZCylinder(r=fuel_rad)\n",
    "surfaces['Clad Radius'] = openmc.ZCylinder(r=clad_rad)\n",
    "\n",
    "surfaces['Assembly x-'] = openmc.XPlane(pin_pitch)\n",
    "surfaces['Assembly x+'] = openmc.XPlane(length - pin_pitch)\n",
    "surfaces['Assembly y-'] = openmc.YPlane(pin_pitch)\n",
    "surfaces['Assembly y+'] = openmc.YPlane(length - pin_pitch)\n",
    "\n",
    "# Set surfaces for the control blades\n",
    "surfaces['Top Blade y-'] = openmc.YPlane(length - rod_thick)\n",
    "surfaces['Top Blade x-'] = openmc.XPlane(pin_pitch)\n",
    "surfaces['Top Blade x+'] = openmc.XPlane(rod_span)\n",
    "surfaces['Left Blade x+'] = openmc.XPlane(rod_thick)\n",
    "surfaces['Left Blade y-'] = openmc.YPlane(length - rod_span)\n",
    "surfaces['Left Blade y+'] = openmc.YPlane(9. * pin_pitch)"
   ]
  },
  {
   "cell_type": "markdown",
   "metadata": {},
   "source": [
    "With the surfaces defined, we can now construct regions with these surfaces before we use those to create cells"
   ]
  },
  {
   "cell_type": "code",
   "execution_count": 6,
   "metadata": {},
   "outputs": [],
   "source": [
    "# Set regions for geometry building\n",
    "regions = {}\n",
    "regions['Global'] = \\\n",
    "    (+surfaces['Global x-'] & -surfaces['Global x+'] &\n",
    "     +surfaces['Global y-'] & -surfaces['Global y+'])\n",
    "regions['Assembly'] = \\\n",
    "    (+surfaces['Assembly x-'] & -surfaces['Assembly x+'] &\n",
    "     +surfaces['Assembly y-'] & -surfaces['Assembly y+'])\n",
    "regions['Fuel'] = -surfaces['Fuel Radius']\n",
    "regions['Clad'] = +surfaces['Fuel Radius'] & -surfaces['Clad Radius']\n",
    "regions['Water'] = +surfaces['Clad Radius']\n",
    "regions['Top Blade'] = \\\n",
    "    (+surfaces['Top Blade y-'] & -surfaces['Global y+']) & \\\n",
    "    (+surfaces['Top Blade x-'] & -surfaces['Top Blade x+'])\n",
    "regions['Top Steel'] = \\\n",
    "    (+surfaces['Global x-'] & -surfaces['Top Blade x-']) & \\\n",
    "    (+surfaces['Top Blade y-'] & -surfaces['Global y+'])\n",
    "regions['Left Blade'] = \\\n",
    "    (+surfaces['Left Blade y-'] & -surfaces['Left Blade y+']) & \\\n",
    "    (+surfaces['Global x-'] & -surfaces['Left Blade x+'])\n",
    "regions['Left Steel'] = \\\n",
    "    (+surfaces['Left Blade y+'] & -surfaces['Top Blade y-']) & \\\n",
    "    (+surfaces['Global x-'] & -surfaces['Left Blade x+'])\n",
    "regions['Corner Blade'] = \\\n",
    "    regions['Left Steel'] | regions['Top Steel']\n",
    "regions['Water Fill'] = \\\n",
    "    regions['Global'] & ~regions['Assembly'] & \\\n",
    "    ~regions['Top Blade'] & ~regions['Left Blade'] &\\\n",
    "    ~regions['Corner Blade']"
   ]
  },
  {
   "cell_type": "markdown",
   "metadata": {},
   "source": [
    "We will begin building the 8x8 assembly. To do that we will have to build the cells and universe for each pin type (fuel, gadolinia-fuel, and water)."
   ]
  },
  {
   "cell_type": "code",
   "execution_count": 7,
   "metadata": {},
   "outputs": [],
   "source": [
    "universes = {}\n",
    "cells = {}\n",
    "\n",
    "for name, mat, in zip(['Fuel Pin', 'Gd Pin'],\n",
    "                      [material_dict['Fuel'], material_dict['Gad']]):\n",
    "    universes[name] = openmc.Universe(name=name)\n",
    "    cells[name] = openmc.Cell(name=name)\n",
    "    cells[name].fill = mat\n",
    "    cells[name].region = regions['Fuel']\n",
    "    universes[name].add_cell(cells[name])\n",
    "    \n",
    "    cells[name + ' Clad'] = openmc.Cell(name=name + ' Clad')\n",
    "    cells[name + ' Clad'].fill = material_dict['Zirc2']\n",
    "    cells[name + ' Clad'].region = regions['Clad']\n",
    "    universes[name].add_cell(cells[name + ' Clad'])\n",
    "    \n",
    "    cells[name + ' Water'] = openmc.Cell(name=name + ' Water')\n",
    "    cells[name + ' Water'].fill = material_dict['Water']\n",
    "    cells[name + ' Water'].region = regions['Water']\n",
    "    universes[name].add_cell(cells[name + ' Water'])\n",
    "\n",
    "universes['Hole'] = openmc.Universe(name='Hole')\n",
    "cells['Hole'] = openmc.Cell(name='Hole')\n",
    "cells['Hole'].fill = material_dict['Water']\n",
    "universes['Hole'].add_cell(cells['Hole'])"
   ]
  },
  {
   "cell_type": "markdown",
   "metadata": {},
   "source": [
    "Let's use this pin information to create our 8x8 assembly."
   ]
  },
  {
   "cell_type": "code",
   "execution_count": 8,
   "metadata": {},
   "outputs": [],
   "source": [
    "# Create fuel assembly Lattice\n",
    "universes['Assembly'] = openmc.RectLattice(name='Assembly')\n",
    "universes['Assembly'].pitch = (pin_pitch, pin_pitch)\n",
    "universes['Assembly'].lower_left = [pin_pitch, pin_pitch]\n",
    "\n",
    "f = universes['Fuel Pin']\n",
    "g = universes['Gd Pin']\n",
    "h = universes['Hole']\n",
    "\n",
    "lattices = [[f, f, f, f, f, f, f, f],\n",
    "            [f, f, f, f, f, f, f, f],\n",
    "            [f, f, f, g, f, g, f, f],\n",
    "            [f, f, g, h, h, f, g, f],\n",
    "            [f, f, f, h, h, f, f, f],\n",
    "            [f, f, g, f, f, f, g, f],\n",
    "            [f, f, f, g, f, g, f, f],\n",
    "            [f, f, f, f, f, f, f, f]]\n",
    "\n",
    "# Store the array of lattice universes\n",
    "universes['Assembly'].universes = lattices\n",
    "\n",
    "cells['Assembly'] = openmc.Cell(name='Assembly')\n",
    "cells['Assembly'].fill = universes['Assembly']\n",
    "cells['Assembly'].region = regions['Assembly']"
   ]
  },
  {
   "cell_type": "markdown",
   "metadata": {},
   "source": [
    "So far we have the rods and water within the assembly , but we still need the control blade and the water which fills the rest of the space. We will create those cells now"
   ]
  },
  {
   "cell_type": "code",
   "execution_count": 9,
   "metadata": {},
   "outputs": [],
   "source": [
    "# The top portion of the blade, poisoned with B4C\n",
    "cells['Top Blade'] = openmc.Cell(name='Top Blade')\n",
    "cells['Top Blade'].fill = material_dict['B4C']\n",
    "cells['Top Blade'].region = regions['Top Blade']\n",
    "\n",
    "# The left portion of the blade, poisoned with B4C\n",
    "cells['Left Blade'] = openmc.Cell(name='Left Blade')\n",
    "cells['Left Blade'].fill = material_dict['B4C']\n",
    "cells['Left Blade'].region = regions['Left Blade']\n",
    "\n",
    "# The top-left corner portion of the blade, with no poison\n",
    "cells['Corner Blade'] = openmc.Cell(name='Corner Blade')\n",
    "cells['Corner Blade'].fill = material_dict['Steel']\n",
    "cells['Corner Blade'].region = regions['Corner Blade']\n",
    "\n",
    "# Water surrounding all other cells and our assembly\n",
    "cells['Water Fill'] = openmc.Cell(name='Water Fill')\n",
    "cells['Water Fill'].fill = material_dict['Water']\n",
    "cells['Water Fill'].region = regions['Water Fill']"
   ]
  },
  {
   "cell_type": "markdown",
   "metadata": {},
   "source": [
    "OpenMC requires that there is a \"root\" universe. Let us create our root universe and fill it with the cells just defined."
   ]
  },
  {
   "cell_type": "code",
   "execution_count": 10,
   "metadata": {},
   "outputs": [],
   "source": [
    "# Create root Universe\n",
    "universes['Root'] = openmc.Universe(name='root universe', universe_id=0)\n",
    "universes['Root'].add_cells([cells['Assembly'], cells['Top Blade'],\n",
    "                             cells['Corner Blade'], cells['Left Blade'],\n",
    "                             cells['Water Fill']])"
   ]
  },
  {
   "cell_type": "markdown",
   "metadata": {},
   "source": [
    "What do you do after you create your model? Check it! We will use the plotting capabilities of the Python API to do this for us.\n",
    "\n",
    "When doing so, we will coloring by material with fuel being red, gadolinia-fuel as yellow, zirc cladding as a light grey, water as blue, B4C as black and steel as a darker gray."
   ]
  },
  {
   "cell_type": "code",
   "execution_count": 11,
   "metadata": {},
   "outputs": [
    {
     "data": {
      "text/plain": [
       "<Axes: xlabel='x [cm]', ylabel='y [cm]'>"
      ]
     },
     "execution_count": 11,
     "metadata": {},
     "output_type": "execute_result"
    },
    {
     "data": {
      "image/png": "[encoded data removed]",
      "text/plain": [
       "<Figure size 645.161x649.351 with 1 Axes>"
      ]
     },
     "metadata": {},
     "output_type": "display_data"
    }
   ],
   "source": [
    "universes['Root'].plot(origin=(length / 2., length / 2., 0.),\n",
    "                       pixels=(500, 500), width=(length, length),\n",
    "                       color_by='material')"
   ]
  },
  {
   "cell_type": "markdown",
   "metadata": {},
   "source": [
    "Looks pretty good to us!\n",
    "\n",
    "We now must create a geometry that is assigned a root universe and export it to XML."
   ]
  },
  {
   "cell_type": "code",
   "execution_count": 12,
   "metadata": {},
   "outputs": [],
   "source": [
    "# Create Geometry and set root universe\n",
    "model.geometry = openmc.Geometry(universes['Root'])"
   ]
  },
  {
   "cell_type": "markdown",
   "metadata": {},
   "source": [
    "With the geometry and materials finished, we now just need to define simulation parameters, including how to run the model and what we want to learn from the model (i.e., define the tallies). We will start with our simulation parameters in the next block.\n",
    "\n",
    "This will include setting the run strategy, telling OpenMC not to bother creating a `tallies.out` file, and limiting the verbosity of our output to just the header and results to not clog up our notebook with results from each batch."
   ]
  },
  {
   "cell_type": "code",
   "execution_count": 13,
   "metadata": {},
   "outputs": [],
   "source": [
    "# OpenMC simulation parameters\n",
    "batches = 1000\n",
    "inactive = 20\n",
    "particles = 1000\n",
    "\n",
    "# Instantiate a Settings object\n",
    "settings = openmc.Settings()\n",
    "settings.batches = batches\n",
    "settings.inactive = inactive\n",
    "settings.particles = particles\n",
    "settings.output = {'tallies': False}\n",
    "settings.verbosity = 4\n",
    "\n",
    "# Create an initial uniform spatial source distribution over fissionable zones\n",
    "bounds = [pin_pitch, pin_pitch, 10, length - pin_pitch, length - pin_pitch, 10]\n",
    "uniform_dist = openmc.stats.Box(bounds[:3], bounds[3:], only_fissionable=True)\n",
    "settings.source = openmc.IndependentSource(space=uniform_dist)\n",
    "\n",
    "model.settings = settings"
   ]
  },
  {
   "cell_type": "markdown",
   "metadata": {},
   "source": [
    "## Create an MGXS Library\n",
    "\n",
    "Now we are ready to generate multi-group cross sections! First, let's define a 2-group structure using the built-in EnergyGroups class."
   ]
  },
  {
   "cell_type": "code",
   "execution_count": 14,
   "metadata": {},
   "outputs": [],
   "source": [
    "# Instantiate a 2-group EnergyGroups object\n",
    "groups = openmc.mgxs.EnergyGroups(group_edges = np.array([0., 0.625, 20.0e6]))"
   ]
  },
  {
   "cell_type": "markdown",
   "metadata": {},
   "source": [
    "Next, we will instantiate an openmc.mgxs.Library for the energy groups with our the problem geometry. This library will use the default setting of isotropically-weighting the multi-group cross sections."
   ]
  },
  {
   "cell_type": "code",
   "execution_count": 15,
   "metadata": {},
   "outputs": [],
   "source": [
    "# Initialize a 2-group Isotropic MGXS Library for OpenMC\n",
    "iso_mgxs_lib = openmc.mgxs.Library(model.geometry)\n",
    "iso_mgxs_lib.energy_groups = groups"
   ]
  },
  {
   "cell_type": "markdown",
   "metadata": {},
   "source": [
    "Now, we must specify to the Library which types of cross sections to compute. OpenMC's multi-group mode can accept isotropic flux-weighted cross sections or angle-dependent cross sections, as well as supporting anisotropic scattering represented by either Legendre polynomials, histogram, or tabular angular distributions.  \n",
    "\n",
    "Just like before, we will create the following multi-group cross sections needed to run an OpenMC simulation to verify the accuracy of our cross sections: \"total\", \"absorption\", \"nu-fission\", '\"fission\", \"nu-scatter matrix\", \"multiplicity matrix\", and \"chi\".\n",
    "\"multiplicity matrix\" is needed to provide OpenMC's multi-group mode with additional information needed to accurately treat scattering multiplication (i.e., (n,xn) reactions)) explicitly."
   ]
  },
  {
   "cell_type": "code",
   "execution_count": 16,
   "metadata": {},
   "outputs": [],
   "source": [
    "# Specify multi-group cross section types to compute\n",
    "iso_mgxs_lib.mgxs_types = ['total', 'absorption', 'nu-fission', 'fission',\n",
    "                           'nu-scatter matrix', 'multiplicity matrix', 'chi']"
   ]
  },
  {
   "cell_type": "markdown",
   "metadata": {},
   "source": [
    "Now we must specify the type of domain over which we would like the `Library` to compute multi-group cross sections. The domain type corresponds to the type of tally filter to be used in the tallies created to compute multi-group cross sections. At the present time, the `Library` supports \"material\" \"cell\", \"universe\", and \"mesh\" domain types. \n",
    "\n",
    "For the sake of example we will use a mesh to gather our cross sections. This mesh will be set up so there is one mesh bin for every pin cell."
   ]
  },
  {
   "cell_type": "code",
   "execution_count": 17,
   "metadata": {},
   "outputs": [],
   "source": [
    "# Instantiate a tally Mesh\n",
    "mesh = openmc.RegularMesh()\n",
    "mesh.dimension = [10, 10]\n",
    "mesh.lower_left = [0., 0.]\n",
    "mesh.upper_right = [length, length]\n",
    "\n",
    "# Specify a \"mesh\" domain type for the cross section tally filters\n",
    "iso_mgxs_lib.domain_type = \"mesh\"\n",
    "\n",
    "# Specify the mesh over which to compute multi-group cross sections\n",
    "iso_mgxs_lib.domains = [mesh]"
   ]
  },
  {
   "cell_type": "markdown",
   "metadata": {},
   "source": [
    "Now we will set the scattering treatment that we wish to use.\n",
    "\n",
    "In the [mg-mode-part-ii](mg-mode-part-ii.html) notebook, the cross sections were generated with a typical P3 scattering expansion in mind. Now, however, we will use a more advanced technique: OpenMC will directly provide us a histogram of the change-in-angle (i.e., $\\mu$) distribution.\n",
    "\n",
    "Where as in the [mg-mode-part-ii](mg-mode-part-ii.html) notebook, all that was required was to set the `legendre_order` attribute of `mgxs_lib`, here we have only slightly more work: we have to tell the Library that we want to use a histogram distribution (as it is not the default), and then tell it the number of bins.\n",
    "\n",
    "For this problem we will use 11 bins."
   ]
  },
  {
   "cell_type": "code",
   "execution_count": 18,
   "metadata": {},
   "outputs": [],
   "source": [
    "# Set the scattering format to histogram and then define the number of bins\n",
    "\n",
    "# Avoid a warning that corrections don't make sense with histogram data\n",
    "iso_mgxs_lib.correction = None\n",
    "# Set the histogram data\n",
    "iso_mgxs_lib.scatter_format = 'histogram'\n",
    "iso_mgxs_lib.histogram_bins = 11"
   ]
  },
  {
   "cell_type": "markdown",
   "metadata": {},
   "source": [
    "Ok, we made our isotropic library with histogram-scattering!\n",
    "\n",
    "Now why don't we go ahead and create a library to do the same, but with angle-dependent MGXS. That is, we will avoid making the isotropic flux weighting approximation and instead just store a cross section for every polar and azimuthal angle pair.\n",
    "\n",
    "To do this with the Python API and OpenMC, all we have to do is set the number of polar and azimuthal bins. Here we only need to set the number of bins, the API will convert all of angular space into equal-width bins for us.\n",
    "\n",
    "Since this problem is symmetric in the z-direction, we only need to concern ourselves with the azimuthal variation here.  We will use eight angles.\n",
    "\n",
    "Ok, we will repeat all the above steps for a new library object, but will also set the number of azimuthal bins at the end."
   ]
  },
  {
   "cell_type": "code",
   "execution_count": 19,
   "metadata": {},
   "outputs": [],
   "source": [
    "# Let's repeat all of the above for an angular MGXS library so we can gather\n",
    "# that in the same continuous-energy calculation\n",
    "angle_mgxs_lib = openmc.mgxs.Library(model.geometry)\n",
    "angle_mgxs_lib.energy_groups = groups\n",
    "angle_mgxs_lib.mgxs_types = ['total', 'absorption', 'nu-fission', 'fission',\n",
    "                             'nu-scatter matrix', 'multiplicity matrix', 'chi']\n",
    "\n",
    "angle_mgxs_lib.domain_type = \"mesh\"\n",
    "angle_mgxs_lib.domains = [mesh]\n",
    "angle_mgxs_lib.correction = None\n",
    "angle_mgxs_lib.scatter_format = 'histogram'\n",
    "angle_mgxs_lib.histogram_bins = 11\n",
    "\n",
    "# Set the angular bins to 8\n",
    "angle_mgxs_lib.num_azimuthal = 8"
   ]
  },
  {
   "cell_type": "markdown",
   "metadata": {},
   "source": [
    "Now that our libraries have been setup, let's make sure they contain the types of cross sections which meet the needs of OpenMC's multi-group solver.  Note that this step is done automatically when writing the Multi-Group Library file later in the process (as part of the `mgxs_lib.write_mg_library()`), but it is a good practice to also run this before spending all the time running OpenMC to generate the cross sections."
   ]
  },
  {
   "cell_type": "code",
   "execution_count": 20,
   "metadata": {},
   "outputs": [],
   "source": [
    "# Check the libraries - if no errors are raised, then the library is satisfactory.\n",
    "iso_mgxs_lib.check_library_for_openmc_mgxs()\n",
    "angle_mgxs_lib.check_library_for_openmc_mgxs()"
   ]
  },
  {
   "cell_type": "markdown",
   "metadata": {},
   "source": [
    "Lastly, we use our two `Library` objects to construct the tallies needed to compute all of the requested multi-group cross sections in each domain.\n",
    "\n",
    "We expect a warning here telling us that the default Legendre order is not meaningful since we are using histogram scattering."
   ]
  },
  {
   "cell_type": "code",
   "execution_count": 21,
   "metadata": {},
   "outputs": [
    {
     "name": "stderr",
     "output_type": "stream",
     "text": [
      "/home/joe/miniconda3/envs/openmc-env/lib/python3.12/site-packages/openmc/mgxs/mgxs.py:4078: UserWarning: The legendre order will be ignored since the scatter format is set to histogram\n",
      "  warnings.warn(msg)\n"
     ]
    }
   ],
   "source": [
    "# Construct all tallies needed for the multi-group cross section library\n",
    "iso_mgxs_lib.build_library()\n",
    "angle_mgxs_lib.build_library()"
   ]
  },
  {
   "cell_type": "markdown",
   "metadata": {},
   "source": [
    "The tallies within the libraries can now be exported to a \"tallies.xml\" input file for OpenMC."
   ]
  },
  {
   "cell_type": "code",
   "execution_count": 22,
   "metadata": {},
   "outputs": [],
   "source": [
    "# Create a \"tallies.xml\" file for the MGXS Library\n",
    "tallies = openmc.Tallies()\n",
    "iso_mgxs_lib.add_to_tallies_file(tallies, merge=True)\n",
    "angle_mgxs_lib.add_to_tallies_file(tallies, merge=True)"
   ]
  },
  {
   "cell_type": "markdown",
   "metadata": {},
   "source": [
    "In addition, we instantiate a fission rate mesh tally for eventual comparison of results."
   ]
  },
  {
   "cell_type": "code",
   "execution_count": 23,
   "metadata": {},
   "outputs": [],
   "source": [
    "# Instantiate tally Filter\n",
    "mesh_filter = openmc.MeshFilter(mesh)\n",
    "\n",
    "# Instantiate the Tally\n",
    "tally = openmc.Tally(name='mesh tally')\n",
    "tally.filters = [mesh_filter]\n",
    "tally.scores = ['fission']\n",
    "\n",
    "# Add tally to collection\n",
    "tallies.append(tally, merge=True)\n",
    "\n",
    "model.tallies = tallies"
   ]
  },
  {
   "cell_type": "markdown",
   "metadata": {},
   "source": [
    "Time to run the calculation and get our results!"
   ]
  },
  {
   "cell_type": "code",
   "execution_count": 24,
   "metadata": {},
   "outputs": [
    {
     "name": "stderr",
     "output_type": "stream",
     "text": [
      "/home/joe/miniconda3/envs/openmc-env/lib/python3.12/site-packages/openmc/mixin.py:70: IDWarning: Another Filter instance already exists with id=1.\n",
      "  warn(msg, IDWarning)\n",
      "/home/joe/miniconda3/envs/openmc-env/lib/python3.12/site-packages/openmc/mixin.py:70: IDWarning: Another Filter instance already exists with id=2.\n",
      "  warn(msg, IDWarning)\n",
      "/home/joe/miniconda3/envs/openmc-env/lib/python3.12/site-packages/openmc/mixin.py:70: IDWarning: Another Filter instance already exists with id=11.\n",
      "  warn(msg, IDWarning)\n",
      "/home/joe/miniconda3/envs/openmc-env/lib/python3.12/site-packages/openmc/mixin.py:70: IDWarning: Another Filter instance already exists with id=21.\n",
      "  warn(msg, IDWarning)\n",
      "/home/joe/miniconda3/envs/openmc-env/lib/python3.12/site-packages/openmc/mixin.py:70: IDWarning: Another Filter instance already exists with id=22.\n",
      "  warn(msg, IDWarning)\n",
      "/home/joe/miniconda3/envs/openmc-env/lib/python3.12/site-packages/openmc/mixin.py:70: IDWarning: Another Filter instance already exists with id=12.\n",
      "  warn(msg, IDWarning)\n",
      "/home/joe/miniconda3/envs/openmc-env/lib/python3.12/site-packages/openmc/mixin.py:70: IDWarning: Another Filter instance already exists with id=18.\n",
      "  warn(msg, IDWarning)\n"
     ]
    },
    {
     "name": "stdout",
     "output_type": "stream",
     "text": [
      "[v5:121521] mca_base_component_repository_open: unable to open mca_btl_openib: librdmacm.so.1: cannot open shared object file: No such file or directory (ignored)\n",
      "                                %%%%%%%%%%%%%%%\n",
      "                           %%%%%%%%%%%%%%%%%%%%%%%%\n",
      "                        %%%%%%%%%%%%%%%%%%%%%%%%%%%%%%\n",
      "                      %%%%%%%%%%%%%%%%%%%%%%%%%%%%%%%%%%\n",
      "                    %%%%%%%%%%%%%%%%%%%%%%%%%%%%%%%%%%%%%%\n",
      "                   %%%%%%%%%%%%%%%%%%%%%%%%%%%%%%%%%%%%%%%%\n",
      "                                    %%%%%%%%%%%%%%%%%%%%%%%%\n",
      "                                     %%%%%%%%%%%%%%%%%%%%%%%%\n",
      "                 ###############      %%%%%%%%%%%%%%%%%%%%%%%%\n",
      "                ##################     %%%%%%%%%%%%%%%%%%%%%%%\n",
      "                ###################     %%%%%%%%%%%%%%%%%%%%%%%\n",
      "                ####################     %%%%%%%%%%%%%%%%%%%%%%\n",
      "                #####################     %%%%%%%%%%%%%%%%%%%%%\n",
      "                ######################     %%%%%%%%%%%%%%%%%%%%\n",
      "                #######################     %%%%%%%%%%%%%%%%%%\n",
      "                 #######################     %%%%%%%%%%%%%%%%%\n",
      "                 ######################     %%%%%%%%%%%%%%%%%\n",
      "                  ####################     %%%%%%%%%%%%%%%%%\n",
      "                    #################     %%%%%%%%%%%%%%%%%\n",
      "                     ###############     %%%%%%%%%%%%%%%%\n",
      "                       ############     %%%%%%%%%%%%%%%\n",
      "                          ########     %%%%%%%%%%%%%%\n",
      "                                      %%%%%%%%%%%\n",
      "\n",
      "                 | The OpenMC Monte Carlo Code\n",
      "       Copyright | 2011-2023 MIT, UChicago Argonne LLC, and contributors\n",
      "         License | https://docs.openmc.org/en/latest/license.html\n",
      "         Version | 0.14.0\n",
      "        Git SHA1 | e1a8ee7794b441c992426f17fafe216391cbba83\n",
      "       Date/Time | 2024-05-17 22:03:14\n",
      "   MPI Processes | 1\n",
      "  OpenMP Threads | 8\n",
      "\n",
      " WARNING: Other XML file input(s) are present. These files may be ignored in\n",
      "          favor of the ./model.xml file.\n",
      " Minimum neutron data temperature: 294 K\n",
      " Maximum neutron data temperature: 294 K\n",
      "\n",
      " ====================>     K EIGENVALUE SIMULATION     <====================\n",
      "\n",
      "\n",
      " ============================>     RESULTS     <============================\n",
      "\n",
      " k-effective (Collision)     = 0.83919 +/- 0.00099\n",
      " k-effective (Track-length)  = 0.83916 +/- 0.00109\n",
      " k-effective (Absorption)    = 0.83773 +/- 0.00103\n",
      " Combined k-effective        = 0.83851 +/- 0.00083\n",
      " Leakage Fraction            = 0.00000 +/- 0.00000\n",
      "\n"
     ]
    }
   ],
   "source": [
    "# Run OpenMC\n",
    "statepoint_filename = model.run()"
   ]
  },
  {
   "cell_type": "markdown",
   "metadata": {},
   "source": [
    "To make the files available and not be over-written when running the multi-group calculation, we will now rename the statepoint and summary files."
   ]
  },
  {
   "cell_type": "code",
   "execution_count": 25,
   "metadata": {},
   "outputs": [],
   "source": [
    "# Move the StatePoint File\n",
    "ce_spfile = './statepoint_ce.h5'\n",
    "os.rename(statepoint_filename, ce_spfile)\n",
    "# Move the Summary file\n",
    "ce_sumfile = './summary_ce.h5'\n",
    "os.rename('summary.h5', ce_sumfile)"
   ]
  },
  {
   "cell_type": "markdown",
   "metadata": {},
   "source": [
    "## Tally Data Processing\n",
    "\n",
    "Our simulation ran successfully and created statepoint and summary output files.  Let's begin by loading the StatePoint file, but not automatically linking the summary file."
   ]
  },
  {
   "cell_type": "code",
   "execution_count": 26,
   "metadata": {},
   "outputs": [],
   "source": [
    "# Load the statepoint file, but not the summary file, as it is a different filename than expected.\n",
    "sp = openmc.StatePoint(ce_spfile, autolink=False)"
   ]
  },
  {
   "cell_type": "markdown",
   "metadata": {},
   "source": [
    "In addition to the statepoint file, our simulation also created a summary file which encapsulates information about the materials and geometry. This is necessary for the `openmc.Library` to properly process the tally data. We first create a `Summary` object and link it with the statepoint.  Normally this would not need to be performed, but since we have renamed our summary file to avoid conflicts with the Multi-Group calculation's summary file, we will load this in explicitly."
   ]
  },
  {
   "cell_type": "code",
   "execution_count": 27,
   "metadata": {},
   "outputs": [],
   "source": [
    "su = openmc.Summary(ce_sumfile)\n",
    "sp.link_with_summary(su)"
   ]
  },
  {
   "cell_type": "markdown",
   "metadata": {},
   "source": [
    "The statepoint is now ready to be analyzed. To create our libraries we simply have to load the tallies from the statepoint into each `Library` and our `MGXS` objects will compute the cross sections for us under-the-hood."
   ]
  },
  {
   "cell_type": "code",
   "execution_count": 28,
   "metadata": {},
   "outputs": [],
   "source": [
    "# Initialize MGXS Library with OpenMC statepoint data\n",
    "iso_mgxs_lib.load_from_statepoint(sp)\n",
    "angle_mgxs_lib.load_from_statepoint(sp)"
   ]
  },
  {
   "cell_type": "markdown",
   "metadata": {},
   "source": [
    "The next step will be to prepare the input for OpenMC to use our newly created multi-group data."
   ]
  },
  {
   "cell_type": "markdown",
   "metadata": {},
   "source": [
    "## Isotropic Multi-Group OpenMC Calculation"
   ]
  },
  {
   "cell_type": "markdown",
   "metadata": {},
   "source": [
    "We will now use the `Library` to produce the isotropic multi-group cross section data set for use by the OpenMC multi-group solver.  \n",
    "\n",
    "If the model to be run in multi-group mode is the same as the continuous-energy mode, the `openmc.mgxs.Library` class has the ability to directly create the multi-group geometry, materials, and multi-group library for us. \n",
    "Note that this feature is only useful if the MG model is intended to replicate the CE geometry - it is not useful if the CE library is not the same geometry (like it would be for generating MGXS from a generic spectral region).\n",
    "\n",
    "This method creates and assigns the materials automatically, including creating a geometry which is equivalent to our mesh cells for which the cross sections were derived."
   ]
  },
  {
   "cell_type": "code",
   "execution_count": 29,
   "metadata": {},
   "outputs": [
    {
     "name": "stderr",
     "output_type": "stream",
     "text": [
      "/home/joe/miniconda3/envs/openmc-env/lib/python3.12/site-packages/openmc/mixin.py:70: IDWarning: Another UniverseBase instance already exists with id=0.\n",
      "  warn(msg, IDWarning)\n"
     ]
    }
   ],
   "source": [
    "# Allow the API to create our Library, materials, and geometry file\n",
    "iso_mgxs_file, materials, geometry = iso_mgxs_lib.create_mg_mode()\n",
    "\n",
    "# Tell the materials file what we want to call the multi-group library\n",
    "materials.cross_sections = 'mgxs.h5'\n",
    "\n",
    "# Write our newly-created files to disk\n",
    "iso_mgxs_file.export_to_hdf5('mgxs.h5')\n",
    "\n",
    "# update materials and geometry on the model\n",
    "model.materials = materials\n",
    "model.geometry = geometry"
   ]
  },
  {
   "cell_type": "markdown",
   "metadata": {},
   "source": [
    "Next, we can make the changes we need to the settings file.\n",
    "These changes are limited to telling OpenMC to run a multi-group calculation and provide the location of our multi-group cross section file."
   ]
  },
  {
   "cell_type": "code",
   "execution_count": 30,
   "metadata": {},
   "outputs": [],
   "source": [
    "# Set the energy mode\n",
    "model.settings.energy_mode = 'multi-group'"
   ]
  },
  {
   "cell_type": "markdown",
   "metadata": {},
   "source": [
    "Let's clear up the tallies file so it doesn't include all the extra tallies for re-generating a multi-group library"
   ]
  },
  {
   "cell_type": "code",
   "execution_count": 31,
   "metadata": {},
   "outputs": [],
   "source": [
    "# Create a \"tallies.xml\" file for the MGXS Library\n",
    "tallies = openmc.Tallies()\n",
    "\n",
    "# Add our fission rate mesh tally\n",
    "tallies.append(tally)\n",
    "\n",
    "# update tallies on the model\n",
    "model.tallies = tallies"
   ]
  },
  {
   "cell_type": "markdown",
   "metadata": {},
   "source": [
    "Before running the calculation let's look at our meshed model. It might not be interesting, but let's take a look anyways."
   ]
  },
  {
   "cell_type": "code",
   "execution_count": 32,
   "metadata": {},
   "outputs": [
    {
     "data": {
      "text/plain": [
       "<Axes: xlabel='x [cm]', ylabel='y [cm]'>"
      ]
     },
     "execution_count": 32,
     "metadata": {},
     "output_type": "execute_result"
    },
    {
     "data": {
      "image/png": "[encoded data removed]",
      "text/plain": [
       "<Figure size 387.097x389.61 with 1 Axes>"
      ]
     },
     "metadata": {},
     "output_type": "display_data"
    }
   ],
   "source": [
    "# set the mgxs environment variable for plotting, use openmc.config in the future\n",
    "os.environ['OPENMC_MG_CROSS_SECTIONS'] = os.getcwd() + '/mgxs.h5'\n",
    "model.geometry.root_universe.plot(origin=(length / 2., length / 2., 0.),\n",
    "                                  pixels=(300, 300), width=(length, length),\n",
    "                                  color_by='material')"
   ]
  },
  {
   "cell_type": "markdown",
   "metadata": {},
   "source": [
    "So, we see a 10x10 grid with a different color for every material, sounds good!\n",
    "\n",
    "At this point, the problem is set up and we can run the multi-group calculation."
   ]
  },
  {
   "cell_type": "code",
   "execution_count": 33,
   "metadata": {},
   "outputs": [
    {
     "name": "stdout",
     "output_type": "stream",
     "text": [
      "[v5:121575] mca_base_component_repository_open: unable to open mca_btl_openib: librdmacm.so.1: cannot open shared object file: No such file or directory (ignored)\n",
      "                                %%%%%%%%%%%%%%%\n",
      "                           %%%%%%%%%%%%%%%%%%%%%%%%\n",
      "                        %%%%%%%%%%%%%%%%%%%%%%%%%%%%%%\n",
      "                      %%%%%%%%%%%%%%%%%%%%%%%%%%%%%%%%%%\n",
      "                    %%%%%%%%%%%%%%%%%%%%%%%%%%%%%%%%%%%%%%\n",
      "                   %%%%%%%%%%%%%%%%%%%%%%%%%%%%%%%%%%%%%%%%\n",
      "                                    %%%%%%%%%%%%%%%%%%%%%%%%\n",
      "                                     %%%%%%%%%%%%%%%%%%%%%%%%\n",
      "                 ###############      %%%%%%%%%%%%%%%%%%%%%%%%\n",
      "                ##################     %%%%%%%%%%%%%%%%%%%%%%%\n",
      "                ###################     %%%%%%%%%%%%%%%%%%%%%%%\n",
      "                ####################     %%%%%%%%%%%%%%%%%%%%%%\n",
      "                #####################     %%%%%%%%%%%%%%%%%%%%%\n",
      "                ######################     %%%%%%%%%%%%%%%%%%%%\n",
      "                #######################     %%%%%%%%%%%%%%%%%%\n",
      "                 #######################     %%%%%%%%%%%%%%%%%\n",
      "                 ######################     %%%%%%%%%%%%%%%%%\n",
      "                  ####################     %%%%%%%%%%%%%%%%%\n",
      "                    #################     %%%%%%%%%%%%%%%%%\n",
      "                     ###############     %%%%%%%%%%%%%%%%\n",
      "                       ############     %%%%%%%%%%%%%%%\n",
      "                          ########     %%%%%%%%%%%%%%\n",
      "                                      %%%%%%%%%%%\n",
      "\n",
      "                 | The OpenMC Monte Carlo Code\n",
      "       Copyright | 2011-2023 MIT, UChicago Argonne LLC, and contributors\n",
      "         License | https://docs.openmc.org/en/latest/license.html\n",
      "         Version | 0.14.0\n",
      "        Git SHA1 | e1a8ee7794b441c992426f17fafe216391cbba83\n",
      "       Date/Time | 2024-05-17 22:03:50\n",
      "   MPI Processes | 1\n",
      "  OpenMP Threads | 8\n",
      "\n",
      " WARNING: Other XML file input(s) are present. These files may be ignored in\n",
      "          favor of the ./model.xml file.\n",
      "\n",
      " ====================>     K EIGENVALUE SIMULATION     <====================\n",
      "\n",
      "\n",
      " ============================>     RESULTS     <============================\n",
      "\n",
      " k-effective (Collision)     = 0.82485 +/- 0.00102\n",
      " k-effective (Track-length)  = 0.82487 +/- 0.00106\n",
      " k-effective (Absorption)    = 0.82573 +/- 0.00075\n",
      " Combined k-effective        = 0.82548 +/- 0.00068\n",
      " Leakage Fraction            = 0.00000 +/- 0.00000\n",
      "\n"
     ]
    }
   ],
   "source": [
    "# Execute the Isotropic MG OpenMC Run\n",
    "statepoint_filename = model.run()"
   ]
  },
  {
   "cell_type": "markdown",
   "metadata": {},
   "source": [
    "Before we go the angle-dependent case, let's save the StatePoint and Summary files so they don't get over-written"
   ]
  },
  {
   "cell_type": "code",
   "execution_count": 34,
   "metadata": {},
   "outputs": [],
   "source": [
    "# Move the StatePoint File\n",
    "iso_mg_spfile = './statepoint_mg_iso.h5'\n",
    "os.rename(statepoint_filename, iso_mg_spfile)\n",
    "# Move the Summary file\n",
    "iso_mg_sumfile = './summary_mg_iso.h5'\n",
    "os.rename('summary.h5', iso_mg_sumfile)"
   ]
  },
  {
   "cell_type": "markdown",
   "metadata": {},
   "source": [
    "## Angle-Dependent Multi-Group OpenMC Calculation\n",
    "\n",
    "Let's now run the calculation with the angle-dependent multi-group cross sections. This process will be the exact same as above, except this time we will use the angle-dependent Library as our starting point.\n",
    "\n",
    "We do not need to re-write the materials, geometry, or tallies file to disk since they are the same as for the isotropic case."
   ]
  },
  {
   "cell_type": "code",
   "execution_count": 35,
   "metadata": {},
   "outputs": [
    {
     "name": "stderr",
     "output_type": "stream",
     "text": [
      "/home/joe/miniconda3/envs/openmc-env/lib/python3.12/site-packages/openmc/mixin.py:70: IDWarning: Another UniverseBase instance already exists with id=0.\n",
      "  warn(msg, IDWarning)\n"
     ]
    }
   ],
   "source": [
    "# Let's repeat for the angle-dependent case\n",
    "angle_mgxs_lib.load_from_statepoint(sp)\n",
    "angle_mgxs_file, _, _ = angle_mgxs_lib.create_mg_mode()\n",
    "angle_mgxs_file.export_to_hdf5()"
   ]
  },
  {
   "cell_type": "markdown",
   "metadata": {},
   "source": [
    "At this point, the problem is set up and we can run the multi-group calculation."
   ]
  },
  {
   "cell_type": "code",
   "execution_count": 36,
   "metadata": {},
   "outputs": [
    {
     "name": "stdout",
     "output_type": "stream",
     "text": [
      "[v5:121599] mca_base_component_repository_open: unable to open mca_btl_openib: librdmacm.so.1: cannot open shared object file: No such file or directory (ignored)\n",
      "                                %%%%%%%%%%%%%%%\n",
      "                           %%%%%%%%%%%%%%%%%%%%%%%%\n",
      "                        %%%%%%%%%%%%%%%%%%%%%%%%%%%%%%\n",
      "                      %%%%%%%%%%%%%%%%%%%%%%%%%%%%%%%%%%\n",
      "                    %%%%%%%%%%%%%%%%%%%%%%%%%%%%%%%%%%%%%%\n",
      "                   %%%%%%%%%%%%%%%%%%%%%%%%%%%%%%%%%%%%%%%%\n",
      "                                    %%%%%%%%%%%%%%%%%%%%%%%%\n",
      "                                     %%%%%%%%%%%%%%%%%%%%%%%%\n",
      "                 ###############      %%%%%%%%%%%%%%%%%%%%%%%%\n",
      "                ##################     %%%%%%%%%%%%%%%%%%%%%%%\n",
      "                ###################     %%%%%%%%%%%%%%%%%%%%%%%\n",
      "                ####################     %%%%%%%%%%%%%%%%%%%%%%\n",
      "                #####################     %%%%%%%%%%%%%%%%%%%%%\n",
      "                ######################     %%%%%%%%%%%%%%%%%%%%\n",
      "                #######################     %%%%%%%%%%%%%%%%%%\n",
      "                 #######################     %%%%%%%%%%%%%%%%%\n",
      "                 ######################     %%%%%%%%%%%%%%%%%\n",
      "                  ####################     %%%%%%%%%%%%%%%%%\n",
      "                    #################     %%%%%%%%%%%%%%%%%\n",
      "                     ###############     %%%%%%%%%%%%%%%%\n",
      "                       ############     %%%%%%%%%%%%%%%\n",
      "                          ########     %%%%%%%%%%%%%%\n",
      "                                      %%%%%%%%%%%\n",
      "\n",
      "                 | The OpenMC Monte Carlo Code\n",
      "       Copyright | 2011-2023 MIT, UChicago Argonne LLC, and contributors\n",
      "         License | https://docs.openmc.org/en/latest/license.html\n",
      "         Version | 0.14.0\n",
      "        Git SHA1 | e1a8ee7794b441c992426f17fafe216391cbba83\n",
      "       Date/Time | 2024-05-17 22:04:01\n",
      "   MPI Processes | 1\n",
      "  OpenMP Threads | 8\n",
      "\n",
      " WARNING: Other XML file input(s) are present. These files may be ignored in\n",
      "          favor of the ./model.xml file.\n",
      "\n",
      " ====================>     K EIGENVALUE SIMULATION     <====================\n",
      "\n",
      "\n",
      " ============================>     RESULTS     <============================\n",
      "\n",
      " k-effective (Collision)     = 0.83406 +/- 0.00100\n",
      " k-effective (Track-length)  = 0.83378 +/- 0.00102\n",
      " k-effective (Absorption)    = 0.83543 +/- 0.00076\n",
      " Combined k-effective        = 0.83493 +/- 0.00068\n",
      " Leakage Fraction            = 0.00000 +/- 0.00000\n",
      "\n"
     ]
    }
   ],
   "source": [
    "# Execute the angle-dependent OpenMC Run\n",
    "statepoint_filename = model.run()"
   ]
  },
  {
   "cell_type": "markdown",
   "metadata": {},
   "source": [
    "## Results Comparison\n",
    "In this section we will compare the eigenvalues and fission rate distributions of the continuous-energy, isotropic multi-group and angle-dependent multi-group cases.\n",
    "\n",
    "We will begin by loading the multi-group statepoint files, first the isotropic, then angle-dependent. The angle-dependent was not renamed, so we can autolink its summary."
   ]
  },
  {
   "cell_type": "code",
   "execution_count": 37,
   "metadata": {},
   "outputs": [],
   "source": [
    "# Load the isotropic statepoint file\n",
    "iso_mgsp = openmc.StatePoint(iso_mg_spfile, autolink=False)\n",
    "iso_mgsum = openmc.Summary(iso_mg_sumfile)\n",
    "iso_mgsp.link_with_summary(iso_mgsum)\n",
    "\n",
    "# Load the angle-dependent statepoint file\n",
    "angle_mgsp = openmc.StatePoint(statepoint_filename)"
   ]
  },
  {
   "cell_type": "markdown",
   "metadata": {},
   "source": [
    "### Eigenvalue Comparison\n",
    "Next, we can load the eigenvalues for comparison and do that comparison"
   ]
  },
  {
   "cell_type": "code",
   "execution_count": 38,
   "metadata": {},
   "outputs": [],
   "source": [
    "ce_keff = sp.keff\n",
    "iso_mg_keff = iso_mgsp.keff\n",
    "angle_mg_keff = angle_mgsp.keff\n",
    "\n",
    "# Find eigenvalue bias\n",
    "iso_bias = 1.0e5 * (ce_keff - iso_mg_keff)\n",
    "angle_bias = 1.0e5 * (ce_keff - angle_mg_keff)"
   ]
  },
  {
   "cell_type": "markdown",
   "metadata": {},
   "source": [
    "Let's compare the eigenvalues in units of pcm"
   ]
  },
  {
   "cell_type": "code",
   "execution_count": 39,
   "metadata": {},
   "outputs": [
    {
     "name": "stdout",
     "output_type": "stream",
     "text": [
      "Isotropic to CE Bias [pcm]: 1302.8\n",
      "Angle to CE Bias [pcm]: 357.5\n"
     ]
    }
   ],
   "source": [
    "print('Isotropic to CE Bias [pcm]: {0:1.1f}'.format(iso_bias.nominal_value))\n",
    "print('Angle to CE Bias [pcm]: {0:1.1f}'.format(angle_bias.nominal_value))"
   ]
  },
  {
   "cell_type": "markdown",
   "metadata": {},
   "source": [
    "We see a large reduction in error by switching to the usage of angle-dependent multi-group cross sections! \n",
    "\n",
    "Of course, this rodded and partially voided BWR problem was chosen specifically to exacerbate the angular variation of the reaction rates (and thus cross sections). Such improvements should not be expected in every case, especially if localized absorbers are not present.\n",
    "\n",
    "It is important to note that both eigenvalues can be improved by the application of finer geometric or energetic discretizations, but this shows that the angle discretization may be a factor for consideration.\n",
    "\n",
    "### Fission Rate Distribution Comparison\n",
    "Next we will visualize the mesh tally results obtained from our three cases.\n",
    "\n",
    "This will be performed by first obtaining the one-group fission rate tally information from our state point files. After we have this information we will re-shape the data to match the original mesh laydown. We will then normalize, and finally create side-by-side plots of all."
   ]
  },
  {
   "cell_type": "code",
   "execution_count": 40,
   "metadata": {},
   "outputs": [
    {
     "data": {
      "image/png": "[encoded data removed]",
      "text/plain": [
       "<Figure size 1200x600 with 3 Axes>"
      ]
     },
     "metadata": {},
     "output_type": "display_data"
    }
   ],
   "source": [
    "sp_files = [sp, iso_mgsp, angle_mgsp]\n",
    "titles = ['Continuous-Energy', 'Isotropic Multi-Group',\n",
    "         'Angle-Dependent Multi-Group']\n",
    "fiss_rates = []\n",
    "fig = plt.figure(figsize=(12, 6))\n",
    "for i, (case, title) in enumerate(zip(sp_files, titles)):\n",
    "    # Get our mesh tally information\n",
    "    mesh_tally = case.get_tally(name='mesh tally')\n",
    "    fiss_rates.append(mesh_tally.get_values(scores=['fission']))\n",
    "    \n",
    "    # Reshape the array\n",
    "    fiss_rates[-1].shape = mesh.dimension\n",
    "    \n",
    "    # Normalize the fission rates\n",
    "    fiss_rates[-1] /= np.mean(fiss_rates[-1][fiss_rates[-1] > 0.])\n",
    "    \n",
    "    # Set 0s to NaNs so they show as white\n",
    "    fiss_rates[-1][fiss_rates[-1] == 0.] = np.nan\n",
    "\n",
    "    fig = plt.subplot(1, len(titles), i + 1)\n",
    "    # Plot only the fueled regions\n",
    "    plt.imshow(fiss_rates[-1][1:-1, 1:-1], cmap='jet', origin='lower',\n",
    "               vmin=0.4, vmax=4.)\n",
    "    plt.title(title + '\\nFission Rates')"
   ]
  },
  {
   "cell_type": "markdown",
   "metadata": {},
   "source": [
    "With this colormap, dark blue is the lowest power and dark red is the highest power.\n",
    "\n",
    "We see general agreement between the fission rate distributions, but it looks like there may be less of a gradient near the rods in the continuous-energy and angle-dependent MGXS cases than in the isotropic MGXS case.  \n",
    "\n",
    "To better see the differences, let's plot ratios of the fission powers for our two multi-group cases compared to the continuous-energy case"
   ]
  },
  {
   "cell_type": "code",
   "execution_count": 41,
   "metadata": {},
   "outputs": [
    {
     "data": {
      "text/plain": [
       "<matplotlib.colorbar.Colorbar at 0x78efee53a810>"
      ]
     },
     "execution_count": 41,
     "metadata": {},
     "output_type": "execute_result"
    },
    {
     "data": {
      "image/png": "[encoded data removed]",
      "text/plain": [
       "<Figure size 1200x600 with 3 Axes>"
      ]
     },
     "metadata": {},
     "output_type": "display_data"
    }
   ],
   "source": [
    "# Calculate and plot the ratios of MG to CE for each of the 2 MG cases\n",
    "ratios = []\n",
    "fig, axes = plt.subplots(figsize=(12, 6), nrows=1, ncols=2)\n",
    "for i, (case, title, axis) in enumerate(zip(sp_files[1:], titles[1:], axes.flat)):\n",
    "    # Get our ratio relative to the CE (in fiss_ratios[0])\n",
    "    ratios.append(np.divide(fiss_rates[i + 1], fiss_rates[0]))\n",
    "    \n",
    "    # Plot only the fueled regions\n",
    "    im = axis.imshow(ratios[-1][1:-1, 1:-1], cmap='bwr', origin='lower',\n",
    "                     vmin = 0.5, vmax = 2.0)\n",
    "    axis.set_title(title + '\\nFission Rates Relative\\nto Continuous-Energy')\n",
    "    \n",
    "# Add a color bar\n",
    "fig.subplots_adjust(right=0.8)\n",
    "cbar_ax = fig.add_axes([0.85, 0.15, 0.05, 0.7])\n",
    "fig.colorbar(im, cax=cbar_ax)"
   ]
  },
  {
   "cell_type": "markdown",
   "metadata": {},
   "source": [
    "With this ratio its clear that the errors are significantly worse in the isotropic case. These errors are conveniently located right where the most anisotropy is espected: by the control blades and by the Gd-bearing pins!"
   ]
  },
  {
   "cell_type": "code",
   "execution_count": 42,
   "metadata": {},
   "outputs": [],
   "source": [
    "# Close all StatePoint files as a matter of best practice\n",
    "for sp_file in sp_files:\n",
    "    sp_file.close()"
   ]
  }
 ],
 "metadata": {
  "kernelspec": {
   "display_name": "Python 3 (ipykernel)",
   "language": "python",
   "name": "python3"
  },
  "language_info": {
   "codemirror_mode": {
    "name": "ipython",
    "version": 3
   },
   "file_extension": ".py",
   "mimetype": "text/x-python",
   "name": "python",
   "nbconvert_exporter": "python",
   "pygments_lexer": "ipython3",
   "version": "3.12.3"
  }
 },
 "nbformat": 4,
 "nbformat_minor": 4
}
