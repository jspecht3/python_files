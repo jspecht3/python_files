{
 "cells": [
  {
   "cell_type": "code",
   "execution_count": 14,
   "id": "7ac11b2b",
   "metadata": {},
   "outputs": [],
   "source": [
    "import numpy as np\n",
    "import matplotlib.pyplot as plt"
   ]
  },
  {
   "cell_type": "code",
   "execution_count": 21,
   "id": "550f1fba",
   "metadata": {},
   "outputs": [],
   "source": [
    "x17 = np.array([0,1,2,4,5,6])\n",
    "prx17 = np.array([.14,.26,.27,.18,.09,.06])"
   ]
  },
  {
   "cell_type": "code",
   "execution_count": 22,
   "id": "92dc08d5",
   "metadata": {
    "scrolled": true
   },
   "outputs": [
    {
     "data": {
      "image/png": "[encoded data removed]",
      "text/plain": [
       "<Figure size 432x288 with 1 Axes>"
      ]
     },
     "metadata": {
      "needs_background": "light"
     },
     "output_type": "display_data"
    }
   ],
   "source": [
    "plt.hist(x17, weights=prx17)\n",
    "\n",
    "plt.title('I Love Bladee')\n",
    "plt.xlabel('I am a drainer')\n",
    "plt.ylabel('Probability')\n",
    "\n",
    "plt.xticks()\n",
    "plt.xlim()\n",
    "plt.grid()"
   ]
  },
  {
   "cell_type": "code",
   "execution_count": 24,
   "id": "b87b35f5",
   "metadata": {},
   "outputs": [
    {
     "data": {
      "text/plain": [
       "(array([40., 30., 20., 10.]),\n",
       " array([-0.5,  0.5,  1.5,  2.5,  3.5]),\n",
       " <BarContainer object of 4 artists>)"
      ]
     },
     "execution_count": 24,
     "metadata": {},
     "output_type": "execute_result"
    },
    {
     "data": {
      "image/png": "[encoded data removed]",
      "text/plain": [
       "<Figure size 432x288 with 1 Axes>"
      ]
     },
     "metadata": {
      "needs_background": "light"
     },
     "output_type": "display_data"
    }
   ],
   "source": [
    "#Continuous Histograms\n",
    "\n",
    "x21 = np.array([0,1,2,3])\n",
    "prx21 = np.array([40,30,20,10])\n",
    "\n",
    "bins21 = np.arange(len(x21)+1) - .5\n",
    "plt.hist(x21, bins21, weights=prx21)"
   ]
  },
  {
   "cell_type": "code",
   "execution_count": 27,
   "id": "449884e5",
   "metadata": {},
   "outputs": [
    {
     "data": {
      "text/plain": [
       "2.02"
      ]
     },
     "execution_count": 27,
     "metadata": {},
     "output_type": "execute_result"
    }
   ],
   "source": [
    "#Mean\n",
    "\n",
    "#create an array\n",
    "#set mean to a loop equal to += x[i]*pr[i]\n",
    "\n",
    "x33 = np.array([0,1,2,3,4,5,6])\n",
    "pr33 = np.array([.14,.26,.27,.18,.09,.04,.02])\n",
    "mean33 = 0.0\n",
    "\n",
    "for i in range(len(x33)):\n",
    "    mean33 += x33[i]*pr33[i]\n",
    "    \n",
    "mean33"
   ]
  }
 ],
 "metadata": {
  "kernelspec": {
   "display_name": "Python 3 (ipykernel)",
   "language": "python",
   "name": "python3"
  },
  "language_info": {
   "codemirror_mode": {
    "name": "ipython",
    "version": 3
   },
   "file_extension": ".py",
   "mimetype": "text/x-python",
   "name": "python",
   "nbconvert_exporter": "python",
   "pygments_lexer": "ipython3",
   "version": "3.9.12"
  }
 },
 "nbformat": 4,
 "nbformat_minor": 5
}
