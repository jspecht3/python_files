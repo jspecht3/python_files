{
 "cells": [
  {
   "cell_type": "code",
   "execution_count": 20,
   "id": "69d3bfef",
   "metadata": {},
   "outputs": [],
   "source": [
    "import numpy as np"
   ]
  },
  {
   "cell_type": "code",
   "execution_count": 5,
   "id": "0fa85e61",
   "metadata": {},
   "outputs": [
    {
     "name": "stdout",
     "output_type": "stream",
     "text": [
      "2.4827586206896557\n"
     ]
    }
   ],
   "source": [
    "#Network\n",
    "\n",
    "V = 12 \n",
    "C1 = 3 / 1000000\n",
    "C2 = 2 / 1000000\n",
    "C3 = 2 / 1000000\n",
    "C4 = 1 / 1000000\n",
    "C5 = 4 / 1000000\n",
    "\n",
    "C34 = (1/C3 + 1/C4)**(-1)\n",
    "CAB = C2 + C34 + C5\n",
    "Ct = (1/C1 + 1/CAB)**(-1)\n",
    "Qt = Ct * V\n",
    "VAB = Qt / CAB\n",
    "Q34 = VAB * C34\n",
    "V4 = Q34 / C4\n",
    "print(V4)"
   ]
  },
  {
   "cell_type": "code",
   "execution_count": 18,
   "id": "45275eb3",
   "metadata": {},
   "outputs": [
    {
     "name": "stdout",
     "output_type": "stream",
     "text": [
      "9.647058823529411\n"
     ]
    }
   ],
   "source": [
    "#Parallel Plate Capacitor and Dielectric\n",
    "\n",
    "e0 = 8.85e-12\n",
    "A = 2131 / 100 / 100\n",
    "V = 6\n",
    "d = .45 / 100\n",
    "k = 4.1\n",
    "\n",
    "C1 = e0 * A / (d /2) * 1000000 #Want in uf\n",
    "C2 = k * C1\n",
    "Ct = (1/C1 + 1/C2)**(-1)\n",
    "Qt = V * Ct\n",
    "U = Ct * V**2 / 2\n",
    "Cn = (1/C1 + 1/(C2 / k))**(-1)\n",
    "Vn = Qt / Cn\n",
    "print(Vn)"
   ]
  },
  {
   "cell_type": "code",
   "execution_count": 30,
   "id": "80c885de",
   "metadata": {},
   "outputs": [
    {
     "name": "stdout",
     "output_type": "stream",
     "text": [
      "-6.562767660374837e-05\n"
     ]
    }
   ],
   "source": [
    "#Concentric Cylindrical Conducting Shells\n",
    "\n",
    "a = 4.5 / 100\n",
    "lami = -.52 / 1000000\n",
    "b = 10.5 / 100\n",
    "c = 13.5 / 100\n",
    "d = 6.9 / 100\n",
    "lamo = .52\n",
    "e0 = 8.85e-12\n",
    "\n",
    "Ed = lami / (2 * np.pi * e0 * d)\n",
    "Vca = lami / (2 * np.pi * e0) * np.log(a/b)\n",
    "C = lami/Vca\n",
    "print(C*1000000)"
   ]
  }
 ],
 "metadata": {
  "kernelspec": {
   "display_name": "Python 3",
   "language": "python",
   "name": "python3"
  },
  "language_info": {
   "codemirror_mode": {
    "name": "ipython",
    "version": 3
   },
   "file_extension": ".py",
   "mimetype": "text/x-python",
   "name": "python",
   "nbconvert_exporter": "python",
   "pygments_lexer": "ipython3",
   "version": "3.8.8"
  }
 },
 "nbformat": 4,
 "nbformat_minor": 5
}
