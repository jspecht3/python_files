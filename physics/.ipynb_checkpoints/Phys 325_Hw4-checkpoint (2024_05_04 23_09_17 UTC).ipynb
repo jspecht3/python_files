{
 "cells": [
  {
   "cell_type": "code",
   "execution_count": 1,
   "id": "daa1100d",
   "metadata": {},
   "outputs": [],
   "source": [
    "from sympy import *\n",
    "import numpy as np"
   ]
  },
  {
   "cell_type": "code",
   "execution_count": 9,
   "id": "03142290",
   "metadata": {},
   "outputs": [],
   "source": [
    "def period(Distance, Mass):\n",
    "    return 2*np.pi*(Distance**3/(6.67e-11 * Mass))**(1/2)"
   ]
  },
  {
   "cell_type": "code",
   "execution_count": 10,
   "id": "7e640668",
   "metadata": {},
   "outputs": [
    {
     "data": {
      "text/plain": [
       "2.7200191265490434"
      ]
     },
     "execution_count": 10,
     "metadata": {},
     "output_type": "execute_result"
    }
   ],
   "source": [
    "#4 black hole\n",
    "period(5e6, 10e30)"
   ]
  },
  {
   "cell_type": "code",
   "execution_count": 13,
   "id": "30f3f970",
   "metadata": {},
   "outputs": [
    {
     "data": {
      "text/plain": [
       "88.75768761721086"
      ]
     },
     "execution_count": 13,
     "metadata": {},
     "output_type": "execute_result"
    }
   ],
   "source": [
    "#4 isis\n",
    "period(6600e3, 6e24)/60"
   ]
  },
  {
   "cell_type": "code",
   "execution_count": 15,
   "id": "228677f4",
   "metadata": {},
   "outputs": [
    {
     "data": {
      "text/plain": [
       "10.672"
      ]
     },
     "execution_count": 15,
     "metadata": {},
     "output_type": "execute_result"
    }
   ],
   "source": [
    "#4e\n",
    "6.67e-11 * 10e30 * 1 / (5e6)**3 * 2"
   ]
  }
 ],
 "metadata": {
  "kernelspec": {
   "display_name": "Python 3 (ipykernel)",
   "language": "python",
   "name": "python3"
  },
  "language_info": {
   "codemirror_mode": {
    "name": "ipython",
    "version": 3
   },
   "file_extension": ".py",
   "mimetype": "text/x-python",
   "name": "python",
   "nbconvert_exporter": "python",
   "pygments_lexer": "ipython3",
   "version": "3.9.12"
  }
 },
 "nbformat": 4,
 "nbformat_minor": 5
}
