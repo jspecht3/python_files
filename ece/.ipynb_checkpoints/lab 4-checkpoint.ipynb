{
 "cells": [
  {
   "cell_type": "code",
   "execution_count": 6,
   "id": "03988c28-7ecf-48ee-af97-28ce3c536365",
   "metadata": {},
   "outputs": [],
   "source": [
    "import numpy as np"
   ]
  },
  {
   "cell_type": "code",
   "execution_count": 32,
   "id": "a11f7a01-f904-4d5c-b566-b80cab3ca5c0",
   "metadata": {},
   "outputs": [
    {
     "name": "stdout",
     "output_type": "stream",
     "text": [
      "----- output durations -----\n",
      "high-level duration, t_h [ms]; 0.6931471805599452 \n",
      "low-level duration, t_l [ms]; 0.3465735902799726\n",
      "period [ms] 1.0397207708399179\n",
      "2 cycles [s]; 2.0794415416798357\n"
     ]
    }
   ],
   "source": [
    "# prelab\n",
    "r1, r2 = 1e3, 1e3\n",
    "c = .5e-6\n",
    "\n",
    "# output durations\n",
    "th = np.log(2) * (r1 + r2) * c\n",
    "tl = np.log(2) * (r2) * c\n",
    "period = th+tl\n",
    "\n",
    "print(\"----- output durations -----\\nhigh-level duration, t_h [ms];\", th*1000, \"\\nlow-level duration, t_l [ms];\", tl*1000)\n",
    "print(\"period [ms]\", period*1000)\n",
    "\n",
    "# cycle\n",
    "print(\"2 cycles [s];\", 2*period*1000)"
   ]
  }
 ],
 "metadata": {
  "kernelspec": {
   "display_name": "Python 3 (ipykernel)",
   "language": "python",
   "name": "python3"
  },
  "language_info": {
   "codemirror_mode": {
    "name": "ipython",
    "version": 3
   },
   "file_extension": ".py",
   "mimetype": "text/x-python",
   "name": "python",
   "nbconvert_exporter": "python",
   "pygments_lexer": "ipython3",
   "version": "3.12.2"
  }
 },
 "nbformat": 4,
 "nbformat_minor": 5
}
