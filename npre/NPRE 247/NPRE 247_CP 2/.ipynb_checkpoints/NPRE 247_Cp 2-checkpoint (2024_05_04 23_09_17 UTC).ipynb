{
 "cells": [
  {
   "cell_type": "code",
   "execution_count": 87,
   "id": "a647977b",
   "metadata": {},
   "outputs": [],
   "source": [
    "import numpy.linalg as la\n",
    "import numpy as np\n",
    "from sympy import *\n",
    "import matplotlib.pyplot as plt"
   ]
  },
  {
   "cell_type": "code",
   "execution_count": 88,
   "id": "e384fff1",
   "metadata": {
    "scrolled": true
   },
   "outputs": [
    {
     "data": {
      "text/latex": [
       "$\\displaystyle \\left[\\begin{matrix}\\Sigma_{1to2} \\phi_{1} - \\Sigma_{2to1} \\phi_{2} + \\Sigma_{a1} \\phi_{1}\\\\- \\Sigma_{1to2} \\phi_{1} + \\Sigma_{2to1} \\phi_{2} + \\Sigma_{a2} \\phi_{2}\\end{matrix}\\right] = \\left[\\begin{matrix}\\frac{\\Sigma_{f1} \\Xi_{1} \\nu \\phi_{1}}{k} + \\frac{\\Sigma_{f2} \\Xi_{1} \\nu \\phi_{2}}{k}\\\\\\frac{\\Sigma_{f1} \\Xi_{2} \\nu \\phi_{1}}{k} + \\frac{\\Sigma_{f2} \\Xi_{2} \\nu \\phi_{2}}{k}\\end{matrix}\\right]$"
      ],
      "text/plain": [
       "Eq(Matrix([\n",
       "[ Sigma_1to2*phi_1 - Sigma_2to1*phi_2 + Sigma_a1*phi_1],\n",
       "[-Sigma_1to2*phi_1 + Sigma_2to1*phi_2 + Sigma_a2*phi_2]]), Matrix([\n",
       "[Sigma_f1*Xi_1*nu*phi_1/k + Sigma_f2*Xi_1*nu*phi_2/k],\n",
       "[Sigma_f1*Xi_2*nu*phi_1/k + Sigma_f2*Xi_2*nu*phi_2/k]]))"
      ]
     },
     "execution_count": 88,
     "metadata": {},
     "output_type": "execute_result"
    }
   ],
   "source": [
    "#Visualization of 2 Group Variables\n",
    "\n",
    "Sigma_a1, Sigma_a2, Sigma_1to2, Sigma_2to1, phi_1, phi_2, k, Xi_1, Xi_2, nu, Sigma_f1, Sigma_f2 = S('Sigma_a1, Sigma_a2, Sigma_1to2, Sigma_2to1, phi_1, phi_2, k, Xi_1, Xi_2, nu, Sigma_f1, Sigma_f2')\n",
    "\n",
    "flux = Matrix([[phi_1],[phi_2]])\n",
    "Xi = Matrix([[Xi_1],[Xi_2]])\n",
    "Sigma_f = Matrix([Sigma_f1, Sigma_f2]).T\n",
    "\n",
    "Absorption = Matrix([[Sigma_a1, 0],[0, Sigma_a2]]) #@ flux\n",
    "Outscattering = Matrix([[Sigma_1to2, 0],[0,Sigma_2to1]]) #@ flux\n",
    "\n",
    "Fission = nu * Xi @ Sigma_f #@ flux\n",
    "Inscattering = Matrix([[0, Sigma_2to1],[Sigma_1to2, 0]]) #@ flux\n",
    "\n",
    "Migration = (Absorption + Outscattering - Inscattering)\n",
    "\n",
    "eq1 = Eq(Absorption @ flux + Outscattering @ flux - Inscattering @ flux, 1/k * Fission @ flux)\n",
    "eq1"
   ]
  },
  {
   "cell_type": "raw",
   "id": "156700b9",
   "metadata": {},
   "source": [
    "The above code is just to visualize how the function's dependencies manifest in the equation."
   ]
  },
  {
   "cell_type": "code",
   "execution_count": 89,
   "id": "de08aae5",
   "metadata": {},
   "outputs": [],
   "source": [
    "#Power Iteration\n",
    "\n",
    "def power_iteration(A, steps):\n",
    "    phi_a = np.random.rand(A.shape[1])\n",
    "    \n",
    "    for _ in range(steps):\n",
    "        phi_b = np.dot(A, phi_a)\n",
    "        phi_norm = phi_a.dot(phi_a)**(1/2)\n",
    "        phi_a = phi_b / phi_norm\n",
    "        \n",
    "        k = np.dot(np.dot(A, phi_a).T, phi_a) / (phi_a.T.dot(phi_a))\n",
    "        \n",
    "    return phi_a, k"
   ]
  },
  {
   "cell_type": "raw",
   "id": "29e88f09",
   "metadata": {},
   "source": [
    "Above is a power iteration method which is the act of repeatedly multiplying a matrix with a random vector, and, over time, this vector keeps getting closer to the max eigenvector and the value of the product between the matrix and random vector will get closer to the highest eigenvalue."
   ]
  },
  {
   "cell_type": "code",
   "execution_count": 90,
   "id": "abf68fe6",
   "metadata": {
    "scrolled": false
   },
   "outputs": [],
   "source": [
    "#Reading\n",
    "\n",
    "with open('NPRE 247_CP 2_input', 'r') as file:\n",
    "    input = file.read()\n",
    "input_split = input.split('\\n')\n",
    "\n",
    "every = list()\n",
    "\n",
    "for i in (input_split):\n",
    "    a = i.split('=')\n",
    "    b = a[1].split(',')\n",
    "    for j in range(len(b)):\n",
    "        b[j] = float(b[j])\n",
    "    every.append(b)\n",
    "\n",
    "#Initializing Arrays (2 Group)\n",
    "Abs2 = Matrix(every[0])\n",
    "Fiss2 = Matrix(every[1])\n",
    "Xi2 = Matrix(every[2])\n",
    "Scat_In2 = Matrix([[0,0],[every[4][0],0]])\n",
    "Scat_Out2 = Matrix([[every[4][0],0],[0,0]])\n",
    "\n",
    "#Initializing Array (8 group)\n",
    "Abs8 = Matrix(every[5])\n",
    "Fiss8 = Matrix(every[6])\n",
    "Xi8 = Matrix(every[7])\n",
    "\n",
    "Scat_In8 = zeros(8)\n",
    "for i in range(shape(Scat_In8)[0]):\n",
    "    for j in range(shape(Scat_In8)[0]):\n",
    "        if(i != j):\n",
    "            Scat_In8[i,j] = every[i+8][j]\n",
    "\n",
    "Scat_Out8 = zeros(8)\n",
    "for i in range(shape(Scat_Out8)[0]):\n",
    "    for j in range(shape(Scat_Out8)[0]):\n",
    "        if (i != j):\n",
    "            Scat_Out8[i,i] += every[j+8][i]\n",
    "            \n",
    "g = open('NPRE 247_CP 2_output', 'a')\n",
    "g.write('Original Data:\\n')\n",
    "g.write(input)\n",
    "g.write('\\n' + '\\n' + '\\n')\n",
    "g.close()"
   ]
  },
  {
   "cell_type": "raw",
   "id": "45475ae9",
   "metadata": {},
   "source": [
    "This is where the input file is read and all the values are initialized for both 2 group and 8 group."
   ]
  },
  {
   "cell_type": "markdown",
   "id": "131b7c4c",
   "metadata": {},
   "source": [
    "# Group 2"
   ]
  },
  {
   "cell_type": "code",
   "execution_count": 91,
   "id": "d6a74ad9",
   "metadata": {
    "scrolled": true
   },
   "outputs": [],
   "source": [
    "#2 Group, Defining\n",
    "\n",
    "Absorption2 = Abs2\n",
    "Absorption2 = Absorption2 @ Matrix([1,1]).T\n",
    "Absorption2[1,0] = Absorption2[0,1] = 0\n",
    "\n",
    "Migration2 = Absorption2 + Scat_Out2 - Scat_In2\n",
    "Fission2 = Xi2 @ Fiss2.T\n",
    "\n",
    "function2 = Migration2**(-1) @ Fission2"
   ]
  },
  {
   "cell_type": "raw",
   "id": "d65044a1",
   "metadata": {},
   "source": [
    "This is where the matrices I will work with for 2 group are defined."
   ]
  },
  {
   "cell_type": "code",
   "execution_count": 92,
   "id": "be0637e3",
   "metadata": {},
   "outputs": [
    {
     "data": {
      "text/latex": [
       "$\\displaystyle \\left[\\begin{matrix}0.0294 & 0\\\\-0.0202 & 0.0932\\end{matrix}\\right]$"
      ],
      "text/plain": [
       "Matrix([\n",
       "[ 0.0294,      0],\n",
       "[-0.0202, 0.0932]])"
      ]
     },
     "execution_count": 92,
     "metadata": {},
     "output_type": "execute_result"
    }
   ],
   "source": [
    "#2 Group, Migration Matrix\n",
    "\n",
    "Migration2"
   ]
  },
  {
   "cell_type": "raw",
   "id": "9f006dc8",
   "metadata": {},
   "source": [
    "This is the 2 group Migration Matrix (Absorp + Scat_in - Scat_out)."
   ]
  },
  {
   "cell_type": "code",
   "execution_count": 93,
   "id": "f82f3622",
   "metadata": {
    "scrolled": true
   },
   "outputs": [
    {
     "data": {
      "text/latex": [
       "$\\displaystyle \\left[\\begin{matrix}0.0046 & 0.1139\\\\0 & 0\\end{matrix}\\right]$"
      ],
      "text/plain": [
       "Matrix([\n",
       "[0.0046, 0.1139],\n",
       "[     0,      0]])"
      ]
     },
     "execution_count": 93,
     "metadata": {},
     "output_type": "execute_result"
    }
   ],
   "source": [
    "#2 Group, Fission Matrix\n",
    "\n",
    "Fission2"
   ]
  },
  {
   "cell_type": "raw",
   "id": "ff93f49a",
   "metadata": {},
   "source": [
    "This is the 2 group Fission Matrix (nu * Xi @ Sigma_Fission)."
   ]
  },
  {
   "cell_type": "code",
   "execution_count": 94,
   "id": "d79c1f09",
   "metadata": {
    "scrolled": false
   },
   "outputs": [
    {
     "data": {
      "text/plain": [
       "[(-2.12911042727575e-17,\n",
       "  1,\n",
       "  [Matrix([\n",
       "   [  0.999185469505495],\n",
       "   [-0.0403534078992562]])]),\n",
       " (0.996138798867186,\n",
       "  1,\n",
       "  [Matrix([\n",
       "   [ 1.00965294385214],\n",
       "   [0.218830359075249]])])]"
      ]
     },
     "execution_count": 94,
     "metadata": {},
     "output_type": "execute_result"
    }
   ],
   "source": [
    "#2 Group, Eigenvalues & Eigenvectors\n",
    "\n",
    "Fun2Eigen = function2.eigenvects()\n",
    "\n",
    "g = open('NPRE 247_CP 2_output', 'a')\n",
    "g.write('Two-Group Eigen:\\n')\n",
    "for i in Fun2Eigen:\n",
    "    g.write(str(i))\n",
    "    g.write('\\n' + '\\n')\n",
    "g.write('\\n')\n",
    "g.close()\n",
    "\n",
    "Fun2Eigen"
   ]
  },
  {
   "cell_type": "raw",
   "id": "9524ec99",
   "metadata": {},
   "source": [
    "These are the corresponding eigenvectors and eigenvalues of the group 2 Inverse Migration Matrix multiplied by the group 2 Fission Matrix. A remark can be made that finding the maximum eigenvalue is possible by inspection, but this is simply because we are working with only 2 groups, thus only two eigenvectors. However, if we scaled this to higher numbers of groups, hundreds or thousands, the capability of human inspection becomes feable as we would have the same number of eigenvectors as groups."
   ]
  },
  {
   "cell_type": "code",
   "execution_count": 95,
   "id": "c609b0e8",
   "metadata": {},
   "outputs": [
    {
     "data": {
      "text/latex": [
       "$\\displaystyle 0.996138798867186$"
      ],
      "text/plain": [
       "0.996138798867186"
      ]
     },
     "execution_count": 95,
     "metadata": {},
     "output_type": "execute_result"
    }
   ],
   "source": [
    "#2 Group, Power Iteration, Eigenvalue\n",
    "\n",
    "Max_eigen2 = power_iteration(function2, 2)\n",
    "Max_eigenvalue2 = Max_eigen2[1]\n",
    "Max_eigenvalue2"
   ]
  },
  {
   "cell_type": "raw",
   "id": "938412ba",
   "metadata": {},
   "source": [
    "This power iteration has generated the maximum eigenvalue associated with the group 2 Inverse Migration Matrix @ the group 2 Fission Matrix."
   ]
  },
  {
   "cell_type": "code",
   "execution_count": 96,
   "id": "0f17af57",
   "metadata": {
    "scrolled": true
   },
   "outputs": [
    {
     "data": {
      "text/latex": [
       "$\\displaystyle \\left[\\begin{matrix}0.973535084915876\\\\0.211002239434557\\end{matrix}\\right]$"
      ],
      "text/plain": [
       "Matrix([\n",
       "[0.973535084915876],\n",
       "[0.211002239434557]])"
      ]
     },
     "execution_count": 96,
     "metadata": {},
     "output_type": "execute_result"
    }
   ],
   "source": [
    "#2 Group, Power Iteration, Eigenvector\n",
    "\n",
    "Max_eigenvector2 = Max_eigen2[0]\n",
    "Max_eigenvector2 = Matrix(Max_eigenvector2)\n",
    "Max_eigenvector2"
   ]
  },
  {
   "cell_type": "raw",
   "id": "6411fb07",
   "metadata": {},
   "source": [
    "This power iteration has generated the maximum eigenvector associated with the group 2 Inverse Migration Matrix @ the group 2 Fission Matrix."
   ]
  },
  {
   "cell_type": "markdown",
   "id": "a37cb76b",
   "metadata": {},
   "source": [
    "# Group 8"
   ]
  },
  {
   "cell_type": "code",
   "execution_count": 97,
   "id": "5435ffa7",
   "metadata": {},
   "outputs": [],
   "source": [
    "#8 group defining\n",
    "\n",
    "Absorption8 = Abs8\n",
    "Absorption8 = Matrix.diag(Absorption8[0], Absorption8[1], Absorption8[2], Absorption8[3], Absorption8[4], Absorption8[5], Absorption8[6], Absorption8[7])\n",
    "\n",
    "Migration8 = Absorption8 + Scat_Out8 - Scat_In8\n",
    "Fission8 = Xi8 @ Fiss8.T\n",
    "\n",
    "function8 = Migration8**(-1) @ Fission8"
   ]
  },
  {
   "cell_type": "raw",
   "id": "a875a7ce",
   "metadata": {},
   "source": [
    "This is where the matrices I will work with for 8 group are defined."
   ]
  },
  {
   "cell_type": "code",
   "execution_count": 98,
   "id": "19dd00e9",
   "metadata": {},
   "outputs": [
    {
     "data": {
      "text/latex": [
       "$\\displaystyle \\left[\\begin{matrix}0.0888 & 0 & 0 & 0 & 0 & 0 & 0 & 0\\\\-0.053 & 0.1193 & 0 & 0 & 0 & 0 & 0 & 0\\\\-0.0301 & -0.1159 & 0.0813 & 0 & 0 & 0 & 0 & 0\\\\-0.0001 & -0.0005 & -0.0769 & 0.2152 & 0 & 0 & 0 & 0\\\\0 & 0 & -0.0019 & -0.1961 & 0.2529 & 0 & 0 & 0\\\\0 & 0 & 0 & -0.005 & -0.1737 & 0.3437 & -0.0023 & 0\\\\0 & 0 & 0 & -0.0007 & -0.0246 & -0.2707 & 0.417 & -0.0275\\\\0 & 0 & 0 & -0.0001 & -0.0073 & -0.055 & -0.3589 & 0.2073\\end{matrix}\\right]$"
      ],
      "text/plain": [
       "Matrix([\n",
       "[ 0.0888,       0,       0,       0,       0,       0,       0,       0],\n",
       "[ -0.053,  0.1193,       0,       0,       0,       0,       0,       0],\n",
       "[-0.0301, -0.1159,  0.0813,       0,       0,       0,       0,       0],\n",
       "[-0.0001, -0.0005, -0.0769,  0.2152,       0,       0,       0,       0],\n",
       "[      0,       0, -0.0019, -0.1961,  0.2529,       0,       0,       0],\n",
       "[      0,       0,       0,  -0.005, -0.1737,  0.3437, -0.0023,       0],\n",
       "[      0,       0,       0, -0.0007, -0.0246, -0.2707,   0.417, -0.0275],\n",
       "[      0,       0,       0, -0.0001, -0.0073,  -0.055, -0.3589,  0.2073]])"
      ]
     },
     "execution_count": 98,
     "metadata": {},
     "output_type": "execute_result"
    }
   ],
   "source": [
    "#Group 8, Migration\n",
    "\n",
    "Migration8"
   ]
  },
  {
   "cell_type": "raw",
   "id": "0698293d",
   "metadata": {},
   "source": [
    "This is the 8 group Migration Matrix (Absorp + Scat_in - Scat_out)."
   ]
  },
  {
   "cell_type": "code",
   "execution_count": 99,
   "id": "bb8ceb5e",
   "metadata": {
    "scrolled": false
   },
   "outputs": [
    {
     "data": {
      "text/latex": [
       "$\\displaystyle \\left[\\begin{matrix}0.00469938 & 0.00196392 & 0.00038577 & 0.00234969 & 0.0077154 & 0.00778554 & 0.03145779 & 0.07508487\\\\0.0055007 & 0.0022988 & 0.00045155 & 0.00275035 & 0.009031 & 0.0091131 & 0.03682185 & 0.08788805\\\\0.00319992 & 0.00133728 & 0.00026268 & 0.00159996 & 0.0052536 & 0.00530136 & 0.02142036 & 0.05112708\\\\0 & 0 & 0 & 0 & 0 & 0 & 0 & 0\\\\0 & 0 & 0 & 0 & 0 & 0 & 0 & 0\\\\0 & 0 & 0 & 0 & 0 & 0 & 0 & 0\\\\0 & 0 & 0 & 0 & 0 & 0 & 0 & 0\\\\0 & 0 & 0 & 0 & 0 & 0 & 0 & 0\\end{matrix}\\right]$"
      ],
      "text/plain": [
       "Matrix([\n",
       "[0.00469938, 0.00196392, 0.00038577, 0.00234969, 0.0077154, 0.00778554, 0.03145779, 0.07508487],\n",
       "[ 0.0055007,  0.0022988, 0.00045155, 0.00275035,  0.009031,  0.0091131, 0.03682185, 0.08788805],\n",
       "[0.00319992, 0.00133728, 0.00026268, 0.00159996, 0.0052536, 0.00530136, 0.02142036, 0.05112708],\n",
       "[         0,          0,          0,          0,         0,          0,          0,          0],\n",
       "[         0,          0,          0,          0,         0,          0,          0,          0],\n",
       "[         0,          0,          0,          0,         0,          0,          0,          0],\n",
       "[         0,          0,          0,          0,         0,          0,          0,          0],\n",
       "[         0,          0,          0,          0,         0,          0,          0,          0]])"
      ]
     },
     "execution_count": 99,
     "metadata": {},
     "output_type": "execute_result"
    }
   ],
   "source": [
    "#Group 8, Fission\n",
    "\n",
    "Fission8"
   ]
  },
  {
   "cell_type": "raw",
   "id": "abde876a",
   "metadata": {},
   "source": [
    "This is the 8 group Fission Matrix. (nu * Xi @ Sigma_Fission)"
   ]
  },
  {
   "cell_type": "code",
   "execution_count": 100,
   "id": "f3f22231",
   "metadata": {
    "scrolled": true
   },
   "outputs": [
    {
     "data": {
      "text/plain": [
       "[(3.02612925575934e-50,\n",
       "  1,\n",
       "  [Matrix([\n",
       "   [       0.265080133597064 + 0.360184012377233*I],\n",
       "   [ 1.96129509587936e-32 + 2.66495692266183e-32*I],\n",
       "   [-1.28052588855917e-31 - 1.73994537514172e-31*I],\n",
       "   [      -0.530160267194128 - 0.720368024754466*I],\n",
       "   [ 2.59871791272531e-33 + 3.53107051871638e-33*I],\n",
       "   [-5.31049876175676e-33 - 7.21576802372285e-33*I],\n",
       "   [ 4.35822600096033e-33 + 5.92184448744394e-33*I],\n",
       "   [-1.04825937725886e-33 - 1.42434766193032e-33*I]])]),\n",
       " (-7.49958435117462e-18 - 4.12813676829274e-50*I,\n",
       "  1,\n",
       "  [Matrix([\n",
       "   [ -0.0869469857479411 + 0.0953589202140202*I],\n",
       "   [     -0.492347931078626 + 0.5399815378692*I],\n",
       "   [   -0.414369098813306 + 0.454458420760482*I],\n",
       "   [   -0.233063655527216 + 0.255612064535935*I],\n",
       "   [  0.0700240387119938 - 0.0767987143333327*I],\n",
       "   [  0.0374055913524535 - 0.0410245021222179*I],\n",
       "   [-0.0066431111033393 + 0.00728581786046797*I],\n",
       "   [  0.0194513059788459 - 0.0213331781307805*I]])]),\n",
       " (-6.33868015224877e-19 - 5.9448806258361e-18*I,\n",
       "  1,\n",
       "  [Matrix([\n",
       "   [-0.0741661433194166 + 0.0929249180493645*I],\n",
       "   [  -0.213019649451671 - 0.020735767247376*I],\n",
       "   [    -1.3165009177519 - 0.152681728671778*I],\n",
       "   [   0.537459673176817 - 0.144625278853802*I],\n",
       "   [ 0.00382583878752847 + 0.113852765115854*I],\n",
       "   [-0.0161412673721331 + 0.0599565828875039*I],\n",
       "   [-0.0175263119074505 - 0.0851891566404808*I],\n",
       "   [  0.00878180951464733 + 0.01781193854546*I]])]),\n",
       " (-6.33868015224877e-19 + 5.9448806258361e-18*I,\n",
       "  1,\n",
       "  [Matrix([\n",
       "   [  0.00822165588007828 - 0.12442680205319*I],\n",
       "   [  -0.179709520473878 - 0.134513447635922*I],\n",
       "   [   -1.12797857753665 - 0.812311064764098*I],\n",
       "   [   0.314201078285818 + 0.491979466746298*I],\n",
       "   [ 0.0834448938915531 - 0.0855109151073925*I],\n",
       "   [ 0.0298757086762413 - 0.0578655094667223*I],\n",
       "   [-0.0737984752979131 + 0.0536171657066956*I],\n",
       "   [0.0193952693724058 - 0.00759332612355211*I]])]),\n",
       " (-5.806027439305e-19 + 1.2560709545363e-50*I,\n",
       "  1,\n",
       "  [Matrix([\n",
       "   [    -0.297235373219454 - 0.264070014649212*I],\n",
       "   [   0.0560124735525584 + 0.0497626327289185*I],\n",
       "   [     -0.777228969517833 - 0.69050619091299*I],\n",
       "   [     0.687205679798096 + 0.610527650076569*I],\n",
       "   [   0.0267540181531599 + 0.0237688196028205*I],\n",
       "   [  0.0107560531286581 + 0.00955589866874752*I],\n",
       "   [ 0.00374235533490193 + 0.00332478539618659*I],\n",
       "   [-0.00580618445258154 - 0.00515833360222984*I]])]),\n",
       " (8.97086656650484e-18,\n",
       "  1,\n",
       "  [Matrix([\n",
       "   [ 0.0878637780995877 + 9.81511187490375e-33*I],\n",
       "   [ 0.0587856785206483 + 7.93732751780821e-33*I],\n",
       "   [ -0.558638517725786 - 5.79806682474107e-32*I],\n",
       "   [ -0.469576907891567 + 4.86605444174191e-33*I],\n",
       "   [-0.0165679938144111 - 9.88490310699991e-33*I],\n",
       "   [  -0.139496366654198 - 7.6613355225136e-33*I],\n",
       "   [-0.0470550044687083 + 7.67443541230793e-34*I],\n",
       "   [ 0.0464093523148301 - 1.00004015030336e-33*I]])]),\n",
       " (1.25871936839228e-17,\n",
       "  1,\n",
       "  [Matrix([\n",
       "   [-0.0733207829176115 - 1.52181919041442e-32*I],\n",
       "   [ -0.0336995317098541 - 3.7075289434699e-33*I],\n",
       "   [   1.43380672934996 + 1.20968519909566e-31*I],\n",
       "   [  0.822888313142945 - 1.97100508244313e-32*I],\n",
       "   [  0.157015708534204 + 2.87589868217826e-32*I],\n",
       "   [  0.264004202002034 + 2.02165756584758e-32*I],\n",
       "   [  0.123726411224653 - 5.77009771865609e-33*I],\n",
       "   [ -0.122993092903879 + 2.63294328659998e-33*I]])]),\n",
       " (1.09003099735191,\n",
       "  1,\n",
       "  [Matrix([\n",
       "   [ -0.102270952152054 - 5.73330631787602e-33*I],\n",
       "   [ -0.134539735544429 - 1.37214893600868e-33*I],\n",
       "   [ -0.305724851491282 + 2.57625753462816e-33*I],\n",
       "   [ -0.109608448154795 - 1.61431766025351e-33*I],\n",
       "   [-0.0872878366982699 - 4.43504686312342e-33*I],\n",
       "   [-0.0459817117503381 - 1.35073946908181e-33*I],\n",
       "   [-0.0408586318816126 + 2.52086440124335e-33*I],\n",
       "   [-0.0860652155392774 - 7.45694693437473e-34*I]])])]"
      ]
     },
     "execution_count": 100,
     "metadata": {},
     "output_type": "execute_result"
    }
   ],
   "source": [
    "#8 Group, Eigenvalues & Eigenvectors\n",
    "\n",
    "Fun8Eigen = function8.eigenvects()\n",
    "\n",
    "g = open('NPRE 247_CP 2_output', 'a')\n",
    "g.write('Eight-Group Eigen:\\n')\n",
    "for i in Fun8Eigen:\n",
    "    g.write(str(i))\n",
    "    g.write('\\n' + '\\n')\n",
    "g.close()\n",
    "\n",
    "Fun8Eigen"
   ]
  },
  {
   "cell_type": "raw",
   "id": "648f28e3",
   "metadata": {},
   "source": [
    "As was alluded to in the previous section about the 2 group Eigenvalues and Eigenvectors, the possibility for human inspection becomes laboreous and inefficient as the number of groups increases."
   ]
  },
  {
   "cell_type": "code",
   "execution_count": 101,
   "id": "d8e04583",
   "metadata": {},
   "outputs": [
    {
     "data": {
      "text/latex": [
       "$\\displaystyle 1.09003099735191$"
      ],
      "text/plain": [
       "1.09003099735191"
      ]
     },
     "execution_count": 101,
     "metadata": {},
     "output_type": "execute_result"
    }
   ],
   "source": [
    "#8 Group, Power Iteration, Eigenvalue\n",
    "\n",
    "Max_eigen8 = power_iteration(function8, 2)\n",
    "Max_eigenvalue8 = Max_eigen8[1]\n",
    "Max_eigenvalue8"
   ]
  },
  {
   "cell_type": "raw",
   "id": "0d6d09fa",
   "metadata": {},
   "source": [
    "This power iteration has generated the maximum eigenvalue associated with the group 8 Inverse Migration Matrix @ the group 8 Fission Matrix."
   ]
  },
  {
   "cell_type": "code",
   "execution_count": 102,
   "id": "a3f2935a",
   "metadata": {},
   "outputs": [
    {
     "data": {
      "text/latex": [
       "$\\displaystyle \\left[\\begin{matrix}0.28513820857606\\\\0.375105720326132\\\\0.852381195608686\\\\0.30559563486994\\\\0.243364287345442\\\\0.128200066977561\\\\0.113916579971508\\\\0.239955538334051\\end{matrix}\\right]$"
      ],
      "text/plain": [
       "Matrix([\n",
       "[ 0.28513820857606],\n",
       "[0.375105720326132],\n",
       "[0.852381195608686],\n",
       "[ 0.30559563486994],\n",
       "[0.243364287345442],\n",
       "[0.128200066977561],\n",
       "[0.113916579971508],\n",
       "[0.239955538334051]])"
      ]
     },
     "execution_count": 102,
     "metadata": {},
     "output_type": "execute_result"
    }
   ],
   "source": [
    "#8 Group, Power Iteration, Eigenvector\n",
    "\n",
    "Max_eigenvector8 = Max_eigen8[0]\n",
    "Max_eigenvector8 = Matrix(Max_eigenvector8)\n",
    "Max_eigenvector8"
   ]
  },
  {
   "cell_type": "raw",
   "id": "a3e71ac3",
   "metadata": {},
   "source": [
    "This power iteration has generated the maximum eigenvector associated with the group 8 Inverse Migration Matrix @ the group 8 Fission Matrix."
   ]
  }
 ],
 "metadata": {
  "kernelspec": {
   "display_name": "Python 3 (ipykernel)",
   "language": "python",
   "name": "python3"
  },
  "language_info": {
   "codemirror_mode": {
    "name": "ipython",
    "version": 3
   },
   "file_extension": ".py",
   "mimetype": "text/x-python",
   "name": "python",
   "nbconvert_exporter": "python",
   "pygments_lexer": "ipython3",
   "version": "3.9.12"
  }
 },
 "nbformat": 4,
 "nbformat_minor": 5
}
