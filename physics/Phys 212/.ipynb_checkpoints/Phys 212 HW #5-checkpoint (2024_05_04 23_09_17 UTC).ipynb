{
 "cells": [
  {
   "cell_type": "code",
   "execution_count": 1,
   "id": "171bebbd",
   "metadata": {},
   "outputs": [],
   "source": [
    "import numpy as np"
   ]
  },
  {
   "cell_type": "code",
   "execution_count": 40,
   "id": "1fb3832c",
   "metadata": {},
   "outputs": [
    {
     "name": "stdout",
     "output_type": "stream",
     "text": [
      "-21779.34610162914\n"
     ]
    }
   ],
   "source": [
    "#Potential of Concentric Spherical Insulator and Conductor\n",
    "\n",
    "a = 4.5 / 100\n",
    "b = 10.3 / 100\n",
    "c = 12.3 / 100\n",
    "d = 34 / 100\n",
    "p = -386 / 1000000\n",
    "e0 = 8.85e-12\n",
    "k = 9e9\n",
    "\n",
    "q1 = 4 * np.pi * a**3 / 3 / 1000000\n",
    "q2 = 0.0707 / 1000000\n",
    "\n",
    "val1 = p * a**3 / 3 / e0\n",
    "single = 1 / c\n",
    "vc = val1 * single\n",
    "\n",
    "diff = (1 / b) - (1 / a) \n",
    "va = -1 * val1 * diff\n",
    "\n",
    "vc2 = -1 / c * k * (q1 + q2)\n",
    "\n",
    "print(vc2 + va)"
   ]
  },
  {
   "cell_type": "code",
   "execution_count": 78,
   "id": "c5e16e63",
   "metadata": {},
   "outputs": [
    {
     "name": "stdout",
     "output_type": "stream",
     "text": [
      "-1469.7357162531393\n",
      "-115.09138446727967\n"
     ]
    }
   ],
   "source": [
    "#Potential of Concentric Cylindrical Insulator and Conducting Shell\n",
    "\n",
    "a = 2.2 / 100\n",
    "b = 15 / 100\n",
    "c = 18 / 100\n",
    "d = 48 / 100\n",
    "pp = d * 2**(1/2)\n",
    "p = 28 / 1000000\n",
    "lam = -.35 / 1000000\n",
    "\n",
    "e0 = 8.85e-12\n",
    "k = 9e9\n",
    "\n",
    "econr = lam / (2 * np.pi * e0 * d)\n",
    "einsr = (p * a**2) / (2 * d * e0)\n",
    "er = econr + einsr\n",
    "Vpr = -1 * ((lam / (2 * np.pi * e0)) + ((p * a**2) / (2 * e0))) * np.log(pp / d)\n",
    "\n",
    "Vca = -1 * ((p * a**2) / (2 * e0)) * (np.log(b / a))\n",
    "print(Vca)\n",
    "\n",
    "p2 = lam / (2 * np.pi * a**2)\n",
    "print(p2 * 1000000)"
   ]
  },
  {
   "cell_type": "code",
   "execution_count": 93,
   "id": "bbbe8f10",
   "metadata": {},
   "outputs": [
    {
     "name": "stdout",
     "output_type": "stream",
     "text": [
      "-1694.9152542372897\n"
     ]
    }
   ],
   "source": [
    "#Potential of Infinite Sheets of Charge and Conducting Slab\n",
    "\n",
    "o1 = .5 / 1000000\n",
    "o2 = .53 / 1000000\n",
    "a = 8.5 / 100\n",
    "b = 12.5 / 100\n",
    "s = 16.75 / 100\n",
    "p = 4.25 / 100\n",
    "\n",
    "Vps = -1 * ((o1 + o2) / (2 * e0)) * (a - p + s - b)\n",
    "Et = (-o2 + o1) / (2 * e0)\n",
    "print(Et)"
   ]
  }
 ],
 "metadata": {
  "kernelspec": {
   "display_name": "Python 3",
   "language": "python",
   "name": "python3"
  },
  "language_info": {
   "codemirror_mode": {
    "name": "ipython",
    "version": 3
   },
   "file_extension": ".py",
   "mimetype": "text/x-python",
   "name": "python",
   "nbconvert_exporter": "python",
   "pygments_lexer": "ipython3",
   "version": "3.8.8"
  }
 },
 "nbformat": 4,
 "nbformat_minor": 5
}
