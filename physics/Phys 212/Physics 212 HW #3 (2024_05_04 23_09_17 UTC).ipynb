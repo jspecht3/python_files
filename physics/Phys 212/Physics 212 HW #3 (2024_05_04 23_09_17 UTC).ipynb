{
 "cells": [
  {
   "cell_type": "code",
   "execution_count": 1,
   "id": "5686a1ae",
   "metadata": {},
   "outputs": [],
   "source": [
    "import numpy as np"
   ]
  },
  {
   "cell_type": "code",
   "execution_count": 18,
   "id": "27e78a63",
   "metadata": {},
   "outputs": [
    {
     "name": "stdout",
     "output_type": "stream",
     "text": [
      "2286115.613643195\n"
     ]
    }
   ],
   "source": [
    "#Electric field at a point\n",
    "\n",
    "r = 9.3\n",
    "c1 = 2.2\n",
    "c2 = 0\n",
    "c3 = 0\n",
    "\n",
    "ctotal = (c1 + c2 + c3) / 1000000 #Divide because micro\n",
    "rm = r / 100\n",
    "\n",
    "k = (8.987551792 * 10**9)\n",
    "charge = k * ctotal / rm**2\n",
    "\n",
    "print(charge)"
   ]
  },
  {
   "cell_type": "code",
   "execution_count": 17,
   "id": "bf0d7564",
   "metadata": {},
   "outputs": [
    {
     "name": "stdout",
     "output_type": "stream",
     "text": [
      "0.0008729161419580995\n"
     ]
    }
   ],
   "source": [
    "#Surface Charge Density of a Sphere\n",
    "\n",
    "c = 8.6\n",
    "r = 2.8\n",
    "\n",
    "cc = c / 1000000\n",
    "rm = r / 100\n",
    "\n",
    "sa = 4 * np.pi * rm**2\n",
    "cd = cc / sa\n",
    "\n",
    "print(cd)"
   ]
  },
  {
   "cell_type": "code",
   "execution_count": 37,
   "id": "56ca8a3d",
   "metadata": {},
   "outputs": [
    {
     "name": "stdout",
     "output_type": "stream",
     "text": [
      "-28347833.609175626\n"
     ]
    }
   ],
   "source": [
    "#Linear charge density\n",
    "\n",
    "l = -2.2\n",
    "r = 4.65 * 3\n",
    "\n",
    "rm = r / 100\n",
    "lu = l / 1000000 * 100\n",
    "\n",
    "k = (8.987551792 * 10**9)\n",
    "\n",
    "e = (2 * k * lu) / rm\n",
    "\n",
    "print(e)"
   ]
  },
  {
   "cell_type": "code",
   "execution_count": 52,
   "id": "c967a2dc",
   "metadata": {
    "scrolled": true
   },
   "outputs": [
    {
     "data": {
      "text/plain": [
       "6111535.218559999"
      ]
     },
     "execution_count": 52,
     "metadata": {},
     "output_type": "execute_result"
    }
   ],
   "source": [
    "#Line Charge and Charged Cylindrical Shell\n",
    "\n",
    "rmaj = 4.8 / 100\n",
    "rmin = 2 / 100\n",
    "r = 1 / 100\n",
    "\n",
    "ild = -4.061501248043341 / 1000000\n",
    "pld = 6.8 / 1000000\n",
    "\n",
    "area = (np.pi * rmaj**2) - (np.pi * rmin**2)\n",
    "\n",
    "e = (2 * k * (pld)) / r\n",
    "\n",
    "e * np.sin(30 / 180 * np.pi)"
   ]
  },
  {
   "cell_type": "code",
   "execution_count": 1,
   "id": "1f5b60d3",
   "metadata": {},
   "outputs": [
    {
     "name": "stdout",
     "output_type": "stream",
     "text": [
      "-237175.90395546862\n"
     ]
    }
   ],
   "source": [
    "#Infinite Charged Sheet and Infinite Conducting Slab\n",
    "\n",
    "r = 6.5 / 100\n",
    "ol = -4.2 / 1000000\n",
    "os = 72 / 2.4 / 1000000\n",
    "\n",
    "e = (ol) / (2 * 8.85418782e-12)\n",
    "print(e)"
   ]
  },
  {
   "cell_type": "code",
   "execution_count": 4,
   "id": "82e76eda",
   "metadata": {},
   "outputs": [
    {
     "name": "stdout",
     "output_type": "stream",
     "text": [
      "[ 0. -0. -0.]\n"
     ]
    }
   ],
   "source": [
    "A = np.array([[1, 1, 1],\n",
    "             [2,1,-3],\n",
    "             [4,4,9]])\n",
    "y = np.array([0,0,0])\n",
    "\n",
    "x = np.linalg.solve(A,y)\n",
    "print(x)"
   ]
  }
 ],
 "metadata": {
  "kernelspec": {
   "display_name": "Python 3",
   "language": "python",
   "name": "python3"
  },
  "language_info": {
   "codemirror_mode": {
    "name": "ipython",
    "version": 3
   },
   "file_extension": ".py",
   "mimetype": "text/x-python",
   "name": "python",
   "nbconvert_exporter": "python",
   "pygments_lexer": "ipython3",
   "version": "3.8.8"
  }
 },
 "nbformat": 4,
 "nbformat_minor": 5
}
