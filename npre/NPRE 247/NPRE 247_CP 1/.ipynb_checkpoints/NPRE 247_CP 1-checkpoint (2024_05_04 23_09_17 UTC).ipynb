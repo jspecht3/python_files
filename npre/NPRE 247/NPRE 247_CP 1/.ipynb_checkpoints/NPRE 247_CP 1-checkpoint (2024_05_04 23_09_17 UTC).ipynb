{
 "cells": [
  {
   "cell_type": "code",
   "execution_count": 1,
   "id": "9b578352",
   "metadata": {},
   "outputs": [],
   "source": [
    "from sympy import *\n",
    "import numpy as np\n",
    "import matplotlib.pyplot as plt\n",
    "\n",
    "np.set_printoptions(threshold=np.inf)"
   ]
  },
  {
   "cell_type": "code",
   "execution_count": 2,
   "id": "e44ecc3b",
   "metadata": {
    "scrolled": true
   },
   "outputs": [
    {
     "name": "stdout",
     "output_type": "stream",
     "text": [
      "thalf_A = 2.53 #hours\n",
      "\n",
      "thalf_B = 11.05 #hours\n",
      "\n",
      "thalf_C = oo #hours\n",
      "\n",
      "\n",
      "\n",
      "NA_0 = 100 #number of atoms\n",
      "\n",
      "NB_0 = 0 #number of atoms\n",
      "\n",
      "NC_0 = 0 #number of atoms\n",
      "\n",
      "\n",
      "\n",
      "t_final = 60 #hours\n",
      "\n",
      "dt = 1 #hours\n"
     ]
    }
   ],
   "source": [
    "#Variable Initialization\n",
    "lambda1, lambda2, N10, t, dt = S('lambda1, lambda2, N10, t, dt')\n",
    "\n",
    "#Importing the file\n",
    "f = open('NPRE 247_CP 1_Input')\n",
    "\n",
    "for line in f:\n",
    "    print(line) \n",
    "\n",
    "#Initializing the variables\n",
    "thalf_A = 2.53 #hours\n",
    "thalf_B = 11.05 #hours\n",
    "thalf_C = oo #hours\n",
    "\n",
    "NA_0 = 100 #number of atoms\n",
    "NB_0 = 0 #number of atoms\n",
    "NC_0 = 0 #number of atoms\n",
    "\n",
    "t_final = 60 #hours\n",
    "dt = 1 #hours"
   ]
  },
  {
   "cell_type": "code",
   "execution_count": 3,
   "id": "fa851859",
   "metadata": {},
   "outputs": [],
   "source": [
    "#Decay Constants\n",
    "dcA = log(2) / thalf_A\n",
    "dcB = log(2) / thalf_B\n",
    "dcC = log(2) / thalf_C"
   ]
  },
  {
   "cell_type": "code",
   "execution_count": 4,
   "id": "77fefc81",
   "metadata": {},
   "outputs": [],
   "source": [
    "#2.1.2, Analytical Function\n",
    "def analytical_soultion(dc1, dc2, N0, tf):\n",
    "    N1 = N0 * exp(-dc1 * tf)\n",
    "    N2 = dc1 / (dc2 - dc1) * N0 * (exp(-dc1 * tf) - exp(-dc2*tf))\n",
    "    N3 = N0 / (dc2 - dc1) * (dc2*(1-exp(-dc1*tf)) - dc1*(1-exp(-dc2*tf)))\n",
    "    \n",
    "    print('Abundance of A after', tf,'hours has passed:', N1)\n",
    "    print('Abundance of B after', tf,'hours has passed:', N2)\n",
    "    print('Abundance of C after', tf,'hours has passed:', N3)\n",
    "    return"
   ]
  },
  {
   "cell_type": "code",
   "execution_count": 5,
   "id": "e9d13a55",
   "metadata": {
    "scrolled": true
   },
   "outputs": [
    {
     "name": "stdout",
     "output_type": "stream",
     "text": [
      "Abundance of A after 60 hours has passed: 7.26020225449677e-6\n",
      "Abundance of B after 60 hours has passed: 3.00863366965769\n",
      "Abundance of C after 60 hours has passed: 96.9913590701401\n"
     ]
    }
   ],
   "source": [
    "#Analytical Soultion\n",
    "analytical_soultion(dcA, dcB, NA_0, t_final)"
   ]
  },
  {
   "cell_type": "code",
   "execution_count": 22,
   "id": "a688cf47",
   "metadata": {},
   "outputs": [],
   "source": [
    "#Numerical Function\n",
    "def numerical_soultion(dc1, dc2, N0, tf, dt):\n",
    "    \n",
    "#Sizing the Arrays\n",
    "    array_size = int(tf / dt)\n",
    "    if (array_size*dt < tf):\n",
    "        array_size = array_size + 1\n",
    "    array_size = array_size + 1\n",
    "    \n",
    "#Initializing the Array\n",
    "    N1 = np.zeros(array_size)\n",
    "    N2 = np.zeros(array_size)\n",
    "    N3 = np.zeros(array_size)\n",
    "    t = np.arange(0, dt*array_size, dt)\n",
    "    \n",
    "    N1[0] = N0\n",
    "    \n",
    "#Finding the Values\n",
    "    for i in range(array_size - 1):\n",
    "        N1[i+1] = -dc1*N1[i]*dt + N1[i]\n",
    "        N2[i+1] = (dc1*N1[i] - dc2*N2[i])*dt + N2[i]\n",
    "        N3[i+1] = dc2*N2[i]*dt + N3[i]\n",
    "    \n",
    "#Plotting\n",
    "    plt.plot(t, N1+N2+N3, label=('Total N'))\n",
    "    plt.plot(t, N1, label=('N of A dt=', dt,'hours'))\n",
    "    plt.plot(t, N2, label=('N of B dt=', dt,'hours'))\n",
    "    plt.plot(t, N3, label=('N of C dt=', dt,'hours'))\n",
    "    \n",
    "    plt.xlabel('Time Elapsed [hours]')\n",
    "    plt.ylabel('Abundance')\n",
    "    plt.legend()\n",
    "    \n",
    "#Exporting\n",
    "    g = open('NPRE 247_CP 1_Output', 'a')\n",
    "    g.write('Analytical solutions for A:\\n')\n",
    "    g.write(str(N1))\n",
    "    g.write('\\n')\n",
    "    g.write('Analytical solutions for B:\\n')\n",
    "    g.write(str(N2))\n",
    "    g.write('\\n')\n",
    "    g.write('Analytical solutions for C:\\n')\n",
    "    g.write(str(N3))\n",
    "    \n",
    "#Results\n",
    "    print('Abundance of NA after', tf, 'hours with time step of', dt,'hours :', N1[-1])\n",
    "    print('Abundance of NB after', tf, 'hours with time step of', dt,'hours :', N2[-1])\n",
    "    print('Abundance of NC after', tf, 'hours with time step of', dt,'hours :', N3[-1])\n",
    "    print('Abundance of NT after', tf, 'hours with time step of', dt,'hours :', N1[-1] + N2[-1] + N3[-1])\n",
    "    \n",
    "    return"
   ]
  },
  {
   "cell_type": "code",
   "execution_count": 18,
   "id": "36d7788c",
   "metadata": {},
   "outputs": [],
   "source": [
    "#Numerical Function, Abundance of B\n",
    "def numerical_soultion_B(dc1, dc2, N0, tf, dt):\n",
    "    \n",
    "#Sizing the Arrays\n",
    "    array_size = int(tf / dt)\n",
    "    if (array_size*dt < tf):\n",
    "        array_size = array_size + 1\n",
    "    array_size = array_size + 1\n",
    "    \n",
    "#Initializing the Array\n",
    "    N1 = np.zeros(array_size)\n",
    "    N2 = np.zeros(array_size)\n",
    "    t = np.arange(0, dt*array_size, dt)\n",
    "    \n",
    "    N1[0] = N0\n",
    "    \n",
    "#Finding the Values\n",
    "    for i in range(array_size - 1):\n",
    "        N1[i+1] = -dc1*N1[i]*dt + N1[i]\n",
    "        N2[i+1] = (dc1*N1[i] - dc2*N2[i])*dt + N2[i]\n",
    "    \n",
    "#Plotting\n",
    "    plt.plot(t, N2, label=('N of B dt=', dt,'hours'))\n",
    "    \n",
    "    plt.xlabel('Time Elapsed [hours]')\n",
    "    plt.ylabel('Abundance')\n",
    "    plt.legend()\n",
    "    \n",
    "#Printing\n",
    "    print('Abundance of NB after', tf, 'hours with time step of', dt,'hours :', N2[-1])\n",
    "    \n",
    "    return"
   ]
  },
  {
   "cell_type": "code",
   "execution_count": 19,
   "id": "ec6b978e",
   "metadata": {},
   "outputs": [],
   "source": [
    "#Graphing Analytical Soultion\n",
    "t = S('t')\n",
    "\n",
    "array_size = int(t_final / dt)\n",
    "if (array_size*dt < t_final):\n",
    "    array_size = array_size + 1\n",
    "array_size = array_size + 1\n",
    "\n",
    "NB_analytical = (dcA / (dcB - dcA) * NA_0 * (exp(-dcA*t) - exp(-dcB*t))).evalf()\n",
    "NB_time = np.arange(0, dt*array_size, dt)\n",
    "NB_abundance = np.zeros(array_size)\n",
    "\n",
    "for i in range(array_size):\n",
    "    NB_abundance[i] = NB_analytical.subs(t, i)"
   ]
  },
  {
   "cell_type": "code",
   "execution_count": 23,
   "id": "ca56a441",
   "metadata": {
    "scrolled": true
   },
   "outputs": [
    {
     "name": "stdout",
     "output_type": "stream",
     "text": [
      "Abundance of NB after 60 hours with time step of 2 hours : 2.3246903954844282\n",
      "Abundance of NB after 60 hours with time step of 1 hours : 2.6598318332152235\n",
      "Abundance of NB after 60 hours with time step of 0.01 hours : 3.0050829379983575\n",
      "Abundance of NB using the analytical solution : 3.008633669657686\n"
     ]
    },
    {
     "data": {
      "text/plain": [
       "<matplotlib.legend.Legend at 0x1ea3fe8b8b0>"
      ]
     },
     "execution_count": 23,
     "metadata": {},
     "output_type": "execute_result"
    },
    {
     "data": {
      "image/png": "[encoded data removed]",
      "text/plain": [
       "<Figure size 432x288 with 1 Axes>"
      ]
     },
     "metadata": {
      "needs_background": "light"
     },
     "output_type": "display_data"
    }
   ],
   "source": [
    "#2.2.1\n",
    "\n",
    "#Numerical Solutions\n",
    "numerical_soultion_B(dcA, dcB, NA_0, t_final, 2)\n",
    "numerical_soultion_B(dcA, dcB, NA_0, t_final, dt)\n",
    "numerical_soultion_B(dcA, dcB, NA_0, t_final, .01)\n",
    "\n",
    "#Analytical Solutions\n",
    "plt.plot(NB_time, NB_abundance, label=('N of B, Analytical'))\n",
    "print('Abundance of NB using the analytical solution :', NB_abundance[-1])\n",
    "plt.legend()"
   ]
  },
  {
   "cell_type": "code",
   "execution_count": 24,
   "id": "77891abf",
   "metadata": {},
   "outputs": [
    {
     "name": "stdout",
     "output_type": "stream",
     "text": [
      "Abundance of NA after 60 hours with time step of 0.01 hours : 7.09825092701182e-06\n",
      "Abundance of NB after 60 hours with time step of 0.01 hours : 3.0050829379983575\n",
      "Abundance of NC after 60 hours with time step of 0.01 hours : 96.99490996375067\n",
      "Abundance of NT after 60 hours with time step of 0.01 hours : 99.99999999999996\n"
     ]
    },
    {
     "data": {
      "image/png": "[encoded data removed]",
      "text/plain": [
       "<Figure size 432x288 with 1 Axes>"
      ]
     },
     "metadata": {
      "needs_background": "light"
     },
     "output_type": "display_data"
    }
   ],
   "source": [
    "#2.2.2\n",
    "numerical_soultion(dcA, dcB, NA_0, t_final, .01)"
   ]
  },
  {
   "cell_type": "code",
   "execution_count": 500,
   "id": "909d6767",
   "metadata": {},
   "outputs": [],
   "source": [
    "#2.2.3, Finding Max\n",
    "\n",
    "def max_Abundance_B(dc1, dc2, N0, tf, dt):\n",
    "\n",
    "#Sizing the Arrays\n",
    "    array_size = int(tf / dt)\n",
    "    if (array_size*dt < tf):\n",
    "        array_size = array_size + 1\n",
    "    array_size = array_size + 1\n",
    "    \n",
    "#Initializing the Array\n",
    "    N1 = np.zeros(array_size)\n",
    "    N2 = np.zeros(array_size)\n",
    "    t = np.arange(0, dt*array_size, dt)\n",
    "    \n",
    "    N1[0] = N0\n",
    "    \n",
    "#Finding the Values\n",
    "    for i in range(array_size - 1):\n",
    "        N1[i+1] = -dc1*N1[i]*dt + N1[i]\n",
    "        N2[i+1] = (dc1*N1[i] - dc2*N2[i])*dt + N2[i]\n",
    "        \n",
    "#Maxes\n",
    "    max_index = np.where(N2==np.max(N2))[0]\n",
    "    t_max = t[max_index]\n",
    "    \n",
    "    \n",
    "#Graph\n",
    "    plt.scatter(1/dt, np.max(N2), label=('dt=',dt))\n",
    "    \n",
    "    plt.xlabel('1 / dt')\n",
    "    plt.ylabel('Max Abundance')\n",
    "    plt.legend()"
   ]
  },
  {
   "cell_type": "code",
   "execution_count": 501,
   "id": "47c84f49",
   "metadata": {},
   "outputs": [
    {
     "data": {
      "image/png": "[encoded data removed]",
      "text/plain": [
       "<Figure size 432x288 with 1 Axes>"
      ]
     },
     "metadata": {
      "needs_background": "light"
     },
     "output_type": "display_data"
    }
   ],
   "source": [
    "#2.2.3\n",
    "\n",
    "max_Abundance_B(dcA, dcB, NA_0, t_final, 2.5)\n",
    "max_Abundance_B(dcA, dcB, NA_0, t_final, 2)\n",
    "max_Abundance_B(dcA, dcB, NA_0, t_final, dt)\n",
    "max_Abundance_B(dcA, dcB, NA_0, t_final, .5)\n",
    "max_Abundance_B(dcA, dcB, NA_0, t_final, .25)\n",
    "max_Abundance_B(dcA, dcB, NA_0, t_final, .1)\n",
    "max_Abundance_B(dcA, dcB, NA_0, t_final, .05)"
   ]
  }
 ],
 "metadata": {
  "kernelspec": {
   "display_name": "Python 3 (ipykernel)",
   "language": "python",
   "name": "python3"
  },
  "language_info": {
   "codemirror_mode": {
    "name": "ipython",
    "version": 3
   },
   "file_extension": ".py",
   "mimetype": "text/x-python",
   "name": "python",
   "nbconvert_exporter": "python",
   "pygments_lexer": "ipython3",
   "version": "3.9.12"
  }
 },
 "nbformat": 4,
 "nbformat_minor": 5
}
